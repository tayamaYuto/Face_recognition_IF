{
 "cells": [
  {
   "cell_type": "code",
   "execution_count": 6,
   "metadata": {},
   "outputs": [],
   "source": [
    "import numpy as np\n",
    "import os\n",
    "import cv2\n",
    "from insightface.app import FaceAnalysis\n",
    "from glob import glob\n",
    "from tqdm import tqdm\n",
    "from collections import defaultdict\n",
    "from PIL import Image\n",
    "from IPython.display import display, Image"
   ]
  },
  {
   "cell_type": "code",
   "execution_count": 7,
   "metadata": {},
   "outputs": [],
   "source": [
    "def get_averages(names, scores):\n",
    "    d = defaultdict(list)\n",
    "    for n, s in zip(names, scores):\n",
    "        d[n].append(s)\n",
    "\n",
    "    averages = {}\n",
    "    for n, s in d.items():\n",
    "        averages[n] = np.mean(s)\n",
    "    return averages\n",
    "\n",
    "def judge_sim(known_embeddings, known_names, unknown_embeddings, threshold):\n",
    "    pred_names = []\n",
    "    for emb in unknown_embeddings:\n",
    "        scores = np.dot(emb, known_embeddings.T)\n",
    "        scores = np.clip(scores, 0., None)\n",
    "\n",
    "        averages = get_averages(known_names, scores)\n",
    "        pred = sorted(averages, key=lambda x: averages[x], reverse=True)[0]\n",
    "        print(averages)\n",
    "        score = averages[pred]\n",
    "\n",
    "        if score > threshold:\n",
    "            pred_names.append(pred)\n",
    "        else:\n",
    "            pred_names.append(None)\n",
    "    \n",
    "    return pred_names\n",
    "\n",
    "def draw_on(img, faces, name):\n",
    "    dimg = img.copy()\n",
    "    for i in range(len(faces)):\n",
    "        face = faces[i]\n",
    "        box = face.bbox.astype(int)\n",
    "        color = (0, 0, 255)\n",
    "        cv2.rectangle(dimg, (box[0], box[1]), (box[2], box[3]), color, 2)\n",
    "        if face.kps is not None:\n",
    "            kps = face.kps.astype(int)\n",
    "            #print(landmark.shape)\n",
    "            for l in range(kps.shape[0]):\n",
    "                color = (0, 0, 255)\n",
    "                if l == 0 or l == 3:\n",
    "                    color = (0, 255, 0)\n",
    "                cv2.circle(dimg, (kps[l][0], kps[l][1]), 1, color, 2)\n",
    "        cv2.putText(dimg, name[i], (box[0]-1, box[1]-4),cv2.FONT_HERSHEY_COMPLEX,0.5,(0,255,0),1)\n",
    "\n",
    "    return dimg"
   ]
  },
  {
   "cell_type": "code",
   "execution_count": 8,
   "metadata": {},
   "outputs": [
    {
     "name": "stderr",
     "output_type": "stream",
     "text": [
      "/Users/tayamayuto/Face_recognition_IF/face_env/lib/python3.10/site-packages/onnxruntime/capi/onnxruntime_inference_collection.py:65: UserWarning: Specified provider 'CUDAExecutionProvider' is not in available provider names.Available providers: 'CPUExecutionProvider'\n",
      "  warnings.warn(\n"
     ]
    },
    {
     "name": "stdout",
     "output_type": "stream",
     "text": [
      "Applied providers: ['CPUExecutionProvider'], with options: {'CPUExecutionProvider': {}}\n",
      "find model: /Users/tayamayuto/.insightface/models/models/buffalo_s/1k3d68.onnx landmark_3d_68 ['None', 3, 192, 192] 0.0 1.0\n",
      "Applied providers: ['CPUExecutionProvider'], with options: {'CPUExecutionProvider': {}}\n",
      "find model: /Users/tayamayuto/.insightface/models/models/buffalo_s/2d106det.onnx landmark_2d_106 ['None', 3, 192, 192] 0.0 1.0\n",
      "Applied providers: ['CPUExecutionProvider'], with options: {'CPUExecutionProvider': {}}\n",
      "find model: /Users/tayamayuto/.insightface/models/models/buffalo_s/det_500m.onnx detection [1, 3, '?', '?'] 127.5 128.0\n",
      "Applied providers: ['CPUExecutionProvider'], with options: {'CPUExecutionProvider': {}}\n",
      "find model: /Users/tayamayuto/.insightface/models/models/buffalo_s/genderage.onnx genderage ['None', 3, 96, 96] 0.0 1.0\n",
      "Applied providers: ['CPUExecutionProvider'], with options: {'CPUExecutionProvider': {}}\n",
      "find model: /Users/tayamayuto/.insightface/models/models/buffalo_s/w600k_mbf.onnx recognition ['None', 3, 112, 112] 127.5 127.5\n",
      "set det-size: (640, 640)\n"
     ]
    }
   ],
   "source": [
    "known_names = []\n",
    "known_embeddings = []\n",
    "app_pre = FaceAnalysis(name='buffalo_s',root='~/.insightface/models/')\n",
    "app_pre.prepare(ctx_id=0, det_size=(640, 640))"
   ]
  },
  {
   "cell_type": "code",
   "execution_count": 9,
   "metadata": {},
   "outputs": [],
   "source": [
    "select_data = 'lfw'"
   ]
  },
  {
   "cell_type": "code",
   "execution_count": 10,
   "metadata": {},
   "outputs": [
    {
     "name": "stderr",
     "output_type": "stream",
     "text": [
      "  0%|          | 0/500 [00:00<?, ?it/s]/Users/tayamayuto/Face_recognition_IF/face_env/lib/python3.10/site-packages/insightface/utils/transform.py:68: FutureWarning: `rcond` parameter will change to the default of machine precision times ``max(M, N)`` where M and N are the input matrix dimensions.\n",
      "To use the future default and silence this warning we advise to pass `rcond=None`, to keep using the old, explicitly pass `rcond=-1`.\n",
      "  P = np.linalg.lstsq(X_homo, Y)[0].T # Affine matrix. 3 x 4\n",
      "  0%|          | 1/500 [00:00<01:07,  7.35it/s]"
     ]
    },
    {
     "name": "stdout",
     "output_type": "stream",
     "text": [
      "German_Khan\n",
      "Dragan_Covic\n"
     ]
    },
    {
     "name": "stderr",
     "output_type": "stream",
     "text": [
      "  1%|          | 3/500 [00:00<00:51,  9.64it/s]"
     ]
    },
    {
     "name": "stdout",
     "output_type": "stream",
     "text": [
      "Jeff_Hornacek\n",
      "Sureyya_Ayhan\n",
      "Deb_Santos\n"
     ]
    },
    {
     "name": "stderr",
     "output_type": "stream",
     "text": [
      "  1%|▏         | 7/500 [00:00<00:41, 11.94it/s]"
     ]
    },
    {
     "name": "stdout",
     "output_type": "stream",
     "text": [
      "Bob_Newhart\n",
      "Wang_Hailan\n",
      "Paul_McNulty\n",
      "Claudia_Pechstein\n"
     ]
    },
    {
     "name": "stderr",
     "output_type": "stream",
     "text": [
      "  2%|▏         | 9/500 [00:01<01:11,  6.86it/s]"
     ]
    },
    {
     "name": "stdout",
     "output_type": "stream",
     "text": [
      "Ranil_Wickremasinghe\n"
     ]
    },
    {
     "name": "stderr",
     "output_type": "stream",
     "text": [
      "  2%|▏         | 12/500 [00:01<01:06,  7.36it/s]"
     ]
    },
    {
     "name": "stdout",
     "output_type": "stream",
     "text": [
      "Ben_Chandler\n",
      "Mark_Komara\n",
      "Rand_Beers\n"
     ]
    },
    {
     "name": "stderr",
     "output_type": "stream",
     "text": [
      "  3%|▎         | 14/500 [00:01<01:01,  7.93it/s]"
     ]
    },
    {
     "name": "stdout",
     "output_type": "stream",
     "text": [
      "John_Bond\n",
      "Reginald_Hudlin\n"
     ]
    },
    {
     "name": "stderr",
     "output_type": "stream",
     "text": [
      "  3%|▎         | 15/500 [00:01<00:58,  8.22it/s]"
     ]
    },
    {
     "name": "stdout",
     "output_type": "stream",
     "text": [
      "Mary-Kate_Olsen\n"
     ]
    },
    {
     "name": "stderr",
     "output_type": "stream",
     "text": [
      "  4%|▎         | 18/500 [00:02<01:12,  6.66it/s]"
     ]
    },
    {
     "name": "stdout",
     "output_type": "stream",
     "text": [
      "Xiang_Huaicheng\n",
      "Phil_Mickelson\n",
      "Gerry_Kelly\n",
      "Salma_Hayek\n"
     ]
    },
    {
     "name": "stderr",
     "output_type": "stream",
     "text": [
      "  4%|▍         | 21/500 [00:03<01:59,  4.02it/s]"
     ]
    },
    {
     "name": "stdout",
     "output_type": "stream",
     "text": [
      "Jim_Edmonds\n",
      "Martina_McBride\n"
     ]
    },
    {
     "name": "stderr",
     "output_type": "stream",
     "text": [
      "  4%|▍         | 22/500 [00:03<02:10,  3.67it/s]"
     ]
    },
    {
     "name": "stdout",
     "output_type": "stream",
     "text": [
      "Anthony_Pico\n",
      "Jose_Theodore\n"
     ]
    },
    {
     "name": "stderr",
     "output_type": "stream",
     "text": [
      "  5%|▍         | 24/500 [00:04<01:38,  4.86it/s]"
     ]
    },
    {
     "name": "stdout",
     "output_type": "stream",
     "text": [
      "Heidi_Fleiss\n"
     ]
    },
    {
     "name": "stderr",
     "output_type": "stream",
     "text": [
      "  5%|▌         | 25/500 [00:04<01:44,  4.54it/s]"
     ]
    },
    {
     "name": "stdout",
     "output_type": "stream",
     "text": [
      "Mark_Richt\n"
     ]
    },
    {
     "name": "stderr",
     "output_type": "stream",
     "text": [
      "  5%|▌         | 26/500 [00:04<01:52,  4.21it/s]"
     ]
    },
    {
     "name": "stdout",
     "output_type": "stream",
     "text": [
      "Mike_Smith\n",
      "Paul_ONeill\n"
     ]
    },
    {
     "name": "stderr",
     "output_type": "stream",
     "text": [
      "  6%|▌         | 29/500 [00:05<01:55,  4.06it/s]"
     ]
    },
    {
     "name": "stdout",
     "output_type": "stream",
     "text": [
      "Horace_Newcomb\n",
      "Mohammad_Fares\n",
      "JK_Rowling\n"
     ]
    },
    {
     "name": "stderr",
     "output_type": "stream",
     "text": [
      "  6%|▌         | 31/500 [00:06<01:54,  4.09it/s]"
     ]
    },
    {
     "name": "stdout",
     "output_type": "stream",
     "text": [
      "Shinya_Taniguchi\n",
      "Tony_Curtis\n"
     ]
    },
    {
     "name": "stderr",
     "output_type": "stream",
     "text": [
      "  7%|▋         | 35/500 [00:06<01:13,  6.34it/s]"
     ]
    },
    {
     "name": "stdout",
     "output_type": "stream",
     "text": [
      "Laurie_Pirtle\n",
      "Ray_Sherman\n",
      "Nancy_Powell\n"
     ]
    },
    {
     "name": "stderr",
     "output_type": "stream",
     "text": [
      "  7%|▋         | 37/500 [00:06<00:59,  7.72it/s]"
     ]
    },
    {
     "name": "stdout",
     "output_type": "stream",
     "text": [
      "Kathryn_Tucker\n",
      "Gro_Harlem_Brundtland\n"
     ]
    },
    {
     "name": "stderr",
     "output_type": "stream",
     "text": [
      "  8%|▊         | 38/500 [00:06<01:06,  6.97it/s]"
     ]
    },
    {
     "name": "stdout",
     "output_type": "stream",
     "text": [
      "Jacqueline_Marris\n",
      "Mikhail_Gorbachev\n"
     ]
    },
    {
     "name": "stderr",
     "output_type": "stream",
     "text": [
      "  8%|▊         | 42/500 [00:07<00:52,  8.73it/s]"
     ]
    },
    {
     "name": "stdout",
     "output_type": "stream",
     "text": [
      "Takuma_Sato\n",
      "Ray_Lewis\n",
      "Hank_Aaron\n"
     ]
    },
    {
     "name": "stderr",
     "output_type": "stream",
     "text": [
      "  9%|▉         | 44/500 [00:07<00:45, 10.02it/s]"
     ]
    },
    {
     "name": "stdout",
     "output_type": "stream",
     "text": [
      "Chip_Knight\n",
      "Ronald_Young_Jr\n",
      "Gustavo_Cisneros\n"
     ]
    },
    {
     "name": "stderr",
     "output_type": "stream",
     "text": [
      " 10%|▉         | 48/500 [00:07<00:37, 12.02it/s]"
     ]
    },
    {
     "name": "stdout",
     "output_type": "stream",
     "text": [
      "Isidro_Pastor\n",
      "Natalie_Williams\n",
      "Angela_Lansbury\n"
     ]
    },
    {
     "name": "stderr",
     "output_type": "stream",
     "text": [
      " 10%|█         | 50/500 [00:07<00:44, 10.01it/s]"
     ]
    },
    {
     "name": "stdout",
     "output_type": "stream",
     "text": [
      "Cathy_Freeman\n",
      "Milt_Palacio\n",
      "Wilbert_Elki_Meza_Majino\n"
     ]
    },
    {
     "name": "stderr",
     "output_type": "stream",
     "text": [
      " 11%|█         | 54/500 [00:08<00:37, 11.84it/s]"
     ]
    },
    {
     "name": "stdout",
     "output_type": "stream",
     "text": [
      "Jack_Welch\n",
      "Nizar_Trabelsi\n",
      "Gonzalo_Barrientos\n"
     ]
    },
    {
     "name": "stderr",
     "output_type": "stream",
     "text": [
      " 11%|█         | 56/500 [00:08<00:35, 12.34it/s]"
     ]
    },
    {
     "name": "stdout",
     "output_type": "stream",
     "text": [
      "Jason_Biggs\n",
      "Lisa_Leslie\n",
      "Tyron_Garner\n"
     ]
    },
    {
     "name": "stderr",
     "output_type": "stream",
     "text": [
      " 12%|█▏        | 60/500 [00:08<00:37, 11.82it/s]"
     ]
    },
    {
     "name": "stdout",
     "output_type": "stream",
     "text": [
      "John_Sidgmore\n",
      "Alexander_Payne\n",
      "Brad_Brownell\n"
     ]
    },
    {
     "name": "stderr",
     "output_type": "stream",
     "text": [
      " 12%|█▏        | 62/500 [00:08<00:36, 12.11it/s]"
     ]
    },
    {
     "name": "stdout",
     "output_type": "stream",
     "text": [
      "John_Duprey\n",
      "Ainsworth_Dyer\n",
      "Christine_Ebersole\n"
     ]
    },
    {
     "name": "stderr",
     "output_type": "stream",
     "text": [
      " 13%|█▎        | 64/500 [00:08<00:38, 11.20it/s]"
     ]
    },
    {
     "name": "stdout",
     "output_type": "stream",
     "text": [
      "Amer_al-Saadi\n"
     ]
    },
    {
     "name": "stderr",
     "output_type": "stream",
     "text": [
      " 13%|█▎        | 66/500 [00:09<01:01,  7.10it/s]"
     ]
    },
    {
     "name": "stdout",
     "output_type": "stream",
     "text": [
      "Alison_Lohman\n",
      "Duane_Lee_Chapman\n"
     ]
    },
    {
     "name": "stderr",
     "output_type": "stream",
     "text": [
      " 13%|█▎        | 67/500 [00:09<01:01,  7.00it/s]"
     ]
    },
    {
     "name": "stdout",
     "output_type": "stream",
     "text": [
      "Andre_Smith\n",
      "Iban_Mayo\n"
     ]
    },
    {
     "name": "stderr",
     "output_type": "stream",
     "text": [
      " 14%|█▍        | 69/500 [00:09<00:58,  7.32it/s]"
     ]
    },
    {
     "name": "stdout",
     "output_type": "stream",
     "text": [
      "Jeong_Se-hyun\n"
     ]
    },
    {
     "name": "stderr",
     "output_type": "stream",
     "text": [
      " 14%|█▍        | 72/500 [00:10<01:30,  4.73it/s]"
     ]
    },
    {
     "name": "stdout",
     "output_type": "stream",
     "text": [
      "Charles_Rogers\n",
      "Eric_Rosser\n",
      "Ziwang_Xu\n"
     ]
    },
    {
     "name": "stderr",
     "output_type": "stream",
     "text": [
      " 15%|█▌        | 76/500 [00:11<00:56,  7.57it/s]"
     ]
    },
    {
     "name": "stdout",
     "output_type": "stream",
     "text": [
      "Larry_Pleau\n",
      "Bill_Byrne\n",
      "Peter_Gabriel\n",
      "Paul_LeClerc\n"
     ]
    },
    {
     "name": "stderr",
     "output_type": "stream",
     "text": [
      " 16%|█▌        | 78/500 [00:11<00:47,  8.96it/s]"
     ]
    },
    {
     "name": "stdout",
     "output_type": "stream",
     "text": [
      "Shawn_Kemp\n",
      "Liza_Minnelli\n"
     ]
    },
    {
     "name": "stderr",
     "output_type": "stream",
     "text": [
      " 16%|█▌        | 80/500 [00:11<01:13,  5.71it/s]"
     ]
    },
    {
     "name": "stdout",
     "output_type": "stream",
     "text": [
      "Toby_Keith\n",
      "Horace_Donovan_Reid\n",
      "David_Wells\n"
     ]
    },
    {
     "name": "stderr",
     "output_type": "stream",
     "text": [
      " 17%|█▋        | 84/500 [00:12<01:08,  6.06it/s]"
     ]
    },
    {
     "name": "stdout",
     "output_type": "stream",
     "text": [
      "Raul_Gonzalez\n",
      "Alex_Popov\n",
      "Anne_Donovan\n",
      "Vin_Diesel\n"
     ]
    },
    {
     "name": "stderr",
     "output_type": "stream",
     "text": [
      " 17%|█▋        | 86/500 [00:12<01:06,  6.26it/s]"
     ]
    },
    {
     "name": "stdout",
     "output_type": "stream",
     "text": [
      "Stuart_Whitman\n",
      "Jesse_Jackson\n"
     ]
    },
    {
     "name": "stderr",
     "output_type": "stream",
     "text": [
      " 18%|█▊        | 90/500 [00:14<01:23,  4.92it/s]"
     ]
    },
    {
     "name": "stdout",
     "output_type": "stream",
     "text": [
      "Valorie_Brabazon\n",
      "Rob_Niedermayer\n",
      "Lynne_Cheney\n"
     ]
    },
    {
     "name": "stderr",
     "output_type": "stream",
     "text": [
      " 19%|█▊        | 93/500 [00:14<01:06,  6.08it/s]"
     ]
    },
    {
     "name": "stdout",
     "output_type": "stream",
     "text": [
      "Minnie_Mendoza\n",
      "Stephane_Rousseau\n",
      "Rita_Wilson\n"
     ]
    },
    {
     "name": "stderr",
     "output_type": "stream",
     "text": [
      " 19%|█▉        | 94/500 [00:14<01:14,  5.42it/s]"
     ]
    },
    {
     "name": "stdout",
     "output_type": "stream",
     "text": [
      "Terence_Newman\n",
      "Joseph_Biden\n"
     ]
    },
    {
     "name": "stderr",
     "output_type": "stream",
     "text": [
      " 20%|█▉        | 98/500 [00:15<01:04,  6.24it/s]"
     ]
    },
    {
     "name": "stdout",
     "output_type": "stream",
     "text": [
      "Tommy_Tubberville\n",
      "Meles_Zenawi\n",
      "Natasha_Henstridge\n"
     ]
    },
    {
     "name": "stderr",
     "output_type": "stream",
     "text": [
      " 20%|██        | 100/500 [00:15<00:52,  7.68it/s]"
     ]
    },
    {
     "name": "stdout",
     "output_type": "stream",
     "text": [
      "Trevor_McDonald\n",
      "Pat_Burns\n"
     ]
    },
    {
     "name": "stderr",
     "output_type": "stream",
     "text": [
      " 20%|██        | 102/500 [00:15<00:48,  8.21it/s]"
     ]
    },
    {
     "name": "stdout",
     "output_type": "stream",
     "text": [
      "Caroline_Link\n",
      "Clay_Campbell\n",
      "Holly_Hunter\n"
     ]
    },
    {
     "name": "stderr",
     "output_type": "stream",
     "text": [
      " 21%|██        | 104/500 [00:16<01:11,  5.56it/s]"
     ]
    },
    {
     "name": "stdout",
     "output_type": "stream",
     "text": [
      "Sophia_Loren\n"
     ]
    },
    {
     "name": "stderr",
     "output_type": "stream",
     "text": [
      " 21%|██▏       | 107/500 [00:17<01:16,  5.17it/s]"
     ]
    },
    {
     "name": "stdout",
     "output_type": "stream",
     "text": [
      "Nicolas_Massu\n",
      "Kaisser_Bazan\n",
      "Bryan_Murray\n",
      "Francois_Ozon\n"
     ]
    },
    {
     "name": "stderr",
     "output_type": "stream",
     "text": [
      " 22%|██▏       | 109/500 [00:17<01:02,  6.28it/s]"
     ]
    },
    {
     "name": "stdout",
     "output_type": "stream",
     "text": [
      "Mathias_Reichhold\n"
     ]
    },
    {
     "name": "stderr",
     "output_type": "stream",
     "text": [
      " 22%|██▏       | 111/500 [00:17<01:04,  6.02it/s]"
     ]
    },
    {
     "name": "stdout",
     "output_type": "stream",
     "text": [
      "Whoopi_Goldberg\n",
      "Bill_Cartwright\n"
     ]
    },
    {
     "name": "stderr",
     "output_type": "stream",
     "text": [
      " 23%|██▎       | 113/500 [00:17<00:51,  7.57it/s]"
     ]
    },
    {
     "name": "stdout",
     "output_type": "stream",
     "text": [
      "Victor_Garber\n",
      "Jeane_Kirkpatrick\n",
      "Sue_Grafton\n"
     ]
    },
    {
     "name": "stderr",
     "output_type": "stream",
     "text": [
      " 23%|██▎       | 117/500 [00:18<00:36, 10.39it/s]"
     ]
    },
    {
     "name": "stdout",
     "output_type": "stream",
     "text": [
      "Manuel_Jesus\n",
      "Giovanny_Cordoba\n",
      "James_Sensenbrenner\n"
     ]
    },
    {
     "name": "stderr",
     "output_type": "stream",
     "text": [
      " 24%|██▍       | 119/500 [00:18<00:33, 11.50it/s]"
     ]
    },
    {
     "name": "stdout",
     "output_type": "stream",
     "text": [
      "Jennie_Finch\n",
      "David_Westerfield\n",
      "Costas_Simitis\n"
     ]
    },
    {
     "name": "stderr",
     "output_type": "stream",
     "text": [
      " 24%|██▍       | 122/500 [00:19<01:00,  6.26it/s]"
     ]
    },
    {
     "name": "stdout",
     "output_type": "stream",
     "text": [
      "Carlos_Iturgaitz\n",
      "Mark_Shapiro\n",
      "George_Lopez\n"
     ]
    },
    {
     "name": "stderr",
     "output_type": "stream",
     "text": [
      " 25%|██▌       | 126/500 [00:19<00:56,  6.67it/s]"
     ]
    },
    {
     "name": "stdout",
     "output_type": "stream",
     "text": [
      "Taylor_Twellman\n",
      "Peter_Hartz\n",
      "Gianna_Angelopoulos-Daskalaki\n"
     ]
    },
    {
     "name": "stderr",
     "output_type": "stream",
     "text": [
      " 26%|██▌       | 128/500 [00:20<01:00,  6.17it/s]"
     ]
    },
    {
     "name": "stdout",
     "output_type": "stream",
     "text": [
      "Beth_Jones\n",
      "Brock_Berlin\n",
      "James_McPherson\n"
     ]
    },
    {
     "name": "stderr",
     "output_type": "stream",
     "text": [
      " 26%|██▌       | 130/500 [00:20<00:46,  7.91it/s]"
     ]
    },
    {
     "name": "stdout",
     "output_type": "stream",
     "text": [
      "Geoff_Hoon\n"
     ]
    },
    {
     "name": "stderr",
     "output_type": "stream",
     "text": [
      " 26%|██▌       | 131/500 [00:20<01:13,  4.99it/s]"
     ]
    },
    {
     "name": "stdout",
     "output_type": "stream",
     "text": [
      "Elizabeth_Hurley\n"
     ]
    },
    {
     "name": "stderr",
     "output_type": "stream",
     "text": [
      " 26%|██▋       | 132/500 [00:21<01:32,  3.96it/s]"
     ]
    },
    {
     "name": "stdout",
     "output_type": "stream",
     "text": [
      "Hipolito_Mejia\n"
     ]
    },
    {
     "name": "stderr",
     "output_type": "stream",
     "text": [
      " 27%|██▋       | 135/500 [00:21<01:09,  5.29it/s]"
     ]
    },
    {
     "name": "stdout",
     "output_type": "stream",
     "text": [
      "Bart_Hendricks\n",
      "David_Brown\n",
      "Craig_Burley\n"
     ]
    },
    {
     "name": "stderr",
     "output_type": "stream",
     "text": [
      " 27%|██▋       | 137/500 [00:21<00:52,  6.91it/s]"
     ]
    },
    {
     "name": "stdout",
     "output_type": "stream",
     "text": [
      "Hermogenes_Ebdane_Jr\n",
      "Joey_Harrington\n",
      "Wolfgang_Schwarz\n"
     ]
    },
    {
     "name": "stderr",
     "output_type": "stream",
     "text": [
      " 28%|██▊       | 139/500 [00:21<00:43,  8.35it/s]"
     ]
    },
    {
     "name": "stdout",
     "output_type": "stream",
     "text": [
      "Saoud_Al_Faisal\n",
      "Sebastian_Saja\n"
     ]
    },
    {
     "name": "stderr",
     "output_type": "stream",
     "text": [
      " 28%|██▊       | 142/500 [00:22<00:50,  7.15it/s]"
     ]
    },
    {
     "name": "stdout",
     "output_type": "stream",
     "text": [
      "Rick_Wagoner\n",
      "Don_Henley\n"
     ]
    },
    {
     "name": "stderr",
     "output_type": "stream",
     "text": [
      " 29%|██▉       | 144/500 [00:22<00:41,  8.68it/s]"
     ]
    },
    {
     "name": "stdout",
     "output_type": "stream",
     "text": [
      "John_Baldacci\n",
      "Dustin_Brown\n",
      "Dominic_Monaghan\n"
     ]
    },
    {
     "name": "stderr",
     "output_type": "stream",
     "text": [
      " 29%|██▉       | 146/500 [00:22<00:35,  9.86it/s]"
     ]
    },
    {
     "name": "stdout",
     "output_type": "stream",
     "text": [
      "Chris_Byrd\n",
      "Niall_Connolly\n"
     ]
    },
    {
     "name": "stderr",
     "output_type": "stream",
     "text": [
      " 30%|███       | 150/500 [00:23<00:35,  9.95it/s]"
     ]
    },
    {
     "name": "stdout",
     "output_type": "stream",
     "text": [
      "Richard_Palmer\n",
      "Fazal-ur-Rehman\n",
      "Boris_Jordan\n",
      "Charlotte_Rampling\n"
     ]
    },
    {
     "name": "stderr",
     "output_type": "stream",
     "text": [
      " 31%|███       | 153/500 [00:23<00:39,  8.69it/s]"
     ]
    },
    {
     "name": "stdout",
     "output_type": "stream",
     "text": [
      "Hutomo_Mandala_Putra\n",
      "Lars_Burgsmuller\n",
      "Win_Aung\n"
     ]
    },
    {
     "name": "stderr",
     "output_type": "stream",
     "text": [
      " 31%|███▏      | 157/500 [00:24<00:43,  7.86it/s]"
     ]
    },
    {
     "name": "stdout",
     "output_type": "stream",
     "text": [
      "Billy_Bob_Thornton\n",
      "Brett_Perry\n",
      "Linda_Lingle\n"
     ]
    },
    {
     "name": "stderr",
     "output_type": "stream",
     "text": [
      " 32%|███▏      | 159/500 [00:24<00:44,  7.60it/s]"
     ]
    },
    {
     "name": "stdout",
     "output_type": "stream",
     "text": [
      "Robert_Ehrlich\n",
      "Glenn_Rivers\n"
     ]
    },
    {
     "name": "stderr",
     "output_type": "stream",
     "text": [
      " 32%|███▏      | 161/500 [00:24<00:40,  8.30it/s]"
     ]
    },
    {
     "name": "stdout",
     "output_type": "stream",
     "text": [
      "David_Howard\n",
      "Ian_Wilmut\n"
     ]
    },
    {
     "name": "stderr",
     "output_type": "stream",
     "text": [
      " 32%|███▏      | 162/500 [00:24<00:40,  8.28it/s]"
     ]
    },
    {
     "name": "stdout",
     "output_type": "stream",
     "text": [
      "Queen_Elizabeth_II\n"
     ]
    },
    {
     "name": "stderr",
     "output_type": "stream",
     "text": [
      " 33%|███▎      | 163/500 [00:25<01:44,  3.24it/s]"
     ]
    },
    {
     "name": "stdout",
     "output_type": "stream",
     "text": [
      "Ingrid_Betancourt\n",
      "Grady_Irvin_Jr\n"
     ]
    },
    {
     "name": "stderr",
     "output_type": "stream",
     "text": [
      " 33%|███▎      | 165/500 [00:25<01:18,  4.25it/s]"
     ]
    },
    {
     "name": "stdout",
     "output_type": "stream",
     "text": [
      "Peter_Care\n",
      "Prince_Edward\n"
     ]
    },
    {
     "name": "stderr",
     "output_type": "stream",
     "text": [
      " 33%|███▎      | 167/500 [00:26<01:04,  5.19it/s]"
     ]
    },
    {
     "name": "stdout",
     "output_type": "stream",
     "text": [
      "Jennifer_Aniston\n"
     ]
    },
    {
     "name": "stderr",
     "output_type": "stream",
     "text": [
      " 34%|███▍      | 170/500 [00:27<01:51,  2.96it/s]"
     ]
    },
    {
     "name": "stdout",
     "output_type": "stream",
     "text": [
      "Eric_Schacht\n",
      "Steve_Stirling\n",
      "Alberto_Acosta\n"
     ]
    },
    {
     "name": "stderr",
     "output_type": "stream",
     "text": [
      " 34%|███▍      | 172/500 [00:28<01:21,  4.00it/s]"
     ]
    },
    {
     "name": "stdout",
     "output_type": "stream",
     "text": [
      "Jim_Zorn\n",
      "Billy_Tibbets\n",
      "Justin_Leonard\n"
     ]
    },
    {
     "name": "stderr",
     "output_type": "stream",
     "text": [
      " 35%|███▌      | 176/500 [00:28<00:58,  5.50it/s]"
     ]
    },
    {
     "name": "stdout",
     "output_type": "stream",
     "text": [
      "Steve_Alford\n",
      "Osmond_Smith\n",
      "Miranda_Gaddis\n"
     ]
    },
    {
     "name": "stderr",
     "output_type": "stream",
     "text": [
      " 36%|███▌      | 178/500 [00:28<00:47,  6.72it/s]"
     ]
    },
    {
     "name": "stdout",
     "output_type": "stream",
     "text": [
      "Geovani_Lapentti\n",
      "Alma_Powell\n",
      "Jimmy_Lee\n"
     ]
    },
    {
     "name": "stderr",
     "output_type": "stream",
     "text": [
      " 36%|███▋      | 182/500 [00:29<00:35,  9.08it/s]"
     ]
    },
    {
     "name": "stdout",
     "output_type": "stream",
     "text": [
      "Shobha_De\n",
      "Anil_Ramsook\n",
      "Peter_Mullan\n"
     ]
    },
    {
     "name": "stderr",
     "output_type": "stream",
     "text": [
      " 37%|███▋      | 184/500 [00:29<00:31, 10.06it/s]"
     ]
    },
    {
     "name": "stdout",
     "output_type": "stream",
     "text": [
      "Herman_Moore\n",
      "Mark_Martin\n",
      "Din_Samsudin\n"
     ]
    },
    {
     "name": "stderr",
     "output_type": "stream",
     "text": [
      " 37%|███▋      | 186/500 [00:29<00:32,  9.56it/s]"
     ]
    },
    {
     "name": "stdout",
     "output_type": "stream",
     "text": [
      "Jason_Statham\n",
      "Mike_Bair\n"
     ]
    },
    {
     "name": "stderr",
     "output_type": "stream",
     "text": [
      " 38%|███▊      | 190/500 [00:29<00:29, 10.45it/s]"
     ]
    },
    {
     "name": "stdout",
     "output_type": "stream",
     "text": [
      "Yana_Klochkova\n",
      "Doug_Racine\n",
      "Chan_Ho_Park\n"
     ]
    },
    {
     "name": "stderr",
     "output_type": "stream",
     "text": [
      " 38%|███▊      | 192/500 [00:29<00:27, 11.13it/s]"
     ]
    },
    {
     "name": "stdout",
     "output_type": "stream",
     "text": [
      "Elena_Likhovtseva\n",
      "Paul_Ebert\n",
      "Anita_DeFrantz\n"
     ]
    },
    {
     "name": "stderr",
     "output_type": "stream",
     "text": [
      " 39%|███▉      | 196/500 [00:30<00:25, 11.82it/s]"
     ]
    },
    {
     "name": "stdout",
     "output_type": "stream",
     "text": [
      "Lee_Nam-shin\n",
      "Crispin_Glover\n",
      "Kevin_Marshall\n"
     ]
    },
    {
     "name": "stderr",
     "output_type": "stream",
     "text": [
      " 40%|███▉      | 198/500 [00:30<00:25, 12.07it/s]"
     ]
    },
    {
     "name": "stdout",
     "output_type": "stream",
     "text": [
      "Sven_Ottke\n",
      "Raf_Vallone\n",
      "Nick_Reilly\n"
     ]
    },
    {
     "name": "stderr",
     "output_type": "stream",
     "text": [
      " 40%|████      | 200/500 [00:30<00:24, 12.16it/s]"
     ]
    },
    {
     "name": "stdout",
     "output_type": "stream",
     "text": [
      "Bob_Huggins\n"
     ]
    },
    {
     "name": "stderr",
     "output_type": "stream",
     "text": [
      " 40%|████      | 202/500 [00:31<00:39,  7.60it/s]"
     ]
    },
    {
     "name": "stdout",
     "output_type": "stream",
     "text": [
      "David_Zeplowitz\n",
      "Tayshaun_Prince\n",
      "Emmanuelle_Jagodsinski\n"
     ]
    },
    {
     "name": "stderr",
     "output_type": "stream",
     "text": [
      " 41%|████      | 205/500 [00:31<00:38,  7.62it/s]"
     ]
    },
    {
     "name": "stdout",
     "output_type": "stream",
     "text": [
      "Lyle_Vanclief\n",
      "Paula_Locke\n"
     ]
    },
    {
     "name": "stderr",
     "output_type": "stream",
     "text": [
      " 41%|████▏     | 207/500 [00:31<00:41,  7.13it/s]"
     ]
    },
    {
     "name": "stdout",
     "output_type": "stream",
     "text": [
      "James_Mathis\n",
      "Lou_Piniella\n"
     ]
    },
    {
     "name": "stderr",
     "output_type": "stream",
     "text": [
      " 42%|████▏     | 210/500 [00:32<00:39,  7.43it/s]"
     ]
    },
    {
     "name": "stdout",
     "output_type": "stream",
     "text": [
      "Soenarno\n",
      "Tara_Reid\n",
      "Christian_Von_Wernich\n",
      "Jacques_Rogge\n"
     ]
    },
    {
     "name": "stderr",
     "output_type": "stream",
     "text": [
      " 43%|████▎     | 213/500 [00:33<01:04,  4.48it/s]"
     ]
    },
    {
     "name": "stdout",
     "output_type": "stream",
     "text": [
      "Nawabzada_Nasrullah_Khan\n",
      "Catherine_Donkers\n"
     ]
    },
    {
     "name": "stderr",
     "output_type": "stream",
     "text": [
      " 43%|████▎     | 215/500 [00:33<00:47,  5.94it/s]"
     ]
    },
    {
     "name": "stdout",
     "output_type": "stream",
     "text": [
      "Agnelo_Queiroz\n",
      "Henry_Hilow\n",
      "Eric_Hinske\n"
     ]
    },
    {
     "name": "stderr",
     "output_type": "stream",
     "text": [
      " 44%|████▍     | 219/500 [00:33<00:38,  7.26it/s]"
     ]
    },
    {
     "name": "stdout",
     "output_type": "stream",
     "text": [
      "Chris_Cornell\n",
      "Bonnie_Fuller\n",
      "Matt_Morris\n"
     ]
    },
    {
     "name": "stderr",
     "output_type": "stream",
     "text": [
      " 44%|████▍     | 221/500 [00:34<00:36,  7.70it/s]"
     ]
    },
    {
     "name": "stdout",
     "output_type": "stream",
     "text": [
      "Harbhajan_Singh\n",
      "Kim_Dong-hwa\n"
     ]
    },
    {
     "name": "stderr",
     "output_type": "stream",
     "text": [
      " 45%|████▍     | 223/500 [00:34<00:33,  8.15it/s]"
     ]
    },
    {
     "name": "stdout",
     "output_type": "stream",
     "text": [
      "Tim_Matheson\n",
      "Dick_Smothers\n"
     ]
    },
    {
     "name": "stderr",
     "output_type": "stream",
     "text": [
      " 45%|████▌     | 225/500 [00:34<00:34,  7.95it/s]"
     ]
    },
    {
     "name": "stdout",
     "output_type": "stream",
     "text": [
      "Jia_Qinglin\n",
      "Gerald_Calabrese\n"
     ]
    },
    {
     "name": "stderr",
     "output_type": "stream",
     "text": [
      " 45%|████▌     | 227/500 [00:34<00:29,  9.10it/s]"
     ]
    },
    {
     "name": "stdout",
     "output_type": "stream",
     "text": [
      "Rowan_Williams\n",
      "Peter_Goldmark\n",
      "Brian_Van_Dusen\n"
     ]
    },
    {
     "name": "stderr",
     "output_type": "stream",
     "text": [
      " 46%|████▌     | 229/500 [00:34<00:26, 10.07it/s]"
     ]
    },
    {
     "name": "stdout",
     "output_type": "stream",
     "text": [
      "Osama_bin_Laden\n",
      "Stanley_McChrystal\n"
     ]
    },
    {
     "name": "stderr",
     "output_type": "stream",
     "text": [
      " 46%|████▌     | 231/500 [00:35<00:40,  6.58it/s]"
     ]
    },
    {
     "name": "stdout",
     "output_type": "stream",
     "text": [
      "Carlos_Ghosn\n"
     ]
    },
    {
     "name": "stderr",
     "output_type": "stream",
     "text": [
      " 47%|████▋     | 233/500 [00:35<00:44,  5.98it/s]"
     ]
    },
    {
     "name": "stdout",
     "output_type": "stream",
     "text": [
      "Jean_Todt\n",
      "Wally_Szczerbiak\n"
     ]
    },
    {
     "name": "stderr",
     "output_type": "stream",
     "text": [
      " 47%|████▋     | 235/500 [00:35<00:35,  7.38it/s]"
     ]
    },
    {
     "name": "stdout",
     "output_type": "stream",
     "text": [
      "Zara_Akhmadova\n",
      "Donald_Keck\n",
      "Andy_Roddick\n"
     ]
    },
    {
     "name": "stderr",
     "output_type": "stream",
     "text": [
      " 47%|████▋     | 237/500 [00:37<01:19,  3.32it/s]"
     ]
    },
    {
     "name": "stdout",
     "output_type": "stream",
     "text": [
      "John_Paul_II\n"
     ]
    },
    {
     "name": "stderr",
     "output_type": "stream",
     "text": [
      " 48%|████▊     | 239/500 [00:38<01:33,  2.80it/s]"
     ]
    },
    {
     "name": "stdout",
     "output_type": "stream",
     "text": [
      "Paul_Tracy\n",
      "Ismail_Khan\n",
      "Svetislav_Pesic\n"
     ]
    },
    {
     "name": "stderr",
     "output_type": "stream",
     "text": [
      " 49%|████▊     | 243/500 [00:38<00:48,  5.27it/s]"
     ]
    },
    {
     "name": "stdout",
     "output_type": "stream",
     "text": [
      "Sven_Goran_Eriksson\n",
      "Aline_Chretien\n",
      "Jeffery_Hendren\n"
     ]
    },
    {
     "name": "stderr",
     "output_type": "stream",
     "text": [
      " 49%|████▉     | 245/500 [00:38<00:39,  6.51it/s]"
     ]
    },
    {
     "name": "stdout",
     "output_type": "stream",
     "text": [
      "Ian_Huntley\n",
      "Andrew_Luster\n",
      "Emilio_Azcarraga_Jean\n"
     ]
    },
    {
     "name": "stderr",
     "output_type": "stream",
     "text": [
      " 49%|████▉     | 247/500 [00:38<00:35,  7.21it/s]"
     ]
    },
    {
     "name": "stdout",
     "output_type": "stream",
     "text": [
      "Wilbert_Foy\n",
      "Pham_Thi_Mai_Phuong\n"
     ]
    },
    {
     "name": "stderr",
     "output_type": "stream",
     "text": [
      " 50%|█████     | 251/500 [00:39<00:29,  8.32it/s]"
     ]
    },
    {
     "name": "stdout",
     "output_type": "stream",
     "text": [
      "William_McDonough\n",
      "Linda_Franklin\n",
      "Liane_Janda\n"
     ]
    },
    {
     "name": "stderr",
     "output_type": "stream",
     "text": [
      " 51%|█████     | 253/500 [00:39<00:28,  8.60it/s]"
     ]
    },
    {
     "name": "stdout",
     "output_type": "stream",
     "text": [
      "Jana_Pittman\n",
      "Leuris_Pupo\n"
     ]
    },
    {
     "name": "stderr",
     "output_type": "stream",
     "text": [
      " 51%|█████     | 255/500 [00:39<00:31,  7.83it/s]"
     ]
    },
    {
     "name": "stdout",
     "output_type": "stream",
     "text": [
      "Martin_Sheen\n",
      "Lisa_Girman\n"
     ]
    },
    {
     "name": "stderr",
     "output_type": "stream",
     "text": [
      " 51%|█████▏    | 257/500 [00:40<00:26,  9.13it/s]"
     ]
    },
    {
     "name": "stdout",
     "output_type": "stream",
     "text": [
      "Brian_Clemens\n",
      "Larry_Donald\n",
      "Colleen_Ryan\n"
     ]
    },
    {
     "name": "stderr",
     "output_type": "stream",
     "text": [
      " 52%|█████▏    | 259/500 [00:40<00:26,  9.19it/s]"
     ]
    },
    {
     "name": "stdout",
     "output_type": "stream",
     "text": [
      "Max_Baucus\n",
      "Bill_Sizemore\n"
     ]
    },
    {
     "name": "stderr",
     "output_type": "stream",
     "text": [
      " 52%|█████▏    | 262/500 [00:40<00:26,  9.08it/s]"
     ]
    },
    {
     "name": "stdout",
     "output_type": "stream",
     "text": [
      "Sandra_Day_OConner\n",
      "Mirela_Manjani\n"
     ]
    },
    {
     "name": "stderr",
     "output_type": "stream",
     "text": [
      " 53%|█████▎    | 263/500 [00:40<00:25,  9.15it/s]"
     ]
    },
    {
     "name": "stdout",
     "output_type": "stream",
     "text": [
      "Estella_Warren\n",
      "Zoran_Djindjic\n"
     ]
    },
    {
     "name": "stderr",
     "output_type": "stream",
     "text": [
      " 53%|█████▎    | 267/500 [00:41<00:29,  7.90it/s]"
     ]
    },
    {
     "name": "stdout",
     "output_type": "stream",
     "text": [
      "Nate_Hybl\n",
      "Ed_Case\n",
      "Stephen_Funk\n",
      "John_McEnroe\n"
     ]
    },
    {
     "name": "stderr",
     "output_type": "stream",
     "text": [
      " 54%|█████▍    | 269/500 [00:41<00:32,  7.05it/s]"
     ]
    },
    {
     "name": "stdout",
     "output_type": "stream",
     "text": [
      "Walter_Mondale\n"
     ]
    },
    {
     "name": "stderr",
     "output_type": "stream",
     "text": [
      " 54%|█████▍    | 270/500 [00:42<01:07,  3.40it/s]"
     ]
    },
    {
     "name": "stdout",
     "output_type": "stream",
     "text": [
      "Diana_Krall\n"
     ]
    },
    {
     "name": "stderr",
     "output_type": "stream",
     "text": [
      " 55%|█████▍    | 273/500 [00:43<00:59,  3.84it/s]"
     ]
    },
    {
     "name": "stdout",
     "output_type": "stream",
     "text": [
      "Heather_Willson\n",
      "Felipe_De_Borbon\n",
      "Carolina_Moraes\n"
     ]
    },
    {
     "name": "stderr",
     "output_type": "stream",
     "text": [
      " 55%|█████▌    | 275/500 [00:43<00:50,  4.47it/s]"
     ]
    },
    {
     "name": "stdout",
     "output_type": "stream",
     "text": [
      "Ali_Mohammed_Maher\n",
      "Rick_Husband\n"
     ]
    },
    {
     "name": "stderr",
     "output_type": "stream",
     "text": [
      " 55%|█████▌    | 277/500 [00:43<00:37,  6.02it/s]"
     ]
    },
    {
     "name": "stdout",
     "output_type": "stream",
     "text": [
      "Stephanie_Zimbalist\n",
      "Shanna_Zolman\n",
      "Isaiah_Washington\n"
     ]
    },
    {
     "name": "stderr",
     "output_type": "stream",
     "text": [
      " 56%|█████▌    | 280/500 [00:44<00:34,  6.46it/s]"
     ]
    },
    {
     "name": "stdout",
     "output_type": "stream",
     "text": [
      "Edgar_Savisaar\n",
      "Dave_Tucker\n"
     ]
    },
    {
     "name": "stderr",
     "output_type": "stream",
     "text": [
      " 56%|█████▋    | 282/500 [00:44<00:28,  7.63it/s]"
     ]
    },
    {
     "name": "stdout",
     "output_type": "stream",
     "text": [
      "Brandon_Larson\n",
      "Phoenix_Chang\n",
      "Penelope_Ann_Miller\n"
     ]
    },
    {
     "name": "stderr",
     "output_type": "stream",
     "text": [
      " 57%|█████▋    | 285/500 [00:44<00:27,  7.75it/s]"
     ]
    },
    {
     "name": "stdout",
     "output_type": "stream",
     "text": [
      "Natalie_Juniardi\n",
      "Ted_Maher\n"
     ]
    },
    {
     "name": "stderr",
     "output_type": "stream",
     "text": [
      " 58%|█████▊    | 288/500 [00:45<00:25,  8.39it/s]"
     ]
    },
    {
     "name": "stdout",
     "output_type": "stream",
     "text": [
      "Noor_Mohammed\n",
      "Walt_Harris\n",
      "Olivera_Labus\n"
     ]
    },
    {
     "name": "stderr",
     "output_type": "stream",
     "text": [
      " 58%|█████▊    | 290/500 [00:45<00:21,  9.55it/s]"
     ]
    },
    {
     "name": "stdout",
     "output_type": "stream",
     "text": [
      "Stephen_Covey\n",
      "Woodrow_Stanley\n",
      "Yuvraj_Singh\n"
     ]
    },
    {
     "name": "stderr",
     "output_type": "stream",
     "text": [
      " 59%|█████▉    | 294/500 [00:45<00:19, 10.64it/s]"
     ]
    },
    {
     "name": "stdout",
     "output_type": "stream",
     "text": [
      "Bobby_Bowden\n",
      "Hussein_Malik\n",
      "Tom_Hanks\n"
     ]
    },
    {
     "name": "stderr",
     "output_type": "stream",
     "text": [
      " 59%|█████▉    | 296/500 [00:46<00:47,  4.28it/s]"
     ]
    },
    {
     "name": "stdout",
     "output_type": "stream",
     "text": [
      "Gary_Gitnick\n",
      "Mike_Richter\n",
      "Luke_Walton\n"
     ]
    },
    {
     "name": "stderr",
     "output_type": "stream",
     "text": [
      " 60%|██████    | 300/500 [00:47<00:32,  6.09it/s]"
     ]
    },
    {
     "name": "stdout",
     "output_type": "stream",
     "text": [
      "Denys_Arcand\n",
      "Bill_Butler\n",
      "Michael_Goldrich\n"
     ]
    },
    {
     "name": "stderr",
     "output_type": "stream",
     "text": [
      " 60%|██████    | 302/500 [00:47<00:27,  7.22it/s]"
     ]
    },
    {
     "name": "stdout",
     "output_type": "stream",
     "text": [
      "Yekaterina_Guseva\n",
      "Darren_Clarke\n",
      "Intisar_Ajouri\n"
     ]
    },
    {
     "name": "stderr",
     "output_type": "stream",
     "text": [
      " 61%|██████    | 304/500 [00:47<00:35,  5.58it/s]"
     ]
    },
    {
     "name": "stdout",
     "output_type": "stream",
     "text": [
      "Cristiano_da_Matta\n",
      "Hugh_Carey\n"
     ]
    },
    {
     "name": "stderr",
     "output_type": "stream",
     "text": [
      " 61%|██████▏   | 307/500 [00:48<00:28,  6.73it/s]"
     ]
    },
    {
     "name": "stdout",
     "output_type": "stream",
     "text": [
      "Danny_Glover\n",
      "Peter_Hunt\n",
      "Steven_Feldman\n"
     ]
    },
    {
     "name": "stderr",
     "output_type": "stream",
     "text": [
      " 62%|██████▏   | 310/500 [00:48<00:25,  7.55it/s]"
     ]
    },
    {
     "name": "stdout",
     "output_type": "stream",
     "text": [
      "Dinah_Turner\n",
      "Rosny_Desroches\n"
     ]
    },
    {
     "name": "stderr",
     "output_type": "stream",
     "text": [
      " 62%|██████▏   | 312/500 [00:48<00:21,  8.80it/s]"
     ]
    },
    {
     "name": "stdout",
     "output_type": "stream",
     "text": [
      "Cosmo_Iacavazzi\n",
      "Daniel_Day-Lewis\n"
     ]
    },
    {
     "name": "stderr",
     "output_type": "stream",
     "text": [
      " 63%|██████▎   | 315/500 [00:49<00:23,  7.95it/s]"
     ]
    },
    {
     "name": "stdout",
     "output_type": "stream",
     "text": [
      "Robert_Wiener\n",
      "Derrick_Battie\n",
      "Candice_Beatty\n"
     ]
    },
    {
     "name": "stderr",
     "output_type": "stream",
     "text": [
      " 64%|██████▎   | 318/500 [00:49<00:21,  8.46it/s]"
     ]
    },
    {
     "name": "stdout",
     "output_type": "stream",
     "text": [
      "Gerald_Riley\n",
      "Julie_Andrews\n",
      "Jean-Marc_de_La_Sabliere\n"
     ]
    },
    {
     "name": "stderr",
     "output_type": "stream",
     "text": [
      " 64%|██████▍   | 319/500 [00:49<00:27,  6.57it/s]"
     ]
    },
    {
     "name": "stdout",
     "output_type": "stream",
     "text": [
      "Zhang_Ziyi\n"
     ]
    },
    {
     "name": "stderr",
     "output_type": "stream",
     "text": [
      " 64%|██████▍   | 321/500 [00:50<00:32,  5.49it/s]"
     ]
    },
    {
     "name": "stdout",
     "output_type": "stream",
     "text": [
      "Kurt_Busch\n",
      "Roberto_Lavagna\n",
      "Dick_Cheney\n"
     ]
    },
    {
     "name": "stderr",
     "output_type": "stream",
     "text": [
      " 65%|██████▌   | 325/500 [00:51<00:47,  3.69it/s]"
     ]
    },
    {
     "name": "stdout",
     "output_type": "stream",
     "text": [
      "Hamza_Atiya_Muhsen\n",
      "David_Hilt\n",
      "Susan_Walvius\n"
     ]
    },
    {
     "name": "stderr",
     "output_type": "stream",
     "text": [
      " 65%|██████▌   | 327/500 [00:52<00:36,  4.77it/s]"
     ]
    },
    {
     "name": "stdout",
     "output_type": "stream",
     "text": [
      "Kim_Weeks\n",
      "Darryl_Stingley\n",
      "Colin_Prescot\n"
     ]
    },
    {
     "name": "stderr",
     "output_type": "stream",
     "text": [
      " 66%|██████▌   | 329/500 [00:52<00:28,  5.93it/s]"
     ]
    },
    {
     "name": "stdout",
     "output_type": "stream",
     "text": [
      "Felix_Mantilla\n"
     ]
    },
    {
     "name": "stderr",
     "output_type": "stream",
     "text": [
      " 66%|██████▌   | 330/500 [00:52<00:33,  5.14it/s]"
     ]
    },
    {
     "name": "stdout",
     "output_type": "stream",
     "text": [
      "Frank_Van_Ecke\n"
     ]
    },
    {
     "name": "stderr",
     "output_type": "stream",
     "text": [
      " 66%|██████▌   | 331/500 [00:52<00:34,  4.87it/s]"
     ]
    },
    {
     "name": "stdout",
     "output_type": "stream",
     "text": [
      "Mike_Sherman\n",
      "David_Myers\n"
     ]
    },
    {
     "name": "stderr",
     "output_type": "stream",
     "text": [
      " 67%|██████▋   | 334/500 [00:53<00:27,  5.96it/s]"
     ]
    },
    {
     "name": "stdout",
     "output_type": "stream",
     "text": [
      "Guillermo_Ruiz_Polanco\n",
      "Ken_Loach\n"
     ]
    },
    {
     "name": "stderr",
     "output_type": "stream",
     "text": [
      " 67%|██████▋   | 336/500 [00:53<00:22,  7.24it/s]"
     ]
    },
    {
     "name": "stdout",
     "output_type": "stream",
     "text": [
      "Robert_Flodquist\n",
      "Ben_Lee\n",
      "Aung_San_Suu_Kyi\n"
     ]
    },
    {
     "name": "stderr",
     "output_type": "stream",
     "text": [
      " 68%|██████▊   | 339/500 [00:53<00:22,  7.11it/s]"
     ]
    },
    {
     "name": "stdout",
     "output_type": "stream",
     "text": [
      "Keith_Brown\n",
      "Thomas_Gottschalk\n"
     ]
    },
    {
     "name": "stderr",
     "output_type": "stream",
     "text": [
      " 68%|██████▊   | 341/500 [00:54<00:22,  7.20it/s]"
     ]
    },
    {
     "name": "stdout",
     "output_type": "stream",
     "text": [
      "Shae-Lynn_Bourne\n",
      "Bob_Sulkin\n"
     ]
    },
    {
     "name": "stderr",
     "output_type": "stream",
     "text": [
      " 68%|██████▊   | 342/500 [00:54<00:21,  7.28it/s]"
     ]
    },
    {
     "name": "stdout",
     "output_type": "stream",
     "text": [
      "Chakib_Khelil\n"
     ]
    },
    {
     "name": "stderr",
     "output_type": "stream",
     "text": [
      " 69%|██████▉   | 344/500 [00:54<00:27,  5.60it/s]"
     ]
    },
    {
     "name": "stdout",
     "output_type": "stream",
     "text": [
      "Robert_Wagner\n",
      "William_Cocksedge\n"
     ]
    },
    {
     "name": "stderr",
     "output_type": "stream",
     "text": [
      " 69%|██████▉   | 346/500 [00:54<00:22,  6.94it/s]"
     ]
    },
    {
     "name": "stdout",
     "output_type": "stream",
     "text": [
      "Giselle_Estefania_Tavarelli\n",
      "Lorne_Michaels\n"
     ]
    },
    {
     "name": "stderr",
     "output_type": "stream",
     "text": [
      " 70%|██████▉   | 348/500 [00:55<00:23,  6.37it/s]"
     ]
    },
    {
     "name": "stdout",
     "output_type": "stream",
     "text": [
      "Ricky_Barnes\n",
      "Laura_Ziskin\n"
     ]
    },
    {
     "name": "stderr",
     "output_type": "stream",
     "text": [
      " 70%|███████   | 351/500 [00:55<00:18,  8.20it/s]"
     ]
    },
    {
     "name": "stdout",
     "output_type": "stream",
     "text": [
      "Ray_Evernham\n",
      "Pedro_Velasquez\n",
      "Marion_Fahnestock\n"
     ]
    },
    {
     "name": "stderr",
     "output_type": "stream",
     "text": [
      " 71%|███████   | 353/500 [00:55<00:18,  7.86it/s]"
     ]
    },
    {
     "name": "stdout",
     "output_type": "stream",
     "text": [
      "Jane_Pauley\n",
      "Bernardo_Segura\n"
     ]
    },
    {
     "name": "stderr",
     "output_type": "stream",
     "text": [
      " 71%|███████   | 354/500 [00:55<00:22,  6.50it/s]"
     ]
    },
    {
     "name": "stdout",
     "output_type": "stream",
     "text": [
      "Padraig_Harrington\n"
     ]
    },
    {
     "name": "stderr",
     "output_type": "stream",
     "text": [
      " 71%|███████   | 356/500 [00:56<00:25,  5.72it/s]"
     ]
    },
    {
     "name": "stdout",
     "output_type": "stream",
     "text": [
      "Luke_Smith\n",
      "Jeffrey_Pfeffer\n"
     ]
    },
    {
     "name": "stderr",
     "output_type": "stream",
     "text": [
      " 72%|███████▏  | 358/500 [00:56<00:19,  7.14it/s]"
     ]
    },
    {
     "name": "stdout",
     "output_type": "stream",
     "text": [
      "Brandon_Boyd\n",
      "Jim_Jeffords\n"
     ]
    },
    {
     "name": "stderr",
     "output_type": "stream",
     "text": [
      " 72%|███████▏  | 359/500 [00:56<00:20,  6.82it/s]"
     ]
    },
    {
     "name": "stdout",
     "output_type": "stream",
     "text": [
      "Claudio_Abbado\n",
      "Chen_Liang_Yu\n"
     ]
    },
    {
     "name": "stderr",
     "output_type": "stream",
     "text": [
      " 72%|███████▏  | 362/500 [00:57<00:20,  6.76it/s]"
     ]
    },
    {
     "name": "stdout",
     "output_type": "stream",
     "text": [
      "Maura_Tierney\n",
      "John_Danforth\n",
      "Cheryl_Hines\n"
     ]
    },
    {
     "name": "stderr",
     "output_type": "stream",
     "text": [
      " 73%|███████▎  | 366/500 [00:57<00:16,  8.20it/s]"
     ]
    },
    {
     "name": "stdout",
     "output_type": "stream",
     "text": [
      "Timothy_Goebel\n",
      "Frank_Sinatra\n",
      "Marissa_Jaret_Winokur\n"
     ]
    },
    {
     "name": "stderr",
     "output_type": "stream",
     "text": [
      " 74%|███████▎  | 368/500 [00:57<00:17,  7.44it/s]"
     ]
    },
    {
     "name": "stdout",
     "output_type": "stream",
     "text": [
      "Masamori_Tokuyama\n",
      "Bill_Rainer\n",
      "Ken_Watanabe\n"
     ]
    },
    {
     "name": "stderr",
     "output_type": "stream",
     "text": [
      " 74%|███████▍  | 372/500 [00:58<00:16,  7.57it/s]"
     ]
    },
    {
     "name": "stdout",
     "output_type": "stream",
     "text": [
      "Kimora_Lee\n",
      "Sanjay_Gupta\n",
      "Gary_Locke\n"
     ]
    },
    {
     "name": "stderr",
     "output_type": "stream",
     "text": [
      " 75%|███████▌  | 375/500 [00:58<00:15,  8.16it/s]"
     ]
    },
    {
     "name": "stdout",
     "output_type": "stream",
     "text": [
      "Sinead_OConnor\n",
      "James_W_Kennedy\n",
      "Kurt_Suzuki\n"
     ]
    },
    {
     "name": "stderr",
     "output_type": "stream",
     "text": [
      " 75%|███████▌  | 377/500 [00:59<00:13,  9.08it/s]"
     ]
    },
    {
     "name": "stdout",
     "output_type": "stream",
     "text": [
      "Frederick_Madden\n",
      "Priscilla_Owen\n"
     ]
    },
    {
     "name": "stderr",
     "output_type": "stream",
     "text": [
      " 76%|███████▌  | 378/500 [00:59<00:15,  8.09it/s]"
     ]
    },
    {
     "name": "stdout",
     "output_type": "stream",
     "text": [
      "Malcolm_Jamal_Warner\n",
      "Naoto_Kan\n"
     ]
    },
    {
     "name": "stderr",
     "output_type": "stream",
     "text": [
      " 76%|███████▌  | 381/500 [00:59<00:18,  6.52it/s]"
     ]
    },
    {
     "name": "stdout",
     "output_type": "stream",
     "text": [
      "Sue_Guevara\n",
      "John_Sweeney\n"
     ]
    },
    {
     "name": "stderr",
     "output_type": "stream",
     "text": [
      " 77%|███████▋  | 383/500 [00:59<00:14,  7.87it/s]"
     ]
    },
    {
     "name": "stdout",
     "output_type": "stream",
     "text": [
      "Brian_Cashman\n",
      "Marco_Pantani\n",
      "Theodore_Tweed_Roosevelt\n"
     ]
    },
    {
     "name": "stderr",
     "output_type": "stream",
     "text": [
      " 77%|███████▋  | 387/500 [01:00<00:13,  8.37it/s]"
     ]
    },
    {
     "name": "stdout",
     "output_type": "stream",
     "text": [
      "Se_Hyuk_Joo\n",
      "Ian_Moran\n",
      "Michael_Olowokandi\n"
     ]
    },
    {
     "name": "stderr",
     "output_type": "stream",
     "text": [
      " 78%|███████▊  | 389/500 [01:00<00:11,  9.42it/s]"
     ]
    },
    {
     "name": "stdout",
     "output_type": "stream",
     "text": [
      "James_Brosnahan\n",
      "Kevin_Nealon\n",
      "Miguel_Estrada\n"
     ]
    },
    {
     "name": "stderr",
     "output_type": "stream",
     "text": [
      " 78%|███████▊  | 392/500 [01:00<00:12,  8.87it/s]"
     ]
    },
    {
     "name": "stdout",
     "output_type": "stream",
     "text": [
      "Alison_Krauss\n",
      "Bill_Callahan\n"
     ]
    },
    {
     "name": "stderr",
     "output_type": "stream",
     "text": [
      " 79%|███████▊  | 393/500 [01:01<00:14,  7.29it/s]"
     ]
    },
    {
     "name": "stdout",
     "output_type": "stream",
     "text": [
      "Allison_Searing\n",
      "Torri_Edwards\n"
     ]
    },
    {
     "name": "stderr",
     "output_type": "stream",
     "text": [
      " 79%|███████▉  | 395/500 [01:01<00:13,  7.61it/s]"
     ]
    },
    {
     "name": "stdout",
     "output_type": "stream",
     "text": [
      "Bryan_Thomas\n",
      "Kathy_Baker\n"
     ]
    },
    {
     "name": "stderr",
     "output_type": "stream",
     "text": [
      " 79%|███████▉  | 397/500 [01:01<00:13,  7.54it/s]"
     ]
    },
    {
     "name": "stdout",
     "output_type": "stream",
     "text": [
      "Martha_Stewart\n"
     ]
    },
    {
     "name": "stderr",
     "output_type": "stream",
     "text": [
      " 80%|████████  | 400/500 [01:02<00:17,  5.69it/s]"
     ]
    },
    {
     "name": "stdout",
     "output_type": "stream",
     "text": [
      "William_Hurt\n",
      "Serge_Tchuruk\n",
      "Michael_Brandon\n"
     ]
    },
    {
     "name": "stderr",
     "output_type": "stream",
     "text": [
      " 80%|████████  | 401/500 [01:02<00:16,  6.15it/s]"
     ]
    },
    {
     "name": "stdout",
     "output_type": "stream",
     "text": [
      "Adam_Sandler\n"
     ]
    },
    {
     "name": "stderr",
     "output_type": "stream",
     "text": [
      " 81%|████████  | 403/500 [01:03<00:20,  4.76it/s]"
     ]
    },
    {
     "name": "stdout",
     "output_type": "stream",
     "text": [
      "Sam_Gerald\n",
      "Laura_Linney\n"
     ]
    },
    {
     "name": "stderr",
     "output_type": "stream",
     "text": [
      " 81%|████████  | 405/500 [01:03<00:21,  4.41it/s]"
     ]
    },
    {
     "name": "stdout",
     "output_type": "stream",
     "text": [
      "Aitor_Gonzalez\n",
      "Hamzah_Haz\n"
     ]
    },
    {
     "name": "stderr",
     "output_type": "stream",
     "text": [
      " 82%|████████▏ | 408/500 [01:04<00:17,  5.32it/s]"
     ]
    },
    {
     "name": "stdout",
     "output_type": "stream",
     "text": [
      "James_Young\n",
      "Misty_Dawn_Clymer\n",
      "Bronson_Arroyo\n"
     ]
    },
    {
     "name": "stderr",
     "output_type": "stream",
     "text": [
      " 82%|████████▏ | 410/500 [01:04<00:14,  6.21it/s]"
     ]
    },
    {
     "name": "stdout",
     "output_type": "stream",
     "text": [
      "Curtis_Rodriguez\n",
      "Paul_Burrell\n"
     ]
    },
    {
     "name": "stderr",
     "output_type": "stream",
     "text": [
      " 82%|████████▏ | 412/500 [01:06<00:33,  2.60it/s]"
     ]
    },
    {
     "name": "stdout",
     "output_type": "stream",
     "text": [
      "Jennie_Garth\n",
      "Irina_Yatchenko\n",
      "Don_Matthews\n"
     ]
    },
    {
     "name": "stderr",
     "output_type": "stream",
     "text": [
      " 83%|████████▎ | 415/500 [01:06<00:18,  4.57it/s]"
     ]
    },
    {
     "name": "stdout",
     "output_type": "stream",
     "text": [
      "David_Eldon\n",
      "Christian_Wulff\n"
     ]
    },
    {
     "name": "stderr",
     "output_type": "stream",
     "text": [
      " 83%|████████▎ | 416/500 [01:06<00:18,  4.53it/s]"
     ]
    },
    {
     "name": "stdout",
     "output_type": "stream",
     "text": [
      "Paul_Byrd\n"
     ]
    },
    {
     "name": "stderr",
     "output_type": "stream",
     "text": [
      " 84%|████████▍ | 419/500 [01:07<00:14,  5.56it/s]"
     ]
    },
    {
     "name": "stdout",
     "output_type": "stream",
     "text": [
      "Derek_Bond\n",
      "Wolfgang_Clement\n",
      "Carol_Williams\n"
     ]
    },
    {
     "name": "stderr",
     "output_type": "stream",
     "text": [
      " 84%|████████▍ | 421/500 [01:07<00:12,  6.42it/s]"
     ]
    },
    {
     "name": "stdout",
     "output_type": "stream",
     "text": [
      "John_Goold\n",
      "Mesut_Yilmaz\n"
     ]
    },
    {
     "name": "stderr",
     "output_type": "stream",
     "text": [
      " 85%|████████▍ | 423/500 [01:07<00:14,  5.35it/s]"
     ]
    },
    {
     "name": "stdout",
     "output_type": "stream",
     "text": [
      "John_Dallager\n",
      "Cecile_de_France\n"
     ]
    },
    {
     "name": "stderr",
     "output_type": "stream",
     "text": [
      " 85%|████████▌ | 425/500 [01:08<00:11,  6.34it/s]"
     ]
    },
    {
     "name": "stdout",
     "output_type": "stream",
     "text": [
      "Adrian_Fernandez\n",
      "Alan_Greer\n"
     ]
    },
    {
     "name": "stderr",
     "output_type": "stream",
     "text": [
      " 85%|████████▌ | 427/500 [01:08<00:12,  5.85it/s]"
     ]
    },
    {
     "name": "stdout",
     "output_type": "stream",
     "text": [
      "Mike_Babcock\n",
      "Casy_Preslar\n",
      "Giuseppe_Gibilisco\n"
     ]
    },
    {
     "name": "stderr",
     "output_type": "stream",
     "text": [
      " 86%|████████▌ | 430/500 [01:09<00:13,  5.25it/s]"
     ]
    },
    {
     "name": "stdout",
     "output_type": "stream",
     "text": [
      "Wesley_Clark\n",
      "Tom_Osborne\n"
     ]
    },
    {
     "name": "stderr",
     "output_type": "stream",
     "text": [
      " 86%|████████▌ | 431/500 [01:09<00:11,  5.85it/s]"
     ]
    },
    {
     "name": "stdout",
     "output_type": "stream",
     "text": [
      "Robert_Mueller\n"
     ]
    },
    {
     "name": "stderr",
     "output_type": "stream",
     "text": [
      " 87%|████████▋ | 433/500 [01:09<00:14,  4.61it/s]"
     ]
    },
    {
     "name": "stdout",
     "output_type": "stream",
     "text": [
      "Keith_Urban\n",
      "Steve_Cox\n",
      "Carly_Fiorina\n"
     ]
    },
    {
     "name": "stderr",
     "output_type": "stream",
     "text": [
      " 87%|████████▋ | 435/500 [01:10<00:12,  5.02it/s]"
     ]
    },
    {
     "name": "stdout",
     "output_type": "stream",
     "text": [
      "Irv_Nathan\n"
     ]
    },
    {
     "name": "stderr",
     "output_type": "stream",
     "text": [
      " 87%|████████▋ | 436/500 [01:10<00:12,  4.93it/s]"
     ]
    },
    {
     "name": "stdout",
     "output_type": "stream",
     "text": [
      "Goh_Kun\n"
     ]
    },
    {
     "name": "stderr",
     "output_type": "stream",
     "text": [
      " 87%|████████▋ | 437/500 [01:10<00:13,  4.76it/s]"
     ]
    },
    {
     "name": "stdout",
     "output_type": "stream",
     "text": [
      "Imam_Samudra\n"
     ]
    },
    {
     "name": "stderr",
     "output_type": "stream",
     "text": [
      " 88%|████████▊ | 439/500 [01:10<00:11,  5.22it/s]"
     ]
    },
    {
     "name": "stdout",
     "output_type": "stream",
     "text": [
      "Leon_Barmore\n",
      "Martha_Beatriz_Roque\n"
     ]
    },
    {
     "name": "stderr",
     "output_type": "stream",
     "text": [
      " 88%|████████▊ | 440/500 [01:11<00:12,  4.98it/s]"
     ]
    },
    {
     "name": "stdout",
     "output_type": "stream",
     "text": [
      "Lope_Mendoza\n",
      "Roberto_Benigni\n"
     ]
    },
    {
     "name": "stderr",
     "output_type": "stream",
     "text": [
      " 88%|████████▊ | 442/500 [01:11<00:10,  5.77it/s]"
     ]
    },
    {
     "name": "stdout",
     "output_type": "stream",
     "text": [
      "Vincent_Sombrotto\n",
      "Scott_Rudin\n"
     ]
    },
    {
     "name": "stderr",
     "output_type": "stream",
     "text": [
      " 89%|████████▉ | 444/500 [01:11<00:08,  6.35it/s]"
     ]
    },
    {
     "name": "stdout",
     "output_type": "stream",
     "text": [
      "Jesus_Cardenal\n"
     ]
    },
    {
     "name": "stderr",
     "output_type": "stream",
     "text": [
      " 89%|████████▉ | 445/500 [01:11<00:10,  5.35it/s]"
     ]
    },
    {
     "name": "stdout",
     "output_type": "stream",
     "text": [
      "Kimi_Raikkonen\n"
     ]
    },
    {
     "name": "stderr",
     "output_type": "stream",
     "text": [
      " 89%|████████▉ | 446/500 [01:12<00:11,  4.50it/s]"
     ]
    },
    {
     "name": "stdout",
     "output_type": "stream",
     "text": [
      "Warren_Beatty\n"
     ]
    },
    {
     "name": "stderr",
     "output_type": "stream",
     "text": [
      " 90%|████████▉ | 449/500 [01:12<00:08,  5.85it/s]"
     ]
    },
    {
     "name": "stdout",
     "output_type": "stream",
     "text": [
      "Sherri_Coale\n",
      "Matt_Roney\n",
      "Michelle_Branch\n"
     ]
    },
    {
     "name": "stderr",
     "output_type": "stream",
     "text": [
      " 90%|█████████ | 450/500 [01:12<00:08,  5.77it/s]"
     ]
    },
    {
     "name": "stdout",
     "output_type": "stream",
     "text": [
      "Teresa_Graves\n",
      "Michel_Temer\n"
     ]
    },
    {
     "name": "stderr",
     "output_type": "stream",
     "text": [
      " 90%|█████████ | 452/500 [01:13<00:08,  5.51it/s]"
     ]
    },
    {
     "name": "stdout",
     "output_type": "stream",
     "text": [
      "Benazir_Bhutto\n"
     ]
    },
    {
     "name": "stderr",
     "output_type": "stream",
     "text": [
      " 91%|█████████ | 455/500 [01:14<00:09,  4.99it/s]"
     ]
    },
    {
     "name": "stdout",
     "output_type": "stream",
     "text": [
      "Uday_Hussein\n",
      "Brad_Russ\n",
      "Gracia_Burnham\n"
     ]
    },
    {
     "name": "stderr",
     "output_type": "stream",
     "text": [
      " 91%|█████████▏| 457/500 [01:14<00:06,  6.25it/s]"
     ]
    },
    {
     "name": "stdout",
     "output_type": "stream",
     "text": [
      "James_Watt\n",
      "Reggie_Sanders\n",
      "Orrin_Hatch\n"
     ]
    },
    {
     "name": "stderr",
     "output_type": "stream",
     "text": [
      " 92%|█████████▏| 460/500 [01:14<00:06,  6.07it/s]"
     ]
    },
    {
     "name": "stdout",
     "output_type": "stream",
     "text": [
      "Howard_Schultz\n",
      "Piers_Sellers\n"
     ]
    },
    {
     "name": "stderr",
     "output_type": "stream",
     "text": [
      " 92%|█████████▏| 462/500 [01:14<00:05,  7.18it/s]"
     ]
    },
    {
     "name": "stdout",
     "output_type": "stream",
     "text": [
      "Doug_Christie\n",
      "Larry_Harris\n",
      "Lin_Yung_Hsi\n"
     ]
    },
    {
     "name": "stderr",
     "output_type": "stream",
     "text": [
      " 93%|█████████▎| 464/500 [01:15<00:04,  8.15it/s]"
     ]
    },
    {
     "name": "stdout",
     "output_type": "stream",
     "text": [
      "Abdullah_al-Attiyah\n"
     ]
    },
    {
     "name": "stderr",
     "output_type": "stream",
     "text": [
      " 93%|█████████▎| 466/500 [01:15<00:05,  6.11it/s]"
     ]
    },
    {
     "name": "stdout",
     "output_type": "stream",
     "text": [
      "Vladimir_Ustinov\n",
      "Dustan_Mohr\n",
      "Farouk_Kaddoumi\n"
     ]
    },
    {
     "name": "stderr",
     "output_type": "stream",
     "text": [
      " 94%|█████████▍| 470/500 [01:16<00:04,  7.42it/s]"
     ]
    },
    {
     "name": "stdout",
     "output_type": "stream",
     "text": [
      "Shigeru_Ishiba\n",
      "Peter_Sejna\n",
      "Robert_Tyrrell\n"
     ]
    },
    {
     "name": "stderr",
     "output_type": "stream",
     "text": [
      " 94%|█████████▍| 472/500 [01:16<00:03,  7.88it/s]"
     ]
    },
    {
     "name": "stdout",
     "output_type": "stream",
     "text": [
      "Beyonce_Knowles\n",
      "Brandon_Inge\n"
     ]
    },
    {
     "name": "stderr",
     "output_type": "stream",
     "text": [
      " 95%|█████████▍| 474/500 [01:16<00:03,  8.06it/s]"
     ]
    },
    {
     "name": "stdout",
     "output_type": "stream",
     "text": [
      "Ignatius_Wang\n",
      "Patsy_Kensit\n"
     ]
    },
    {
     "name": "stderr",
     "output_type": "stream",
     "text": [
      " 95%|█████████▌| 476/500 [01:16<00:03,  7.73it/s]"
     ]
    },
    {
     "name": "stdout",
     "output_type": "stream",
     "text": [
      "Keith_Lockhart\n",
      "Spencer_Abraham\n"
     ]
    },
    {
     "name": "stderr",
     "output_type": "stream",
     "text": [
      " 96%|█████████▌| 478/500 [01:18<00:08,  2.61it/s]"
     ]
    },
    {
     "name": "stdout",
     "output_type": "stream",
     "text": [
      "Ronde_Barber\n",
      "Antonio_Palocci\n"
     ]
    },
    {
     "name": "stderr",
     "output_type": "stream",
     "text": [
      " 96%|█████████▌| 479/500 [01:19<00:10,  2.08it/s]"
     ]
    },
    {
     "name": "stdout",
     "output_type": "stream",
     "text": [
      "Desmon_Farmer\n",
      "Dieter_Holzer\n"
     ]
    },
    {
     "name": "stderr",
     "output_type": "stream",
     "text": [
      " 96%|█████████▌| 481/500 [01:19<00:06,  2.98it/s]"
     ]
    },
    {
     "name": "stdout",
     "output_type": "stream",
     "text": [
      "Stacey_Yamaguchi\n"
     ]
    },
    {
     "name": "stderr",
     "output_type": "stream",
     "text": [
      " 97%|█████████▋| 483/500 [01:19<00:04,  3.76it/s]"
     ]
    },
    {
     "name": "stdout",
     "output_type": "stream",
     "text": [
      "Viara_Vike-Freiberga\n",
      "Lokendra_Bahadur_Chand\n"
     ]
    },
    {
     "name": "stderr",
     "output_type": "stream",
     "text": [
      " 97%|█████████▋| 486/500 [01:20<00:02,  5.82it/s]"
     ]
    },
    {
     "name": "stdout",
     "output_type": "stream",
     "text": [
      "Ivan_Shvedoff\n",
      "Dana_Vollmer\n",
      "Bob_Curtis\n"
     ]
    },
    {
     "name": "stderr",
     "output_type": "stream",
     "text": [
      " 98%|█████████▊| 488/500 [01:20<00:01,  6.48it/s]"
     ]
    },
    {
     "name": "stdout",
     "output_type": "stream",
     "text": [
      "John_Burnett\n",
      "Thomas_Cloyd\n"
     ]
    },
    {
     "name": "stderr",
     "output_type": "stream",
     "text": [
      " 98%|█████████▊| 490/500 [01:20<00:01,  7.22it/s]"
     ]
    },
    {
     "name": "stdout",
     "output_type": "stream",
     "text": [
      "Katrin_Cartlidge\n",
      "Horst_Koehler\n"
     ]
    },
    {
     "name": "stderr",
     "output_type": "stream",
     "text": [
      " 98%|█████████▊| 491/500 [01:20<00:01,  5.73it/s]"
     ]
    },
    {
     "name": "stdout",
     "output_type": "stream",
     "text": [
      "Julian_Battle\n",
      "Billy_Crawford\n"
     ]
    },
    {
     "name": "stderr",
     "output_type": "stream",
     "text": [
      " 99%|█████████▉| 494/500 [01:21<00:00,  7.13it/s]"
     ]
    },
    {
     "name": "stdout",
     "output_type": "stream",
     "text": [
      "Carolyn_Kuhl\n",
      "Marc_Gold\n"
     ]
    },
    {
     "name": "stderr",
     "output_type": "stream",
     "text": [
      " 99%|█████████▉| 496/500 [01:21<00:00,  8.06it/s]"
     ]
    },
    {
     "name": "stdout",
     "output_type": "stream",
     "text": [
      "Jerry_Pauley\n",
      "Li_Ka-shing\n"
     ]
    },
    {
     "name": "stderr",
     "output_type": "stream",
     "text": [
      " 99%|█████████▉| 497/500 [01:21<00:00,  7.55it/s]"
     ]
    },
    {
     "name": "stdout",
     "output_type": "stream",
     "text": [
      "Vaclav_Havel\n"
     ]
    },
    {
     "name": "stderr",
     "output_type": "stream",
     "text": [
      "100%|█████████▉| 499/500 [01:22<00:00,  3.33it/s]"
     ]
    },
    {
     "name": "stdout",
     "output_type": "stream",
     "text": [
      "Jorge_Quiroga\n",
      "Manijeh_Hekmat\n"
     ]
    },
    {
     "name": "stderr",
     "output_type": "stream",
     "text": [
      "100%|██████████| 500/500 [01:23<00:00,  6.02it/s]\n"
     ]
    }
   ],
   "source": [
    "players = os.listdir(f'/Users/tayamayuto/Face_recognition_IF/data/{select_data}')\n",
    "\n",
    "for player in tqdm(players[0:500]):\n",
    "    print(player)\n",
    "    player_embeddings, player_names = [], []\n",
    "\n",
    "    img_paths = glob(f'/Users/tayamayuto/Face_recognition_IF/data/{select_data}/{player}/*')\n",
    "    \n",
    "    for img_path in img_paths:\n",
    "        img = cv2.imread(img_path)\n",
    "        if img is None: continue\n",
    "\n",
    "        faces = app_pre.get(np.array(img))\n",
    "        if len(faces) == 0 : continue\n",
    "        player_embeddings.append(faces[0].embedding)\n",
    "        player_names.append(player)\n",
    "\n",
    "        if len(known_embeddings) == 10: break\n",
    "    \n",
    "    player_embeddings = np.stack(player_embeddings, axis=0)\n",
    "    known_embeddings.append(player_embeddings)\n",
    "    known_names += player_names\n",
    "known_embeddings = np.concatenate(known_embeddings, axis=0)\n",
    "        "
   ]
  },
  {
   "cell_type": "code",
   "execution_count": 22,
   "metadata": {},
   "outputs": [
    {
     "name": "stdout",
     "output_type": "stream",
     "text": [
      "Applied providers: ['CPUExecutionProvider'], with options: {'CPUExecutionProvider': {}}\n",
      "find model: /Users/tayamayuto/.insightface/models/models/buffalo_s/1k3d68.onnx landmark_3d_68 ['None', 3, 192, 192] 0.0 1.0\n",
      "Applied providers: ['CPUExecutionProvider'], with options: {'CPUExecutionProvider': {}}\n",
      "find model: /Users/tayamayuto/.insightface/models/models/buffalo_s/2d106det.onnx landmark_2d_106 ['None', 3, 192, 192] 0.0 1.0\n",
      "Applied providers: ['CPUExecutionProvider'], with options: {'CPUExecutionProvider': {}}\n",
      "find model: /Users/tayamayuto/.insightface/models/models/buffalo_s/det_500m.onnx detection [1, 3, '?', '?'] 127.5 128.0\n",
      "Applied providers: ['CPUExecutionProvider'], with options: {'CPUExecutionProvider': {}}\n",
      "find model: /Users/tayamayuto/.insightface/models/models/buffalo_s/genderage.onnx genderage ['None', 3, 96, 96] 0.0 1.0\n",
      "Applied providers: ['CPUExecutionProvider'], with options: {'CPUExecutionProvider': {}}\n",
      "find model: /Users/tayamayuto/.insightface/models/models/buffalo_s/w600k_mbf.onnx recognition ['None', 3, 112, 112] 127.5 127.5\n",
      "set det-size: (640, 640)\n",
      "{'German_Khan': 466.3612, 'Dragan_Covic': 16.707373, 'Jeff_Hornacek': 60.44076, 'Sureyya_Ayhan': 0.0, 'Deb_Santos': 0.0, 'Bob_Newhart': 5.017149, 'Wang_Hailan': 67.27131, 'Paul_McNulty': 0.0, 'Claudia_Pechstein': 0.0, 'Ranil_Wickremasinghe': 1.0484171, 'Ben_Chandler': 42.034134, 'Mark_Komara': 0.0, 'Rand_Beers': 0.0, 'John_Bond': 3.7768483, 'Reginald_Hudlin': 29.695332, 'Mary-Kate_Olsen': 0.0, 'Xiang_Huaicheng': 0.0, 'Phil_Mickelson': 11.1004715, 'Gerry_Kelly': 0.0, 'Salma_Hayek': 19.04147, 'Jim_Edmonds': 0.0, 'Martina_McBride': 3.507024, 'Anthony_Pico': 0.0, 'Jose_Theodore': 42.879375, 'Heidi_Fleiss': 35.107285, 'Mark_Richt': 0.0, 'Mike_Smith': 0.7334957, 'Paul_ONeill': 0.0, 'Horace_Newcomb': 0.0, 'Mohammad_Fares': 33.19025, 'JK_Rowling': 21.142258, 'Shinya_Taniguchi': 57.646095, 'Tony_Curtis': 48.289715, 'Laurie_Pirtle': 16.678495, 'Ray_Sherman': 0.0, 'Nancy_Powell': 18.205803, 'Kathryn_Tucker': 34.959656, 'Gro_Harlem_Brundtland': 11.580528, 'Jacqueline_Marris': 51.679577, 'Mikhail_Gorbachev': 0.42776155, 'Takuma_Sato': 86.81447, 'Ray_Lewis': 0.0, 'Hank_Aaron': 0.0, 'Chip_Knight': 40.001095, 'Ronald_Young_Jr': 38.023273, 'Gustavo_Cisneros': 53.490253, 'Isidro_Pastor': 16.828115, 'Natalie_Williams': 0.0, 'Angela_Lansbury': 0.0, 'Cathy_Freeman': 0.0, 'Milt_Palacio': 0.0, 'Wilbert_Elki_Meza_Majino': 29.738419, 'Jack_Welch': 0.0, 'Nizar_Trabelsi': 0.0, 'Gonzalo_Barrientos': 0.0, 'Jason_Biggs': 0.0, 'Lisa_Leslie': 0.0, 'Tyron_Garner': 43.6258, 'John_Sidgmore': 0.0, 'Alexander_Payne': 4.050268, 'Brad_Brownell': 3.93156, 'John_Duprey': 11.819873, 'Ainsworth_Dyer': 16.774096, 'Christine_Ebersole': 4.1465626, 'Amer_al-Saadi': 37.357567, 'Alison_Lohman': 0.0, 'Duane_Lee_Chapman': 0.0, 'Andre_Smith': 14.987309, 'Iban_Mayo': 89.87919, 'Jeong_Se-hyun': 5.7089863, 'Charles_Rogers': 59.32305, 'Eric_Rosser': 0.0, 'Ziwang_Xu': 0.0, 'Larry_Pleau': 37.340004, 'Bill_Byrne': 87.72461, 'Peter_Gabriel': 22.3494, 'Paul_LeClerc': 20.415806, 'Shawn_Kemp': 0.0, 'Liza_Minnelli': 0.0, 'Toby_Keith': 0.0, 'Horace_Donovan_Reid': 30.681189, 'David_Wells': 0.0, 'Raul_Gonzalez': 0.0, 'Alex_Popov': 0.0, 'Anne_Donovan': 0.0, 'Vin_Diesel': 8.284422, 'Stuart_Whitman': 0.0, 'Jesse_Jackson': 20.519049, 'Valorie_Brabazon': 0.0, 'Rob_Niedermayer': 0.0, 'Lynne_Cheney': 2.0994194, 'Minnie_Mendoza': 0.0, 'Stephane_Rousseau': 48.676643, 'Rita_Wilson': 0.0, 'Terence_Newman': 77.295074, 'Joseph_Biden': 0.0, 'Tommy_Tubberville': 0.0, 'Meles_Zenawi': 62.671436, 'Natasha_Henstridge': 0.0, 'Trevor_McDonald': 0.0, 'Pat_Burns': 30.90715, 'Caroline_Link': 39.153564, 'Clay_Campbell': 12.913258, 'Holly_Hunter': 2.7335918, 'Sophia_Loren': 13.516196, 'Nicolas_Massu': 45.159004, 'Kaisser_Bazan': 122.133965, 'Bryan_Murray': 0.0, 'Francois_Ozon': 0.0, 'Mathias_Reichhold': 7.6726665, 'Whoopi_Goldberg': 66.725586, 'Bill_Cartwright': 0.0, 'Victor_Garber': 3.3047442, 'Jeane_Kirkpatrick': 0.0, 'Sue_Grafton': 19.587494, 'Manuel_Jesus': 18.21009, 'Giovanny_Cordoba': 10.2412615, 'James_Sensenbrenner': 65.60796, 'Jennie_Finch': 0.0, 'David_Westerfield': 42.077003, 'Costas_Simitis': 40.614025, 'Carlos_Iturgaitz': 0.0, 'Mark_Shapiro': 88.609116, 'George_Lopez': 2.419321, 'Taylor_Twellman': 40.267662, 'Peter_Hartz': 0.0, 'Gianna_Angelopoulos-Daskalaki': 6.7171416, 'Beth_Jones': 0.0, 'Brock_Berlin': 0.0, 'James_McPherson': 2.7820773, 'Geoff_Hoon': 79.58632, 'Elizabeth_Hurley': 1.5242984, 'Hipolito_Mejia': 3.0104952, 'Bart_Hendricks': 33.3134, 'David_Brown': 0.0, 'Craig_Burley': 2.3885574, 'Hermogenes_Ebdane_Jr': 50.435257, 'Joey_Harrington': 56.187527, 'Wolfgang_Schwarz': 0.0, 'Saoud_Al_Faisal': 1.4571047, 'Sebastian_Saja': 4.577147, 'Rick_Wagoner': 8.601768, 'Don_Henley': 0.0, 'John_Baldacci': 0.0, 'Dustin_Brown': 0.0, 'Dominic_Monaghan': 0.0, 'Chris_Byrd': 0.0, 'Niall_Connolly': 0.0, 'Richard_Palmer': 63.433598, 'Fazal-ur-Rehman': 22.85446, 'Boris_Jordan': 0.0, 'Charlotte_Rampling': 14.740244, 'Hutomo_Mandala_Putra': 0.0, 'Lars_Burgsmuller': 34.773254, 'Win_Aung': 0.0, 'Billy_Bob_Thornton': 27.33118, 'Brett_Perry': 0.0, 'Linda_Lingle': 10.854219, 'Robert_Ehrlich': 0.0, 'Glenn_Rivers': 0.0, 'David_Howard': 15.497967, 'Ian_Wilmut': 21.679482, 'Queen_Elizabeth_II': 12.047383, 'Ingrid_Betancourt': 16.94907, 'Grady_Irvin_Jr': 0.7170687, 'Peter_Care': 54.574837, 'Prince_Edward': 47.32324, 'Jennifer_Aniston': 29.408072, 'Eric_Schacht': 20.011185, 'Steve_Stirling': 0.0, 'Alberto_Acosta': 16.205078, 'Jim_Zorn': 61.19386, 'Billy_Tibbets': 43.082977, 'Justin_Leonard': 38.469723, 'Steve_Alford': 6.5466976, 'Osmond_Smith': 0.0, 'Miranda_Gaddis': 0.0, 'Geovani_Lapentti': 16.363121, 'Alma_Powell': 0.0, 'Jimmy_Lee': 0.0, 'Shobha_De': 0.0, 'Anil_Ramsook': 0.0, 'Peter_Mullan': 0.0, 'Herman_Moore': 0.0, 'Mark_Martin': 28.999226, 'Din_Samsudin': 0.0, 'Jason_Statham': 0.0, 'Mike_Bair': 44.446224, 'Yana_Klochkova': 0.0, 'Doug_Racine': 97.792984, 'Chan_Ho_Park': 0.0, 'Elena_Likhovtseva': 0.0, 'Paul_Ebert': 0.0, 'Anita_DeFrantz': 15.023909, 'Lee_Nam-shin': 34.100815, 'Crispin_Glover': 0.06743622, 'Kevin_Marshall': 5.2783666, 'Sven_Ottke': 0.0, 'Raf_Vallone': 0.0, 'Nick_Reilly': 31.768633, 'Bob_Huggins': 77.34965, 'David_Zeplowitz': 6.3723087, 'Tayshaun_Prince': 0.0, 'Emmanuelle_Jagodsinski': 0.0, 'Lyle_Vanclief': 23.776628, 'Paula_Locke': 0.0, 'James_Mathis': 0.0, 'Lou_Piniella': 8.791402, 'Soenarno': 9.489488, 'Tara_Reid': 2.769165, 'Christian_Von_Wernich': 0.0, 'Jacques_Rogge': 0.0, 'Nawabzada_Nasrullah_Khan': 45.743206, 'Catherine_Donkers': 71.80284, 'Agnelo_Queiroz': 0.0, 'Henry_Hilow': 0.0, 'Eric_Hinske': 0.0, 'Chris_Cornell': 0.0, 'Bonnie_Fuller': 0.0, 'Matt_Morris': 21.673702, 'Harbhajan_Singh': 0.0, 'Kim_Dong-hwa': 0.0, 'Tim_Matheson': 6.046871, 'Dick_Smothers': 0.0, 'Jia_Qinglin': 0.0, 'Gerald_Calabrese': 24.181927, 'Rowan_Williams': 25.830864, 'Peter_Goldmark': 14.6756735, 'Brian_Van_Dusen': 0.0, 'Osama_bin_Laden': 21.36641, 'Stanley_McChrystal': 21.127611, 'Carlos_Ghosn': 50.220245, 'Jean_Todt': 49.15242, 'Wally_Szczerbiak': 15.955867, 'Zara_Akhmadova': 62.296207, 'Donald_Keck': 32.863434, 'Andy_Roddick': 30.043388, 'John_Paul_II': 42.016228, 'Paul_Tracy': 0.0, 'Ismail_Khan': 18.848541, 'Svetislav_Pesic': 94.83924, 'Sven_Goran_Eriksson': 5.65264, 'Aline_Chretien': 11.1869955, 'Jeffery_Hendren': 0.0, 'Ian_Huntley': 0.0, 'Andrew_Luster': 66.0444, 'Emilio_Azcarraga_Jean': 40.443718, 'Wilbert_Foy': 0.0, 'Pham_Thi_Mai_Phuong': 1.1749177, 'William_McDonough': 0.0, 'Linda_Franklin': 9.251384, 'Liane_Janda': 0.0, 'Jana_Pittman': 1.5593152, 'Leuris_Pupo': 0.0, 'Martin_Sheen': 28.155563, 'Lisa_Girman': 21.943138, 'Brian_Clemens': 0.0, 'Larry_Donald': 0.0, 'Colleen_Ryan': 0.0, 'Max_Baucus': 0.0, 'Bill_Sizemore': 8.360469, 'Sandra_Day_OConner': 0.0, 'Mirela_Manjani': 0.0, 'Estella_Warren': 0.0, 'Zoran_Djindjic': 28.25629, 'Nate_Hybl': 36.73782, 'Ed_Case': 14.39085, 'Stephen_Funk': 2.1599555, 'John_McEnroe': 62.405212, 'Walter_Mondale': 2.8944793, 'Diana_Krall': 0.18312423, 'Heather_Willson': 0.0, 'Felipe_De_Borbon': 24.615444, 'Carolina_Moraes': 31.334328, 'Ali_Mohammed_Maher': 0.0, 'Rick_Husband': 113.44828, 'Stephanie_Zimbalist': 4.39974, 'Shanna_Zolman': 9.552208, 'Isaiah_Washington': 33.071533, 'Edgar_Savisaar': 33.0274, 'Dave_Tucker': 9.667967, 'Brandon_Larson': 0.0, 'Phoenix_Chang': 0.0, 'Penelope_Ann_Miller': 0.0, 'Natalie_Juniardi': 0.0, 'Ted_Maher': 15.349813, 'Noor_Mohammed': 77.61005, 'Walt_Harris': 0.0, 'Olivera_Labus': 21.171162, 'Stephen_Covey': 13.934654, 'Woodrow_Stanley': 0.0, 'Yuvraj_Singh': 0.0, 'Bobby_Bowden': 0.0, 'Hussein_Malik': 0.0, 'Tom_Hanks': 35.236565, 'Gary_Gitnick': 34.701912, 'Mike_Richter': 17.167238, 'Luke_Walton': 10.371525, 'Denys_Arcand': 0.0, 'Bill_Butler': 0.0, 'Michael_Goldrich': 54.082436, 'Yekaterina_Guseva': 3.2560225, 'Darren_Clarke': 19.547554, 'Intisar_Ajouri': 53.55133, 'Cristiano_da_Matta': 0.0, 'Hugh_Carey': 0.0, 'Danny_Glover': 0.0, 'Peter_Hunt': 0.0, 'Steven_Feldman': 0.0, 'Dinah_Turner': 0.0, 'Rosny_Desroches': 25.4423, 'Cosmo_Iacavazzi': 0.0, 'Daniel_Day-Lewis': 49.502483, 'Robert_Wiener': 0.0, 'Derrick_Battie': 14.32173, 'Candice_Beatty': 0.04791355, 'Gerald_Riley': 74.56247, 'Julie_Andrews': 0.0, 'Jean-Marc_de_La_Sabliere': 0.0, 'Zhang_Ziyi': 2.5297468, 'Kurt_Busch': 42.490814, 'Roberto_Lavagna': 0.0, 'Dick_Cheney': 0.0, 'Hamza_Atiya_Muhsen': 14.842043, 'David_Hilt': 53.321037, 'Susan_Walvius': 0.0, 'Kim_Weeks': 0.0, 'Darryl_Stingley': 0.0, 'Colin_Prescot': 0.0, 'Felix_Mantilla': 67.023766, 'Frank_Van_Ecke': 0.0, 'Mike_Sherman': 0.0, 'David_Myers': 0.0, 'Guillermo_Ruiz_Polanco': 41.125683, 'Ken_Loach': 19.751049, 'Robert_Flodquist': 56.004883, 'Ben_Lee': 70.289474, 'Aung_San_Suu_Kyi': 27.132107, 'Keith_Brown': 20.707685, 'Thomas_Gottschalk': 0.0, 'Shae-Lynn_Bourne': 72.001114, 'Bob_Sulkin': 36.74537, 'Chakib_Khelil': 0.0, 'Robert_Wagner': 0.0, 'William_Cocksedge': 31.475368, 'Giselle_Estefania_Tavarelli': 0.0, 'Lorne_Michaels': 0.0, 'Ricky_Barnes': 43.00853, 'Laura_Ziskin': 0.0, 'Ray_Evernham': 18.42363, 'Pedro_Velasquez': 14.734804, 'Marion_Fahnestock': 27.010948, 'Jane_Pauley': 3.3548803, 'Bernardo_Segura': 0.0, 'Padraig_Harrington': 21.437834, 'Luke_Smith': 0.0, 'Jeffrey_Pfeffer': 32.833344, 'Brandon_Boyd': 0.0, 'Jim_Jeffords': 37.413185, 'Claudio_Abbado': 84.82808, 'Chen_Liang_Yu': 3.877293, 'Maura_Tierney': 0.0, 'John_Danforth': 0.0, 'Cheryl_Hines': 69.124664, 'Timothy_Goebel': 36.873, 'Frank_Sinatra': 0.0, 'Marissa_Jaret_Winokur': 0.7585745, 'Masamori_Tokuyama': 0.0, 'Bill_Rainer': 44.354374, 'Ken_Watanabe': 8.644209, 'Kimora_Lee': 69.31108, 'Sanjay_Gupta': 0.0, 'Gary_Locke': 0.0, 'Sinead_OConnor': 19.397797, 'James_W_Kennedy': 0.0, 'Kurt_Suzuki': 0.0, 'Frederick_Madden': 0.0, 'Priscilla_Owen': 13.297859, 'Malcolm_Jamal_Warner': 0.0, 'Naoto_Kan': 37.529224, 'Sue_Guevara': 0.0, 'John_Sweeney': 0.0, 'Brian_Cashman': 0.0, 'Marco_Pantani': 32.254395, 'Theodore_Tweed_Roosevelt': 21.484163, 'Se_Hyuk_Joo': 16.475384, 'Ian_Moran': 0.0, 'Michael_Olowokandi': 53.8186, 'James_Brosnahan': 0.0, 'Kevin_Nealon': 26.697002, 'Miguel_Estrada': 15.213896, 'Alison_Krauss': 0.0, 'Bill_Callahan': 13.867457, 'Allison_Searing': 0.0, 'Torri_Edwards': 16.596155, 'Bryan_Thomas': 0.0, 'Kathy_Baker': 45.79838, 'Martha_Stewart': 0.0, 'William_Hurt': 50.872086, 'Serge_Tchuruk': 0.0, 'Michael_Brandon': 12.423394, 'Adam_Sandler': 0.0, 'Sam_Gerald': 1.2924943, 'Laura_Linney': 8.763535, 'Aitor_Gonzalez': 8.174358, 'Hamzah_Haz': 10.095826, 'James_Young': 0.065618515, 'Misty_Dawn_Clymer': 0.0, 'Bronson_Arroyo': 4.4320154, 'Curtis_Rodriguez': 18.622953, 'Paul_Burrell': 24.127317, 'Jennie_Garth': 0.0, 'Irina_Yatchenko': 44.857925, 'Don_Matthews': 26.87317, 'David_Eldon': 46.702934, 'Christian_Wulff': 32.14473, 'Paul_Byrd': 8.624609, 'Derek_Bond': 6.8575664, 'Wolfgang_Clement': 22.041615, 'Carol_Williams': 0.0, 'John_Goold': 0.0, 'Mesut_Yilmaz': 25.684492, 'John_Dallager': 91.86035, 'Cecile_de_France': 0.0, 'Adrian_Fernandez': 0.0, 'Alan_Greer': 0.0, 'Mike_Babcock': 0.0, 'Casy_Preslar': 0.0, 'Giuseppe_Gibilisco': 0.7999642, 'Wesley_Clark': 9.169676, 'Tom_Osborne': 59.435623, 'Robert_Mueller': 5.5328054, 'Keith_Urban': 77.94931, 'Steve_Cox': 10.768002, 'Carly_Fiorina': 0.89178663, 'Irv_Nathan': 0.0, 'Goh_Kun': 47.153587, 'Imam_Samudra': 5.443495, 'Leon_Barmore': 44.00142, 'Martha_Beatriz_Roque': 14.478867, 'Lope_Mendoza': 35.597336, 'Roberto_Benigni': 9.103178, 'Vincent_Sombrotto': 0.0, 'Scott_Rudin': 93.1299, 'Jesus_Cardenal': 0.0, 'Kimi_Raikkonen': 0.0, 'Warren_Beatty': 15.501612, 'Sherri_Coale': 7.769253, 'Matt_Roney': 0.0, 'Michelle_Branch': 4.288937, 'Teresa_Graves': 1.7018223, 'Michel_Temer': 30.758003, 'Benazir_Bhutto': 6.662088, 'Uday_Hussein': 2.35185, 'Brad_Russ': 31.02956, 'Gracia_Burnham': 54.376236, 'James_Watt': 0.0, 'Reggie_Sanders': 54.026726, 'Orrin_Hatch': 0.0, 'Howard_Schultz': 48.467033, 'Piers_Sellers': 0.0, 'Doug_Christie': 13.570311, 'Larry_Harris': 0.0, 'Lin_Yung_Hsi': 39.319298, 'Abdullah_al-Attiyah': 60.327847, 'Vladimir_Ustinov': 15.604799, 'Dustan_Mohr': 0.0, 'Farouk_Kaddoumi': 4.667778, 'Shigeru_Ishiba': 0.0, 'Peter_Sejna': 6.8995857, 'Robert_Tyrrell': 0.0, 'Beyonce_Knowles': 29.465921, 'Brandon_Inge': 0.0, 'Ignatius_Wang': 0.0, 'Patsy_Kensit': 0.0, 'Keith_Lockhart': 0.0, 'Spencer_Abraham': 19.482046, 'Ronde_Barber': 40.5864, 'Antonio_Palocci': 17.4371, 'Desmon_Farmer': 24.909073, 'Dieter_Holzer': 5.6250186, 'Stacey_Yamaguchi': 23.065151, 'Viara_Vike-Freiberga': 0.0, 'Lokendra_Bahadur_Chand': 37.11534, 'Ivan_Shvedoff': 0.0, 'Dana_Vollmer': 51.720566, 'Bob_Curtis': 0.0, 'John_Burnett': 0.0, 'Thomas_Cloyd': 31.110825, 'Katrin_Cartlidge': 33.731953, 'Horst_Koehler': 42.95279, 'Julian_Battle': 0.0, 'Billy_Crawford': 0.0, 'Carolyn_Kuhl': 0.0, 'Marc_Gold': 29.563446, 'Jerry_Pauley': 0.0, 'Li_Ka-shing': 24.844975, 'Vaclav_Havel': 56.820206, 'Jorge_Quiroga': 0.0, 'Manijeh_Hekmat': 89.92044}\n"
     ]
    }
   ],
   "source": [
    "img_path = '/Users/tayamayuto/Face_recognition_IF/data/lfw/German_Khan/German_Khan_0001.jpg'\n",
    "\n",
    "img = cv2.imread(img_path)\n",
    "\n",
    "app = FaceAnalysis(name='buffalo_s',root='~/.insightface/models/')\n",
    "app.prepare(ctx_id=0, det_size=(640, 640))\n",
    "\n",
    "faces = app.get(np.array(img))\n",
    "\n",
    "unknown_embeddings = []\n",
    "for i in range(len(faces)):\n",
    "    unknown_embeddings.append(faces[i].embedding)\n",
    "\n",
    "pred_names = judge_sim(known_embeddings, known_names, unknown_embeddings, 95)\n"
   ]
  },
  {
   "cell_type": "code",
   "execution_count": 23,
   "metadata": {},
   "outputs": [
    {
     "name": "stdout",
     "output_type": "stream",
     "text": [
      "['German_Khan']\n"
     ]
    }
   ],
   "source": [
    "print(pred_names)"
   ]
  },
  {
   "cell_type": "code",
   "execution_count": 24,
   "metadata": {},
   "outputs": [
    {
     "data": {
      "image/jpeg": "[encoded data removed]",
      "text/plain": [
       "<IPython.core.display.Image object>"
      ]
     },
     "metadata": {},
     "output_type": "display_data"
    }
   ],
   "source": [
    "detect = draw_on(img, faces, pred_names)\n",
    "\n",
    "#cv2.imwrite('/Users/tayamayuto/Face_recognition_IF/data/output/4_men.jpeg', detect)\n",
    "\n",
    "_, buf = cv2.imencode(\".jpg\", detect)\n",
    "display(Image(data=buf.tobytes()))"
   ]
  }
 ],
 "metadata": {
  "kernelspec": {
   "display_name": "face_env",
   "language": "python",
   "name": "python3"
  },
  "language_info": {
   "codemirror_mode": {
    "name": "ipython",
    "version": 3
   },
   "file_extension": ".py",
   "mimetype": "text/x-python",
   "name": "python",
   "nbconvert_exporter": "python",
   "pygments_lexer": "ipython3",
   "version": "3.10.6"
  },
  "orig_nbformat": 4
 },
 "nbformat": 4,
 "nbformat_minor": 2
}
