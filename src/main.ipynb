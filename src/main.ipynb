{
 "cells": [
  {
   "cell_type": "code",
   "execution_count": 108,
   "metadata": {},
   "outputs": [],
   "source": [
    "import numpy as np\n",
    "import os\n",
    "import cv2\n",
    "from insightface.app import FaceAnalysis\n",
    "from glob import glob\n",
    "from tqdm import tqdm\n",
    "from collections import defaultdict\n",
    "from PIL import Image\n",
    "from IPython.display import display, Image"
   ]
  },
  {
   "cell_type": "code",
   "execution_count": 120,
   "metadata": {},
   "outputs": [],
   "source": [
    "def get_averages(names, scores):\n",
    "    d = defaultdict(list)\n",
    "    for n, s in zip(names, scores):\n",
    "        d[n].append(s)\n",
    "\n",
    "    averages = {}\n",
    "    for n, s in d.items():\n",
    "        averages[n] = np.mean(s)\n",
    "    return averages\n",
    "\n",
    "def judge_sim(known_embeddings, known_names, unknown_embeddings, threshold):\n",
    "    pred_names = []\n",
    "    for emb in unknown_embeddings:\n",
    "        scores = np.dot(emb, known_embeddings.T)\n",
    "        scores = np.clip(scores, 0., None)\n",
    "\n",
    "        averages = get_averages(known_names, scores)\n",
    "        pred = sorted(averages, key=lambda x: averages[x], reverse=True)[0]\n",
    "        print(averages)\n",
    "        score = averages[pred]\n",
    "\n",
    "        if score > threshold:\n",
    "            pred_names.append(pred)\n",
    "        else:\n",
    "            pred_names.append(None)\n",
    "    \n",
    "    return pred_names\n",
    "\n",
    "def draw_on(img, faces, name):\n",
    "    dimg = img.copy()\n",
    "    for i in range(len(faces)):\n",
    "        face = faces[i]\n",
    "        box = face.bbox.astype(int)\n",
    "        color = (0, 0, 255)\n",
    "        cv2.rectangle(dimg, (box[0], box[1]), (box[2], box[3]), color, 2)\n",
    "        if face.kps is not None:\n",
    "            kps = face.kps.astype(int)\n",
    "            #print(landmark.shape)\n",
    "            for l in range(kps.shape[0]):\n",
    "                color = (0, 0, 255)\n",
    "                if l == 0 or l == 3:\n",
    "                    color = (0, 255, 0)\n",
    "                cv2.circle(dimg, (kps[l][0], kps[l][1]), 1, color, 2)\n",
    "        cv2.putText(dimg, name[i], (box[0]-1, box[1]-4),cv2.FONT_HERSHEY_COMPLEX,0.7,(0,255,0),1)\n",
    "\n",
    "    return dimg"
   ]
  },
  {
   "cell_type": "code",
   "execution_count": 110,
   "metadata": {},
   "outputs": [
    {
     "name": "stdout",
     "output_type": "stream",
     "text": [
      "Applied providers: ['CPUExecutionProvider'], with options: {'CPUExecutionProvider': {}}\n",
      "find model: /Users/tayamayuto/.insightface/models/models/buffalo_s/1k3d68.onnx landmark_3d_68 ['None', 3, 192, 192] 0.0 1.0\n",
      "Applied providers: ['CPUExecutionProvider'], with options: {'CPUExecutionProvider': {}}\n",
      "find model: /Users/tayamayuto/.insightface/models/models/buffalo_s/2d106det.onnx landmark_2d_106 ['None', 3, 192, 192] 0.0 1.0\n",
      "Applied providers: ['CPUExecutionProvider'], with options: {'CPUExecutionProvider': {}}\n",
      "find model: /Users/tayamayuto/.insightface/models/models/buffalo_s/det_500m.onnx detection [1, 3, '?', '?'] 127.5 128.0\n",
      "Applied providers: ['CPUExecutionProvider'], with options: {'CPUExecutionProvider': {}}\n",
      "find model: /Users/tayamayuto/.insightface/models/models/buffalo_s/genderage.onnx genderage ['None', 3, 96, 96] 0.0 1.0\n",
      "Applied providers: ['CPUExecutionProvider'], with options: {'CPUExecutionProvider': {}}\n",
      "find model: /Users/tayamayuto/.insightface/models/models/buffalo_s/w600k_mbf.onnx recognition ['None', 3, 112, 112] 127.5 127.5\n",
      "set det-size: (640, 640)\n"
     ]
    }
   ],
   "source": [
    "known_names = []\n",
    "known_embeddings = []\n",
    "app_pre = FaceAnalysis(name='buffalo_s',root='~/.insightface/models/')\n",
    "app_pre.prepare(ctx_id=0, det_size=(640, 640))"
   ]
  },
  {
   "cell_type": "code",
   "execution_count": 111,
   "metadata": {},
   "outputs": [],
   "source": [
    "select_data = 'lfw'"
   ]
  },
  {
   "cell_type": "code",
   "execution_count": 112,
   "metadata": {},
   "outputs": [
    {
     "name": "stderr",
     "output_type": "stream",
     "text": [
      "  0%|          | 0/606 [00:00<?, ?it/s]"
     ]
    },
    {
     "name": "stdout",
     "output_type": "stream",
     "text": [
      "Salma_Hayek\n"
     ]
    },
    {
     "name": "stderr",
     "output_type": "stream",
     "text": [
      "  0%|          | 3/606 [00:01<03:51,  2.61it/s]"
     ]
    },
    {
     "name": "stdout",
     "output_type": "stream",
     "text": [
      "Shinya_Taniguchi\n",
      "Jacqueline_Marris\n",
      "Hank_Aaron\n"
     ]
    },
    {
     "name": "stderr",
     "output_type": "stream",
     "text": [
      "  1%|          | 5/606 [00:01<02:35,  3.87it/s]"
     ]
    },
    {
     "name": "stdout",
     "output_type": "stream",
     "text": [
      "Cathy_Freeman\n",
      "Nizar_Trabelsi\n"
     ]
    },
    {
     "name": "stderr",
     "output_type": "stream",
     "text": [
      "  1%|          | 6/606 [00:01<02:09,  4.62it/s]"
     ]
    },
    {
     "name": "stdout",
     "output_type": "stream",
     "text": [
      "Alison_Lohman\n"
     ]
    },
    {
     "name": "stderr",
     "output_type": "stream",
     "text": [
      "  1%|          | 7/606 [00:02<02:13,  4.49it/s]"
     ]
    },
    {
     "name": "stdout",
     "output_type": "stream",
     "text": [
      "Duane_Lee_Chapman\n"
     ]
    },
    {
     "name": "stderr",
     "output_type": "stream",
     "text": [
      "  1%|▏         | 9/606 [00:02<02:00,  4.96it/s]"
     ]
    },
    {
     "name": "stdout",
     "output_type": "stream",
     "text": [
      "Andre_Smith\n",
      "Charles_Rogers\n"
     ]
    },
    {
     "name": "stderr",
     "output_type": "stream",
     "text": [
      "  2%|▏         | 11/606 [00:02<01:30,  6.61it/s]"
     ]
    },
    {
     "name": "stdout",
     "output_type": "stream",
     "text": [
      "Anne_Donovan\n",
      "Caroline_Link\n",
      "Bryan_Murray\n"
     ]
    },
    {
     "name": "stderr",
     "output_type": "stream",
     "text": [
      "  2%|▏         | 13/606 [00:02<01:11,  8.30it/s]"
     ]
    },
    {
     "name": "stdout",
     "output_type": "stream",
     "text": [
      "Mathias_Reichhold\n"
     ]
    },
    {
     "name": "stderr",
     "output_type": "stream",
     "text": [
      "  3%|▎         | 16/606 [00:03<01:20,  7.37it/s]"
     ]
    },
    {
     "name": "stdout",
     "output_type": "stream",
     "text": [
      "Bill_Cartwright\n",
      "Manuel_Jesus\n",
      "James_Sensenbrenner\n"
     ]
    },
    {
     "name": "stderr",
     "output_type": "stream",
     "text": [
      "  3%|▎         | 18/606 [00:03<01:20,  7.31it/s]"
     ]
    },
    {
     "name": "stdout",
     "output_type": "stream",
     "text": [
      "Carlos_Iturgaitz\n",
      "Lars_Burgsmuller\n"
     ]
    },
    {
     "name": "stderr",
     "output_type": "stream",
     "text": [
      "  3%|▎         | 20/606 [00:03<01:07,  8.64it/s]"
     ]
    },
    {
     "name": "stdout",
     "output_type": "stream",
     "text": [
      "Alma_Powell\n",
      "Shobha_De\n",
      "Anita_DeFrantz\n"
     ]
    },
    {
     "name": "stderr",
     "output_type": "stream",
     "text": [
      "  4%|▍         | 24/606 [00:04<01:04,  9.04it/s]"
     ]
    },
    {
     "name": "stdout",
     "output_type": "stream",
     "text": [
      "Raf_Vallone\n",
      "Chris_Cornell\n",
      "Matt_Morris\n"
     ]
    },
    {
     "name": "stderr",
     "output_type": "stream",
     "text": [
      "  4%|▍         | 25/606 [00:04<01:03,  9.14it/s]"
     ]
    },
    {
     "name": "stdout",
     "output_type": "stream",
     "text": [
      "Carlos_Ghosn\n"
     ]
    },
    {
     "name": "stderr",
     "output_type": "stream",
     "text": [
      "  5%|▍         | 28/606 [00:04<01:12,  8.02it/s]"
     ]
    },
    {
     "name": "stdout",
     "output_type": "stream",
     "text": [
      "Aline_Chretien\n",
      "Andrew_Luster\n",
      "Bill_Sizemore\n"
     ]
    },
    {
     "name": "stderr",
     "output_type": "stream",
     "text": [
      "  5%|▌         | 31/606 [00:05<01:10,  8.19it/s]"
     ]
    },
    {
     "name": "stdout",
     "output_type": "stream",
     "text": [
      "Felipe_De_Borbon\n",
      "Noor_Mohammed\n",
      "Gary_Gitnick\n"
     ]
    },
    {
     "name": "stderr",
     "output_type": "stream",
     "text": [
      "  5%|▌         | 33/606 [00:05<01:11,  7.97it/s]"
     ]
    },
    {
     "name": "stdout",
     "output_type": "stream",
     "text": [
      "Hugh_Carey\n",
      "Rosny_Desroches\n"
     ]
    },
    {
     "name": "stderr",
     "output_type": "stream",
     "text": [
      "  6%|▌         | 35/606 [00:05<01:02,  9.07it/s]"
     ]
    },
    {
     "name": "stdout",
     "output_type": "stream",
     "text": [
      "Julie_Andrews\n",
      "Padraig_Harrington\n"
     ]
    },
    {
     "name": "stderr",
     "output_type": "stream",
     "text": [
      "  6%|▌         | 36/606 [00:05<01:29,  6.34it/s]"
     ]
    },
    {
     "name": "stdout",
     "output_type": "stream",
     "text": [
      "Chen_Liang_Yu\n"
     ]
    },
    {
     "name": "stderr",
     "output_type": "stream",
     "text": [
      "  6%|▋         | 38/606 [00:06<01:38,  5.74it/s]"
     ]
    },
    {
     "name": "stdout",
     "output_type": "stream",
     "text": [
      "Allison_Searing\n",
      "Laura_Linney\n"
     ]
    },
    {
     "name": "stderr",
     "output_type": "stream",
     "text": [
      "  7%|▋         | 40/606 [00:06<01:53,  4.99it/s]"
     ]
    },
    {
     "name": "stdout",
     "output_type": "stream",
     "text": [
      "Cecile_de_France\n",
      "Adrian_Fernandez\n"
     ]
    },
    {
     "name": "stderr",
     "output_type": "stream",
     "text": [
      "  7%|▋         | 42/606 [00:07<01:33,  6.01it/s]"
     ]
    },
    {
     "name": "stdout",
     "output_type": "stream",
     "text": [
      "Casy_Preslar\n",
      "Matt_Roney\n"
     ]
    },
    {
     "name": "stderr",
     "output_type": "stream",
     "text": [
      "  7%|▋         | 44/606 [00:07<01:27,  6.44it/s]"
     ]
    },
    {
     "name": "stdout",
     "output_type": "stream",
     "text": [
      "Howard_Schultz\n",
      "Shigeru_Ishiba\n"
     ]
    },
    {
     "name": "stderr",
     "output_type": "stream",
     "text": [
      "  8%|▊         | 47/606 [00:07<01:09,  8.03it/s]"
     ]
    },
    {
     "name": "stdout",
     "output_type": "stream",
     "text": [
      "Beyonce_Knowles\n",
      "Ivan_Shvedoff\n",
      "Carolyn_Kuhl\n"
     ]
    },
    {
     "name": "stderr",
     "output_type": "stream",
     "text": [
      "  8%|▊         | 49/606 [00:07<01:02,  8.89it/s]"
     ]
    },
    {
     "name": "stdout",
     "output_type": "stream",
     "text": [
      "Adisai_Bodharamik\n",
      "Cynthia_Rowley\n"
     ]
    },
    {
     "name": "stderr",
     "output_type": "stream",
     "text": [
      "  8%|▊         | 51/606 [00:08<01:02,  8.88it/s]"
     ]
    },
    {
     "name": "stdout",
     "output_type": "stream",
     "text": [
      "Shinzo_Abe\n",
      "Dan_Monson\n",
      "Ruth_Stubbs\n"
     ]
    },
    {
     "name": "stderr",
     "output_type": "stream",
     "text": [
      "  9%|▉         | 54/606 [00:08<00:57,  9.56it/s]"
     ]
    },
    {
     "name": "stdout",
     "output_type": "stream",
     "text": [
      "James_McMahon\n",
      "BJ_Habibie\n"
     ]
    },
    {
     "name": "stderr",
     "output_type": "stream",
     "text": [
      "  9%|▉         | 56/606 [00:08<01:04,  8.53it/s]"
     ]
    },
    {
     "name": "stdout",
     "output_type": "stream",
     "text": [
      "Ali_Ahmeti\n",
      "Humberto_Espinoza\n",
      "Aram_Adler\n"
     ]
    },
    {
     "name": "stderr",
     "output_type": "stream",
     "text": [
      " 10%|▉         | 58/606 [00:08<01:06,  8.19it/s]"
     ]
    },
    {
     "name": "stdout",
     "output_type": "stream",
     "text": [
      "Luis_Horna\n"
     ]
    },
    {
     "name": "stderr",
     "output_type": "stream",
     "text": [
      " 10%|▉         | 59/606 [00:09<01:48,  5.05it/s]"
     ]
    },
    {
     "name": "stdout",
     "output_type": "stream",
     "text": [
      "Larry_Wilmore\n",
      "Alvaro_Uribe\n"
     ]
    },
    {
     "name": "stderr",
     "output_type": "stream",
     "text": [
      " 10%|█         | 62/606 [00:12<05:49,  1.56it/s]"
     ]
    },
    {
     "name": "stdout",
     "output_type": "stream",
     "text": [
      "Monica_Gabrielle\n",
      "Stacey_Jones\n"
     ]
    },
    {
     "name": "stderr",
     "output_type": "stream",
     "text": [
      " 11%|█         | 64/606 [00:12<03:49,  2.36it/s]"
     ]
    },
    {
     "name": "stdout",
     "output_type": "stream",
     "text": [
      "Damarius_Bilbo\n",
      "Ana_Claudia_Talancon\n",
      "Eddie_Sutton\n"
     ]
    },
    {
     "name": "stderr",
     "output_type": "stream",
     "text": [
      " 11%|█         | 66/606 [00:13<02:51,  3.15it/s]"
     ]
    },
    {
     "name": "stdout",
     "output_type": "stream",
     "text": [
      "Cesar_Gaviria\n"
     ]
    },
    {
     "name": "stderr",
     "output_type": "stream",
     "text": [
      " 11%|█         | 67/606 [00:13<03:34,  2.52it/s]"
     ]
    },
    {
     "name": "stdout",
     "output_type": "stream",
     "text": [
      "Bulent_Ecevit\n"
     ]
    },
    {
     "name": "stderr",
     "output_type": "stream",
     "text": [
      " 11%|█         | 68/606 [00:14<03:47,  2.36it/s]"
     ]
    },
    {
     "name": "stdout",
     "output_type": "stream",
     "text": [
      "Hubie_Brown\n",
      "Kurt_Warner\n"
     ]
    },
    {
     "name": "stderr",
     "output_type": "stream",
     "text": [
      " 12%|█▏        | 72/606 [00:15<02:21,  3.76it/s]"
     ]
    },
    {
     "name": "stdout",
     "output_type": "stream",
     "text": [
      "Luis_Guzman\n",
      "Carlos_Fasciolo\n",
      "Gustavo_Noboa\n"
     ]
    },
    {
     "name": "stderr",
     "output_type": "stream",
     "text": [
      " 12%|█▏        | 74/606 [00:15<01:47,  4.96it/s]"
     ]
    },
    {
     "name": "stdout",
     "output_type": "stream",
     "text": [
      "Jacqueline_Edwards\n",
      "Jake_Brace\n",
      "Dagmar_Dunlevy\n"
     ]
    },
    {
     "name": "stderr",
     "output_type": "stream",
     "text": [
      " 13%|█▎        | 76/606 [00:15<01:25,  6.18it/s]"
     ]
    },
    {
     "name": "stdout",
     "output_type": "stream",
     "text": [
      "Andrew_Weissmann\n"
     ]
    },
    {
     "name": "stderr",
     "output_type": "stream",
     "text": [
      " 13%|█▎        | 78/606 [00:16<01:48,  4.88it/s]"
     ]
    },
    {
     "name": "stdout",
     "output_type": "stream",
     "text": [
      "David_Chase\n",
      "Bob_nox\n"
     ]
    },
    {
     "name": "stderr",
     "output_type": "stream",
     "text": [
      " 13%|█▎        | 80/606 [00:16<01:22,  6.35it/s]"
     ]
    },
    {
     "name": "stdout",
     "output_type": "stream",
     "text": [
      "Andres_Manuel_Lopez_Obrador\n",
      "Paddy_Long\n",
      "Cemil_Cicek\n"
     ]
    },
    {
     "name": "stderr",
     "output_type": "stream",
     "text": [
      " 14%|█▎        | 82/606 [00:16<01:08,  7.64it/s]"
     ]
    },
    {
     "name": "stdout",
     "output_type": "stream",
     "text": [
      "Filippo_Inzaghi\n"
     ]
    },
    {
     "name": "stderr",
     "output_type": "stream",
     "text": [
      " 14%|█▍        | 85/606 [00:16<01:05,  7.95it/s]"
     ]
    },
    {
     "name": "stdout",
     "output_type": "stream",
     "text": [
      "Malak_Habbak\n",
      "Mike_Johanns\n",
      "Anja_Paerson\n"
     ]
    },
    {
     "name": "stderr",
     "output_type": "stream",
     "text": [
      " 14%|█▍        | 87/606 [00:17<00:59,  8.78it/s]"
     ]
    },
    {
     "name": "stdout",
     "output_type": "stream",
     "text": [
      "Andres_Pastrana\n",
      "Karen_Mok\n"
     ]
    },
    {
     "name": "stderr",
     "output_type": "stream",
     "text": [
      " 15%|█▍        | 88/606 [00:17<01:15,  6.88it/s]"
     ]
    },
    {
     "name": "stdout",
     "output_type": "stream",
     "text": [
      "Oleksandr_Moroz\n"
     ]
    },
    {
     "name": "stderr",
     "output_type": "stream",
     "text": [
      " 15%|█▌        | 91/606 [00:17<01:06,  7.70it/s]"
     ]
    },
    {
     "name": "stdout",
     "output_type": "stream",
     "text": [
      "Daniel_Barenboim\n",
      "Agnes_Bruckner\n",
      "Barbara_Brezigar\n"
     ]
    },
    {
     "name": "stderr",
     "output_type": "stream",
     "text": [
      " 16%|█▌        | 94/606 [00:17<00:58,  8.79it/s]"
     ]
    },
    {
     "name": "stdout",
     "output_type": "stream",
     "text": [
      "Kurt_Thomas\n",
      "Allan_Kemakeza\n",
      "Dan_LaCoutre\n"
     ]
    },
    {
     "name": "stderr",
     "output_type": "stream",
     "text": [
      " 16%|█▌        | 97/606 [00:18<00:52,  9.66it/s]"
     ]
    },
    {
     "name": "stdout",
     "output_type": "stream",
     "text": [
      "Anna_Chicherova\n",
      "Ian_Campbell\n",
      "Lachlan_Murdoch\n"
     ]
    },
    {
     "name": "stderr",
     "output_type": "stream",
     "text": [
      " 16%|█▋        | 99/606 [00:18<00:48, 10.48it/s]"
     ]
    },
    {
     "name": "stdout",
     "output_type": "stream",
     "text": [
      "Jamie_Carey\n",
      "Andrew_Shutley\n"
     ]
    },
    {
     "name": "stderr",
     "output_type": "stream",
     "text": [
      " 17%|█▋        | 101/606 [00:18<00:56,  8.89it/s]"
     ]
    },
    {
     "name": "stdout",
     "output_type": "stream",
     "text": [
      "Billy_Graham\n",
      "Kirsten_Dunst\n"
     ]
    },
    {
     "name": "stderr",
     "output_type": "stream",
     "text": [
      " 17%|█▋        | 103/606 [00:18<00:51,  9.74it/s]"
     ]
    },
    {
     "name": "stdout",
     "output_type": "stream",
     "text": [
      "Eddy_Hartenstein\n",
      "Adolfo_Aguilar_Zinser\n"
     ]
    },
    {
     "name": "stderr",
     "output_type": "stream",
     "text": [
      " 17%|█▋        | 105/606 [00:19<01:04,  7.73it/s]"
     ]
    },
    {
     "name": "stdout",
     "output_type": "stream",
     "text": [
      "Bill_Guerin\n",
      "Lucrecia_Orozco\n",
      "Andres_DAlessandro\n"
     ]
    },
    {
     "name": "stderr",
     "output_type": "stream",
     "text": [
      " 18%|█▊        | 109/606 [00:19<00:52,  9.49it/s]"
     ]
    },
    {
     "name": "stdout",
     "output_type": "stream",
     "text": [
      "JC_Chasez\n",
      "Manuel_Pellegrini\n",
      "Aaron_Eckhart\n"
     ]
    },
    {
     "name": "stderr",
     "output_type": "stream",
     "text": [
      " 18%|█▊        | 111/606 [00:19<00:50,  9.88it/s]"
     ]
    },
    {
     "name": "stdout",
     "output_type": "stream",
     "text": [
      "Anderson_Varejao\n",
      "Anne_Cavers\n",
      "Nuck_Kiy\n"
     ]
    },
    {
     "name": "stderr",
     "output_type": "stream",
     "text": [
      " 19%|█▊        | 113/606 [00:19<00:49,  9.96it/s]"
     ]
    },
    {
     "name": "stdout",
     "output_type": "stream",
     "text": [
      "Fernando_Hierro\n",
      "Elena_de_Chavez\n"
     ]
    },
    {
     "name": "stderr",
     "output_type": "stream",
     "text": [
      " 19%|█▉        | 115/606 [00:20<00:49,  9.82it/s]"
     ]
    },
    {
     "name": "stdout",
     "output_type": "stream",
     "text": [
      "Bill_Parcells\n",
      "Ruben_Sierra\n"
     ]
    },
    {
     "name": "stderr",
     "output_type": "stream",
     "text": [
      " 19%|█▉        | 117/606 [00:20<00:52,  9.28it/s]"
     ]
    },
    {
     "name": "stdout",
     "output_type": "stream",
     "text": [
      "Olivier_Rochus\n",
      "Lana_Clarkson\n"
     ]
    },
    {
     "name": "stderr",
     "output_type": "stream",
     "text": [
      " 20%|█▉        | 120/606 [00:20<00:58,  8.26it/s]"
     ]
    },
    {
     "name": "stdout",
     "output_type": "stream",
     "text": [
      "Dexter_Jackson\n",
      "Anwar_Ibrahim\n"
     ]
    },
    {
     "name": "stderr",
     "output_type": "stream",
     "text": [
      " 20%|██        | 122/606 [00:21<01:10,  6.87it/s]"
     ]
    },
    {
     "name": "stdout",
     "output_type": "stream",
     "text": [
      "Anthony_Hopkins\n",
      "Donna_Brazile\n"
     ]
    },
    {
     "name": "stderr",
     "output_type": "stream",
     "text": [
      " 20%|██        | 124/606 [00:21<00:59,  8.05it/s]"
     ]
    },
    {
     "name": "stdout",
     "output_type": "stream",
     "text": [
      "Ambrose_Lee\n",
      "Rainer_Gut\n",
      "Andrew_Jarecki\n"
     ]
    },
    {
     "name": "stderr",
     "output_type": "stream",
     "text": [
      " 21%|██        | 127/606 [00:21<00:55,  8.60it/s]"
     ]
    },
    {
     "name": "stdout",
     "output_type": "stream",
     "text": [
      "Andy_Bryant\n",
      "Cristina_Torrens_Valero\n"
     ]
    },
    {
     "name": "stderr",
     "output_type": "stream",
     "text": [
      " 21%|██▏       | 129/606 [00:21<00:55,  8.64it/s]"
     ]
    },
    {
     "name": "stdout",
     "output_type": "stream",
     "text": [
      "Hartmut_Mehdorn\n",
      "Donald_Carty\n",
      "Anna_Kournikova\n"
     ]
    },
    {
     "name": "stderr",
     "output_type": "stream",
     "text": [
      " 22%|██▏       | 131/606 [00:23<02:09,  3.67it/s]"
     ]
    },
    {
     "name": "stdout",
     "output_type": "stream",
     "text": [
      "Harvey_Fierstein\n",
      "Annie_Chaplin\n"
     ]
    },
    {
     "name": "stderr",
     "output_type": "stream",
     "text": [
      " 22%|██▏       | 135/606 [00:23<01:22,  5.69it/s]"
     ]
    },
    {
     "name": "stdout",
     "output_type": "stream",
     "text": [
      "Maha_Habib\n",
      "Billy_Gilman\n",
      "Ruano_Pascual\n"
     ]
    },
    {
     "name": "stderr",
     "output_type": "stream",
     "text": [
      " 23%|██▎       | 137/606 [00:23<01:08,  6.86it/s]"
     ]
    },
    {
     "name": "stdout",
     "output_type": "stream",
     "text": [
      "Otto_Schily\n",
      "David_Bowie\n"
     ]
    },
    {
     "name": "stderr",
     "output_type": "stream",
     "text": [
      " 23%|██▎       | 138/606 [00:23<01:07,  6.94it/s]"
     ]
    },
    {
     "name": "stdout",
     "output_type": "stream",
     "text": [
      "Blythe_Danner\n"
     ]
    },
    {
     "name": "stderr",
     "output_type": "stream",
     "text": [
      " 23%|██▎       | 140/606 [00:24<01:12,  6.45it/s]"
     ]
    },
    {
     "name": "stdout",
     "output_type": "stream",
     "text": [
      "Rafael_Bielsa\n",
      "Djabir_Said-Guerni\n"
     ]
    },
    {
     "name": "stderr",
     "output_type": "stream",
     "text": [
      " 23%|██▎       | 142/606 [00:24<01:03,  7.26it/s]"
     ]
    },
    {
     "name": "stdout",
     "output_type": "stream",
     "text": [
      "Ataollah_Mohajerani\n",
      "Filippo_Volandri\n"
     ]
    },
    {
     "name": "stderr",
     "output_type": "stream",
     "text": [
      " 24%|██▍       | 144/606 [00:24<00:55,  8.39it/s]"
     ]
    },
    {
     "name": "stdout",
     "output_type": "stream",
     "text": [
      "Charles_Cope\n",
      "Frank_Abagnale_Jr\n"
     ]
    },
    {
     "name": "stderr",
     "output_type": "stream",
     "text": [
      " 24%|██▍       | 146/606 [00:24<00:55,  8.27it/s]"
     ]
    },
    {
     "name": "stdout",
     "output_type": "stream",
     "text": [
      "Shingo_Katayama\n",
      "Frank_Zappa\n"
     ]
    },
    {
     "name": "stderr",
     "output_type": "stream",
     "text": [
      " 24%|██▍       | 147/606 [00:24<00:56,  8.08it/s]"
     ]
    },
    {
     "name": "stdout",
     "output_type": "stream",
     "text": [
      "Cacy_rox\n",
      "Hamid_Karzai\n"
     ]
    },
    {
     "name": "stderr",
     "output_type": "stream",
     "text": [
      " 25%|██▍       | 149/606 [00:27<04:01,  1.90it/s]"
     ]
    },
    {
     "name": "stdout",
     "output_type": "stream",
     "text": [
      "Tim_Blake_Nelson\n",
      "Bill_Nelson\n"
     ]
    },
    {
     "name": "stderr",
     "output_type": "stream",
     "text": [
      " 25%|██▌       | 153/606 [00:27<02:05,  3.60it/s]"
     ]
    },
    {
     "name": "stdout",
     "output_type": "stream",
     "text": [
      "Alicia_Hollowell\n",
      "Alonzo_Mourning\n",
      "Abdulaziz_Kamilov\n"
     ]
    },
    {
     "name": "stderr",
     "output_type": "stream",
     "text": [
      " 25%|██▌       | 154/606 [00:27<01:58,  3.81it/s]"
     ]
    },
    {
     "name": "stdout",
     "output_type": "stream",
     "text": [
      "Andre_Techine\n",
      "Chick_Hearn\n"
     ]
    },
    {
     "name": "stderr",
     "output_type": "stream",
     "text": [
      " 26%|██▌       | 156/606 [00:28<01:42,  4.39it/s]"
     ]
    },
    {
     "name": "stdout",
     "output_type": "stream",
     "text": [
      "Tim_Conway\n"
     ]
    },
    {
     "name": "stderr",
     "output_type": "stream",
     "text": [
      " 26%|██▌       | 159/606 [00:28<01:20,  5.56it/s]"
     ]
    },
    {
     "name": "stdout",
     "output_type": "stream",
     "text": [
      "Alen_dan\n",
      "Andreas_Vinciguerra\n",
      "Kate_Capshaw\n"
     ]
    },
    {
     "name": "stderr",
     "output_type": "stream",
     "text": [
      " 26%|██▋       | 160/606 [00:28<01:23,  5.32it/s]"
     ]
    },
    {
     "name": "stdout",
     "output_type": "stream",
     "text": [
      "Aaron_Peirsol\n"
     ]
    },
    {
     "name": "stderr",
     "output_type": "stream",
     "text": [
      " 27%|██▋       | 161/606 [00:29<01:40,  4.42it/s]"
     ]
    },
    {
     "name": "stdout",
     "output_type": "stream",
     "text": [
      "Carmen_Electra\n"
     ]
    },
    {
     "name": "stderr",
     "output_type": "stream",
     "text": [
      " 27%|██▋       | 162/606 [00:29<02:14,  3.29it/s]"
     ]
    },
    {
     "name": "stdout",
     "output_type": "stream",
     "text": [
      "Craig_MacTavish\n",
      "Muhammad_Ali\n"
     ]
    },
    {
     "name": "stderr",
     "output_type": "stream",
     "text": [
      " 27%|██▋       | 165/606 [00:30<02:31,  2.90it/s]"
     ]
    },
    {
     "name": "stdout",
     "output_type": "stream",
     "text": [
      "Ivan_Stambolic\n",
      "Avril_Lavigne\n"
     ]
    },
    {
     "name": "stderr",
     "output_type": "stream",
     "text": [
      " 28%|██▊       | 167/606 [00:31<01:46,  4.13it/s]"
     ]
    },
    {
     "name": "stdout",
     "output_type": "stream",
     "text": [
      "Andrea_Kiser\n",
      "Cesar_Maia\n"
     ]
    },
    {
     "name": "stderr",
     "output_type": "stream",
     "text": [
      " 28%|██▊       | 169/606 [00:31<01:34,  4.62it/s]"
     ]
    },
    {
     "name": "stdout",
     "output_type": "stream",
     "text": [
      "Frank_Murkowski\n",
      "Raja_Ibrahim\n",
      "Amelie_Mauresmo\n"
     ]
    },
    {
     "name": "stderr",
     "output_type": "stream",
     "text": [
      " 29%|██▊       | 173/606 [00:33<02:37,  2.76it/s]"
     ]
    },
    {
     "name": "stdout",
     "output_type": "stream",
     "text": [
      "Alessandro_Nesta\n",
      "Bernice_Wong\n",
      "Aaron_Sorkin\n"
     ]
    },
    {
     "name": "stderr",
     "output_type": "stream",
     "text": [
      " 29%|██▊       | 174/606 [00:33<02:19,  3.09it/s]"
     ]
    },
    {
     "name": "stdout",
     "output_type": "stream",
     "text": [
      "Bustam_A_Zedan_Aljanabi\n",
      "Pieter_Bouw\n"
     ]
    },
    {
     "name": "stderr",
     "output_type": "stream",
     "text": [
      " 29%|██▉       | 177/606 [00:34<01:34,  4.52it/s]"
     ]
    },
    {
     "name": "stdout",
     "output_type": "stream",
     "text": [
      "Adriana_Perez_Navarro\n",
      "Craig_Fitzgibbon\n",
      "Luis_Gonzalez_Macchi\n"
     ]
    },
    {
     "name": "stderr",
     "output_type": "stream",
     "text": [
      " 30%|██▉       | 181/606 [00:34<01:27,  4.84it/s]"
     ]
    },
    {
     "name": "stdout",
     "output_type": "stream",
     "text": [
      "Rudy_Tomjanovich\n",
      "Pedro_Pauleta\n",
      "Ellen_Martin\n",
      "Monica_Bellucci\n"
     ]
    },
    {
     "name": "stderr",
     "output_type": "stream",
     "text": [
      " 30%|███       | 183/606 [00:35<01:43,  4.09it/s]"
     ]
    },
    {
     "name": "stdout",
     "output_type": "stream",
     "text": [
      "Fujio_Cho\n"
     ]
    },
    {
     "name": "stderr",
     "output_type": "stream",
     "text": [
      " 30%|███       | 184/606 [00:36<02:04,  3.39it/s]"
     ]
    },
    {
     "name": "stdout",
     "output_type": "stream",
     "text": [
      "Paddy_Torsney\n",
      "OJ_Simpson\n"
     ]
    },
    {
     "name": "stderr",
     "output_type": "stream",
     "text": [
      " 31%|███       | 186/606 [00:36<01:43,  4.06it/s]"
     ]
    },
    {
     "name": "stdout",
     "output_type": "stream",
     "text": [
      "Ahmed_Ghazi\n",
      "Charlie_Zaa\n"
     ]
    },
    {
     "name": "stderr",
     "output_type": "stream",
     "text": [
      " 31%|███       | 188/606 [00:36<01:30,  4.62it/s]"
     ]
    },
    {
     "name": "stdout",
     "output_type": "stream",
     "text": [
      "Ana_Guevara\n"
     ]
    },
    {
     "name": "stderr",
     "output_type": "stream",
     "text": [
      " 32%|███▏      | 191/606 [00:37<01:29,  4.64it/s]"
     ]
    },
    {
     "name": "stdout",
     "output_type": "stream",
     "text": [
      "Eduard_Limonov\n",
      "Anthony_Ervin\n",
      "Larry_Beinfest\n"
     ]
    },
    {
     "name": "stderr",
     "output_type": "stream",
     "text": [
      " 32%|███▏      | 193/606 [00:37<01:10,  5.85it/s]"
     ]
    },
    {
     "name": "stdout",
     "output_type": "stream",
     "text": [
      "Jose_Cevallos\n",
      "Mary_Jo_Myers\n",
      "Janela_Jara\n"
     ]
    },
    {
     "name": "stderr",
     "output_type": "stream",
     "text": [
      " 33%|███▎      | 197/606 [00:37<00:51,  7.95it/s]"
     ]
    },
    {
     "name": "stdout",
     "output_type": "stream",
     "text": [
      "Ahmed_Lopez\n",
      "Andrei_Nikolishin\n",
      "Jan_Bjoerklund\n"
     ]
    },
    {
     "name": "stderr",
     "output_type": "stream",
     "text": [
      " 33%|███▎      | 198/606 [00:38<00:58,  6.93it/s]"
     ]
    },
    {
     "name": "stdout",
     "output_type": "stream",
     "text": [
      "Gustavo_Terrazas\n",
      "Andrei_Mikhnevich\n"
     ]
    },
    {
     "name": "stderr",
     "output_type": "stream",
     "text": [
      " 33%|███▎      | 200/606 [00:38<00:56,  7.20it/s]"
     ]
    },
    {
     "name": "stdout",
     "output_type": "stream",
     "text": [
      "Marc_Racicot\n",
      "Andrew_Bunner\n"
     ]
    },
    {
     "name": "stderr",
     "output_type": "stream",
     "text": [
      " 33%|███▎      | 203/606 [00:38<01:01,  6.51it/s]"
     ]
    },
    {
     "name": "stdout",
     "output_type": "stream",
     "text": [
      "Allen_Iverson\n",
      "Alice_Fisher\n"
     ]
    },
    {
     "name": "stderr",
     "output_type": "stream",
     "text": [
      " 34%|███▎      | 204/606 [00:39<01:02,  6.38it/s]"
     ]
    },
    {
     "name": "stdout",
     "output_type": "stream",
     "text": [
      "Luo_Linquan\n",
      "Anders_Ebbeson\n"
     ]
    },
    {
     "name": "stderr",
     "output_type": "stream",
     "text": [
      " 34%|███▍      | 208/606 [00:39<00:57,  6.97it/s]"
     ]
    },
    {
     "name": "stdout",
     "output_type": "stream",
     "text": [
      "Matt_Siebrandt\n",
      "Dewayne_White\n",
      "Andre_Lange\n"
     ]
    },
    {
     "name": "stderr",
     "output_type": "stream",
     "text": [
      " 35%|███▍      | 210/606 [00:39<00:55,  7.16it/s]"
     ]
    },
    {
     "name": "stdout",
     "output_type": "stream",
     "text": [
      "Ana_Isabel_Sanchez\n",
      "Elias_Attallah\n"
     ]
    },
    {
     "name": "stderr",
     "output_type": "stream",
     "text": [
      " 35%|███▍      | 212/606 [00:40<00:47,  8.28it/s]"
     ]
    },
    {
     "name": "stdout",
     "output_type": "stream",
     "text": [
      "Peter_Fonda\n",
      "Dario_Camuffo\n",
      "Amy_Yasbeck\n"
     ]
    },
    {
     "name": "stderr",
     "output_type": "stream",
     "text": [
      " 35%|███▌      | 214/606 [00:40<00:43,  9.04it/s]"
     ]
    },
    {
     "name": "stdout",
     "output_type": "stream",
     "text": [
      "Cameron_Diaz\n"
     ]
    },
    {
     "name": "stderr",
     "output_type": "stream",
     "text": [
      " 36%|███▌      | 217/606 [00:41<01:03,  6.17it/s]"
     ]
    },
    {
     "name": "stdout",
     "output_type": "stream",
     "text": [
      "Andrew_Caldecott\n",
      "Hadley_Bilger\n",
      "Aaron_Guiel\n"
     ]
    },
    {
     "name": "stderr",
     "output_type": "stream",
     "text": [
      " 36%|███▌      | 219/606 [00:41<00:52,  7.34it/s]"
     ]
    },
    {
     "name": "stdout",
     "output_type": "stream",
     "text": [
      "Dorothy_Lamour\n",
      "Amy_Redford\n"
     ]
    },
    {
     "name": "stderr",
     "output_type": "stream",
     "text": [
      " 37%|███▋      | 222/606 [00:41<00:47,  8.01it/s]"
     ]
    },
    {
     "name": "stdout",
     "output_type": "stream",
     "text": [
      "Carl_Levin\n",
      "Charlie_Williams\n",
      "Annette_Lu\n"
     ]
    },
    {
     "name": "stderr",
     "output_type": "stream",
     "text": [
      " 37%|███▋      | 225/606 [00:42<00:49,  7.76it/s]"
     ]
    },
    {
     "name": "stdout",
     "output_type": "stream",
     "text": [
      "Lutz_Freitag\n",
      "Aparna_Pillai\n",
      "Tim_Floyd\n"
     ]
    },
    {
     "name": "stderr",
     "output_type": "stream",
     "text": [
      " 37%|███▋      | 226/606 [00:42<00:52,  7.24it/s]"
     ]
    },
    {
     "name": "stdout",
     "output_type": "stream",
     "text": [
      "James_Brazelton\n",
      "Anna_Faris\n"
     ]
    },
    {
     "name": "stderr",
     "output_type": "stream",
     "text": [
      " 38%|███▊      | 229/606 [00:42<00:50,  7.49it/s]"
     ]
    },
    {
     "name": "stdout",
     "output_type": "stream",
     "text": [
      "Charles_Richardson\n",
      "Chelsea_Clinton\n"
     ]
    },
    {
     "name": "stderr",
     "output_type": "stream",
     "text": [
      " 38%|███▊      | 231/606 [00:42<00:47,  7.92it/s]"
     ]
    },
    {
     "name": "stdout",
     "output_type": "stream",
     "text": [
      "Elijan_Ingram\n",
      "Catriona_Le_May_Doan\n"
     ]
    },
    {
     "name": "stderr",
     "output_type": "stream",
     "text": [
      " 38%|███▊      | 233/606 [00:43<00:48,  7.74it/s]"
     ]
    },
    {
     "name": "stdout",
     "output_type": "stream",
     "text": [
      "Jaccy_Ann\n",
      "Abbas_Kiarostami\n",
      "Bijan_Darvish\n"
     ]
    },
    {
     "name": "stderr",
     "output_type": "stream",
     "text": [
      " 39%|███▉      | 235/606 [00:43<01:06,  5.55it/s]"
     ]
    },
    {
     "name": "stdout",
     "output_type": "stream",
     "text": [
      "Roy_Williams\n"
     ]
    },
    {
     "name": "stderr",
     "output_type": "stream",
     "text": [
      " 39%|███▉      | 238/606 [00:44<01:01,  6.00it/s]"
     ]
    },
    {
     "name": "stdout",
     "output_type": "stream",
     "text": [
      "Carla_Tricoli\n",
      "Bill_OReilly\n",
      "Alex_Wallau\n"
     ]
    },
    {
     "name": "stderr",
     "output_type": "stream",
     "text": [
      " 40%|███▉      | 240/606 [00:44<00:57,  6.38it/s]"
     ]
    },
    {
     "name": "stdout",
     "output_type": "stream",
     "text": [
      "Ruth_Dreifuss\n",
      "Chen_Kaige\n",
      "Abdel_Nasser_Assidi\n"
     ]
    },
    {
     "name": "stderr",
     "output_type": "stream",
     "text": [
      " 40%|████      | 243/606 [00:45<01:06,  5.50it/s]"
     ]
    },
    {
     "name": "stdout",
     "output_type": "stream",
     "text": [
      "Azmi_Bishara\n",
      "Saburo_Kawabuchi\n"
     ]
    },
    {
     "name": "stderr",
     "output_type": "stream",
     "text": [
      " 40%|████      | 244/606 [00:45<01:05,  5.52it/s]"
     ]
    },
    {
     "name": "stdout",
     "output_type": "stream",
     "text": [
      "Edward_Greenspan\n"
     ]
    },
    {
     "name": "stderr",
     "output_type": "stream",
     "text": [
      " 40%|████      | 245/606 [00:45<01:07,  5.35it/s]"
     ]
    },
    {
     "name": "stdout",
     "output_type": "stream",
     "text": [
      "Rashid_Qureshi\n",
      "Charles_Schumer\n"
     ]
    },
    {
     "name": "stderr",
     "output_type": "stream",
     "text": [
      " 41%|████      | 247/606 [00:45<01:03,  5.61it/s]"
     ]
    },
    {
     "name": "stdout",
     "output_type": "stream",
     "text": [
      "Fred_Huff\n",
      "Lars_Von_Trier\n"
     ]
    },
    {
     "name": "stderr",
     "output_type": "stream",
     "text": [
      " 41%|████      | 249/606 [00:46<01:10,  5.03it/s]"
     ]
    },
    {
     "name": "stdout",
     "output_type": "stream",
     "text": [
      "Allan_Wagner\n",
      "Cho_Myung-kyun\n"
     ]
    },
    {
     "name": "stderr",
     "output_type": "stream",
     "text": [
      " 42%|████▏     | 253/606 [00:46<00:55,  6.35it/s]"
     ]
    },
    {
     "name": "stdout",
     "output_type": "stream",
     "text": [
      "Camille_Colvin\n",
      "Anthony_Carter\n",
      "Joy_Bryant\n"
     ]
    },
    {
     "name": "stderr",
     "output_type": "stream",
     "text": [
      " 42%|████▏     | 255/606 [00:47<00:55,  6.31it/s]"
     ]
    },
    {
     "name": "stdout",
     "output_type": "stream",
     "text": [
      "Bill_Herrion\n",
      "Harald_Ringstorff\n"
     ]
    },
    {
     "name": "stderr",
     "output_type": "stream",
     "text": [
      " 42%|████▏     | 257/606 [00:47<00:55,  6.25it/s]"
     ]
    },
    {
     "name": "stdout",
     "output_type": "stream",
     "text": [
      "Ann_Godbehere\n",
      "Andrew_Sabey\n"
     ]
    },
    {
     "name": "stderr",
     "output_type": "stream",
     "text": [
      " 43%|████▎     | 258/606 [00:47<00:59,  5.86it/s]"
     ]
    },
    {
     "name": "stdout",
     "output_type": "stream",
     "text": [
      "Anna_Jones\n"
     ]
    },
    {
     "name": "stderr",
     "output_type": "stream",
     "text": [
      " 43%|████▎     | 260/606 [00:47<00:57,  6.05it/s]"
     ]
    },
    {
     "name": "stdout",
     "output_type": "stream",
     "text": [
      "Alicia_Keys\n",
      "Abba_Eban\n",
      "Guillermo_Canas\n"
     ]
    },
    {
     "name": "stderr",
     "output_type": "stream",
     "text": [
      " 43%|████▎     | 262/606 [00:48<01:04,  5.32it/s]"
     ]
    },
    {
     "name": "stdout",
     "output_type": "stream",
     "text": [
      "Ann_Veneman\n"
     ]
    },
    {
     "name": "stderr",
     "output_type": "stream",
     "text": [
      " 44%|████▎     | 264/606 [00:49<01:46,  3.21it/s]"
     ]
    },
    {
     "name": "stdout",
     "output_type": "stream",
     "text": [
      "Chhouk_Rin\n",
      "Frank_Bell\n",
      "Carol_Carmody\n"
     ]
    },
    {
     "name": "stderr",
     "output_type": "stream",
     "text": [
      " 44%|████▍     | 267/606 [00:49<01:05,  5.14it/s]"
     ]
    },
    {
     "name": "stdout",
     "output_type": "stream",
     "text": [
      "Morgan_Freeman\n",
      "Annie-Jeanne_Reynaud\n"
     ]
    },
    {
     "name": "stderr",
     "output_type": "stream",
     "text": [
      " 45%|████▍     | 270/606 [00:50<00:48,  6.97it/s]"
     ]
    },
    {
     "name": "stdout",
     "output_type": "stream",
     "text": [
      "Artieas_Shanks\n",
      "Atiabet_Ijan_Amabel\n",
      "James_Ivory\n"
     ]
    },
    {
     "name": "stderr",
     "output_type": "stream",
     "text": [
      " 45%|████▍     | 271/606 [00:50<00:59,  5.63it/s]"
     ]
    },
    {
     "name": "stdout",
     "output_type": "stream",
     "text": [
      "Hugh_Campbell\n",
      "Raquel_Welch\n"
     ]
    },
    {
     "name": "stderr",
     "output_type": "stream",
     "text": [
      " 45%|████▌     | 274/606 [00:50<00:54,  6.09it/s]"
     ]
    },
    {
     "name": "stdout",
     "output_type": "stream",
     "text": [
      "Anthony_Fauci\n",
      "Iain_Duncan_Smith\n"
     ]
    },
    {
     "name": "stderr",
     "output_type": "stream",
     "text": [
      " 46%|████▌     | 276/606 [00:51<01:04,  5.12it/s]"
     ]
    },
    {
     "name": "stdout",
     "output_type": "stream",
     "text": [
      "Laura_Marlow\n",
      "Joxel_Garcia\n"
     ]
    },
    {
     "name": "stderr",
     "output_type": "stream",
     "text": [
      " 46%|████▌     | 278/606 [00:51<00:49,  6.60it/s]"
     ]
    },
    {
     "name": "stdout",
     "output_type": "stream",
     "text": [
      "Alina_Kabaeva\n",
      "Anzori_Kikalishvili\n"
     ]
    },
    {
     "name": "stderr",
     "output_type": "stream",
     "text": [
      " 46%|████▋     | 281/606 [00:51<00:44,  7.37it/s]"
     ]
    },
    {
     "name": "stdout",
     "output_type": "stream",
     "text": [
      "Hamad_Bin_Jassim\n",
      "Stella_McCartney\n",
      "Carlos_Ruckauf\n",
      "Lech_Walesa\n"
     ]
    },
    {
     "name": "stderr",
     "output_type": "stream",
     "text": [
      " 47%|████▋     | 283/606 [00:52<00:56,  5.67it/s]"
     ]
    },
    {
     "name": "stdout",
     "output_type": "stream",
     "text": [
      "Denis_Coderre\n",
      "Tim_Curry\n"
     ]
    },
    {
     "name": "stderr",
     "output_type": "stream",
     "text": [
      " 47%|████▋     | 287/606 [00:52<00:44,  7.20it/s]"
     ]
    },
    {
     "name": "stdout",
     "output_type": "stream",
     "text": [
      "Anthony_Garotinho\n",
      "Saman_Shali\n",
      "Anne_McLellan\n"
     ]
    },
    {
     "name": "stderr",
     "output_type": "stream",
     "text": [
      " 48%|████▊     | 290/606 [00:53<00:43,  7.28it/s]"
     ]
    },
    {
     "name": "stdout",
     "output_type": "stream",
     "text": [
      "Chris_Crocker\n",
      "Sean_Townsend\n",
      "Fred_Swan\n",
      "Abdel_Aziz_Al-Hakim\n"
     ]
    },
    {
     "name": "stderr",
     "output_type": "stream",
     "text": [
      " 48%|████▊     | 293/606 [00:53<00:41,  7.49it/s]"
     ]
    },
    {
     "name": "stdout",
     "output_type": "stream",
     "text": [
      "Donna_Barrera\n",
      "Carlo_Ancelotti\n"
     ]
    },
    {
     "name": "stderr",
     "output_type": "stream",
     "text": [
      " 49%|████▉     | 296/606 [00:54<00:43,  7.05it/s]"
     ]
    },
    {
     "name": "stdout",
     "output_type": "stream",
     "text": [
      "Bill_Carmody\n",
      "Amy_Pascal\n",
      "Habib_Rizieq\n"
     ]
    },
    {
     "name": "stderr",
     "output_type": "stream",
     "text": [
      " 49%|████▉     | 299/606 [00:55<01:14,  4.14it/s]"
     ]
    },
    {
     "name": "stdout",
     "output_type": "stream",
     "text": [
      "Manuel_Llorente\n",
      "Iain_Richmond\n",
      "Bryan_Chui\n",
      "Nabil_Shaath\n"
     ]
    },
    {
     "name": "stderr",
     "output_type": "stream",
     "text": [
      " 50%|████▉     | 301/606 [00:55<01:06,  4.58it/s]"
     ]
    },
    {
     "name": "stdout",
     "output_type": "stream",
     "text": [
      "Andre_Agassi\n"
     ]
    },
    {
     "name": "stderr",
     "output_type": "stream",
     "text": [
      " 50%|█████     | 304/606 [00:59<02:52,  1.75it/s]"
     ]
    },
    {
     "name": "stdout",
     "output_type": "stream",
     "text": [
      "Billy_Edelin\n",
      "Choi_Yun-yong\n",
      "Jean_Brumley\n"
     ]
    },
    {
     "name": "stderr",
     "output_type": "stream",
     "text": [
      " 50%|█████     | 306/606 [00:59<02:04,  2.42it/s]"
     ]
    },
    {
     "name": "stdout",
     "output_type": "stream",
     "text": [
      "Janice_Abreu\n",
      "Sadam_Hassan\n"
     ]
    },
    {
     "name": "stderr",
     "output_type": "stream",
     "text": [
      " 51%|█████     | 308/606 [01:00<01:36,  3.08it/s]"
     ]
    },
    {
     "name": "stdout",
     "output_type": "stream",
     "text": [
      "Jason_Campbell\n",
      "Feliciano_Lopez\n"
     ]
    },
    {
     "name": "stderr",
     "output_type": "stream",
     "text": [
      " 51%|█████     | 310/606 [01:00<01:06,  4.43it/s]"
     ]
    },
    {
     "name": "stdout",
     "output_type": "stream",
     "text": [
      "Anastasia_Kelesidou\n",
      "Shigeo_Nagashima\n",
      "Ali_Hammoud\n"
     ]
    },
    {
     "name": "stderr",
     "output_type": "stream",
     "text": [
      " 52%|█████▏    | 314/606 [01:00<00:42,  6.82it/s]"
     ]
    },
    {
     "name": "stdout",
     "output_type": "stream",
     "text": [
      "Darren_Campel\n",
      "Anthony_Corso\n",
      "Denis_Fassou-Nguesso\n"
     ]
    },
    {
     "name": "stderr",
     "output_type": "stream",
     "text": [
      " 52%|█████▏    | 316/606 [01:01<00:47,  6.08it/s]"
     ]
    },
    {
     "name": "stdout",
     "output_type": "stream",
     "text": [
      "Anneli_Jaatteenmaki\n",
      "Andrzej_Tyszkiewicz\n"
     ]
    },
    {
     "name": "stderr",
     "output_type": "stream",
     "text": [
      " 52%|█████▏    | 318/606 [01:01<00:44,  6.52it/s]"
     ]
    },
    {
     "name": "stdout",
     "output_type": "stream",
     "text": [
      "Scott_Wolf\n",
      "Charlize_Theron\n"
     ]
    },
    {
     "name": "stderr",
     "output_type": "stream",
     "text": [
      " 53%|█████▎    | 320/606 [01:01<00:38,  7.48it/s]"
     ]
    },
    {
     "name": "stdout",
     "output_type": "stream",
     "text": [
      "Lazaro_Castro\n",
      "Allan_Houston\n",
      "Ana_Sebastiao\n"
     ]
    },
    {
     "name": "stderr",
     "output_type": "stream",
     "text": [
      " 53%|█████▎    | 323/606 [01:01<00:35,  7.88it/s]"
     ]
    },
    {
     "name": "stdout",
     "output_type": "stream",
     "text": [
      "Elvis_Costello\n",
      "Olympia_Dukakis\n",
      "Elijah_Wood\n"
     ]
    },
    {
     "name": "stderr",
     "output_type": "stream",
     "text": [
      " 54%|█████▍    | 326/606 [01:02<00:42,  6.61it/s]"
     ]
    },
    {
     "name": "stdout",
     "output_type": "stream",
     "text": [
      "Anne_ONeil\n",
      "Alistair_MacDonald\n"
     ]
    },
    {
     "name": "stderr",
     "output_type": "stream",
     "text": [
      " 54%|█████▍    | 329/606 [01:02<00:36,  7.63it/s]"
     ]
    },
    {
     "name": "stdout",
     "output_type": "stream",
     "text": [
      "Alicia_Witt\n",
      "Ashraf_Alasmar\n",
      "Kirsten_Gilham\n"
     ]
    },
    {
     "name": "stderr",
     "output_type": "stream",
     "text": [
      " 55%|█████▍    | 331/606 [01:03<00:35,  7.86it/s]"
     ]
    },
    {
     "name": "stdout",
     "output_type": "stream",
     "text": [
      "Kalid_Kaid\n",
      "Jacqueline_Gold\n"
     ]
    },
    {
     "name": "stderr",
     "output_type": "stream",
     "text": [
      " 55%|█████▌    | 334/606 [01:03<00:30,  9.01it/s]"
     ]
    },
    {
     "name": "stdout",
     "output_type": "stream",
     "text": [
      "Hung_Wan-ting\n",
      "Bill_Stapleton\n",
      "Alexandra_Pelosi\n"
     ]
    },
    {
     "name": "stderr",
     "output_type": "stream",
     "text": [
      " 55%|█████▌    | 336/606 [01:03<00:28,  9.60it/s]"
     ]
    },
    {
     "name": "stdout",
     "output_type": "stream",
     "text": [
      "Lucio_Stanca\n",
      "Ari_Bousbib\n",
      "Ruth_Pearce\n"
     ]
    },
    {
     "name": "stderr",
     "output_type": "stream",
     "text": [
      " 56%|█████▌    | 338/606 [01:03<00:35,  7.59it/s]"
     ]
    },
    {
     "name": "stdout",
     "output_type": "stream",
     "text": [
      "Jack_Nicholson\n"
     ]
    },
    {
     "name": "stderr",
     "output_type": "stream",
     "text": [
      " 56%|█████▌    | 340/606 [01:04<00:49,  5.41it/s]"
     ]
    },
    {
     "name": "stdout",
     "output_type": "stream",
     "text": [
      "Chris_Cooper\n",
      "Raoul_Ruiz\n"
     ]
    },
    {
     "name": "stderr",
     "output_type": "stream",
     "text": [
      " 57%|█████▋    | 343/606 [01:05<00:56,  4.66it/s]"
     ]
    },
    {
     "name": "stdout",
     "output_type": "stream",
     "text": [
      "Katalin_Kollat\n",
      "Kirsten_Clark\n",
      "Chandrika_Kumaratunga\n",
      "Sally_Field\n"
     ]
    },
    {
     "name": "stderr",
     "output_type": "stream",
     "text": [
      " 57%|█████▋    | 346/606 [01:05<00:52,  4.94it/s]"
     ]
    },
    {
     "name": "stdout",
     "output_type": "stream",
     "text": [
      "Ahmed_Ibrahim_Bilal\n",
      "Marc_Grossman\n"
     ]
    },
    {
     "name": "stderr",
     "output_type": "stream",
     "text": [
      " 57%|█████▋    | 347/606 [01:06<01:08,  3.76it/s]"
     ]
    },
    {
     "name": "stdout",
     "output_type": "stream",
     "text": [
      "Alfonso_Cuaron\n",
      "Abdoulaye_Wade\n"
     ]
    },
    {
     "name": "stderr",
     "output_type": "stream",
     "text": [
      " 58%|█████▊    | 351/606 [01:07<00:49,  5.11it/s]"
     ]
    },
    {
     "name": "stdout",
     "output_type": "stream",
     "text": [
      "Gary_Leon_Ridgway\n",
      "Jaime_Pressly\n",
      "Rulon_Gardner\n"
     ]
    },
    {
     "name": "stderr",
     "output_type": "stream",
     "text": [
      " 58%|█████▊    | 352/606 [01:07<00:44,  5.67it/s]"
     ]
    },
    {
     "name": "stdout",
     "output_type": "stream",
     "text": [
      "Anne_Krueger\n"
     ]
    },
    {
     "name": "stderr",
     "output_type": "stream",
     "text": [
      " 59%|█████▊    | 355/606 [01:07<00:39,  6.32it/s]"
     ]
    },
    {
     "name": "stdout",
     "output_type": "stream",
     "text": [
      "Bill_Stein\n",
      "Amber_Frey\n",
      "Hun_Sen\n"
     ]
    },
    {
     "name": "stderr",
     "output_type": "stream",
     "text": [
      " 59%|█████▉    | 357/606 [01:08<00:53,  4.68it/s]"
     ]
    },
    {
     "name": "stdout",
     "output_type": "stream",
     "text": [
      "Cristina_Kirchner\n",
      "Evo_Morales\n"
     ]
    },
    {
     "name": "stderr",
     "output_type": "stream",
     "text": [
      " 59%|█████▉    | 358/606 [01:08<00:52,  4.69it/s]"
     ]
    },
    {
     "name": "stdout",
     "output_type": "stream",
     "text": [
      "Ahmad_Jbarah\n",
      "Rainer_Schuettler\n"
     ]
    },
    {
     "name": "stderr",
     "output_type": "stream",
     "text": [
      " 60%|█████▉    | 362/606 [01:09<00:47,  5.19it/s]"
     ]
    },
    {
     "name": "stdout",
     "output_type": "stream",
     "text": [
      "Aaron_Patterson\n",
      "Jon_Kitna\n",
      "Lyudmila_Putin\n"
     ]
    },
    {
     "name": "stderr",
     "output_type": "stream",
     "text": [
      " 60%|█████▉    | 363/606 [01:09<00:42,  5.75it/s]"
     ]
    },
    {
     "name": "stdout",
     "output_type": "stream",
     "text": [
      "Ana_Palacio\n"
     ]
    },
    {
     "name": "stderr",
     "output_type": "stream",
     "text": [
      " 60%|██████    | 366/606 [01:10<00:57,  4.20it/s]"
     ]
    },
    {
     "name": "stdout",
     "output_type": "stream",
     "text": [
      "Damon_Dash\n",
      "Amber_nan\n",
      "Shingo_Suetsugu\n"
     ]
    },
    {
     "name": "stderr",
     "output_type": "stream",
     "text": [
      " 61%|██████    | 368/606 [01:10<00:46,  5.10it/s]"
     ]
    },
    {
     "name": "stdout",
     "output_type": "stream",
     "text": [
      "Andrea_De_Cruz\n",
      "Jose_Manuel_Durao_Barroso\n"
     ]
    },
    {
     "name": "stderr",
     "output_type": "stream",
     "text": [
      " 61%|██████    | 369/606 [01:11<01:11,  3.31it/s]"
     ]
    },
    {
     "name": "stdout",
     "output_type": "stream",
     "text": [
      "Frank_Beamer\n",
      "Makiya_Ali_Hassan\n"
     ]
    },
    {
     "name": "stderr",
     "output_type": "stream",
     "text": [
      " 61%|██████    | 371/606 [01:11<00:53,  4.40it/s]"
     ]
    },
    {
     "name": "stdout",
     "output_type": "stream",
     "text": [
      "Fernando_Gonzalez\n"
     ]
    },
    {
     "name": "stderr",
     "output_type": "stream",
     "text": [
      " 61%|██████▏   | 372/606 [01:12<01:26,  2.71it/s]"
     ]
    },
    {
     "name": "stdout",
     "output_type": "stream",
     "text": [
      "Alex_Sink\n"
     ]
    },
    {
     "name": "stderr",
     "output_type": "stream",
     "text": [
      " 62%|██████▏   | 375/606 [01:12<00:57,  4.00it/s]"
     ]
    },
    {
     "name": "stdout",
     "output_type": "stream",
     "text": [
      "Otto_Reich\n",
      "Mona_Rishmawi\n",
      "Saddam_Hussein\n"
     ]
    },
    {
     "name": "stderr",
     "output_type": "stream",
     "text": [
      " 62%|██████▏   | 377/606 [01:15<02:02,  1.87it/s]"
     ]
    },
    {
     "name": "stdout",
     "output_type": "stream",
     "text": [
      "Aaron_Pena\n",
      "Blas_Ople\n",
      "Shimon_Peres\n"
     ]
    },
    {
     "name": "stderr",
     "output_type": "stream",
     "text": [
      " 63%|██████▎   | 380/606 [01:16<01:34,  2.39it/s]"
     ]
    },
    {
     "name": "stdout",
     "output_type": "stream",
     "text": [
      "Koichi_Tanaka\n",
      "Sada_Jacobson\n",
      "Carol_Burnett\n"
     ]
    },
    {
     "name": "stderr",
     "output_type": "stream",
     "text": [
      " 63%|██████▎   | 384/606 [01:16<00:51,  4.32it/s]"
     ]
    },
    {
     "name": "stdout",
     "output_type": "stream",
     "text": [
      "Arthur_Johnson\n",
      "Dwayne_Wade\n",
      "Arif_Mardin\n"
     ]
    },
    {
     "name": "stderr",
     "output_type": "stream",
     "text": [
      " 64%|██████▍   | 387/606 [01:17<00:36,  5.92it/s]"
     ]
    },
    {
     "name": "stdout",
     "output_type": "stream",
     "text": [
      "Edward_Flynn\n",
      "Christian_Bale\n",
      "Antanas_Valionis\n"
     ]
    },
    {
     "name": "stderr",
     "output_type": "stream",
     "text": [
      " 64%|██████▍   | 389/606 [01:17<00:35,  6.18it/s]"
     ]
    },
    {
     "name": "stdout",
     "output_type": "stream",
     "text": [
      "Tiffany_Limos\n",
      "Paul_Martin\n"
     ]
    },
    {
     "name": "stderr",
     "output_type": "stream",
     "text": [
      " 64%|██████▍   | 390/606 [01:18<01:07,  3.22it/s]"
     ]
    },
    {
     "name": "stdout",
     "output_type": "stream",
     "text": [
      "Arlen_Specter\n"
     ]
    },
    {
     "name": "stderr",
     "output_type": "stream",
     "text": [
      " 65%|██████▍   | 391/606 [01:18<01:05,  3.30it/s]"
     ]
    },
    {
     "name": "stdout",
     "output_type": "stream",
     "text": [
      "Alvaro_Silva_Calderon\n"
     ]
    },
    {
     "name": "stderr",
     "output_type": "stream",
     "text": [
      " 65%|██████▍   | 392/606 [01:19<01:29,  2.40it/s]"
     ]
    },
    {
     "name": "stdout",
     "output_type": "stream",
     "text": [
      "Amelia_Vega\n"
     ]
    },
    {
     "name": "stderr",
     "output_type": "stream",
     "text": [
      " 65%|██████▌   | 394/606 [01:19<01:23,  2.55it/s]"
     ]
    },
    {
     "name": "stdout",
     "output_type": "stream",
     "text": [
      "Dyab_Abou_Jahjah\n",
      "Nadia_Petrova\n"
     ]
    },
    {
     "name": "stderr",
     "output_type": "stream",
     "text": [
      " 65%|██████▌   | 395/606 [01:20<01:30,  2.32it/s]"
     ]
    },
    {
     "name": "stdout",
     "output_type": "stream",
     "text": [
      "Ashton_Kutcher\n"
     ]
    },
    {
     "name": "stderr",
     "output_type": "stream",
     "text": [
      " 66%|██████▌   | 397/606 [01:20<01:04,  3.25it/s]"
     ]
    },
    {
     "name": "stdout",
     "output_type": "stream",
     "text": [
      "Andrew_Firestone\n",
      "Ali_Fallahian\n"
     ]
    },
    {
     "name": "stderr",
     "output_type": "stream",
     "text": [
      " 66%|██████▌   | 398/606 [01:20<00:51,  4.01it/s]"
     ]
    },
    {
     "name": "stdout",
     "output_type": "stream",
     "text": [
      "Griffin_Colvin\n"
     ]
    },
    {
     "name": "stderr",
     "output_type": "stream",
     "text": [
      " 66%|██████▌   | 400/606 [01:21<00:40,  5.02it/s]"
     ]
    },
    {
     "name": "stdout",
     "output_type": "stream",
     "text": [
      "David_Obey\n",
      "Elizabeth_Berkeley\n"
     ]
    },
    {
     "name": "stderr",
     "output_type": "stream",
     "text": [
      " 66%|██████▋   | 402/606 [01:21<00:35,  5.67it/s]"
     ]
    },
    {
     "name": "stdout",
     "output_type": "stream",
     "text": [
      "Park_Jie-won\n",
      "Ann_Morgan\n"
     ]
    },
    {
     "name": "stderr",
     "output_type": "stream",
     "text": [
      " 67%|██████▋   | 403/606 [01:21<00:31,  6.38it/s]"
     ]
    },
    {
     "name": "stdout",
     "output_type": "stream",
     "text": [
      "Carlos_Quintanilla_Schmidt\n"
     ]
    },
    {
     "name": "stderr",
     "output_type": "stream",
     "text": [
      " 67%|██████▋   | 405/606 [01:22<00:33,  6.05it/s]"
     ]
    },
    {
     "name": "stdout",
     "output_type": "stream",
     "text": [
      "Nino_DAngelo\n",
      "Andrea_Yates\n"
     ]
    },
    {
     "name": "stderr",
     "output_type": "stream",
     "text": [
      " 67%|██████▋   | 406/606 [01:22<00:31,  6.44it/s]"
     ]
    },
    {
     "name": "stdout",
     "output_type": "stream",
     "text": [
      "Arianna_Huffington\n"
     ]
    },
    {
     "name": "stderr",
     "output_type": "stream",
     "text": [
      " 67%|██████▋   | 407/606 [01:22<00:47,  4.17it/s]"
     ]
    },
    {
     "name": "stdout",
     "output_type": "stream",
     "text": [
      "Mufti_Mohammad_Syed\n",
      "Anastasia_Myskina\n"
     ]
    },
    {
     "name": "stderr",
     "output_type": "stream",
     "text": [
      " 68%|██████▊   | 410/606 [01:23<00:38,  5.15it/s]"
     ]
    },
    {
     "name": "stdout",
     "output_type": "stream",
     "text": [
      "Carin_Koch\n",
      "Fatmir_Limaj\n",
      "Patrick_McEnroe\n"
     ]
    },
    {
     "name": "stderr",
     "output_type": "stream",
     "text": [
      " 68%|██████▊   | 413/606 [01:23<00:33,  5.69it/s]"
     ]
    },
    {
     "name": "stdout",
     "output_type": "stream",
     "text": [
      "Chris_Penn\n",
      "Anne_Heche\n"
     ]
    },
    {
     "name": "stderr",
     "output_type": "stream",
     "text": [
      " 68%|██████▊   | 415/606 [01:23<00:29,  6.41it/s]"
     ]
    },
    {
     "name": "stdout",
     "output_type": "stream",
     "text": [
      "Andre_Bucher\n",
      "Madeleine_Albright\n"
     ]
    },
    {
     "name": "stderr",
     "output_type": "stream",
     "text": [
      " 69%|██████▉   | 417/606 [01:24<00:36,  5.17it/s]"
     ]
    },
    {
     "name": "stdout",
     "output_type": "stream",
     "text": [
      "Allison_Janney\n",
      "Adrian_McPherson\n"
     ]
    },
    {
     "name": "stderr",
     "output_type": "stream",
     "text": [
      " 69%|██████▉   | 418/606 [01:24<00:36,  5.17it/s]"
     ]
    },
    {
     "name": "stdout",
     "output_type": "stream",
     "text": [
      "Elena_Bovina\n"
     ]
    },
    {
     "name": "stderr",
     "output_type": "stream",
     "text": [
      " 69%|██████▉   | 421/606 [01:25<00:30,  6.07it/s]"
     ]
    },
    {
     "name": "stdout",
     "output_type": "stream",
     "text": [
      "Jason_Sehorn\n",
      "Debra_Yang\n",
      "Hootie_Johnson\n"
     ]
    },
    {
     "name": "stderr",
     "output_type": "stream",
     "text": [
      " 70%|██████▉   | 422/606 [01:25<00:32,  5.71it/s]"
     ]
    },
    {
     "name": "stdout",
     "output_type": "stream",
     "text": [
      "Anjum_Hussain\n",
      "Arantxa_Sanchez-Vicario\n"
     ]
    },
    {
     "name": "stderr",
     "output_type": "stream",
     "text": [
      " 70%|███████   | 425/606 [01:25<00:30,  5.94it/s]"
     ]
    },
    {
     "name": "stdout",
     "output_type": "stream",
     "text": [
      "Amber_Tamblyn\n",
      "Felicity_Huffman\n",
      "Carolyn_Dawn_Johnson\n"
     ]
    },
    {
     "name": "stderr",
     "output_type": "stream",
     "text": [
      " 71%|███████   | 428/606 [01:26<00:29,  6.02it/s]"
     ]
    },
    {
     "name": "stdout",
     "output_type": "stream",
     "text": [
      "Aaron_Tippin\n",
      "Tim_Curley\n"
     ]
    },
    {
     "name": "stderr",
     "output_type": "stream",
     "text": [
      " 71%|███████   | 430/606 [01:26<00:24,  7.15it/s]"
     ]
    },
    {
     "name": "stdout",
     "output_type": "stream",
     "text": [
      "Chris_Noth\n",
      "Ross_Verba\n"
     ]
    },
    {
     "name": "stderr",
     "output_type": "stream",
     "text": [
      " 71%|███████▏  | 432/606 [01:26<00:21,  8.24it/s]"
     ]
    },
    {
     "name": "stdout",
     "output_type": "stream",
     "text": [
      "Francisco_Maturana\n",
      "Ahmad_Masood\n"
     ]
    },
    {
     "name": "stderr",
     "output_type": "stream",
     "text": [
      " 71%|███████▏  | 433/606 [01:26<00:23,  7.33it/s]"
     ]
    },
    {
     "name": "stdout",
     "output_type": "stream",
     "text": [
      "Amram_Mitzna\n"
     ]
    },
    {
     "name": "stderr",
     "output_type": "stream",
     "text": [
      " 72%|███████▏  | 435/606 [01:27<00:27,  6.14it/s]"
     ]
    },
    {
     "name": "stdout",
     "output_type": "stream",
     "text": [
      "Francisco_Santos\n",
      "Sam_Torrance\n"
     ]
    },
    {
     "name": "stderr",
     "output_type": "stream",
     "text": [
      " 72%|███████▏  | 436/606 [01:27<00:38,  4.47it/s]"
     ]
    },
    {
     "name": "stdout",
     "output_type": "stream",
     "text": [
      "Mahathir_Mohamad\n"
     ]
    },
    {
     "name": "stderr",
     "output_type": "stream",
     "text": [
      " 72%|███████▏  | 437/606 [01:29<01:51,  1.51it/s]"
     ]
    },
    {
     "name": "stdout",
     "output_type": "stream",
     "text": [
      "Mike_Holmgren\n"
     ]
    },
    {
     "name": "stderr",
     "output_type": "stream",
     "text": [
      " 72%|███████▏  | 438/606 [01:29<01:32,  1.82it/s]"
     ]
    },
    {
     "name": "stdout",
     "output_type": "stream",
     "text": [
      "Anna_Nicole_Smith\n"
     ]
    },
    {
     "name": "stderr",
     "output_type": "stream",
     "text": [
      " 73%|███████▎  | 441/606 [01:30<00:50,  3.26it/s]"
     ]
    },
    {
     "name": "stdout",
     "output_type": "stream",
     "text": [
      "Jaime_Orti\n",
      "Sean_Patrick_Thomas\n",
      "Aretha_Franklin\n"
     ]
    },
    {
     "name": "stderr",
     "output_type": "stream",
     "text": [
      " 73%|███████▎  | 443/606 [01:30<00:38,  4.25it/s]"
     ]
    },
    {
     "name": "stdout",
     "output_type": "stream",
     "text": [
      "Laura_Morante\n",
      "Donna_Morrissey\n"
     ]
    },
    {
     "name": "stderr",
     "output_type": "stream",
     "text": [
      " 73%|███████▎  | 445/606 [01:30<00:32,  4.94it/s]"
     ]
    },
    {
     "name": "stdout",
     "output_type": "stream",
     "text": [
      "Howard_Smith\n",
      "Alyse_Beaupre\n"
     ]
    },
    {
     "name": "stderr",
     "output_type": "stream",
     "text": [
      " 74%|███████▎  | 446/606 [01:30<00:29,  5.36it/s]"
     ]
    },
    {
     "name": "stdout",
     "output_type": "stream",
     "text": [
      "Jack_LaLanne\n",
      "Julianne_Moore\n"
     ]
    },
    {
     "name": "stderr",
     "output_type": "stream",
     "text": [
      " 74%|███████▍  | 449/606 [01:33<01:16,  2.05it/s]"
     ]
    },
    {
     "name": "stdout",
     "output_type": "stream",
     "text": [
      "Chang_Jae_On\n",
      "Dudley_Rogers\n"
     ]
    },
    {
     "name": "stderr",
     "output_type": "stream",
     "text": [
      " 74%|███████▍  | 450/606 [01:33<01:02,  2.51it/s]"
     ]
    },
    {
     "name": "stdout",
     "output_type": "stream",
     "text": [
      "Alicia_Silverstone\n"
     ]
    },
    {
     "name": "stderr",
     "output_type": "stream",
     "text": [
      " 74%|███████▍  | 451/606 [01:33<00:55,  2.80it/s]"
     ]
    },
    {
     "name": "stdout",
     "output_type": "stream",
     "text": [
      "Shia_LaBeouf\n"
     ]
    },
    {
     "name": "stderr",
     "output_type": "stream",
     "text": [
      " 75%|███████▍  | 452/606 [01:34<00:52,  2.91it/s]"
     ]
    },
    {
     "name": "stdout",
     "output_type": "stream",
     "text": [
      "Choi_Sung-hong\n"
     ]
    },
    {
     "name": "stderr",
     "output_type": "stream",
     "text": [
      " 75%|███████▍  | 454/606 [01:35<00:58,  2.61it/s]"
     ]
    },
    {
     "name": "stdout",
     "output_type": "stream",
     "text": [
      "Ravan_AG_Farhadi\n",
      "Bryan_Cooley\n"
     ]
    },
    {
     "name": "stderr",
     "output_type": "stream",
     "text": [
      " 75%|███████▌  | 455/606 [01:35<00:45,  3.29it/s]"
     ]
    },
    {
     "name": "stdout",
     "output_type": "stream",
     "text": [
      "Charles_Grassley\n"
     ]
    },
    {
     "name": "stderr",
     "output_type": "stream",
     "text": [
      " 75%|███████▌  | 457/606 [01:35<00:38,  3.85it/s]"
     ]
    },
    {
     "name": "stdout",
     "output_type": "stream",
     "text": [
      "Eduardo_Chillida\n",
      "Allen_Rock\n"
     ]
    },
    {
     "name": "stderr",
     "output_type": "stream",
     "text": [
      " 76%|███████▌  | 459/606 [01:35<00:26,  5.45it/s]"
     ]
    },
    {
     "name": "stdout",
     "output_type": "stream",
     "text": [
      "Ashraf_Ghani\n",
      "Charles_Chandler_IV\n"
     ]
    },
    {
     "name": "stderr",
     "output_type": "stream",
     "text": [
      " 76%|███████▌  | 461/606 [01:36<00:21,  6.89it/s]"
     ]
    },
    {
     "name": "stdout",
     "output_type": "stream",
     "text": [
      "Moon-So-ri\n",
      "Amy_Gale\n"
     ]
    },
    {
     "name": "stderr",
     "output_type": "stream",
     "text": [
      " 76%|███████▌  | 462/606 [01:36<00:19,  7.25it/s]"
     ]
    },
    {
     "name": "stdout",
     "output_type": "stream",
     "text": [
      "Frances_Fisher\n"
     ]
    },
    {
     "name": "stderr",
     "output_type": "stream",
     "text": [
      " 77%|███████▋  | 464/606 [01:36<00:22,  6.36it/s]"
     ]
    },
    {
     "name": "stdout",
     "output_type": "stream",
     "text": [
      "Sachin_Tendulkar\n",
      "Karen_Lynn_Gorney\n"
     ]
    },
    {
     "name": "stderr",
     "output_type": "stream",
     "text": [
      " 77%|███████▋  | 466/606 [01:37<00:25,  5.51it/s]"
     ]
    },
    {
     "name": "stdout",
     "output_type": "stream",
     "text": [
      "Alimzhan_Tokhtakhounov\n",
      "Arturo_Gatti\n"
     ]
    },
    {
     "name": "stderr",
     "output_type": "stream",
     "text": [
      " 77%|███████▋  | 468/606 [01:37<00:32,  4.30it/s]"
     ]
    },
    {
     "name": "stdout",
     "output_type": "stream",
     "text": [
      "Ali_Bin_Hussein\n",
      "Donald_Evans\n"
     ]
    },
    {
     "name": "stderr",
     "output_type": "stream",
     "text": [
      " 77%|███████▋  | 469/606 [01:37<00:31,  4.40it/s]"
     ]
    },
    {
     "name": "stdout",
     "output_type": "stream",
     "text": [
      "Tiger_Woods\n"
     ]
    },
    {
     "name": "stderr",
     "output_type": "stream",
     "text": [
      " 78%|███████▊  | 470/606 [01:40<01:57,  1.16it/s]"
     ]
    },
    {
     "name": "stdout",
     "output_type": "stream",
     "text": [
      "Dai_Bachtiar\n"
     ]
    },
    {
     "name": "stderr",
     "output_type": "stream",
     "text": [
      " 78%|███████▊  | 472/606 [01:40<01:09,  1.92it/s]"
     ]
    },
    {
     "name": "stdout",
     "output_type": "stream",
     "text": [
      "Anatoliy_Kinakh\n",
      "Cate_Blanchett\n"
     ]
    },
    {
     "name": "stderr",
     "output_type": "stream",
     "text": [
      " 78%|███████▊  | 474/606 [01:41<00:49,  2.68it/s]"
     ]
    },
    {
     "name": "stdout",
     "output_type": "stream",
     "text": [
      "Norman_Mineta\n",
      "Alyson_Hannigan\n"
     ]
    },
    {
     "name": "stderr",
     "output_type": "stream",
     "text": [
      " 78%|███████▊  | 475/606 [01:41<00:40,  3.23it/s]"
     ]
    },
    {
     "name": "stdout",
     "output_type": "stream",
     "text": [
      "Tim_Allen\n"
     ]
    },
    {
     "name": "stderr",
     "output_type": "stream",
     "text": [
      " 79%|███████▊  | 477/606 [01:42<00:39,  3.23it/s]"
     ]
    },
    {
     "name": "stdout",
     "output_type": "stream",
     "text": [
      "Catherine_Bell\n",
      "Butch_Davis\n"
     ]
    },
    {
     "name": "stderr",
     "output_type": "stream",
     "text": [
      " 79%|███████▉  | 479/606 [01:42<00:30,  4.16it/s]"
     ]
    },
    {
     "name": "stdout",
     "output_type": "stream",
     "text": [
      "Jane_Clayson\n",
      "Gustavo_Kuerten\n"
     ]
    },
    {
     "name": "stderr",
     "output_type": "stream",
     "text": [
      " 79%|███████▉  | 481/606 [01:42<00:27,  4.57it/s]"
     ]
    },
    {
     "name": "stdout",
     "output_type": "stream",
     "text": [
      "Andrew_Fastow\n",
      "Javier_Vazquez\n"
     ]
    },
    {
     "name": "stderr",
     "output_type": "stream",
     "text": [
      " 80%|███████▉  | 483/606 [01:43<00:22,  5.39it/s]"
     ]
    },
    {
     "name": "stdout",
     "output_type": "stream",
     "text": [
      "Annette_Bening\n",
      "Spike_Lee\n"
     ]
    },
    {
     "name": "stderr",
     "output_type": "stream",
     "text": [
      " 80%|███████▉  | 484/606 [01:43<00:20,  6.03it/s]"
     ]
    },
    {
     "name": "stdout",
     "output_type": "stream",
     "text": [
      "James_Cunningham\n"
     ]
    },
    {
     "name": "stderr",
     "output_type": "stream",
     "text": [
      " 80%|████████  | 485/606 [01:43<00:32,  3.73it/s]"
     ]
    },
    {
     "name": "stdout",
     "output_type": "stream",
     "text": [
      "Hal_Gehman\n"
     ]
    },
    {
     "name": "stderr",
     "output_type": "stream",
     "text": [
      " 80%|████████  | 487/606 [01:44<00:31,  3.77it/s]"
     ]
    },
    {
     "name": "stdout",
     "output_type": "stream",
     "text": [
      "Jack_Smith\n",
      "Barbara_De_Brun\n",
      "Karen_Clarkson\n"
     ]
    },
    {
     "name": "stderr",
     "output_type": "stream",
     "text": [
      " 81%|████████  | 489/606 [01:44<00:24,  4.85it/s]"
     ]
    },
    {
     "name": "stdout",
     "output_type": "stream",
     "text": [
      "Fernando_Henrique_Cardoso\n"
     ]
    },
    {
     "name": "stderr",
     "output_type": "stream",
     "text": [
      " 81%|████████  | 490/606 [01:45<00:43,  2.69it/s]"
     ]
    },
    {
     "name": "stdout",
     "output_type": "stream",
     "text": [
      "Cristina_Saralegui\n"
     ]
    },
    {
     "name": "stderr",
     "output_type": "stream",
     "text": [
      " 81%|████████  | 492/606 [01:46<00:35,  3.20it/s]"
     ]
    },
    {
     "name": "stdout",
     "output_type": "stream",
     "text": [
      "Fran_Drescher\n"
     ]
    },
    {
     "name": "stderr",
     "output_type": "stream",
     "text": [
      " 81%|████████▏ | 493/606 [01:46<00:31,  3.64it/s]"
     ]
    },
    {
     "name": "stdout",
     "output_type": "stream",
     "text": [
      "Norodom_Chakrapong\n",
      "Fruit_Chan\n"
     ]
    },
    {
     "name": "stderr",
     "output_type": "stream",
     "text": [
      " 82%|████████▏ | 494/606 [01:46<00:27,  4.05it/s]"
     ]
    },
    {
     "name": "stdout",
     "output_type": "stream",
     "text": [
      "Bill_Graham\n"
     ]
    },
    {
     "name": "stderr",
     "output_type": "stream",
     "text": [
      " 82%|████████▏ | 496/606 [01:47<00:36,  3.00it/s]"
     ]
    },
    {
     "name": "stdout",
     "output_type": "stream",
     "text": [
      "Dule_Hill\n",
      "Nong_Duc_Manh\n",
      "Frank_Pallone\n"
     ]
    },
    {
     "name": "stderr",
     "output_type": "stream",
     "text": [
      " 82%|████████▏ | 499/606 [01:47<00:21,  5.08it/s]"
     ]
    },
    {
     "name": "stdout",
     "output_type": "stream",
     "text": [
      "Bianca_Jagger\n",
      "David_Blaine\n",
      "Ann_Landers\n"
     ]
    },
    {
     "name": "stderr",
     "output_type": "stream",
     "text": [
      " 83%|████████▎ | 501/606 [01:47<00:16,  6.33it/s]"
     ]
    },
    {
     "name": "stdout",
     "output_type": "stream",
     "text": [
      "Lucio_Gutierrez\n"
     ]
    },
    {
     "name": "stderr",
     "output_type": "stream",
     "text": [
      " 83%|████████▎ | 502/606 [01:49<00:51,  2.01it/s]"
     ]
    },
    {
     "name": "stdout",
     "output_type": "stream",
     "text": [
      "Stacey_Dales-Schuman\n",
      "Jon_Gruden\n"
     ]
    },
    {
     "name": "stderr",
     "output_type": "stream",
     "text": [
      " 83%|████████▎ | 504/606 [01:50<00:46,  2.21it/s]"
     ]
    },
    {
     "name": "stdout",
     "output_type": "stream",
     "text": [
      "Bertrand_Bonello\n"
     ]
    },
    {
     "name": "stderr",
     "output_type": "stream",
     "text": [
      " 83%|████████▎ | 505/606 [01:50<00:44,  2.29it/s]"
     ]
    },
    {
     "name": "stdout",
     "output_type": "stream",
     "text": [
      "Amy_Cotton\n",
      "Donald_Fehr\n"
     ]
    },
    {
     "name": "stderr",
     "output_type": "stream",
     "text": [
      " 84%|████████▎ | 507/606 [01:51<00:35,  2.79it/s]"
     ]
    },
    {
     "name": "stdout",
     "output_type": "stream",
     "text": [
      "Kate_Burton\n",
      "Magui_Serna\n"
     ]
    },
    {
     "name": "stderr",
     "output_type": "stream",
     "text": [
      " 84%|████████▍ | 509/606 [01:51<00:27,  3.57it/s]"
     ]
    },
    {
     "name": "stdout",
     "output_type": "stream",
     "text": [
      "Tim_Henman\n"
     ]
    },
    {
     "name": "stderr",
     "output_type": "stream",
     "text": [
      " 84%|████████▍ | 510/606 [01:53<00:58,  1.63it/s]"
     ]
    },
    {
     "name": "stdout",
     "output_type": "stream",
     "text": [
      "Rupert_Grint\n"
     ]
    },
    {
     "name": "stderr",
     "output_type": "stream",
     "text": [
      " 84%|████████▍ | 511/606 [01:53<00:55,  1.71it/s]"
     ]
    },
    {
     "name": "stdout",
     "output_type": "stream",
     "text": [
      "Ariel_Sharon\n"
     ]
    },
    {
     "name": "stderr",
     "output_type": "stream",
     "text": [
      " 85%|████████▍ | 513/606 [02:02<02:50,  1.84s/it]"
     ]
    },
    {
     "name": "stdout",
     "output_type": "stream",
     "text": [
      "Austin_Kearns\n",
      "Tim_Chapman\n"
     ]
    },
    {
     "name": "stderr",
     "output_type": "stream",
     "text": [
      " 85%|████████▍ | 515/606 [02:02<01:35,  1.05s/it]"
     ]
    },
    {
     "name": "stdout",
     "output_type": "stream",
     "text": [
      "Adrian_Murrell\n",
      "Annie_Machon\n"
     ]
    },
    {
     "name": "stderr",
     "output_type": "stream",
     "text": [
      " 85%|████████▌ | 516/606 [02:02<01:12,  1.25it/s]"
     ]
    },
    {
     "name": "stdout",
     "output_type": "stream",
     "text": [
      "Ruth_Harlow\n"
     ]
    },
    {
     "name": "stderr",
     "output_type": "stream",
     "text": [
      " 85%|████████▌ | 517/606 [02:03<00:59,  1.50it/s]"
     ]
    },
    {
     "name": "stdout",
     "output_type": "stream",
     "text": [
      "Carina_Lau_Ka-ling\n"
     ]
    },
    {
     "name": "stderr",
     "output_type": "stream",
     "text": [
      " 86%|████████▌ | 519/606 [02:03<00:36,  2.40it/s]"
     ]
    },
    {
     "name": "stdout",
     "output_type": "stream",
     "text": [
      "Muffet_McGraw\n",
      "Luther_Htu\n"
     ]
    },
    {
     "name": "stderr",
     "output_type": "stream",
     "text": [
      " 86%|████████▌ | 520/606 [02:03<00:29,  2.93it/s]"
     ]
    },
    {
     "name": "stdout",
     "output_type": "stream",
     "text": [
      "Andrew_Gilligan\n",
      "Nora_Bendijo\n"
     ]
    },
    {
     "name": "stderr",
     "output_type": "stream",
     "text": [
      " 86%|████████▋ | 524/606 [02:04<00:17,  4.58it/s]"
     ]
    },
    {
     "name": "stdout",
     "output_type": "stream",
     "text": [
      "Anthony_Hazen\n",
      "Andrew_Bernard\n",
      "Adrianna_Zuzic\n"
     ]
    },
    {
     "name": "stderr",
     "output_type": "stream",
     "text": [
      " 87%|████████▋ | 526/606 [02:04<00:13,  5.76it/s]"
     ]
    },
    {
     "name": "stdout",
     "output_type": "stream",
     "text": [
      "Arthur_Martinez\n",
      "Hans-Christian_Schmid\n",
      "Nadia_Forte\n"
     ]
    },
    {
     "name": "stderr",
     "output_type": "stream",
     "text": [
      " 87%|████████▋ | 529/606 [02:04<00:12,  6.35it/s]"
     ]
    },
    {
     "name": "stdout",
     "output_type": "stream",
     "text": [
      "Morgan_Fairchild\n",
      "Marc_Leger\n"
     ]
    },
    {
     "name": "stderr",
     "output_type": "stream",
     "text": [
      " 88%|████████▊ | 531/606 [02:05<00:10,  7.26it/s]"
     ]
    },
    {
     "name": "stdout",
     "output_type": "stream",
     "text": [
      "Guillermo_Monroy\n",
      "Eva_Mendes\n",
      "Alvaro_Noboa\n"
     ]
    },
    {
     "name": "stderr",
     "output_type": "stream",
     "text": [
      " 88%|████████▊ | 535/606 [02:05<00:10,  6.63it/s]"
     ]
    },
    {
     "name": "stdout",
     "output_type": "stream",
     "text": [
      "Amy_Smart\n",
      "Filip_De_Winter\n",
      "Malcolm_Glazer\n"
     ]
    },
    {
     "name": "stderr",
     "output_type": "stream",
     "text": [
      " 89%|████████▊ | 537/606 [02:06<00:09,  7.52it/s]"
     ]
    },
    {
     "name": "stdout",
     "output_type": "stream",
     "text": [
      "Hamid_Efendi\n",
      "Adrien_Brody\n"
     ]
    },
    {
     "name": "stderr",
     "output_type": "stream",
     "text": [
      " 89%|████████▉ | 538/606 [02:07<00:28,  2.41it/s]"
     ]
    },
    {
     "name": "stdout",
     "output_type": "stream",
     "text": [
      "Sean_Penn\n"
     ]
    },
    {
     "name": "stderr",
     "output_type": "stream",
     "text": [
      " 89%|████████▉ | 539/606 [02:08<00:27,  2.48it/s]"
     ]
    },
    {
     "name": "stdout",
     "output_type": "stream",
     "text": [
      "Atal_Bihari_Vajpayee\n"
     ]
    },
    {
     "name": "stderr",
     "output_type": "stream",
     "text": [
      " 89%|████████▉ | 540/606 [02:10<01:02,  1.06it/s]"
     ]
    },
    {
     "name": "stdout",
     "output_type": "stream",
     "text": [
      "Camilla_Parker_Bowles\n"
     ]
    },
    {
     "name": "stderr",
     "output_type": "stream",
     "text": [
      " 89%|████████▉ | 542/606 [02:11<00:39,  1.61it/s]"
     ]
    },
    {
     "name": "stdout",
     "output_type": "stream",
     "text": [
      "Andrea_Bocelli\n",
      "Hank_Azaria\n"
     ]
    },
    {
     "name": "stderr",
     "output_type": "stream",
     "text": [
      " 90%|████████▉ | 544/606 [02:11<00:24,  2.52it/s]"
     ]
    },
    {
     "name": "stdout",
     "output_type": "stream",
     "text": [
      "Frank_Marshall\n",
      "Bill_Clancy\n",
      "Mack_Brown\n"
     ]
    },
    {
     "name": "stderr",
     "output_type": "stream",
     "text": [
      " 90%|█████████ | 548/606 [02:11<00:13,  4.40it/s]"
     ]
    },
    {
     "name": "stdout",
     "output_type": "stream",
     "text": [
      "Aly_Wagner\n",
      "Hank_Bass\n",
      "Amanda_Coetzer\n"
     ]
    },
    {
     "name": "stderr",
     "output_type": "stream",
     "text": [
      " 91%|█████████ | 549/606 [02:12<00:12,  4.56it/s]"
     ]
    },
    {
     "name": "stdout",
     "output_type": "stream",
     "text": [
      "Andrew_Niccol\n"
     ]
    },
    {
     "name": "stderr",
     "output_type": "stream",
     "text": [
      " 91%|█████████ | 552/606 [02:12<00:09,  5.68it/s]"
     ]
    },
    {
     "name": "stdout",
     "output_type": "stream",
     "text": [
      "Annika_Sorenstam\n",
      "Hans_Peter_Briegel\n",
      "Sally_Kirkland\n"
     ]
    },
    {
     "name": "stderr",
     "output_type": "stream",
     "text": [
      " 92%|█████████▏| 555/606 [02:13<00:09,  5.52it/s]"
     ]
    },
    {
     "name": "stdout",
     "output_type": "stream",
     "text": [
      "Alicia_Molik\n",
      "Shireen_Amir_Begum\n",
      "Abdel_Madi_Shabneh\n"
     ]
    },
    {
     "name": "stderr",
     "output_type": "stream",
     "text": [
      " 92%|█████████▏| 557/606 [02:13<00:07,  6.59it/s]"
     ]
    },
    {
     "name": "stdout",
     "output_type": "stream",
     "text": [
      "Darrell_Royal\n",
      "Megawati_Sukarnoputri\n"
     ]
    },
    {
     "name": "stderr",
     "output_type": "stream",
     "text": [
      " 92%|█████████▏| 559/606 [02:17<00:35,  1.33it/s]"
     ]
    },
    {
     "name": "stdout",
     "output_type": "stream",
     "text": [
      "Howard_Stern\n",
      "Franklin_Damann\n"
     ]
    },
    {
     "name": "stderr",
     "output_type": "stream",
     "text": [
      " 92%|█████████▏| 560/606 [02:17<00:28,  1.64it/s]"
     ]
    },
    {
     "name": "stdout",
     "output_type": "stream",
     "text": [
      "Masum_Turker\n"
     ]
    },
    {
     "name": "stderr",
     "output_type": "stream",
     "text": [
      " 93%|█████████▎| 563/606 [02:18<00:14,  2.88it/s]"
     ]
    },
    {
     "name": "stdout",
     "output_type": "stream",
     "text": [
      "Daniel_Chin\n",
      "Normand_Legault\n",
      "Roy_Romanow\n"
     ]
    },
    {
     "name": "stderr",
     "output_type": "stream",
     "text": [
      " 93%|█████████▎| 565/606 [02:18<00:10,  3.94it/s]"
     ]
    },
    {
     "name": "stdout",
     "output_type": "stream",
     "text": [
      "Cheryl_Tiegs\n",
      "Ali_Khamenei\n"
     ]
    },
    {
     "name": "stderr",
     "output_type": "stream",
     "text": [
      " 93%|█████████▎| 566/606 [02:18<00:10,  3.82it/s]"
     ]
    },
    {
     "name": "stdout",
     "output_type": "stream",
     "text": [
      "Andy_Benes\n",
      "Chang_Dae-whan\n"
     ]
    },
    {
     "name": "stderr",
     "output_type": "stream",
     "text": [
      " 94%|█████████▎| 568/606 [02:19<00:09,  4.16it/s]"
     ]
    },
    {
     "name": "stdout",
     "output_type": "stream",
     "text": [
      "Oleg_Romantsev\n",
      "Bertie_Ahern\n"
     ]
    },
    {
     "name": "stderr",
     "output_type": "stream",
     "text": [
      " 94%|█████████▍| 570/606 [02:19<00:09,  3.91it/s]"
     ]
    },
    {
     "name": "stdout",
     "output_type": "stream",
     "text": [
      "Almeida_Baptista\n",
      "Andrew_Cuomo\n"
     ]
    },
    {
     "name": "stderr",
     "output_type": "stream",
     "text": [
      " 94%|█████████▍| 572/606 [02:19<00:07,  4.59it/s]"
     ]
    },
    {
     "name": "stdout",
     "output_type": "stream",
     "text": [
      "Anders_Fogh_Rasmussen\n"
     ]
    },
    {
     "name": "stderr",
     "output_type": "stream",
     "text": [
      " 95%|█████████▍| 574/606 [02:20<00:07,  4.02it/s]"
     ]
    },
    {
     "name": "stdout",
     "output_type": "stream",
     "text": [
      "Sally_Ride\n",
      "Eduard_Shevardnadze\n"
     ]
    },
    {
     "name": "stderr",
     "output_type": "stream",
     "text": [
      " 95%|█████████▍| 575/606 [02:21<00:10,  2.92it/s]"
     ]
    },
    {
     "name": "stdout",
     "output_type": "stream",
     "text": [
      "Carlos_Queiroz\n",
      "Floyd_Mayweather\n"
     ]
    },
    {
     "name": "stderr",
     "output_type": "stream",
     "text": [
      " 95%|█████████▌| 577/606 [02:21<00:07,  3.89it/s]"
     ]
    },
    {
     "name": "stdout",
     "output_type": "stream",
     "text": [
      "Laila_Ali\n"
     ]
    },
    {
     "name": "stderr",
     "output_type": "stream",
     "text": [
      " 95%|█████████▌| 578/606 [02:21<00:08,  3.41it/s]"
     ]
    },
    {
     "name": "stdout",
     "output_type": "stream",
     "text": [
      "Sachiko_Yamada\n"
     ]
    },
    {
     "name": "stderr",
     "output_type": "stream",
     "text": [
      " 96%|█████████▌| 580/606 [02:22<00:07,  3.60it/s]"
     ]
    },
    {
     "name": "stdout",
     "output_type": "stream",
     "text": [
      "David_Oh\n",
      "David_Provost\n"
     ]
    },
    {
     "name": "stderr",
     "output_type": "stream",
     "text": [
      " 96%|█████████▌| 581/606 [02:22<00:05,  4.23it/s]"
     ]
    },
    {
     "name": "stdout",
     "output_type": "stream",
     "text": [
      "Ari_Fleischer\n"
     ]
    },
    {
     "name": "stderr",
     "output_type": "stream",
     "text": [
      " 96%|█████████▌| 582/606 [02:23<00:13,  1.82it/s]"
     ]
    },
    {
     "name": "stdout",
     "output_type": "stream",
     "text": [
      "Guillermo_Coria\n"
     ]
    },
    {
     "name": "stderr",
     "output_type": "stream",
     "text": [
      " 97%|█████████▋| 585/606 [02:27<00:16,  1.30it/s]"
     ]
    },
    {
     "name": "stdout",
     "output_type": "stream",
     "text": [
      "Hatsui_Hasuike\n",
      "Franklin_Brown\n",
      "Fred_Rogers\n"
     ]
    },
    {
     "name": "stderr",
     "output_type": "stream",
     "text": [
      " 97%|█████████▋| 587/606 [02:27<00:09,  2.09it/s]"
     ]
    },
    {
     "name": "stdout",
     "output_type": "stream",
     "text": [
      "Bruce_Lunsford\n",
      "Amy_Brenneman\n"
     ]
    },
    {
     "name": "stderr",
     "output_type": "stream",
     "text": [
      " 97%|█████████▋| 590/606 [02:27<00:04,  3.77it/s]"
     ]
    },
    {
     "name": "stdout",
     "output_type": "stream",
     "text": [
      "Doc_Rivers\n",
      "Shirley_Jones\n",
      "Dwayne_Williams\n"
     ]
    },
    {
     "name": "stderr",
     "output_type": "stream",
     "text": [
      " 98%|█████████▊| 592/606 [02:28<00:02,  4.99it/s]"
     ]
    },
    {
     "name": "stdout",
     "output_type": "stream",
     "text": [
      "Daniel_Bruehl\n",
      "Arie_Haan\n"
     ]
    },
    {
     "name": "stderr",
     "output_type": "stream",
     "text": [
      " 98%|█████████▊| 595/606 [02:28<00:01,  6.63it/s]"
     ]
    },
    {
     "name": "stdout",
     "output_type": "stream",
     "text": [
      "Ana_Paula_Gerard\n",
      "Carlo_Azeglio_Ciampi\n",
      "Dan_Kellner\n"
     ]
    },
    {
     "name": "stderr",
     "output_type": "stream",
     "text": [
      " 99%|█████████▊| 597/606 [02:28<00:01,  7.64it/s]"
     ]
    },
    {
     "name": "stdout",
     "output_type": "stream",
     "text": [
      "Amr_Moussa\n",
      "Marco_Antonio_Barrera\n"
     ]
    },
    {
     "name": "stderr",
     "output_type": "stream",
     "text": [
      " 99%|█████████▊| 598/606 [02:29<00:01,  4.31it/s]"
     ]
    },
    {
     "name": "stdout",
     "output_type": "stream",
     "text": [
      "Elva_Hsiao\n",
      "Amanda_Marsh\n"
     ]
    },
    {
     "name": "stderr",
     "output_type": "stream",
     "text": [
      " 99%|█████████▉| 602/606 [02:29<00:00,  6.21it/s]"
     ]
    },
    {
     "name": "stdout",
     "output_type": "stream",
     "text": [
      "Andrew_Wetzler\n",
      "Amanda_Plumer\n",
      "Francisco_Garcia\n"
     ]
    },
    {
     "name": "stderr",
     "output_type": "stream",
     "text": [
      "100%|█████████▉| 603/606 [02:29<00:00,  6.38it/s]"
     ]
    },
    {
     "name": "stdout",
     "output_type": "stream",
     "text": [
      "Sabah_Al-Ahmad_Al-Jaber_Al-Sabah\n",
      "Andrei_Konchalovsky\n"
     ]
    },
    {
     "name": "stderr",
     "output_type": "stream",
     "text": [
      "100%|█████████▉| 605/606 [02:30<00:00,  6.91it/s]"
     ]
    },
    {
     "name": "stdout",
     "output_type": "stream",
     "text": [
      "Tim_Duncan\n"
     ]
    },
    {
     "name": "stderr",
     "output_type": "stream",
     "text": [
      "100%|██████████| 606/606 [02:30<00:00,  4.02it/s]\n"
     ]
    }
   ],
   "source": [
    "players = os.listdir(f'/Users/tayamayuto/Face_recognition_IF/data/{select_data}')\n",
    "\n",
    "for player in tqdm(players):\n",
    "    print(player)\n",
    "    player_embeddings, player_names = [], []\n",
    "\n",
    "    img_paths = glob(f'/Users/tayamayuto/Face_recognition_IF/data/{select_data}/{player}/*')\n",
    "    \n",
    "    for img_path in img_paths:\n",
    "        img = cv2.imread(img_path)\n",
    "        if img is None: continue\n",
    "\n",
    "        faces = app_pre.get(np.array(img))\n",
    "        if len(faces) == 0 : continue\n",
    "        player_embeddings.append(faces[0].embedding)\n",
    "        player_names.append(player)\n",
    "\n",
    "        if len(known_embeddings) == 10: break\n",
    "    \n",
    "    player_embeddings = np.stack(player_embeddings, axis=0)\n",
    "    known_embeddings.append(player_embeddings)\n",
    "    known_names += player_names\n",
    "known_embeddings = np.concatenate(known_embeddings, axis=0)\n",
    "        "
   ]
  },
  {
   "cell_type": "code",
   "execution_count": 113,
   "metadata": {},
   "outputs": [
    {
     "name": "stdout",
     "output_type": "stream",
     "text": [
      "Applied providers: ['CPUExecutionProvider'], with options: {'CPUExecutionProvider': {}}\n",
      "find model: /Users/tayamayuto/.insightface/models/models/buffalo_s/1k3d68.onnx landmark_3d_68 ['None', 3, 192, 192] 0.0 1.0\n",
      "Applied providers: ['CPUExecutionProvider'], with options: {'CPUExecutionProvider': {}}\n",
      "find model: /Users/tayamayuto/.insightface/models/models/buffalo_s/2d106det.onnx landmark_2d_106 ['None', 3, 192, 192] 0.0 1.0\n",
      "Applied providers: ['CPUExecutionProvider'], with options: {'CPUExecutionProvider': {}}\n",
      "find model: /Users/tayamayuto/.insightface/models/models/buffalo_s/det_500m.onnx detection [1, 3, '?', '?'] 127.5 128.0\n",
      "Applied providers: ['CPUExecutionProvider'], with options: {'CPUExecutionProvider': {}}\n",
      "find model: /Users/tayamayuto/.insightface/models/models/buffalo_s/genderage.onnx genderage ['None', 3, 96, 96] 0.0 1.0\n",
      "Applied providers: ['CPUExecutionProvider'], with options: {'CPUExecutionProvider': {}}\n",
      "find model: /Users/tayamayuto/.insightface/models/models/buffalo_s/w600k_mbf.onnx recognition ['None', 3, 112, 112] 127.5 127.5\n",
      "set det-size: (640, 640)\n",
      "{'Salma_Hayek': 19.008055, 'Shinya_Taniguchi': 0.0, 'Jacqueline_Marris': 35.234276, 'Hank_Aaron': 56.875526, 'Cathy_Freeman': 15.759094, 'Nizar_Trabelsi': 24.678307, 'Alison_Lohman': 0.0, 'Duane_Lee_Chapman': 47.87211, 'Andre_Smith': 5.2323656, 'Charles_Rogers': 0.0, 'Anne_Donovan': 0.0, 'Caroline_Link': 0.0, 'Bryan_Murray': 0.0, 'Mathias_Reichhold': 25.877539, 'Bill_Cartwright': 0.0, 'Manuel_Jesus': 2.8872786, 'James_Sensenbrenner': 17.852848, 'Carlos_Iturgaitz': 0.0, 'Lars_Burgsmuller': 36.657494, 'Alma_Powell': 54.292847, 'Shobha_De': 0.0, 'Anita_DeFrantz': 0.0, 'Raf_Vallone': 0.0, 'Chris_Cornell': 23.251604, 'Matt_Morris': 7.1429453, 'Carlos_Ghosn': 0.121166706, 'Aline_Chretien': 0.0, 'Andrew_Luster': 0.0, 'Bill_Sizemore': 85.71095, 'Felipe_De_Borbon': 78.64213, 'Noor_Mohammed': 0.0, 'Gary_Gitnick': 24.277775, 'Hugh_Carey': 6.083738, 'Rosny_Desroches': 4.2738934, 'Julie_Andrews': 0.0, 'Padraig_Harrington': 3.1136491, 'Chen_Liang_Yu': 0.0, 'Allison_Searing': 11.0362015, 'Laura_Linney': 10.339699, 'Cecile_de_France': 23.070797, 'Adrian_Fernandez': 0.0, 'Casy_Preslar': 15.453962, 'Matt_Roney': 0.0, 'Howard_Schultz': 0.5203748, 'Shigeru_Ishiba': 0.0, 'Beyonce_Knowles': 6.97221, 'Ivan_Shvedoff': 0.0, 'Carolyn_Kuhl': 18.597557, 'Adisai_Bodharamik': 24.373192, 'Cynthia_Rowley': 65.95505, 'Shinzo_Abe': 0.0, 'Dan_Monson': 0.0, 'Ruth_Stubbs': 0.0, 'James_McMahon': 40.80549, 'BJ_Habibie': 0.0, 'Ali_Ahmeti': 0.0, 'Humberto_Espinoza': 0.0, 'Aram_Adler': 0.0, 'Luis_Horna': 0.0, 'Larry_Wilmore': 9.143291, 'Alvaro_Uribe': 40.424316, 'Monica_Gabrielle': 0.0, 'Stacey_Jones': 25.977356, 'Damarius_Bilbo': 36.21028, 'Ana_Claudia_Talancon': 27.60778, 'Eddie_Sutton': 0.0, 'Cesar_Gaviria': 0.0, 'Bulent_Ecevit': 0.0, 'Hubie_Brown': 0.0, 'Kurt_Warner': 18.671902, 'Luis_Guzman': 0.0, 'Carlos_Fasciolo': 47.07746, 'Gustavo_Noboa': 25.01616, 'Jacqueline_Edwards': 61.954643, 'Jake_Brace': 7.9448986, 'Dagmar_Dunlevy': 0.0, 'Andrew_Weissmann': 20.283691, 'David_Chase': 0.0, 'Bob_nox': 20.69083, 'Andres_Manuel_Lopez_Obrador': 39.676918, 'Paddy_Long': 0.76958275, 'Cemil_Cicek': 13.259747, 'Filippo_Inzaghi': 17.376968, 'Malak_Habbak': 28.60976, 'Mike_Johanns': 64.20491, 'Anja_Paerson': 0.0, 'Andres_Pastrana': 17.406292, 'Karen_Mok': 12.103811, 'Oleksandr_Moroz': 4.9633884, 'Daniel_Barenboim': 3.2289724, 'Agnes_Bruckner': 0.0, 'Barbara_Brezigar': 33.887672, 'Kurt_Thomas': 0.0, 'Allan_Kemakeza': 0.0, 'Dan_LaCoutre': 0.0, 'Anna_Chicherova': 31.290857, 'Ian_Campbell': 0.0, 'Lachlan_Murdoch': 0.0, 'Jamie_Carey': 6.8545113, 'Andrew_Shutley': 0.0, 'Billy_Graham': 1.1099069, 'Kirsten_Dunst': 26.422787, 'Eddy_Hartenstein': 31.816397, 'Adolfo_Aguilar_Zinser': 0.0, 'Bill_Guerin': 0.0, 'Lucrecia_Orozco': 28.363987, 'Andres_DAlessandro': 6.0488033, 'JC_Chasez': 70.89278, 'Manuel_Pellegrini': 38.343964, 'Aaron_Eckhart': 10.753739, 'Anderson_Varejao': 23.814684, 'Anne_Cavers': 24.021517, 'Nuck_Kiy': 0.0, 'Fernando_Hierro': 0.0, 'Elena_de_Chavez': 2.4507227, 'Bill_Parcells': 16.058956, 'Ruben_Sierra': 0.38818502, 'Olivier_Rochus': 13.080688, 'Lana_Clarkson': 22.731495, 'Dexter_Jackson': 3.8575525, 'Anwar_Ibrahim': 10.887762, 'Anthony_Hopkins': 3.2070184, 'Donna_Brazile': 77.7115, 'Ambrose_Lee': 28.543093, 'Rainer_Gut': 6.0402527, 'Andrew_Jarecki': 10.933386, 'Andy_Bryant': 0.0, 'Cristina_Torrens_Valero': 0.0, 'Hartmut_Mehdorn': 15.911743, 'Donald_Carty': 8.621044, 'Anna_Kournikova': 0.0, 'Harvey_Fierstein': 0.0, 'Annie_Chaplin': 43.171215, 'Maha_Habib': 74.25748, 'Billy_Gilman': 0.0, 'Ruano_Pascual': 14.90406, 'Otto_Schily': 0.0, 'David_Bowie': 0.0, 'Blythe_Danner': 0.0, 'Rafael_Bielsa': 28.011215, 'Djabir_Said-Guerni': 0.0, 'Ataollah_Mohajerani': 0.0, 'Filippo_Volandri': 5.6146054, 'Charles_Cope': 16.460674, 'Frank_Abagnale_Jr': 4.36265, 'Shingo_Katayama': 0.0, 'Frank_Zappa': 40.148937, 'Cacy_rox': 0.0, 'Hamid_Karzai': 10.576835, 'Tim_Blake_Nelson': 25.889544, 'Bill_Nelson': 20.021816, 'Alicia_Hollowell': 1.8397722, 'Alonzo_Mourning': 0.0, 'Abdulaziz_Kamilov': 0.0, 'Andre_Techine': 0.0, 'Chick_Hearn': 0.0, 'Tim_Conway': 17.098322, 'Alen_dan': 0.0, 'Andreas_Vinciguerra': 0.0, 'Kate_Capshaw': 55.907864, 'Aaron_Peirsol': 47.105392, 'Carmen_Electra': 60.55722, 'Craig_MacTavish': 28.775032, 'Muhammad_Ali': 7.2122283, 'Ivan_Stambolic': 82.31107, 'Avril_Lavigne': 8.173879, 'Andrea_Kiser': 0.0, 'Cesar_Maia': 26.37183, 'Frank_Murkowski': 0.0, 'Raja_Ibrahim': 0.0, 'Amelie_Mauresmo': 6.8824778, 'Alessandro_Nesta': 10.017587, 'Bernice_Wong': 1.0335994, 'Aaron_Sorkin': 0.0, 'Bustam_A_Zedan_Aljanabi': 40.077957, 'Pieter_Bouw': 41.67883, 'Adriana_Perez_Navarro': 16.329445, 'Craig_Fitzgibbon': 11.511751, 'Luis_Gonzalez_Macchi': 0.16822854, 'Rudy_Tomjanovich': 0.0, 'Pedro_Pauleta': 0.0, 'Ellen_Martin': 12.249261, 'Monica_Bellucci': 32.769485, 'Fujio_Cho': 13.610608, 'Paddy_Torsney': 2.6958656, 'OJ_Simpson': 40.453197, 'Ahmed_Ghazi': 21.379168, 'Charlie_Zaa': 0.0, 'Ana_Guevara': 27.72161, 'Eduard_Limonov': 29.53251, 'Anthony_Ervin': 37.36102, 'Larry_Beinfest': 4.060895, 'Jose_Cevallos': 0.0, 'Mary_Jo_Myers': 0.0, 'Janela_Jara': 10.427804, 'Ahmed_Lopez': 56.85637, 'Andrei_Nikolishin': 2.5052176, 'Jan_Bjoerklund': 0.0, 'Gustavo_Terrazas': 28.370392, 'Andrei_Mikhnevich': 54.680405, 'Marc_Racicot': 0.0, 'Andrew_Bunner': 5.7606325, 'Allen_Iverson': 4.9723606, 'Alice_Fisher': 0.0, 'Luo_Linquan': 0.0, 'Anders_Ebbeson': 1.4426408, 'Matt_Siebrandt': 10.484775, 'Dewayne_White': 0.0, 'Andre_Lange': 0.0, 'Ana_Isabel_Sanchez': 24.929787, 'Elias_Attallah': 30.24958, 'Peter_Fonda': 1.995636, 'Dario_Camuffo': 68.43053, 'Amy_Yasbeck': 22.83247, 'Cameron_Diaz': 0.0, 'Andrew_Caldecott': 28.703377, 'Hadley_Bilger': 0.0, 'Aaron_Guiel': 1.8070517, 'Dorothy_Lamour': 0.0, 'Amy_Redford': 0.0, 'Carl_Levin': 21.967678, 'Charlie_Williams': 0.0, 'Annette_Lu': 50.867218, 'Lutz_Freitag': 3.4567738, 'Aparna_Pillai': 0.0, 'Tim_Floyd': 48.34602, 'James_Brazelton': 0.0, 'Anna_Faris': 17.795504, 'Charles_Richardson': 25.716198, 'Chelsea_Clinton': 69.22323, 'Elijan_Ingram': 0.0, 'Catriona_Le_May_Doan': 0.0, 'Jaccy_Ann': 0.0, 'Abbas_Kiarostami': 0.0, 'Bijan_Darvish': 5.9865723, 'Roy_Williams': 7.813015, 'Carla_Tricoli': 20.270954, 'Bill_OReilly': 35.348255, 'Alex_Wallau': 13.259309, 'Ruth_Dreifuss': 0.0, 'Chen_Kaige': 0.0, 'Abdel_Nasser_Assidi': 0.0, 'Azmi_Bishara': 0.0, 'Saburo_Kawabuchi': 10.865857, 'Edward_Greenspan': 30.981836, 'Rashid_Qureshi': 0.0, 'Charles_Schumer': 31.312021, 'Fred_Huff': 0.0, 'Lars_Von_Trier': 0.0, 'Allan_Wagner': 0.0, 'Cho_Myung-kyun': 18.422506, 'Camille_Colvin': 40.511917, 'Anthony_Carter': 0.0, 'Joy_Bryant': 30.609194, 'Bill_Herrion': 10.940006, 'Harald_Ringstorff': 0.0, 'Ann_Godbehere': 41.0365, 'Andrew_Sabey': 75.907974, 'Anna_Jones': 0.0, 'Alicia_Keys': 0.0, 'Abba_Eban': 0.0, 'Guillermo_Canas': 4.0520062, 'Ann_Veneman': 4.9209895, 'Chhouk_Rin': 27.232664, 'Frank_Bell': 65.51604, 'Carol_Carmody': 0.0, 'Morgan_Freeman': 0.0, 'Annie-Jeanne_Reynaud': 4.3651466, 'Artieas_Shanks': 0.0, 'Atiabet_Ijan_Amabel': 15.77845, 'James_Ivory': 9.735678, 'Hugh_Campbell': 7.2179923, 'Raquel_Welch': 5.8399143, 'Anthony_Fauci': 12.597869, 'Iain_Duncan_Smith': 3.3510392, 'Laura_Marlow': 0.0, 'Joxel_Garcia': 0.0, 'Alina_Kabaeva': 18.474546, 'Anzori_Kikalishvili': 86.99827, 'Hamad_Bin_Jassim': 22.092768, 'Stella_McCartney': 55.462624, 'Carlos_Ruckauf': 0.0, 'Lech_Walesa': 0.0, 'Denis_Coderre': 0.0, 'Tim_Curry': 0.0, 'Anthony_Garotinho': 0.0, 'Saman_Shali': 0.0, 'Anne_McLellan': 0.0, 'Chris_Crocker': 31.143406, 'Sean_Townsend': 0.0, 'Fred_Swan': 22.715588, 'Abdel_Aziz_Al-Hakim': 14.8652, 'Donna_Barrera': 15.853484, 'Carlo_Ancelotti': 20.941345, 'Bill_Carmody': 29.099754, 'Amy_Pascal': 0.0, 'Habib_Rizieq': 3.5853615, 'Manuel_Llorente': 0.0, 'Iain_Richmond': 0.0, 'Bryan_Chui': 0.0, 'Nabil_Shaath': 23.586748, 'Andre_Agassi': 1.0581541, 'Billy_Edelin': 0.0, 'Choi_Yun-yong': 35.509827, 'Jean_Brumley': 0.0, 'Janice_Abreu': 0.0, 'Sadam_Hassan': 0.0, 'Jason_Campbell': 0.0, 'Feliciano_Lopez': 37.32499, 'Anastasia_Kelesidou': 0.0, 'Shigeo_Nagashima': 8.881905, 'Ali_Hammoud': 0.0, 'Darren_Campel': 8.3078575, 'Anthony_Corso': 0.0, 'Denis_Fassou-Nguesso': 18.23579, 'Anneli_Jaatteenmaki': 0.0, 'Andrzej_Tyszkiewicz': 29.6977, 'Scott_Wolf': 3.6891763, 'Charlize_Theron': 13.103394, 'Lazaro_Castro': 0.0, 'Allan_Houston': 0.0, 'Ana_Sebastiao': 25.790173, 'Elvis_Costello': 0.0, 'Olympia_Dukakis': 29.857376, 'Elijah_Wood': 0.0, 'Anne_ONeil': 0.0, 'Alistair_MacDonald': 39.19043, 'Alicia_Witt': 0.0, 'Ashraf_Alasmar': 0.0, 'Kirsten_Gilham': 37.64987, 'Kalid_Kaid': 32.155807, 'Jacqueline_Gold': 42.158485, 'Hung_Wan-ting': 26.88232, 'Bill_Stapleton': 12.034086, 'Alexandra_Pelosi': 76.998764, 'Lucio_Stanca': 1.1834061, 'Ari_Bousbib': 0.0, 'Ruth_Pearce': 0.0, 'Jack_Nicholson': 8.281598, 'Chris_Cooper': 11.699923, 'Raoul_Ruiz': 0.7509496, 'Katalin_Kollat': 25.300617, 'Kirsten_Clark': 46.04052, 'Chandrika_Kumaratunga': 28.71093, 'Sally_Field': 0.0, 'Ahmed_Ibrahim_Bilal': 14.275415, 'Marc_Grossman': 11.562294, 'Alfonso_Cuaron': 0.0, 'Abdoulaye_Wade': 8.243895, 'Gary_Leon_Ridgway': 28.987823, 'Jaime_Pressly': 8.980746, 'Rulon_Gardner': 19.85199, 'Anne_Krueger': 24.597845, 'Bill_Stein': 0.0, 'Amber_Frey': 22.532219, 'Hun_Sen': 32.71482, 'Cristina_Kirchner': 12.468834, 'Evo_Morales': 12.970776, 'Ahmad_Jbarah': 57.105816, 'Rainer_Schuettler': 12.609202, 'Aaron_Patterson': 17.15733, 'Jon_Kitna': 0.0, 'Lyudmila_Putin': 17.007778, 'Ana_Palacio': 0.0, 'Damon_Dash': 0.0, 'Amber_nan': 444.95215, 'Shingo_Suetsugu': 0.0, 'Andrea_De_Cruz': 15.469105, 'Jose_Manuel_Durao_Barroso': 16.45176, 'Frank_Beamer': 10.156975, 'Makiya_Ali_Hassan': 0.0, 'Fernando_Gonzalez': 13.91283, 'Alex_Sink': 24.819458, 'Otto_Reich': 0.0, 'Mona_Rishmawi': 24.496002, 'Saddam_Hussein': 15.955109, 'Aaron_Pena': 0.0, 'Blas_Ople': 24.435347, 'Shimon_Peres': 6.9380703, 'Koichi_Tanaka': 13.229137, 'Sada_Jacobson': 3.2236423, 'Carol_Burnett': 16.275778, 'Arthur_Johnson': 0.0, 'Dwayne_Wade': 109.32175, 'Arif_Mardin': 34.53265, 'Edward_Flynn': 9.983899, 'Christian_Bale': 19.44724, 'Antanas_Valionis': 0.0, 'Tiffany_Limos': 0.0, 'Paul_Martin': 32.87795, 'Arlen_Specter': 17.495068, 'Alvaro_Silva_Calderon': 14.488987, 'Amelia_Vega': 16.896307, 'Dyab_Abou_Jahjah': 18.633455, 'Nadia_Petrova': 8.012631, 'Ashton_Kutcher': 16.305511, 'Andrew_Firestone': 0.0, 'Ali_Fallahian': 0.0, 'Griffin_Colvin': 6.7913027, 'David_Obey': 9.152023, 'Elizabeth_Berkeley': 3.0637236, 'Park_Jie-won': 0.0, 'Ann_Morgan': 0.0, 'Carlos_Quintanilla_Schmidt': 55.789207, 'Nino_DAngelo': 0.0, 'Andrea_Yates': 13.109832, 'Arianna_Huffington': 9.547466, 'Mufti_Mohammad_Syed': 25.13308, 'Anastasia_Myskina': 0.0, 'Carin_Koch': 0.0, 'Fatmir_Limaj': 0.0, 'Patrick_McEnroe': 19.160667, 'Chris_Penn': 0.0, 'Anne_Heche': 0.0, 'Andre_Bucher': 6.2065735, 'Madeleine_Albright': 0.0, 'Allison_Janney': 36.422424, 'Adrian_McPherson': 0.683763, 'Elena_Bovina': 6.02919, 'Jason_Sehorn': 71.34039, 'Debra_Yang': 0.0, 'Hootie_Johnson': 3.449605, 'Anjum_Hussain': 23.863857, 'Arantxa_Sanchez-Vicario': 8.963509, 'Amber_Tamblyn': 39.50257, 'Felicity_Huffman': 0.0, 'Carolyn_Dawn_Johnson': 0.37877402, 'Aaron_Tippin': 0.0, 'Tim_Curley': 0.0, 'Chris_Noth': 38.200924, 'Ross_Verba': 0.0, 'Francisco_Maturana': 0.0, 'Ahmad_Masood': 0.0, 'Amram_Mitzna': 21.991543, 'Francisco_Santos': 7.369479, 'Sam_Torrance': 77.59029, 'Mahathir_Mohamad': 7.8009386, 'Mike_Holmgren': 7.107235, 'Anna_Nicole_Smith': 9.138464, 'Jaime_Orti': 54.12554, 'Sean_Patrick_Thomas': 6.184412, 'Aretha_Franklin': 34.10475, 'Laura_Morante': 50.965847, 'Donna_Morrissey': 0.0, 'Howard_Smith': 6.988781, 'Alyse_Beaupre': 3.7852793, 'Jack_LaLanne': 35.178684, 'Julianne_Moore': 22.847265, 'Chang_Jae_On': 0.5104952, 'Dudley_Rogers': 29.353724, 'Alicia_Silverstone': 18.680021, 'Shia_LaBeouf': 25.929615, 'Choi_Sung-hong': 19.367777, 'Ravan_AG_Farhadi': 0.0, 'Bryan_Cooley': 24.524193, 'Charles_Grassley': 15.404959, 'Eduardo_Chillida': 2.2603874, 'Allen_Rock': 40.826813, 'Ashraf_Ghani': 0.0, 'Charles_Chandler_IV': 69.141235, 'Moon-So-ri': 0.0, 'Amy_Gale': 0.0, 'Frances_Fisher': 63.52871, 'Sachin_Tendulkar': 9.684095, 'Karen_Lynn_Gorney': 15.374143, 'Alimzhan_Tokhtakhounov': 20.147024, 'Arturo_Gatti': 52.514057, 'Ali_Bin_Hussein': 38.893547, 'Donald_Evans': 0.0, 'Tiger_Woods': 1.6029083, 'Dai_Bachtiar': 1.5775166, 'Anatoliy_Kinakh': 0.0, 'Cate_Blanchett': 17.371893, 'Norman_Mineta': 42.14052, 'Alyson_Hannigan': 53.537163, 'Tim_Allen': 16.693066, 'Catherine_Bell': 0.0, 'Butch_Davis': 0.0, 'Jane_Clayson': 0.0, 'Gustavo_Kuerten': 8.623746, 'Andrew_Fastow': 37.957413, 'Javier_Vazquez': 3.6732936, 'Annette_Bening': 0.0, 'Spike_Lee': 52.653465, 'James_Cunningham': 0.0, 'Hal_Gehman': 3.2519333, 'Jack_Smith': 0.0, 'Barbara_De_Brun': 5.5057907, 'Karen_Clarkson': 0.0, 'Fernando_Henrique_Cardoso': 0.0, 'Cristina_Saralegui': 44.120964, 'Fran_Drescher': 17.27014, 'Norodom_Chakrapong': 49.722813, 'Fruit_Chan': 0.0, 'Bill_Graham': 3.0899591, 'Dule_Hill': 0.0, 'Nong_Duc_Manh': 10.190648, 'Frank_Pallone': 0.0, 'Bianca_Jagger': 30.573236, 'David_Blaine': 0.0, 'Ann_Landers': 0.0, 'Lucio_Gutierrez': 19.06948, 'Stacey_Dales-Schuman': 0.0, 'Jon_Gruden': 29.015924, 'Bertrand_Bonello': 35.270805, 'Amy_Cotton': 6.048807, 'Donald_Fehr': 38.81524, 'Kate_Burton': 0.0, 'Magui_Serna': 15.0073595, 'Tim_Henman': 18.928747, 'Rupert_Grint': 0.0, 'Ariel_Sharon': 7.692589, 'Austin_Kearns': 19.301128, 'Tim_Chapman': 5.004611, 'Adrian_Murrell': 0.0, 'Annie_Machon': 29.259232, 'Ruth_Harlow': 31.339523, 'Carina_Lau_Ka-ling': 1.6882987, 'Muffet_McGraw': 11.3288965, 'Luther_Htu': 0.0, 'Andrew_Gilligan': 22.911077, 'Nora_Bendijo': 0.0, 'Anthony_Hazen': 0.0, 'Andrew_Bernard': 44.661522, 'Adrianna_Zuzic': 27.55042, 'Arthur_Martinez': 37.746048, 'Hans-Christian_Schmid': 0.0, 'Nadia_Forte': 0.0, 'Morgan_Fairchild': 0.0, 'Marc_Leger': 0.0, 'Guillermo_Monroy': 1.8977928, 'Eva_Mendes': 17.301252, 'Alvaro_Noboa': 30.702143, 'Amy_Smart': 0.0, 'Filip_De_Winter': 0.0, 'Malcolm_Glazer': 0.0, 'Hamid_Efendi': 0.0, 'Adrien_Brody': 5.2493134, 'Sean_Penn': 7.321383, 'Atal_Bihari_Vajpayee': 2.9429142, 'Camilla_Parker_Bowles': 31.177675, 'Andrea_Bocelli': 6.490679, 'Hank_Azaria': 0.0, 'Frank_Marshall': 0.0, 'Bill_Clancy': 0.0, 'Mack_Brown': 8.113441, 'Aly_Wagner': 22.72338, 'Hank_Bass': 0.0, 'Amanda_Coetzer': 0.0, 'Andrew_Niccol': 0.0, 'Annika_Sorenstam': 0.0, 'Hans_Peter_Briegel': 0.0, 'Sally_Kirkland': 4.62965, 'Alicia_Molik': 26.708931, 'Shireen_Amir_Begum': 0.0, 'Abdel_Madi_Shabneh': 2.5886545, 'Darrell_Royal': 1.292923, 'Megawati_Sukarnoputri': 14.793026, 'Howard_Stern': 0.0, 'Franklin_Damann': 41.980026, 'Masum_Turker': 17.581507, 'Daniel_Chin': 0.0, 'Normand_Legault': 23.876427, 'Roy_Romanow': 0.0, 'Cheryl_Tiegs': 16.717224, 'Ali_Khamenei': 0.0, 'Andy_Benes': 0.0, 'Chang_Dae-whan': 0.0, 'Oleg_Romantsev': 53.156796, 'Bertie_Ahern': 40.538498, 'Almeida_Baptista': 15.532709, 'Andrew_Cuomo': 0.0, 'Anders_Fogh_Rasmussen': 14.616905, 'Sally_Ride': 6.1549788, 'Eduard_Shevardnadze': 0.8759028, 'Carlos_Queiroz': 30.37721, 'Floyd_Mayweather': 16.61433, 'Laila_Ali': 28.622072, 'Sachiko_Yamada': 33.22193, 'David_Oh': 0.0, 'David_Provost': 19.094414, 'Ari_Fleischer': 0.0, 'Guillermo_Coria': 13.681784, 'Hatsui_Hasuike': 6.861845, 'Franklin_Brown': 31.26775, 'Fred_Rogers': 0.0, 'Bruce_Lunsford': 0.0, 'Amy_Brenneman': 51.10875, 'Doc_Rivers': 10.48951, 'Shirley_Jones': 0.0, 'Dwayne_Williams': 2.2783966, 'Daniel_Bruehl': 14.924125, 'Arie_Haan': 7.3592005, 'Ana_Paula_Gerard': 0.0, 'Carlo_Azeglio_Ciampi': 0.0, 'Dan_Kellner': 0.0, 'Amr_Moussa': 22.172346, 'Marco_Antonio_Barrera': 32.973103, 'Elva_Hsiao': 49.973534, 'Amanda_Marsh': 0.0, 'Andrew_Wetzler': 9.676041, 'Amanda_Plumer': 16.986609, 'Francisco_Garcia': 23.323559, 'Sabah_Al-Ahmad_Al-Jaber_Al-Sabah': 0.0, 'Andrei_Konchalovsky': 0.0, 'Tim_Duncan': 3.2287426}\n",
      "{'Salma_Hayek': 14.644822, 'Shinya_Taniguchi': 0.0, 'Jacqueline_Marris': 0.0, 'Hank_Aaron': 74.438995, 'Cathy_Freeman': 30.901318, 'Nizar_Trabelsi': 0.29963875, 'Alison_Lohman': 16.765165, 'Duane_Lee_Chapman': 7.0057573, 'Andre_Smith': 0.0, 'Charles_Rogers': 25.263878, 'Anne_Donovan': 53.981766, 'Caroline_Link': 0.0, 'Bryan_Murray': 0.0, 'Mathias_Reichhold': 0.0, 'Bill_Cartwright': 52.958504, 'Manuel_Jesus': 0.0, 'James_Sensenbrenner': 0.0, 'Carlos_Iturgaitz': 0.0, 'Lars_Burgsmuller': 0.0, 'Alma_Powell': 15.655547, 'Shobha_De': 0.0, 'Anita_DeFrantz': 13.240547, 'Raf_Vallone': 24.024874, 'Chris_Cornell': 0.0, 'Matt_Morris': 0.0, 'Carlos_Ghosn': 8.834522, 'Aline_Chretien': 16.406633, 'Andrew_Luster': 0.0, 'Bill_Sizemore': 0.0, 'Felipe_De_Borbon': 0.0, 'Noor_Mohammed': 0.0, 'Gary_Gitnick': 47.656048, 'Hugh_Carey': 0.0, 'Rosny_Desroches': 0.0, 'Julie_Andrews': 0.0, 'Padraig_Harrington': 4.1261516, 'Chen_Liang_Yu': 0.0, 'Allison_Searing': 0.0, 'Laura_Linney': 18.804264, 'Cecile_de_France': 17.481428, 'Adrian_Fernandez': 0.0, 'Casy_Preslar': 68.44814, 'Matt_Roney': 16.547115, 'Howard_Schultz': 5.5084896, 'Shigeru_Ishiba': 24.551037, 'Beyonce_Knowles': 5.5395284, 'Ivan_Shvedoff': 0.0, 'Carolyn_Kuhl': 0.0, 'Adisai_Bodharamik': 47.80705, 'Cynthia_Rowley': 12.125212, 'Shinzo_Abe': 0.0, 'Dan_Monson': 22.359318, 'Ruth_Stubbs': 14.0371895, 'James_McMahon': 50.279984, 'BJ_Habibie': 0.0, 'Ali_Ahmeti': 33.486042, 'Humberto_Espinoza': 0.0, 'Aram_Adler': 0.0, 'Luis_Horna': 11.306236, 'Larry_Wilmore': 0.0, 'Alvaro_Uribe': 26.951376, 'Monica_Gabrielle': 0.0, 'Stacey_Jones': 0.0, 'Damarius_Bilbo': 0.0, 'Ana_Claudia_Talancon': 35.905315, 'Eddie_Sutton': 24.2222, 'Cesar_Gaviria': 49.671616, 'Bulent_Ecevit': 46.91698, 'Hubie_Brown': 7.3759146, 'Kurt_Warner': 20.205296, 'Luis_Guzman': 0.0, 'Carlos_Fasciolo': 19.637499, 'Gustavo_Noboa': 34.377815, 'Jacqueline_Edwards': 0.0, 'Jake_Brace': 0.0, 'Dagmar_Dunlevy': 0.0, 'Andrew_Weissmann': 16.26921, 'David_Chase': 21.26017, 'Bob_nox': 458.61795, 'Andres_Manuel_Lopez_Obrador': 29.359417, 'Paddy_Long': 3.2771816, 'Cemil_Cicek': 0.0, 'Filippo_Inzaghi': 14.557975, 'Malak_Habbak': 0.0, 'Mike_Johanns': 14.994081, 'Anja_Paerson': 29.990164, 'Andres_Pastrana': 0.0, 'Karen_Mok': 0.0, 'Oleksandr_Moroz': 0.0, 'Daniel_Barenboim': 0.0, 'Agnes_Bruckner': 0.0, 'Barbara_Brezigar': 19.331038, 'Kurt_Thomas': 10.624174, 'Allan_Kemakeza': 21.121267, 'Dan_LaCoutre': 0.0, 'Anna_Chicherova': 37.137146, 'Ian_Campbell': 2.870041, 'Lachlan_Murdoch': 0.0, 'Jamie_Carey': 7.738755, 'Andrew_Shutley': 58.02735, 'Billy_Graham': 8.937002, 'Kirsten_Dunst': 5.3686347, 'Eddy_Hartenstein': 0.0, 'Adolfo_Aguilar_Zinser': 0.0, 'Bill_Guerin': 0.0, 'Lucrecia_Orozco': 0.0, 'Andres_DAlessandro': 0.0, 'JC_Chasez': 0.0, 'Manuel_Pellegrini': 41.313805, 'Aaron_Eckhart': 42.70571, 'Anderson_Varejao': 1.9985123, 'Anne_Cavers': 0.0, 'Nuck_Kiy': 66.810684, 'Fernando_Hierro': 0.0, 'Elena_de_Chavez': 9.979495, 'Bill_Parcells': 21.538841, 'Ruben_Sierra': 8.296904, 'Olivier_Rochus': 0.0, 'Lana_Clarkson': 43.21505, 'Dexter_Jackson': 75.747086, 'Anwar_Ibrahim': 0.0, 'Anthony_Hopkins': 9.667004, 'Donna_Brazile': 19.292242, 'Ambrose_Lee': 0.0, 'Rainer_Gut': 0.0, 'Andrew_Jarecki': 0.0, 'Andy_Bryant': 0.0, 'Cristina_Torrens_Valero': 0.0, 'Hartmut_Mehdorn': 0.0, 'Donald_Carty': 0.0, 'Anna_Kournikova': 0.0, 'Harvey_Fierstein': 0.0, 'Annie_Chaplin': 5.0891953, 'Maha_Habib': 0.0, 'Billy_Gilman': 0.0, 'Ruano_Pascual': 0.0, 'Otto_Schily': 22.970114, 'David_Bowie': 54.07834, 'Blythe_Danner': 0.0, 'Rafael_Bielsa': 8.122387, 'Djabir_Said-Guerni': 0.0, 'Ataollah_Mohajerani': 0.0, 'Filippo_Volandri': 14.748855, 'Charles_Cope': 26.862215, 'Frank_Abagnale_Jr': 0.0, 'Shingo_Katayama': 0.0, 'Frank_Zappa': 25.698124, 'Cacy_rox': 0.0, 'Hamid_Karzai': 0.5211941, 'Tim_Blake_Nelson': 0.0, 'Bill_Nelson': 0.0, 'Alicia_Hollowell': 57.68798, 'Alonzo_Mourning': 32.309227, 'Abdulaziz_Kamilov': 23.166632, 'Andre_Techine': 0.0, 'Chick_Hearn': 74.26691, 'Tim_Conway': 4.6780267, 'Alen_dan': 50.292156, 'Andreas_Vinciguerra': 0.0, 'Kate_Capshaw': 3.888598, 'Aaron_Peirsol': 12.196613, 'Carmen_Electra': 2.7011836, 'Craig_MacTavish': 1.351655, 'Muhammad_Ali': 2.274723, 'Ivan_Stambolic': 19.217285, 'Avril_Lavigne': 48.441093, 'Andrea_Kiser': 0.0, 'Cesar_Maia': 4.981175, 'Frank_Murkowski': 8.239569, 'Raja_Ibrahim': 14.204747, 'Amelie_Mauresmo': 3.5750253, 'Alessandro_Nesta': 2.1398468, 'Bernice_Wong': 0.0, 'Aaron_Sorkin': 3.3060362, 'Bustam_A_Zedan_Aljanabi': 0.0, 'Pieter_Bouw': 0.0, 'Adriana_Perez_Navarro': 8.685941, 'Craig_Fitzgibbon': 36.670105, 'Luis_Gonzalez_Macchi': 0.0, 'Rudy_Tomjanovich': 18.81115, 'Pedro_Pauleta': 77.85459, 'Ellen_Martin': 37.833694, 'Monica_Bellucci': 6.449192, 'Fujio_Cho': 13.7519865, 'Paddy_Torsney': 40.034775, 'OJ_Simpson': 10.508556, 'Ahmed_Ghazi': 4.6641054, 'Charlie_Zaa': 44.053547, 'Ana_Guevara': 48.3773, 'Eduard_Limonov': 0.0, 'Anthony_Ervin': 0.0, 'Larry_Beinfest': 0.0, 'Jose_Cevallos': 0.0, 'Mary_Jo_Myers': 11.158057, 'Janela_Jara': 0.0, 'Ahmed_Lopez': 0.0, 'Andrei_Nikolishin': 0.0, 'Jan_Bjoerklund': 0.0, 'Gustavo_Terrazas': 40.654415, 'Andrei_Mikhnevich': 21.255894, 'Marc_Racicot': 80.771736, 'Andrew_Bunner': 0.79293156, 'Allen_Iverson': 0.0, 'Alice_Fisher': 0.0, 'Luo_Linquan': 0.0, 'Anders_Ebbeson': 0.0, 'Matt_Siebrandt': 0.0, 'Dewayne_White': 0.0, 'Andre_Lange': 4.1338816, 'Ana_Isabel_Sanchez': 8.620171, 'Elias_Attallah': 39.436764, 'Peter_Fonda': 0.0, 'Dario_Camuffo': 49.88426, 'Amy_Yasbeck': 0.0, 'Cameron_Diaz': 25.38253, 'Andrew_Caldecott': 0.0, 'Hadley_Bilger': 0.0, 'Aaron_Guiel': 8.733843, 'Dorothy_Lamour': 4.2049203, 'Amy_Redford': 0.0, 'Carl_Levin': 0.0, 'Charlie_Williams': 0.0, 'Annette_Lu': 0.0, 'Lutz_Freitag': 0.0, 'Aparna_Pillai': 0.0, 'Tim_Floyd': 0.0, 'James_Brazelton': 0.0, 'Anna_Faris': 0.24468398, 'Charles_Richardson': 45.24487, 'Chelsea_Clinton': 35.324596, 'Elijan_Ingram': 0.0, 'Catriona_Le_May_Doan': 0.0, 'Jaccy_Ann': 63.249012, 'Abbas_Kiarostami': 0.0, 'Bijan_Darvish': 0.0, 'Roy_Williams': 5.5936875, 'Carla_Tricoli': 26.646358, 'Bill_OReilly': 0.0, 'Alex_Wallau': 23.306822, 'Ruth_Dreifuss': 7.743616, 'Chen_Kaige': 0.0, 'Abdel_Nasser_Assidi': 0.26328373, 'Azmi_Bishara': 29.661192, 'Saburo_Kawabuchi': 2.7143176, 'Edward_Greenspan': 0.0, 'Rashid_Qureshi': 0.0, 'Charles_Schumer': 25.702667, 'Fred_Huff': 23.872166, 'Lars_Von_Trier': 19.271378, 'Allan_Wagner': 12.293273, 'Cho_Myung-kyun': 16.26466, 'Camille_Colvin': 56.763626, 'Anthony_Carter': 69.835075, 'Joy_Bryant': 4.7475257, 'Bill_Herrion': 0.0, 'Harald_Ringstorff': 45.573254, 'Ann_Godbehere': 0.0, 'Andrew_Sabey': 0.0, 'Anna_Jones': 0.0, 'Alicia_Keys': 0.0, 'Abba_Eban': 4.2623224, 'Guillermo_Canas': 35.696846, 'Ann_Veneman': 1.5149859, 'Chhouk_Rin': 0.0, 'Frank_Bell': 37.698425, 'Carol_Carmody': 7.283952, 'Morgan_Freeman': 0.0, 'Annie-Jeanne_Reynaud': 7.3895683, 'Artieas_Shanks': 25.86143, 'Atiabet_Ijan_Amabel': 4.768829, 'James_Ivory': 4.6981144, 'Hugh_Campbell': 9.580362, 'Raquel_Welch': 12.461811, 'Anthony_Fauci': 6.2775183, 'Iain_Duncan_Smith': 0.29343987, 'Laura_Marlow': 0.0, 'Joxel_Garcia': 0.0, 'Alina_Kabaeva': 11.381135, 'Anzori_Kikalishvili': 0.0, 'Hamad_Bin_Jassim': 0.0, 'Stella_McCartney': 0.0, 'Carlos_Ruckauf': 0.0, 'Lech_Walesa': 24.750576, 'Denis_Coderre': 0.0, 'Tim_Curry': 11.159814, 'Anthony_Garotinho': 1.1128259, 'Saman_Shali': 0.0, 'Anne_McLellan': 9.767939, 'Chris_Crocker': 32.162933, 'Sean_Townsend': 21.832066, 'Fred_Swan': 59.184914, 'Abdel_Aziz_Al-Hakim': 0.0, 'Donna_Barrera': 0.0, 'Carlo_Ancelotti': 24.107058, 'Bill_Carmody': 3.2630727, 'Amy_Pascal': 30.923275, 'Habib_Rizieq': 9.187245, 'Manuel_Llorente': 0.0, 'Iain_Richmond': 0.0, 'Bryan_Chui': 0.0, 'Nabil_Shaath': 7.9594064, 'Andre_Agassi': 3.2429137, 'Billy_Edelin': 3.8179483, 'Choi_Yun-yong': 0.0, 'Jean_Brumley': 6.2856154, 'Janice_Abreu': 0.0, 'Sadam_Hassan': 0.0, 'Jason_Campbell': 0.0, 'Feliciano_Lopez': 0.0, 'Anastasia_Kelesidou': 5.0856786, 'Shigeo_Nagashima': 0.0, 'Ali_Hammoud': 69.73331, 'Darren_Campel': 50.694397, 'Anthony_Corso': 25.674578, 'Denis_Fassou-Nguesso': 0.0, 'Anneli_Jaatteenmaki': 47.291725, 'Andrzej_Tyszkiewicz': 0.0, 'Scott_Wolf': 19.266533, 'Charlize_Theron': 0.0, 'Lazaro_Castro': 18.450583, 'Allan_Houston': 0.0, 'Ana_Sebastiao': 9.960247, 'Elvis_Costello': 0.0, 'Olympia_Dukakis': 0.0, 'Elijah_Wood': 12.386536, 'Anne_ONeil': 0.0, 'Alistair_MacDonald': 0.0, 'Alicia_Witt': 0.0, 'Ashraf_Alasmar': 0.0, 'Kirsten_Gilham': 0.0, 'Kalid_Kaid': 0.0, 'Jacqueline_Gold': 0.0, 'Hung_Wan-ting': 0.0, 'Bill_Stapleton': 4.8084445, 'Alexandra_Pelosi': 16.97491, 'Lucio_Stanca': 0.0, 'Ari_Bousbib': 58.2155, 'Ruth_Pearce': 98.5652, 'Jack_Nicholson': 9.386525, 'Chris_Cooper': 8.910279, 'Raoul_Ruiz': 8.995983, 'Katalin_Kollat': 0.0, 'Kirsten_Clark': 0.0, 'Chandrika_Kumaratunga': 0.0, 'Sally_Field': 0.49527264, 'Ahmed_Ibrahim_Bilal': 12.5639515, 'Marc_Grossman': 36.083336, 'Alfonso_Cuaron': 0.0, 'Abdoulaye_Wade': 25.899542, 'Gary_Leon_Ridgway': 39.737427, 'Jaime_Pressly': 0.0, 'Rulon_Gardner': 0.0, 'Anne_Krueger': 8.493282, 'Bill_Stein': 21.704742, 'Amber_Frey': 27.981073, 'Hun_Sen': 22.01759, 'Cristina_Kirchner': 21.44049, 'Evo_Morales': 74.614136, 'Ahmad_Jbarah': 0.0, 'Rainer_Schuettler': 16.963276, 'Aaron_Patterson': 13.671431, 'Jon_Kitna': 20.205597, 'Lyudmila_Putin': 5.30682, 'Ana_Palacio': 4.386745, 'Damon_Dash': 0.0, 'Amber_nan': 39.05603, 'Shingo_Suetsugu': 0.0, 'Andrea_De_Cruz': 0.0, 'Jose_Manuel_Durao_Barroso': 13.952118, 'Frank_Beamer': 0.0, 'Makiya_Ali_Hassan': 19.047667, 'Fernando_Gonzalez': 5.987661, 'Alex_Sink': 1.8488959, 'Otto_Reich': 4.434221, 'Mona_Rishmawi': 0.0, 'Saddam_Hussein': 11.761522, 'Aaron_Pena': 0.0, 'Blas_Ople': 81.14784, 'Shimon_Peres': 24.362152, 'Koichi_Tanaka': 0.0, 'Sada_Jacobson': 6.00233, 'Carol_Burnett': 0.0, 'Arthur_Johnson': 15.159298, 'Dwayne_Wade': 35.41286, 'Arif_Mardin': 17.937847, 'Edward_Flynn': 0.0, 'Christian_Bale': 41.36491, 'Antanas_Valionis': 25.726725, 'Tiffany_Limos': 0.0, 'Paul_Martin': 10.043436, 'Arlen_Specter': 18.057417, 'Alvaro_Silva_Calderon': 2.9662576, 'Amelia_Vega': 3.7219162, 'Dyab_Abou_Jahjah': 0.0, 'Nadia_Petrova': 23.224915, 'Ashton_Kutcher': 52.962948, 'Andrew_Firestone': 39.473194, 'Ali_Fallahian': 23.459099, 'Griffin_Colvin': 0.0, 'David_Obey': 48.56395, 'Elizabeth_Berkeley': 0.0, 'Park_Jie-won': 0.0, 'Ann_Morgan': 0.0, 'Carlos_Quintanilla_Schmidt': 5.2109365, 'Nino_DAngelo': 24.897633, 'Andrea_Yates': 0.0, 'Arianna_Huffington': 25.707338, 'Mufti_Mohammad_Syed': 0.0, 'Anastasia_Myskina': 13.9841385, 'Carin_Koch': 0.0, 'Fatmir_Limaj': 21.317795, 'Patrick_McEnroe': 5.2981973, 'Chris_Penn': 0.0, 'Anne_Heche': 0.0, 'Andre_Bucher': 10.199916, 'Madeleine_Albright': 19.11757, 'Allison_Janney': 23.913239, 'Adrian_McPherson': 34.67314, 'Elena_Bovina': 15.942101, 'Jason_Sehorn': 11.752533, 'Debra_Yang': 15.393569, 'Hootie_Johnson': 10.202534, 'Anjum_Hussain': 0.0, 'Arantxa_Sanchez-Vicario': 29.540993, 'Amber_Tamblyn': 0.43134403, 'Felicity_Huffman': 0.0, 'Carolyn_Dawn_Johnson': 4.215709, 'Aaron_Tippin': 44.553135, 'Tim_Curley': 86.30385, 'Chris_Noth': 19.733799, 'Ross_Verba': 30.539976, 'Francisco_Maturana': 52.105743, 'Ahmad_Masood': 0.0, 'Amram_Mitzna': 13.693306, 'Francisco_Santos': 10.346951, 'Sam_Torrance': 0.0, 'Mahathir_Mohamad': 26.209015, 'Mike_Holmgren': 0.0, 'Anna_Nicole_Smith': 13.552191, 'Jaime_Orti': 16.242805, 'Sean_Patrick_Thomas': 10.499089, 'Aretha_Franklin': 0.0, 'Laura_Morante': 0.0, 'Donna_Morrissey': 4.262274, 'Howard_Smith': 5.249733, 'Alyse_Beaupre': 0.0, 'Jack_LaLanne': 45.35212, 'Julianne_Moore': 22.075922, 'Chang_Jae_On': 0.0, 'Dudley_Rogers': 0.0, 'Alicia_Silverstone': 2.3258495, 'Shia_LaBeouf': 0.0, 'Choi_Sung-hong': 0.6008919, 'Ravan_AG_Farhadi': 24.369879, 'Bryan_Cooley': 0.0, 'Charles_Grassley': 0.0, 'Eduardo_Chillida': 0.0, 'Allen_Rock': 0.0, 'Ashraf_Ghani': 9.876406, 'Charles_Chandler_IV': 29.298923, 'Moon-So-ri': 0.0, 'Amy_Gale': 0.0, 'Frances_Fisher': 45.16715, 'Sachin_Tendulkar': 23.977592, 'Karen_Lynn_Gorney': 5.937669, 'Alimzhan_Tokhtakhounov': 0.0, 'Arturo_Gatti': 0.52983505, 'Ali_Bin_Hussein': 0.0, 'Donald_Evans': 0.0, 'Tiger_Woods': 16.750813, 'Dai_Bachtiar': 0.0, 'Anatoliy_Kinakh': 0.0, 'Cate_Blanchett': 44.834152, 'Norman_Mineta': 52.294327, 'Alyson_Hannigan': 0.0, 'Tim_Allen': 0.0, 'Catherine_Bell': 35.437935, 'Butch_Davis': 0.0, 'Jane_Clayson': 18.414373, 'Gustavo_Kuerten': 0.0, 'Andrew_Fastow': 0.0, 'Javier_Vazquez': 0.0, 'Annette_Bening': 6.2612925, 'Spike_Lee': 38.18949, 'James_Cunningham': 5.654787, 'Hal_Gehman': 0.0, 'Jack_Smith': 0.0, 'Barbara_De_Brun': 0.0, 'Karen_Clarkson': 19.514328, 'Fernando_Henrique_Cardoso': 0.95339465, 'Cristina_Saralegui': 7.691303, 'Fran_Drescher': 3.8882184, 'Norodom_Chakrapong': 58.960785, 'Fruit_Chan': 0.0, 'Bill_Graham': 8.619273, 'Dule_Hill': 0.0, 'Nong_Duc_Manh': 2.5605192, 'Frank_Pallone': 0.0, 'Bianca_Jagger': 3.0925741, 'David_Blaine': 0.0, 'Ann_Landers': 3.5001755, 'Lucio_Gutierrez': 26.861988, 'Stacey_Dales-Schuman': 0.0, 'Jon_Gruden': 36.035103, 'Bertrand_Bonello': 19.23156, 'Amy_Cotton': 22.660824, 'Donald_Fehr': 6.6223307, 'Kate_Burton': 0.0, 'Magui_Serna': 12.584292, 'Tim_Henman': 17.68778, 'Rupert_Grint': 3.22592, 'Ariel_Sharon': 38.529346, 'Austin_Kearns': 0.0, 'Tim_Chapman': 70.361275, 'Adrian_Murrell': 62.407257, 'Annie_Machon': 10.294706, 'Ruth_Harlow': 0.0, 'Carina_Lau_Ka-ling': 17.990747, 'Muffet_McGraw': 15.75439, 'Luther_Htu': 0.0, 'Andrew_Gilligan': 0.0, 'Nora_Bendijo': 24.649008, 'Anthony_Hazen': 34.14903, 'Andrew_Bernard': 6.3026257, 'Adrianna_Zuzic': 65.28166, 'Arthur_Martinez': 0.44705296, 'Hans-Christian_Schmid': 0.0, 'Nadia_Forte': 12.097359, 'Morgan_Fairchild': 3.3739138, 'Marc_Leger': 0.0, 'Guillermo_Monroy': 0.0, 'Eva_Mendes': 36.704277, 'Alvaro_Noboa': 4.129932, 'Amy_Smart': 0.0, 'Filip_De_Winter': 0.0, 'Malcolm_Glazer': 0.0, 'Hamid_Efendi': 30.867886, 'Adrien_Brody': 2.605027, 'Sean_Penn': 17.476053, 'Atal_Bihari_Vajpayee': 1.4044195, 'Camilla_Parker_Bowles': 0.0, 'Andrea_Bocelli': 2.9657621, 'Hank_Azaria': 0.0, 'Frank_Marshall': 0.0, 'Bill_Clancy': 0.0, 'Mack_Brown': 13.321484, 'Aly_Wagner': 0.0, 'Hank_Bass': 0.0, 'Amanda_Coetzer': 0.43145216, 'Andrew_Niccol': 20.169542, 'Annika_Sorenstam': 0.0, 'Hans_Peter_Briegel': 0.0, 'Sally_Kirkland': 2.8274896, 'Alicia_Molik': 0.0, 'Shireen_Amir_Begum': 0.0, 'Abdel_Madi_Shabneh': 0.0, 'Darrell_Royal': 0.0, 'Megawati_Sukarnoputri': 19.115698, 'Howard_Stern': 0.0, 'Franklin_Damann': 53.080822, 'Masum_Turker': 15.375618, 'Daniel_Chin': 43.328712, 'Normand_Legault': 0.0, 'Roy_Romanow': 0.0, 'Cheryl_Tiegs': 20.66608, 'Ali_Khamenei': 21.597656, 'Andy_Benes': 0.0, 'Chang_Dae-whan': 25.798025, 'Oleg_Romantsev': 51.57695, 'Bertie_Ahern': 0.0, 'Almeida_Baptista': 3.4151707, 'Andrew_Cuomo': 0.0, 'Anders_Fogh_Rasmussen': 46.647926, 'Sally_Ride': 28.734201, 'Eduard_Shevardnadze': 20.919622, 'Carlos_Queiroz': 0.0, 'Floyd_Mayweather': 72.72872, 'Laila_Ali': 4.7982564, 'Sachiko_Yamada': 0.0, 'David_Oh': 3.2325175, 'David_Provost': 0.0, 'Ari_Fleischer': 0.0, 'Guillermo_Coria': 7.784496, 'Hatsui_Hasuike': 56.047413, 'Franklin_Brown': 8.931962, 'Fred_Rogers': 44.472, 'Bruce_Lunsford': 23.445099, 'Amy_Brenneman': 10.964618, 'Doc_Rivers': 22.502705, 'Shirley_Jones': 0.0, 'Dwayne_Williams': 1.147358, 'Daniel_Bruehl': 107.37163, 'Arie_Haan': 0.0, 'Ana_Paula_Gerard': 39.56609, 'Carlo_Azeglio_Ciampi': 48.17506, 'Dan_Kellner': 0.0, 'Amr_Moussa': 0.0, 'Marco_Antonio_Barrera': 41.656467, 'Elva_Hsiao': 23.96376, 'Amanda_Marsh': 2.7366498, 'Andrew_Wetzler': 10.950065, 'Amanda_Plumer': 29.059391, 'Francisco_Garcia': 38.94153, 'Sabah_Al-Ahmad_Al-Jaber_Al-Sabah': 0.0, 'Andrei_Konchalovsky': 0.0, 'Tim_Duncan': 26.131874}\n",
      "{'Salma_Hayek': 0.0, 'Shinya_Taniguchi': 0.0, 'Jacqueline_Marris': 0.0, 'Hank_Aaron': 6.599493, 'Cathy_Freeman': 0.0, 'Nizar_Trabelsi': 22.443615, 'Alison_Lohman': 5.024173, 'Duane_Lee_Chapman': 0.0, 'Andre_Smith': 0.0, 'Charles_Rogers': 45.19967, 'Anne_Donovan': 14.851301, 'Caroline_Link': 62.720303, 'Bryan_Murray': 0.0, 'Mathias_Reichhold': 12.161618, 'Bill_Cartwright': 0.0, 'Manuel_Jesus': 0.0, 'James_Sensenbrenner': 12.111654, 'Carlos_Iturgaitz': 9.426646, 'Lars_Burgsmuller': 36.547226, 'Alma_Powell': 0.0, 'Shobha_De': 0.0, 'Anita_DeFrantz': 22.74964, 'Raf_Vallone': 0.0, 'Chris_Cornell': 0.0, 'Matt_Morris': 5.8025165, 'Carlos_Ghosn': 43.59836, 'Aline_Chretien': 0.0, 'Andrew_Luster': 8.040048, 'Bill_Sizemore': 13.502498, 'Felipe_De_Borbon': 0.0, 'Noor_Mohammed': 12.394506, 'Gary_Gitnick': 27.072903, 'Hugh_Carey': 0.0, 'Rosny_Desroches': 0.0, 'Julie_Andrews': 0.0, 'Padraig_Harrington': 13.919219, 'Chen_Liang_Yu': 40.945606, 'Allison_Searing': 14.436121, 'Laura_Linney': 20.740398, 'Cecile_de_France': 9.51848, 'Adrian_Fernandez': 0.0, 'Casy_Preslar': 6.646061, 'Matt_Roney': 0.0, 'Howard_Schultz': 0.0, 'Shigeru_Ishiba': 0.0, 'Beyonce_Knowles': 57.366837, 'Ivan_Shvedoff': 0.0, 'Carolyn_Kuhl': 0.0, 'Adisai_Bodharamik': 0.0, 'Cynthia_Rowley': 0.0, 'Shinzo_Abe': 9.626999, 'Dan_Monson': 0.0, 'Ruth_Stubbs': 0.0, 'James_McMahon': 0.0, 'BJ_Habibie': 0.0, 'Ali_Ahmeti': 0.0, 'Humberto_Espinoza': 0.0, 'Aram_Adler': 0.0, 'Luis_Horna': 13.192407, 'Larry_Wilmore': 0.0, 'Alvaro_Uribe': 23.552067, 'Monica_Gabrielle': 0.0, 'Stacey_Jones': 0.0, 'Damarius_Bilbo': 0.0, 'Ana_Claudia_Talancon': 0.0, 'Eddie_Sutton': 6.590964, 'Cesar_Gaviria': 27.602448, 'Bulent_Ecevit': 18.49478, 'Hubie_Brown': 28.619282, 'Kurt_Warner': 0.82474864, 'Luis_Guzman': 0.0, 'Carlos_Fasciolo': 33.50318, 'Gustavo_Noboa': 15.208848, 'Jacqueline_Edwards': 0.0, 'Jake_Brace': 0.0, 'Dagmar_Dunlevy': 0.0, 'Andrew_Weissmann': 0.0, 'David_Chase': 31.873016, 'Bob_nox': 47.437187, 'Andres_Manuel_Lopez_Obrador': 0.0, 'Paddy_Long': 96.83934, 'Cemil_Cicek': 47.187702, 'Filippo_Inzaghi': 23.248337, 'Malak_Habbak': 0.0, 'Mike_Johanns': 34.67553, 'Anja_Paerson': 21.570992, 'Andres_Pastrana': 0.0, 'Karen_Mok': 0.0, 'Oleksandr_Moroz': 0.0, 'Daniel_Barenboim': 16.255116, 'Agnes_Bruckner': 3.133459, 'Barbara_Brezigar': 7.7899504, 'Kurt_Thomas': 0.0, 'Allan_Kemakeza': 7.169503, 'Dan_LaCoutre': 5.5231266, 'Anna_Chicherova': 73.63396, 'Ian_Campbell': 26.253262, 'Lachlan_Murdoch': 0.0, 'Jamie_Carey': 23.027153, 'Andrew_Shutley': 18.052822, 'Billy_Graham': 33.63561, 'Kirsten_Dunst': 83.733574, 'Eddy_Hartenstein': 44.28331, 'Adolfo_Aguilar_Zinser': 46.37714, 'Bill_Guerin': 0.0, 'Lucrecia_Orozco': 0.0, 'Andres_DAlessandro': 0.0, 'JC_Chasez': 37.257164, 'Manuel_Pellegrini': 8.0287, 'Aaron_Eckhart': 0.0, 'Anderson_Varejao': 0.0, 'Anne_Cavers': 0.0, 'Nuck_Kiy': 0.0, 'Fernando_Hierro': 44.93688, 'Elena_de_Chavez': 0.0, 'Bill_Parcells': 14.086552, 'Ruben_Sierra': 0.0, 'Olivier_Rochus': 2.614289, 'Lana_Clarkson': 1.7650433, 'Dexter_Jackson': 7.3616734, 'Anwar_Ibrahim': 0.0, 'Anthony_Hopkins': 50.4786, 'Donna_Brazile': 0.0, 'Ambrose_Lee': 0.0, 'Rainer_Gut': 25.132477, 'Andrew_Jarecki': 26.558434, 'Andy_Bryant': 8.17583, 'Cristina_Torrens_Valero': 16.169998, 'Hartmut_Mehdorn': 0.0, 'Donald_Carty': 0.0, 'Anna_Kournikova': 14.114354, 'Harvey_Fierstein': 25.421585, 'Annie_Chaplin': 0.0, 'Maha_Habib': 27.957624, 'Billy_Gilman': 90.792656, 'Ruano_Pascual': 0.0, 'Otto_Schily': 14.82752, 'David_Bowie': 0.0, 'Blythe_Danner': 13.400763, 'Rafael_Bielsa': 0.0, 'Djabir_Said-Guerni': 0.0, 'Ataollah_Mohajerani': 17.935734, 'Filippo_Volandri': 47.025715, 'Charles_Cope': 0.0, 'Frank_Abagnale_Jr': 0.0, 'Shingo_Katayama': 34.165623, 'Frank_Zappa': 0.0, 'Cacy_rox': 0.0, 'Hamid_Karzai': 11.133015, 'Tim_Blake_Nelson': 4.140461, 'Bill_Nelson': 0.0, 'Alicia_Hollowell': 22.043299, 'Alonzo_Mourning': 11.457903, 'Abdulaziz_Kamilov': 80.68771, 'Andre_Techine': 0.0, 'Chick_Hearn': 24.865896, 'Tim_Conway': 27.802307, 'Alen_dan': 25.57629, 'Andreas_Vinciguerra': 0.0, 'Kate_Capshaw': 10.840134, 'Aaron_Peirsol': 42.77478, 'Carmen_Electra': 56.901962, 'Craig_MacTavish': 0.0, 'Muhammad_Ali': 11.593788, 'Ivan_Stambolic': 0.0, 'Avril_Lavigne': 97.761246, 'Andrea_Kiser': 21.059479, 'Cesar_Maia': 18.185396, 'Frank_Murkowski': 40.922714, 'Raja_Ibrahim': 0.0, 'Amelie_Mauresmo': 4.6119194, 'Alessandro_Nesta': 46.60641, 'Bernice_Wong': 23.834152, 'Aaron_Sorkin': 22.721838, 'Bustam_A_Zedan_Aljanabi': 0.0, 'Pieter_Bouw': 0.8893895, 'Adriana_Perez_Navarro': 12.547859, 'Craig_Fitzgibbon': 0.0, 'Luis_Gonzalez_Macchi': 0.0, 'Rudy_Tomjanovich': 64.82094, 'Pedro_Pauleta': 0.0, 'Ellen_Martin': 40.05515, 'Monica_Bellucci': 9.690956, 'Fujio_Cho': 6.588436, 'Paddy_Torsney': 6.142745, 'OJ_Simpson': 0.0, 'Ahmed_Ghazi': 0.0, 'Charlie_Zaa': 51.777225, 'Ana_Guevara': 5.611001, 'Eduard_Limonov': 36.424244, 'Anthony_Ervin': 72.30312, 'Larry_Beinfest': 25.024452, 'Jose_Cevallos': 0.0, 'Mary_Jo_Myers': 0.0, 'Janela_Jara': 59.86764, 'Ahmed_Lopez': 6.566865, 'Andrei_Nikolishin': 22.190283, 'Jan_Bjoerklund': 47.241577, 'Gustavo_Terrazas': 0.0, 'Andrei_Mikhnevich': 5.536728, 'Marc_Racicot': 84.75491, 'Andrew_Bunner': 12.394167, 'Allen_Iverson': 11.285631, 'Alice_Fisher': 35.855736, 'Luo_Linquan': 0.0, 'Anders_Ebbeson': 1.9918102, 'Matt_Siebrandt': 0.0, 'Dewayne_White': 0.0, 'Andre_Lange': 22.281393, 'Ana_Isabel_Sanchez': 0.0, 'Elias_Attallah': 0.0, 'Peter_Fonda': 0.0, 'Dario_Camuffo': 0.0, 'Amy_Yasbeck': 0.0, 'Cameron_Diaz': 1.6314944, 'Andrew_Caldecott': 0.0, 'Hadley_Bilger': 72.76343, 'Aaron_Guiel': 8.054474, 'Dorothy_Lamour': 65.649155, 'Amy_Redford': 32.56739, 'Carl_Levin': 14.16654, 'Charlie_Williams': 7.9839497, 'Annette_Lu': 2.1150038, 'Lutz_Freitag': 23.785217, 'Aparna_Pillai': 0.0, 'Tim_Floyd': 0.0, 'James_Brazelton': 55.020535, 'Anna_Faris': 0.0, 'Charles_Richardson': 85.487526, 'Chelsea_Clinton': 50.159416, 'Elijan_Ingram': 0.0, 'Catriona_Le_May_Doan': 46.07904, 'Jaccy_Ann': 599.3545, 'Abbas_Kiarostami': 0.0, 'Bijan_Darvish': 0.049708843, 'Roy_Williams': 9.112394, 'Carla_Tricoli': 0.0, 'Bill_OReilly': 67.87531, 'Alex_Wallau': 82.911514, 'Ruth_Dreifuss': 0.0, 'Chen_Kaige': 0.0, 'Abdel_Nasser_Assidi': 65.65509, 'Azmi_Bishara': 0.0, 'Saburo_Kawabuchi': 0.0, 'Edward_Greenspan': 15.919924, 'Rashid_Qureshi': 0.0, 'Charles_Schumer': 0.0, 'Fred_Huff': 56.230213, 'Lars_Von_Trier': 46.0325, 'Allan_Wagner': 0.0, 'Cho_Myung-kyun': 0.0, 'Camille_Colvin': 0.0, 'Anthony_Carter': 22.798447, 'Joy_Bryant': 0.0, 'Bill_Herrion': 38.224876, 'Harald_Ringstorff': 0.0, 'Ann_Godbehere': 0.0, 'Andrew_Sabey': 30.94352, 'Anna_Jones': 0.0, 'Alicia_Keys': 56.09034, 'Abba_Eban': 5.407113, 'Guillermo_Canas': 7.3541822, 'Ann_Veneman': 3.932647, 'Chhouk_Rin': 0.0, 'Frank_Bell': 0.0, 'Carol_Carmody': 0.0, 'Morgan_Freeman': 0.0, 'Annie-Jeanne_Reynaud': 0.0, 'Artieas_Shanks': 88.449005, 'Atiabet_Ijan_Amabel': 20.392658, 'James_Ivory': 0.0, 'Hugh_Campbell': 5.7378826, 'Raquel_Welch': 0.0, 'Anthony_Fauci': 23.542423, 'Iain_Duncan_Smith': 3.6892557, 'Laura_Marlow': 56.41004, 'Joxel_Garcia': 0.0, 'Alina_Kabaeva': 61.863808, 'Anzori_Kikalishvili': 0.0, 'Hamad_Bin_Jassim': 0.0, 'Stella_McCartney': 0.0, 'Carlos_Ruckauf': 25.117369, 'Lech_Walesa': 3.8656764, 'Denis_Coderre': 0.0, 'Tim_Curry': 0.0, 'Anthony_Garotinho': 8.306633, 'Saman_Shali': 44.1819, 'Anne_McLellan': 32.697037, 'Chris_Crocker': 0.0, 'Sean_Townsend': 14.825838, 'Fred_Swan': 28.514202, 'Abdel_Aziz_Al-Hakim': 2.2110157, 'Donna_Barrera': 38.73094, 'Carlo_Ancelotti': 5.5514812, 'Bill_Carmody': 0.0, 'Amy_Pascal': 25.519764, 'Habib_Rizieq': 0.33184433, 'Manuel_Llorente': 9.745312, 'Iain_Richmond': 86.84363, 'Bryan_Chui': 50.315563, 'Nabil_Shaath': 46.115993, 'Andre_Agassi': 11.275202, 'Billy_Edelin': 12.560118, 'Choi_Yun-yong': 8.572088, 'Jean_Brumley': 35.90917, 'Janice_Abreu': 0.0, 'Sadam_Hassan': 0.0, 'Jason_Campbell': 22.50555, 'Feliciano_Lopez': 0.0, 'Anastasia_Kelesidou': 0.0, 'Shigeo_Nagashima': 11.861609, 'Ali_Hammoud': 53.38803, 'Darren_Campel': 10.998909, 'Anthony_Corso': 53.779907, 'Denis_Fassou-Nguesso': 0.0, 'Anneli_Jaatteenmaki': 0.0, 'Andrzej_Tyszkiewicz': 0.0, 'Scott_Wolf': 5.8644047, 'Charlize_Theron': 17.279762, 'Lazaro_Castro': 14.701209, 'Allan_Houston': 0.0, 'Ana_Sebastiao': 0.0, 'Elvis_Costello': 44.86771, 'Olympia_Dukakis': 0.0, 'Elijah_Wood': 0.0, 'Anne_ONeil': 58.0477, 'Alistair_MacDonald': 37.17068, 'Alicia_Witt': 0.0, 'Ashraf_Alasmar': 14.8004, 'Kirsten_Gilham': 64.11426, 'Kalid_Kaid': 11.806269, 'Jacqueline_Gold': 0.0, 'Hung_Wan-ting': 0.0, 'Bill_Stapleton': 0.0, 'Alexandra_Pelosi': 0.0, 'Lucio_Stanca': 0.0, 'Ari_Bousbib': 17.126724, 'Ruth_Pearce': 6.318985, 'Jack_Nicholson': 45.963535, 'Chris_Cooper': 6.4251804, 'Raoul_Ruiz': 0.0, 'Katalin_Kollat': 0.0, 'Kirsten_Clark': 0.0, 'Chandrika_Kumaratunga': 30.27609, 'Sally_Field': 0.06106305, 'Ahmed_Ibrahim_Bilal': 0.0, 'Marc_Grossman': 11.745558, 'Alfonso_Cuaron': 14.870807, 'Abdoulaye_Wade': 32.49946, 'Gary_Leon_Ridgway': 0.0, 'Jaime_Pressly': 72.41386, 'Rulon_Gardner': 0.0, 'Anne_Krueger': 13.619061, 'Bill_Stein': 0.0, 'Amber_Frey': 0.0, 'Hun_Sen': 15.699935, 'Cristina_Kirchner': 0.0, 'Evo_Morales': 7.961054, 'Ahmad_Jbarah': 59.75614, 'Rainer_Schuettler': 12.110028, 'Aaron_Patterson': 0.0, 'Jon_Kitna': 0.0, 'Lyudmila_Putin': 0.0, 'Ana_Palacio': 0.0, 'Damon_Dash': 7.3661804, 'Amber_nan': 0.0, 'Shingo_Suetsugu': 56.64925, 'Andrea_De_Cruz': 5.2367344, 'Jose_Manuel_Durao_Barroso': 1.8386875, 'Frank_Beamer': 45.996773, 'Makiya_Ali_Hassan': 0.0, 'Fernando_Gonzalez': 54.931156, 'Alex_Sink': 15.093211, 'Otto_Reich': 0.0, 'Mona_Rishmawi': 0.0, 'Saddam_Hussein': 5.2561812, 'Aaron_Pena': 0.0, 'Blas_Ople': 0.0, 'Shimon_Peres': 16.60776, 'Koichi_Tanaka': 0.0, 'Sada_Jacobson': 31.384655, 'Carol_Burnett': 0.0, 'Arthur_Johnson': 0.0, 'Dwayne_Wade': 28.177238, 'Arif_Mardin': 0.0, 'Edward_Flynn': 0.0, 'Christian_Bale': 24.882177, 'Antanas_Valionis': 59.788124, 'Tiffany_Limos': 0.0, 'Paul_Martin': 8.811403, 'Arlen_Specter': 15.0335655, 'Alvaro_Silva_Calderon': 0.19321096, 'Amelia_Vega': 0.0, 'Dyab_Abou_Jahjah': 73.31638, 'Nadia_Petrova': 28.6948, 'Ashton_Kutcher': 0.0, 'Andrew_Firestone': 47.253033, 'Ali_Fallahian': 19.36903, 'Griffin_Colvin': 4.34017, 'David_Obey': 16.382189, 'Elizabeth_Berkeley': 0.21245813, 'Park_Jie-won': 0.0, 'Ann_Morgan': 29.16056, 'Carlos_Quintanilla_Schmidt': 0.0, 'Nino_DAngelo': 2.9027786, 'Andrea_Yates': 0.0, 'Arianna_Huffington': 25.559673, 'Mufti_Mohammad_Syed': 0.0, 'Anastasia_Myskina': 6.991888, 'Carin_Koch': 97.14879, 'Fatmir_Limaj': 16.24878, 'Patrick_McEnroe': 17.614002, 'Chris_Penn': 48.6584, 'Anne_Heche': 90.16133, 'Andre_Bucher': 0.0, 'Madeleine_Albright': 25.986557, 'Allison_Janney': 33.3095, 'Adrian_McPherson': 28.979664, 'Elena_Bovina': 37.7951, 'Jason_Sehorn': 33.473038, 'Debra_Yang': 0.0, 'Hootie_Johnson': 10.613194, 'Anjum_Hussain': 0.0, 'Arantxa_Sanchez-Vicario': 21.861034, 'Amber_Tamblyn': 0.0, 'Felicity_Huffman': 24.20649, 'Carolyn_Dawn_Johnson': 47.49361, 'Aaron_Tippin': 31.550596, 'Tim_Curley': 6.086852, 'Chris_Noth': 1.0305595, 'Ross_Verba': 0.0, 'Francisco_Maturana': 0.0, 'Ahmad_Masood': 0.0, 'Amram_Mitzna': 0.0, 'Francisco_Santos': 0.0, 'Sam_Torrance': 8.955424, 'Mahathir_Mohamad': 29.203747, 'Mike_Holmgren': 0.0, 'Anna_Nicole_Smith': 18.973986, 'Jaime_Orti': 0.0, 'Sean_Patrick_Thomas': 0.0, 'Aretha_Franklin': 0.0, 'Laura_Morante': 13.175453, 'Donna_Morrissey': 0.0, 'Howard_Smith': 1.2222091, 'Alyse_Beaupre': 44.878616, 'Jack_LaLanne': 0.0, 'Julianne_Moore': 14.5184965, 'Chang_Jae_On': 0.0, 'Dudley_Rogers': 21.608263, 'Alicia_Silverstone': 0.0, 'Shia_LaBeouf': 29.588627, 'Choi_Sung-hong': 0.0, 'Ravan_AG_Farhadi': 139.50671, 'Bryan_Cooley': 85.76563, 'Charles_Grassley': 10.434553, 'Eduardo_Chillida': 95.631195, 'Allen_Rock': 0.0, 'Ashraf_Ghani': 1.3936043, 'Charles_Chandler_IV': 0.0, 'Moon-So-ri': 19.437687, 'Amy_Gale': 0.0, 'Frances_Fisher': 27.385696, 'Sachin_Tendulkar': 22.555283, 'Karen_Lynn_Gorney': 0.0, 'Alimzhan_Tokhtakhounov': 0.0, 'Arturo_Gatti': 16.165876, 'Ali_Bin_Hussein': 0.0, 'Donald_Evans': 0.0, 'Tiger_Woods': 12.936553, 'Dai_Bachtiar': 1.6009221, 'Anatoliy_Kinakh': 42.996017, 'Cate_Blanchett': 16.46386, 'Norman_Mineta': 0.0, 'Alyson_Hannigan': 26.955454, 'Tim_Allen': 42.18504, 'Catherine_Bell': 0.0, 'Butch_Davis': 1.5471139, 'Jane_Clayson': 0.0, 'Gustavo_Kuerten': 0.0, 'Andrew_Fastow': 0.0, 'Javier_Vazquez': 0.0, 'Annette_Bening': 0.0, 'Spike_Lee': 47.454094, 'James_Cunningham': 24.883505, 'Hal_Gehman': 4.6781874, 'Jack_Smith': 0.0, 'Barbara_De_Brun': 0.0, 'Karen_Clarkson': 2.1267366, 'Fernando_Henrique_Cardoso': 12.250503, 'Cristina_Saralegui': 6.0230355, 'Fran_Drescher': 17.675478, 'Norodom_Chakrapong': 78.976746, 'Fruit_Chan': 10.339111, 'Bill_Graham': 0.0, 'Dule_Hill': 0.0, 'Nong_Duc_Manh': 0.0, 'Frank_Pallone': 0.0, 'Bianca_Jagger': 0.0, 'David_Blaine': 0.0, 'Ann_Landers': 0.0, 'Lucio_Gutierrez': 6.8641896, 'Stacey_Dales-Schuman': 0.0, 'Jon_Gruden': 2.0717075, 'Bertrand_Bonello': 1.3112884, 'Amy_Cotton': 49.60005, 'Donald_Fehr': 12.88173, 'Kate_Burton': 0.0, 'Magui_Serna': 1.6647091, 'Tim_Henman': 5.9599648, 'Rupert_Grint': 36.806164, 'Ariel_Sharon': 36.834106, 'Austin_Kearns': 0.0, 'Tim_Chapman': 0.0, 'Adrian_Murrell': 0.7209091, 'Annie_Machon': 0.0, 'Ruth_Harlow': 0.0, 'Carina_Lau_Ka-ling': 0.0, 'Muffet_McGraw': 12.921102, 'Luther_Htu': 0.0, 'Andrew_Gilligan': 0.0, 'Nora_Bendijo': 5.406887, 'Anthony_Hazen': 60.38245, 'Andrew_Bernard': 0.0, 'Adrianna_Zuzic': 101.19588, 'Arthur_Martinez': 11.9628105, 'Hans-Christian_Schmid': 37.764305, 'Nadia_Forte': 0.0, 'Morgan_Fairchild': 0.0, 'Marc_Leger': 0.0, 'Guillermo_Monroy': 0.0, 'Eva_Mendes': 69.11065, 'Alvaro_Noboa': 11.916947, 'Amy_Smart': 21.557533, 'Filip_De_Winter': 55.131596, 'Malcolm_Glazer': 0.0, 'Hamid_Efendi': 23.415276, 'Adrien_Brody': 42.976948, 'Sean_Penn': 0.0, 'Atal_Bihari_Vajpayee': 9.514045, 'Camilla_Parker_Bowles': 0.0, 'Andrea_Bocelli': 70.437164, 'Hank_Azaria': 34.788925, 'Frank_Marshall': 0.0, 'Bill_Clancy': 4.126581, 'Mack_Brown': 21.896143, 'Aly_Wagner': 0.0, 'Hank_Bass': 0.0, 'Amanda_Coetzer': 39.09174, 'Andrew_Niccol': 0.0, 'Annika_Sorenstam': 5.601557, 'Hans_Peter_Briegel': 21.914787, 'Sally_Kirkland': 0.0, 'Alicia_Molik': 36.973118, 'Shireen_Amir_Begum': 0.0, 'Abdel_Madi_Shabneh': 39.45587, 'Darrell_Royal': 39.777695, 'Megawati_Sukarnoputri': 3.6837218, 'Howard_Stern': 25.42487, 'Franklin_Damann': 57.671104, 'Masum_Turker': 21.041786, 'Daniel_Chin': 2.5826645, 'Normand_Legault': 31.304543, 'Roy_Romanow': 18.076221, 'Cheryl_Tiegs': 0.0, 'Ali_Khamenei': 3.482357, 'Andy_Benes': 13.92615, 'Chang_Dae-whan': 11.2393, 'Oleg_Romantsev': 0.0, 'Bertie_Ahern': 3.925378, 'Almeida_Baptista': 0.0, 'Andrew_Cuomo': 0.0, 'Anders_Fogh_Rasmussen': 14.86861, 'Sally_Ride': 40.94581, 'Eduard_Shevardnadze': 3.7747674, 'Carlos_Queiroz': 0.0, 'Floyd_Mayweather': 26.252073, 'Laila_Ali': 9.360477, 'Sachiko_Yamada': 58.69298, 'David_Oh': 40.00159, 'David_Provost': 62.45657, 'Ari_Fleischer': 1.9111162, 'Guillermo_Coria': 12.003846, 'Hatsui_Hasuike': 0.0, 'Franklin_Brown': 0.0, 'Fred_Rogers': 5.9195514, 'Bruce_Lunsford': 43.242767, 'Amy_Brenneman': 20.32272, 'Doc_Rivers': 0.0, 'Shirley_Jones': 53.24489, 'Dwayne_Williams': 0.0, 'Daniel_Bruehl': 37.18351, 'Arie_Haan': 12.894851, 'Ana_Paula_Gerard': 0.0, 'Carlo_Azeglio_Ciampi': 37.31674, 'Dan_Kellner': 9.756044, 'Amr_Moussa': 95.56212, 'Marco_Antonio_Barrera': 2.5007713, 'Elva_Hsiao': 8.577541, 'Amanda_Marsh': 24.597818, 'Andrew_Wetzler': 38.40349, 'Amanda_Plumer': 0.0, 'Francisco_Garcia': 0.0, 'Sabah_Al-Ahmad_Al-Jaber_Al-Sabah': 33.679817, 'Andrei_Konchalovsky': 0.0, 'Tim_Duncan': 29.030796}\n",
      "{'Salma_Hayek': 6.147072, 'Shinya_Taniguchi': 49.49672, 'Jacqueline_Marris': 0.0, 'Hank_Aaron': 0.0, 'Cathy_Freeman': 0.0, 'Nizar_Trabelsi': 0.0, 'Alison_Lohman': 0.0, 'Duane_Lee_Chapman': 0.0, 'Andre_Smith': 10.287141, 'Charles_Rogers': 13.720573, 'Anne_Donovan': 0.0, 'Caroline_Link': 38.249043, 'Bryan_Murray': 22.777178, 'Mathias_Reichhold': 39.995937, 'Bill_Cartwright': 0.0, 'Manuel_Jesus': 0.0, 'James_Sensenbrenner': 3.6486468, 'Carlos_Iturgaitz': 3.245181, 'Lars_Burgsmuller': 15.454952, 'Alma_Powell': 13.144411, 'Shobha_De': 0.0, 'Anita_DeFrantz': 0.0, 'Raf_Vallone': 0.0, 'Chris_Cornell': 0.25665665, 'Matt_Morris': 0.0, 'Carlos_Ghosn': 0.0, 'Aline_Chretien': 0.0, 'Andrew_Luster': 0.0, 'Bill_Sizemore': 0.0, 'Felipe_De_Borbon': 0.0, 'Noor_Mohammed': 0.7181263, 'Gary_Gitnick': 0.0, 'Hugh_Carey': 18.892094, 'Rosny_Desroches': 0.0, 'Julie_Andrews': 64.38242, 'Padraig_Harrington': 1.1818386, 'Chen_Liang_Yu': 43.506092, 'Allison_Searing': 0.0, 'Laura_Linney': 0.0, 'Cecile_de_France': 0.0, 'Adrian_Fernandez': 11.613115, 'Casy_Preslar': 0.0, 'Matt_Roney': 21.366371, 'Howard_Schultz': 0.0, 'Shigeru_Ishiba': 0.0, 'Beyonce_Knowles': 26.276676, 'Ivan_Shvedoff': 43.79921, 'Carolyn_Kuhl': 0.0, 'Adisai_Bodharamik': 3.4466596, 'Cynthia_Rowley': 2.4679108, 'Shinzo_Abe': 71.38139, 'Dan_Monson': 0.0, 'Ruth_Stubbs': 0.0, 'James_McMahon': 34.717884, 'BJ_Habibie': 0.0, 'Ali_Ahmeti': 39.804398, 'Humberto_Espinoza': 0.0, 'Aram_Adler': 0.0, 'Luis_Horna': 6.0986466, 'Larry_Wilmore': 0.0, 'Alvaro_Uribe': 8.110781, 'Monica_Gabrielle': 3.3038642, 'Stacey_Jones': 9.933704, 'Damarius_Bilbo': 11.441918, 'Ana_Claudia_Talancon': 53.43586, 'Eddie_Sutton': 0.0, 'Cesar_Gaviria': 0.0, 'Bulent_Ecevit': 17.139473, 'Hubie_Brown': 17.095272, 'Kurt_Warner': 18.527615, 'Luis_Guzman': 0.0, 'Carlos_Fasciolo': 12.44365, 'Gustavo_Noboa': 0.0, 'Jacqueline_Edwards': 0.0, 'Jake_Brace': 0.0, 'Dagmar_Dunlevy': 20.76537, 'Andrew_Weissmann': 0.0, 'David_Chase': 0.0, 'Bob_nox': 68.14023, 'Andres_Manuel_Lopez_Obrador': 0.0, 'Paddy_Long': 24.269958, 'Cemil_Cicek': 0.0, 'Filippo_Inzaghi': 0.0, 'Malak_Habbak': 0.0, 'Mike_Johanns': 73.393135, 'Anja_Paerson': 0.0, 'Andres_Pastrana': 0.0, 'Karen_Mok': 0.0, 'Oleksandr_Moroz': 36.638847, 'Daniel_Barenboim': 0.0, 'Agnes_Bruckner': 46.1128, 'Barbara_Brezigar': 10.6977215, 'Kurt_Thomas': 0.0, 'Allan_Kemakeza': 0.0, 'Dan_LaCoutre': 0.0, 'Anna_Chicherova': 8.021469, 'Ian_Campbell': 10.594828, 'Lachlan_Murdoch': 0.0, 'Jamie_Carey': 35.733692, 'Andrew_Shutley': 0.0, 'Billy_Graham': 0.45786977, 'Kirsten_Dunst': 5.732174, 'Eddy_Hartenstein': 21.820724, 'Adolfo_Aguilar_Zinser': 39.348873, 'Bill_Guerin': 17.307653, 'Lucrecia_Orozco': 24.657915, 'Andres_DAlessandro': 24.66128, 'JC_Chasez': 20.420248, 'Manuel_Pellegrini': 11.970133, 'Aaron_Eckhart': 46.54514, 'Anderson_Varejao': 0.0, 'Anne_Cavers': 16.70414, 'Nuck_Kiy': 544.1651, 'Fernando_Hierro': 30.820044, 'Elena_de_Chavez': 0.0, 'Bill_Parcells': 9.27861, 'Ruben_Sierra': 21.520067, 'Olivier_Rochus': 43.95958, 'Lana_Clarkson': 34.042217, 'Dexter_Jackson': 14.253227, 'Anwar_Ibrahim': 26.66462, 'Anthony_Hopkins': 45.848564, 'Donna_Brazile': 0.0, 'Ambrose_Lee': 0.0, 'Rainer_Gut': 0.0, 'Andrew_Jarecki': 38.23088, 'Andy_Bryant': 0.0, 'Cristina_Torrens_Valero': 0.0, 'Hartmut_Mehdorn': 32.28565, 'Donald_Carty': 15.990725, 'Anna_Kournikova': 0.0, 'Harvey_Fierstein': 0.0, 'Annie_Chaplin': 10.865528, 'Maha_Habib': 23.096489, 'Billy_Gilman': 0.0, 'Ruano_Pascual': 0.0, 'Otto_Schily': 0.0, 'David_Bowie': 144.27821, 'Blythe_Danner': 0.0, 'Rafael_Bielsa': 0.0, 'Djabir_Said-Guerni': 0.0, 'Ataollah_Mohajerani': 5.927446, 'Filippo_Volandri': 15.766378, 'Charles_Cope': 0.0, 'Frank_Abagnale_Jr': 0.0, 'Shingo_Katayama': 0.0, 'Frank_Zappa': 3.9538937, 'Cacy_rox': 0.0, 'Hamid_Karzai': 28.010351, 'Tim_Blake_Nelson': 0.0, 'Bill_Nelson': 5.6058645, 'Alicia_Hollowell': 0.0, 'Alonzo_Mourning': 8.926215, 'Abdulaziz_Kamilov': 12.174501, 'Andre_Techine': 0.0, 'Chick_Hearn': 56.5242, 'Tim_Conway': 5.487599, 'Alen_dan': 55.763565, 'Andreas_Vinciguerra': 40.315826, 'Kate_Capshaw': 35.723568, 'Aaron_Peirsol': 0.0, 'Carmen_Electra': 1.332675, 'Craig_MacTavish': 26.527115, 'Muhammad_Ali': 8.348862, 'Ivan_Stambolic': 76.97176, 'Avril_Lavigne': 14.510437, 'Andrea_Kiser': 41.984795, 'Cesar_Maia': 0.0, 'Frank_Murkowski': 0.0, 'Raja_Ibrahim': 2.9762487, 'Amelie_Mauresmo': 3.203784, 'Alessandro_Nesta': 0.0, 'Bernice_Wong': 0.0, 'Aaron_Sorkin': 60.03121, 'Bustam_A_Zedan_Aljanabi': 0.0, 'Pieter_Bouw': 0.0, 'Adriana_Perez_Navarro': 0.0, 'Craig_Fitzgibbon': 0.0, 'Luis_Gonzalez_Macchi': 10.144921, 'Rudy_Tomjanovich': 46.18913, 'Pedro_Pauleta': 0.0, 'Ellen_Martin': 0.0, 'Monica_Bellucci': 4.4848433, 'Fujio_Cho': 1.4927365, 'Paddy_Torsney': 0.0, 'OJ_Simpson': 8.841781, 'Ahmed_Ghazi': 0.0, 'Charlie_Zaa': 0.0, 'Ana_Guevara': 16.522766, 'Eduard_Limonov': 32.231113, 'Anthony_Ervin': 0.0, 'Larry_Beinfest': 0.0, 'Jose_Cevallos': 0.0, 'Mary_Jo_Myers': 51.149117, 'Janela_Jara': 0.0, 'Ahmed_Lopez': 0.0, 'Andrei_Nikolishin': 0.0, 'Jan_Bjoerklund': 24.736187, 'Gustavo_Terrazas': 0.0, 'Andrei_Mikhnevich': 16.315512, 'Marc_Racicot': 49.99624, 'Andrew_Bunner': 21.184528, 'Allen_Iverson': 0.0, 'Alice_Fisher': 17.068464, 'Luo_Linquan': 0.0, 'Anders_Ebbeson': 2.8111103, 'Matt_Siebrandt': 64.19461, 'Dewayne_White': 0.0, 'Andre_Lange': 0.0, 'Ana_Isabel_Sanchez': 0.0, 'Elias_Attallah': 11.618377, 'Peter_Fonda': 0.0, 'Dario_Camuffo': 41.178307, 'Amy_Yasbeck': 43.03843, 'Cameron_Diaz': 23.918928, 'Andrew_Caldecott': 2.0129504, 'Hadley_Bilger': 0.0, 'Aaron_Guiel': 0.0, 'Dorothy_Lamour': 2.3166313, 'Amy_Redford': 0.0, 'Carl_Levin': 0.0, 'Charlie_Williams': 0.0, 'Annette_Lu': 0.0, 'Lutz_Freitag': 0.0, 'Aparna_Pillai': 27.217117, 'Tim_Floyd': 9.802551, 'James_Brazelton': 55.61541, 'Anna_Faris': 0.0, 'Charles_Richardson': 29.238281, 'Chelsea_Clinton': 5.0862026, 'Elijan_Ingram': 46.301857, 'Catriona_Le_May_Doan': 32.92014, 'Jaccy_Ann': 0.0, 'Abbas_Kiarostami': 12.755504, 'Bijan_Darvish': 0.0, 'Roy_Williams': 0.0, 'Carla_Tricoli': 0.0, 'Bill_OReilly': 0.0, 'Alex_Wallau': 0.0, 'Ruth_Dreifuss': 21.107828, 'Chen_Kaige': 16.40259, 'Abdel_Nasser_Assidi': 0.0, 'Azmi_Bishara': 0.0, 'Saburo_Kawabuchi': 66.40488, 'Edward_Greenspan': 10.200437, 'Rashid_Qureshi': 0.0, 'Charles_Schumer': 34.316017, 'Fred_Huff': 0.0, 'Lars_Von_Trier': 0.0, 'Allan_Wagner': 0.0, 'Cho_Myung-kyun': 45.494904, 'Camille_Colvin': 41.171944, 'Anthony_Carter': 24.323746, 'Joy_Bryant': 48.459263, 'Bill_Herrion': 0.0, 'Harald_Ringstorff': 19.20477, 'Ann_Godbehere': 0.0, 'Andrew_Sabey': 7.246102, 'Anna_Jones': 0.0, 'Alicia_Keys': 0.0, 'Abba_Eban': 0.0, 'Guillermo_Canas': 0.0, 'Ann_Veneman': 0.0, 'Chhouk_Rin': 0.0, 'Frank_Bell': 28.396957, 'Carol_Carmody': 13.049833, 'Morgan_Freeman': 40.651234, 'Annie-Jeanne_Reynaud': 42.979046, 'Artieas_Shanks': 0.0, 'Atiabet_Ijan_Amabel': 11.100225, 'James_Ivory': 0.0, 'Hugh_Campbell': 114.94746, 'Raquel_Welch': 22.863358, 'Anthony_Fauci': 70.3448, 'Iain_Duncan_Smith': 10.180684, 'Laura_Marlow': 0.0, 'Joxel_Garcia': 0.0, 'Alina_Kabaeva': 63.837696, 'Anzori_Kikalishvili': 0.0, 'Hamad_Bin_Jassim': 0.0, 'Stella_McCartney': 0.0, 'Carlos_Ruckauf': 0.0, 'Lech_Walesa': 44.441467, 'Denis_Coderre': 7.137941, 'Tim_Curry': 49.444767, 'Anthony_Garotinho': 19.427488, 'Saman_Shali': 36.807785, 'Anne_McLellan': 2.4715264, 'Chris_Crocker': 9.773303, 'Sean_Townsend': 8.195457, 'Fred_Swan': 4.0218825, 'Abdel_Aziz_Al-Hakim': 0.0, 'Donna_Barrera': 0.0, 'Carlo_Ancelotti': 3.9411106, 'Bill_Carmody': 0.0, 'Amy_Pascal': 13.581177, 'Habib_Rizieq': 25.430534, 'Manuel_Llorente': 1.7079234, 'Iain_Richmond': 28.884953, 'Bryan_Chui': 0.0, 'Nabil_Shaath': 15.59109, 'Andre_Agassi': 0.0, 'Billy_Edelin': 0.0, 'Choi_Yun-yong': 0.0, 'Jean_Brumley': 8.057507, 'Janice_Abreu': 0.0, 'Sadam_Hassan': 0.0, 'Jason_Campbell': 0.0, 'Feliciano_Lopez': 0.0, 'Anastasia_Kelesidou': 0.0, 'Shigeo_Nagashima': 0.0, 'Ali_Hammoud': 0.0, 'Darren_Campel': 2.7109108, 'Anthony_Corso': 0.0, 'Denis_Fassou-Nguesso': 0.0, 'Anneli_Jaatteenmaki': 41.427624, 'Andrzej_Tyszkiewicz': 9.304185, 'Scott_Wolf': 0.0, 'Charlize_Theron': 0.0, 'Lazaro_Castro': 0.0, 'Allan_Houston': 0.0, 'Ana_Sebastiao': 0.0, 'Elvis_Costello': 0.0, 'Olympia_Dukakis': 59.8266, 'Elijah_Wood': 0.0, 'Anne_ONeil': 0.0, 'Alistair_MacDonald': 0.0, 'Alicia_Witt': 0.0, 'Ashraf_Alasmar': 0.0, 'Kirsten_Gilham': 0.0, 'Kalid_Kaid': 43.849205, 'Jacqueline_Gold': 18.609272, 'Hung_Wan-ting': 6.154314, 'Bill_Stapleton': 0.0, 'Alexandra_Pelosi': 5.8189583, 'Lucio_Stanca': 47.72281, 'Ari_Bousbib': 23.645906, 'Ruth_Pearce': 12.623927, 'Jack_Nicholson': 2.778208, 'Chris_Cooper': 4.8870697, 'Raoul_Ruiz': 16.249886, 'Katalin_Kollat': 34.780373, 'Kirsten_Clark': 0.0, 'Chandrika_Kumaratunga': 0.0, 'Sally_Field': 41.878582, 'Ahmed_Ibrahim_Bilal': 13.745689, 'Marc_Grossman': 0.0, 'Alfonso_Cuaron': 0.0, 'Abdoulaye_Wade': 17.515223, 'Gary_Leon_Ridgway': 47.11065, 'Jaime_Pressly': 0.0, 'Rulon_Gardner': 0.0, 'Anne_Krueger': 10.863388, 'Bill_Stein': 0.0, 'Amber_Frey': 5.626027, 'Hun_Sen': 10.648583, 'Cristina_Kirchner': 42.84591, 'Evo_Morales': 1.9760761, 'Ahmad_Jbarah': 1.0011921, 'Rainer_Schuettler': 2.68591, 'Aaron_Patterson': 42.866653, 'Jon_Kitna': 0.11192036, 'Lyudmila_Putin': 52.94321, 'Ana_Palacio': 6.760544, 'Damon_Dash': 6.8483534, 'Amber_nan': 0.0, 'Shingo_Suetsugu': 0.0, 'Andrea_De_Cruz': 0.0, 'Jose_Manuel_Durao_Barroso': 14.056262, 'Frank_Beamer': 0.0, 'Makiya_Ali_Hassan': 51.842724, 'Fernando_Gonzalez': 3.2061152, 'Alex_Sink': 1.2909807, 'Otto_Reich': 0.0, 'Mona_Rishmawi': 13.814131, 'Saddam_Hussein': 4.6596675, 'Aaron_Pena': 0.0, 'Blas_Ople': 8.88979, 'Shimon_Peres': 15.438055, 'Koichi_Tanaka': 0.0, 'Sada_Jacobson': 1.965107, 'Carol_Burnett': 18.208792, 'Arthur_Johnson': 0.0, 'Dwayne_Wade': 0.0, 'Arif_Mardin': 0.0, 'Edward_Flynn': 0.0, 'Christian_Bale': 0.0, 'Antanas_Valionis': 0.0, 'Tiffany_Limos': 0.0, 'Paul_Martin': 0.0, 'Arlen_Specter': 0.5000434, 'Alvaro_Silva_Calderon': 3.5944023, 'Amelia_Vega': 7.7226233, 'Dyab_Abou_Jahjah': 24.361122, 'Nadia_Petrova': 11.278522, 'Ashton_Kutcher': 30.053297, 'Andrew_Firestone': 0.0, 'Ali_Fallahian': 6.62049, 'Griffin_Colvin': 25.06159, 'David_Obey': 0.0, 'Elizabeth_Berkeley': 0.0, 'Park_Jie-won': 0.0, 'Ann_Morgan': 0.0, 'Carlos_Quintanilla_Schmidt': 58.542976, 'Nino_DAngelo': 38.492218, 'Andrea_Yates': 0.0, 'Arianna_Huffington': 0.0, 'Mufti_Mohammad_Syed': 0.0, 'Anastasia_Myskina': 0.0, 'Carin_Koch': 41.5293, 'Fatmir_Limaj': 41.01507, 'Patrick_McEnroe': 24.161194, 'Chris_Penn': 0.0, 'Anne_Heche': 0.0, 'Andre_Bucher': 0.0, 'Madeleine_Albright': 34.79464, 'Allison_Janney': 0.0, 'Adrian_McPherson': 0.0, 'Elena_Bovina': 0.0, 'Jason_Sehorn': 0.0, 'Debra_Yang': 0.0, 'Hootie_Johnson': 21.743244, 'Anjum_Hussain': 0.0, 'Arantxa_Sanchez-Vicario': 0.0, 'Amber_Tamblyn': 11.317795, 'Felicity_Huffman': 0.0, 'Carolyn_Dawn_Johnson': 0.53424186, 'Aaron_Tippin': 87.708275, 'Tim_Curley': 10.680082, 'Chris_Noth': 16.430521, 'Ross_Verba': 0.0, 'Francisco_Maturana': 3.27627, 'Ahmad_Masood': 0.0, 'Amram_Mitzna': 37.905014, 'Francisco_Santos': 0.0, 'Sam_Torrance': 0.0, 'Mahathir_Mohamad': 10.347766, 'Mike_Holmgren': 0.0, 'Anna_Nicole_Smith': 0.0, 'Jaime_Orti': 6.965452, 'Sean_Patrick_Thomas': 63.72995, 'Aretha_Franklin': 0.0, 'Laura_Morante': 0.0, 'Donna_Morrissey': 2.5799212, 'Howard_Smith': 0.0, 'Alyse_Beaupre': 0.0, 'Jack_LaLanne': 0.0, 'Julianne_Moore': 1.9321793, 'Chang_Jae_On': 0.0, 'Dudley_Rogers': 0.0, 'Alicia_Silverstone': 8.662637, 'Shia_LaBeouf': 0.0, 'Choi_Sung-hong': 39.57711, 'Ravan_AG_Farhadi': 0.0, 'Bryan_Cooley': 0.0, 'Charles_Grassley': 54.79644, 'Eduardo_Chillida': 30.950188, 'Allen_Rock': 33.59478, 'Ashraf_Ghani': 104.80996, 'Charles_Chandler_IV': 0.0, 'Moon-So-ri': 5.8856554, 'Amy_Gale': 0.0, 'Frances_Fisher': 36.52832, 'Sachin_Tendulkar': 0.0, 'Karen_Lynn_Gorney': 0.0, 'Alimzhan_Tokhtakhounov': 0.0, 'Arturo_Gatti': 13.17962, 'Ali_Bin_Hussein': 0.0, 'Donald_Evans': 0.0, 'Tiger_Woods': 8.151874, 'Dai_Bachtiar': 0.0, 'Anatoliy_Kinakh': 63.399544, 'Cate_Blanchett': 13.250224, 'Norman_Mineta': 8.056238, 'Alyson_Hannigan': 0.0, 'Tim_Allen': 1.2556353, 'Catherine_Bell': 36.413452, 'Butch_Davis': 0.0, 'Jane_Clayson': 16.614159, 'Gustavo_Kuerten': 86.49182, 'Andrew_Fastow': 3.6695004, 'Javier_Vazquez': 31.616325, 'Annette_Bening': 0.0, 'Spike_Lee': 33.649178, 'James_Cunningham': 0.0, 'Hal_Gehman': 0.0, 'Jack_Smith': 0.0, 'Barbara_De_Brun': 10.635492, 'Karen_Clarkson': 0.0, 'Fernando_Henrique_Cardoso': 13.952147, 'Cristina_Saralegui': 0.8546641, 'Fran_Drescher': 0.0, 'Norodom_Chakrapong': 44.922916, 'Fruit_Chan': 0.0, 'Bill_Graham': 41.31031, 'Dule_Hill': 3.8423805, 'Nong_Duc_Manh': 24.289078, 'Frank_Pallone': 0.0, 'Bianca_Jagger': 47.456978, 'David_Blaine': 0.0, 'Ann_Landers': 1.9321308, 'Lucio_Gutierrez': 35.607346, 'Stacey_Dales-Schuman': 0.0, 'Jon_Gruden': 2.1855123, 'Bertrand_Bonello': 35.98266, 'Amy_Cotton': 0.0, 'Donald_Fehr': 0.0, 'Kate_Burton': 51.722664, 'Magui_Serna': 0.0, 'Tim_Henman': 29.216295, 'Rupert_Grint': 45.68352, 'Ariel_Sharon': 8.924402, 'Austin_Kearns': 47.160515, 'Tim_Chapman': 0.0, 'Adrian_Murrell': 0.29543686, 'Annie_Machon': 14.522451, 'Ruth_Harlow': 0.0, 'Carina_Lau_Ka-ling': 0.0, 'Muffet_McGraw': 1.1905737, 'Luther_Htu': 0.0, 'Andrew_Gilligan': 0.0, 'Nora_Bendijo': 29.069042, 'Anthony_Hazen': 0.0, 'Andrew_Bernard': 0.0, 'Adrianna_Zuzic': 26.043507, 'Arthur_Martinez': 0.0, 'Hans-Christian_Schmid': 0.0, 'Nadia_Forte': 14.807122, 'Morgan_Fairchild': 0.0, 'Marc_Leger': 17.27258, 'Guillermo_Monroy': 42.145683, 'Eva_Mendes': 0.0, 'Alvaro_Noboa': 0.0, 'Amy_Smart': 48.634655, 'Filip_De_Winter': 0.0, 'Malcolm_Glazer': 0.0, 'Hamid_Efendi': 0.0, 'Adrien_Brody': 31.221214, 'Sean_Penn': 0.0, 'Atal_Bihari_Vajpayee': 4.7264876, 'Camilla_Parker_Bowles': 8.347124, 'Andrea_Bocelli': 43.72215, 'Hank_Azaria': 0.0, 'Frank_Marshall': 0.28602982, 'Bill_Clancy': 0.0, 'Mack_Brown': 0.0, 'Aly_Wagner': 21.776903, 'Hank_Bass': 58.51237, 'Amanda_Coetzer': 0.0, 'Andrew_Niccol': 2.6984105, 'Annika_Sorenstam': 0.0, 'Hans_Peter_Briegel': 29.55785, 'Sally_Kirkland': 0.0, 'Alicia_Molik': 5.648155, 'Shireen_Amir_Begum': 0.0, 'Abdel_Madi_Shabneh': 0.0, 'Darrell_Royal': 12.524075, 'Megawati_Sukarnoputri': 0.38167682, 'Howard_Stern': 0.0, 'Franklin_Damann': 0.0, 'Masum_Turker': 32.536922, 'Daniel_Chin': 55.417477, 'Normand_Legault': 39.673347, 'Roy_Romanow': 8.151302, 'Cheryl_Tiegs': 5.948888, 'Ali_Khamenei': 15.97635, 'Andy_Benes': 0.0, 'Chang_Dae-whan': 0.0, 'Oleg_Romantsev': 0.0, 'Bertie_Ahern': 0.0, 'Almeida_Baptista': 31.472464, 'Andrew_Cuomo': 8.671604, 'Anders_Fogh_Rasmussen': 5.3430247, 'Sally_Ride': 43.296196, 'Eduard_Shevardnadze': 17.519505, 'Carlos_Queiroz': 28.937511, 'Floyd_Mayweather': 69.54037, 'Laila_Ali': 1.3432556, 'Sachiko_Yamada': 0.0, 'David_Oh': 20.245369, 'David_Provost': 0.0, 'Ari_Fleischer': 35.650887, 'Guillermo_Coria': 42.190273, 'Hatsui_Hasuike': 46.735573, 'Franklin_Brown': 0.0, 'Fred_Rogers': 20.935284, 'Bruce_Lunsford': 0.0, 'Amy_Brenneman': 0.0, 'Doc_Rivers': 0.0, 'Shirley_Jones': 0.0, 'Dwayne_Williams': 16.609865, 'Daniel_Bruehl': 39.316467, 'Arie_Haan': 0.0, 'Ana_Paula_Gerard': 37.49607, 'Carlo_Azeglio_Ciampi': 18.744188, 'Dan_Kellner': 0.0, 'Amr_Moussa': 23.747524, 'Marco_Antonio_Barrera': 10.220805, 'Elva_Hsiao': 12.197263, 'Amanda_Marsh': 0.0, 'Andrew_Wetzler': 0.0, 'Amanda_Plumer': 0.0, 'Francisco_Garcia': 7.67659, 'Sabah_Al-Ahmad_Al-Jaber_Al-Sabah': 1.3307209, 'Andrei_Konchalovsky': 17.13297, 'Tim_Duncan': 0.0}\n",
      "{'Salma_Hayek': 34.9656, 'Shinya_Taniguchi': 39.94829, 'Jacqueline_Marris': 0.0, 'Hank_Aaron': 31.104628, 'Cathy_Freeman': 3.9476147, 'Nizar_Trabelsi': 0.0, 'Alison_Lohman': 23.627033, 'Duane_Lee_Chapman': 44.112343, 'Andre_Smith': 0.0, 'Charles_Rogers': 0.0, 'Anne_Donovan': 1.5010674, 'Caroline_Link': 0.0, 'Bryan_Murray': 0.0, 'Mathias_Reichhold': 6.886601, 'Bill_Cartwright': 3.5361958, 'Manuel_Jesus': 5.1473436, 'James_Sensenbrenner': 25.244282, 'Carlos_Iturgaitz': 0.0, 'Lars_Burgsmuller': 0.0, 'Alma_Powell': 45.828487, 'Shobha_De': 0.0, 'Anita_DeFrantz': 0.0, 'Raf_Vallone': 0.0, 'Chris_Cornell': 0.0, 'Matt_Morris': 25.862583, 'Carlos_Ghosn': 30.662306, 'Aline_Chretien': 22.796583, 'Andrew_Luster': 0.0, 'Bill_Sizemore': 0.0, 'Felipe_De_Borbon': 0.0, 'Noor_Mohammed': 0.0, 'Gary_Gitnick': 0.0, 'Hugh_Carey': 33.28866, 'Rosny_Desroches': 5.056786, 'Julie_Andrews': 27.207119, 'Padraig_Harrington': 11.921681, 'Chen_Liang_Yu': 27.085762, 'Allison_Searing': 0.0, 'Laura_Linney': 45.26702, 'Cecile_de_France': 89.264496, 'Adrian_Fernandez': 9.835095, 'Casy_Preslar': 0.0, 'Matt_Roney': 14.266242, 'Howard_Schultz': 0.0, 'Shigeru_Ishiba': 0.0, 'Beyonce_Knowles': 0.0, 'Ivan_Shvedoff': 0.0, 'Carolyn_Kuhl': 5.0231924, 'Adisai_Bodharamik': 7.7507544, 'Cynthia_Rowley': 0.0, 'Shinzo_Abe': 0.0, 'Dan_Monson': 26.883133, 'Ruth_Stubbs': 0.0, 'James_McMahon': 0.0, 'BJ_Habibie': 0.0, 'Ali_Ahmeti': 53.844593, 'Humberto_Espinoza': 52.96222, 'Aram_Adler': 53.958603, 'Luis_Horna': 8.920395, 'Larry_Wilmore': 17.282364, 'Alvaro_Uribe': 21.042976, 'Monica_Gabrielle': 6.32131, 'Stacey_Jones': 27.546467, 'Damarius_Bilbo': 0.0, 'Ana_Claudia_Talancon': 66.98039, 'Eddie_Sutton': 0.7504673, 'Cesar_Gaviria': 1.1537061, 'Bulent_Ecevit': 0.0, 'Hubie_Brown': 17.80397, 'Kurt_Warner': 3.2681649, 'Luis_Guzman': 0.0, 'Carlos_Fasciolo': 0.0, 'Gustavo_Noboa': 0.0, 'Jacqueline_Edwards': 0.0, 'Jake_Brace': 26.13136, 'Dagmar_Dunlevy': 0.0, 'Andrew_Weissmann': 0.0, 'David_Chase': 0.0, 'Bob_nox': 0.0, 'Andres_Manuel_Lopez_Obrador': 0.0, 'Paddy_Long': 41.75824, 'Cemil_Cicek': 11.829873, 'Filippo_Inzaghi': 0.60218877, 'Malak_Habbak': 64.26658, 'Mike_Johanns': 0.0, 'Anja_Paerson': 0.0, 'Andres_Pastrana': 13.377764, 'Karen_Mok': 54.338913, 'Oleksandr_Moroz': 91.14991, 'Daniel_Barenboim': 33.53624, 'Agnes_Bruckner': 54.48794, 'Barbara_Brezigar': 32.009125, 'Kurt_Thomas': 66.50093, 'Allan_Kemakeza': 0.0, 'Dan_LaCoutre': 10.144167, 'Anna_Chicherova': 0.0, 'Ian_Campbell': 8.217623, 'Lachlan_Murdoch': 1.9052429, 'Jamie_Carey': 34.02156, 'Andrew_Shutley': 0.0, 'Billy_Graham': 43.79808, 'Kirsten_Dunst': 0.0, 'Eddy_Hartenstein': 0.0, 'Adolfo_Aguilar_Zinser': 0.0, 'Bill_Guerin': 50.86882, 'Lucrecia_Orozco': 0.0, 'Andres_DAlessandro': 64.55971, 'JC_Chasez': 58.6063, 'Manuel_Pellegrini': 0.0, 'Aaron_Eckhart': 0.0, 'Anderson_Varejao': 4.950163, 'Anne_Cavers': 78.91339, 'Nuck_Kiy': 0.0, 'Fernando_Hierro': 38.63141, 'Elena_de_Chavez': 2.7908745, 'Bill_Parcells': 15.444001, 'Ruben_Sierra': 5.1272893, 'Olivier_Rochus': 18.656097, 'Lana_Clarkson': 0.0, 'Dexter_Jackson': 114.109634, 'Anwar_Ibrahim': 58.651115, 'Anthony_Hopkins': 23.731277, 'Donna_Brazile': 0.0, 'Ambrose_Lee': 38.75201, 'Rainer_Gut': 0.0, 'Andrew_Jarecki': 0.0, 'Andy_Bryant': 0.0, 'Cristina_Torrens_Valero': 0.0, 'Hartmut_Mehdorn': 0.0, 'Donald_Carty': 51.763817, 'Anna_Kournikova': 38.216686, 'Harvey_Fierstein': 0.0, 'Annie_Chaplin': 13.965504, 'Maha_Habib': 41.425915, 'Billy_Gilman': 0.0, 'Ruano_Pascual': 46.8323, 'Otto_Schily': 5.0673676, 'David_Bowie': 0.0, 'Blythe_Danner': 21.96807, 'Rafael_Bielsa': 0.0, 'Djabir_Said-Guerni': 0.0, 'Ataollah_Mohajerani': 11.485186, 'Filippo_Volandri': 0.0, 'Charles_Cope': 0.0, 'Frank_Abagnale_Jr': 0.0, 'Shingo_Katayama': 0.0, 'Frank_Zappa': 61.403942, 'Cacy_rox': 611.23254, 'Hamid_Karzai': 10.84025, 'Tim_Blake_Nelson': 0.0, 'Bill_Nelson': 14.828981, 'Alicia_Hollowell': 52.560886, 'Alonzo_Mourning': 27.251404, 'Abdulaziz_Kamilov': 0.0, 'Andre_Techine': 0.0, 'Chick_Hearn': 0.0, 'Tim_Conway': 46.521603, 'Alen_dan': 90.377716, 'Andreas_Vinciguerra': 41.306168, 'Kate_Capshaw': 27.87264, 'Aaron_Peirsol': 0.0, 'Carmen_Electra': 0.7309739, 'Craig_MacTavish': 5.93367, 'Muhammad_Ali': 5.243988, 'Ivan_Stambolic': 36.315254, 'Avril_Lavigne': 66.789856, 'Andrea_Kiser': 7.8315516, 'Cesar_Maia': 3.480912, 'Frank_Murkowski': 0.0, 'Raja_Ibrahim': 0.0, 'Amelie_Mauresmo': 6.1341195, 'Alessandro_Nesta': 24.029716, 'Bernice_Wong': 1.8636436, 'Aaron_Sorkin': 0.0, 'Bustam_A_Zedan_Aljanabi': 83.95963, 'Pieter_Bouw': 0.0, 'Adriana_Perez_Navarro': 0.0, 'Craig_Fitzgibbon': 0.0, 'Luis_Gonzalez_Macchi': 14.328918, 'Rudy_Tomjanovich': 0.0, 'Pedro_Pauleta': 0.0, 'Ellen_Martin': 40.750668, 'Monica_Bellucci': 19.047792, 'Fujio_Cho': 33.949444, 'Paddy_Torsney': 0.0, 'OJ_Simpson': 26.235893, 'Ahmed_Ghazi': 25.46346, 'Charlie_Zaa': 0.0, 'Ana_Guevara': 0.0, 'Eduard_Limonov': 0.0, 'Anthony_Ervin': 4.1942115, 'Larry_Beinfest': 0.0, 'Jose_Cevallos': 0.0, 'Mary_Jo_Myers': 0.0, 'Janela_Jara': 0.0, 'Ahmed_Lopez': 0.0, 'Andrei_Nikolishin': 0.0, 'Jan_Bjoerklund': 12.5710335, 'Gustavo_Terrazas': 18.56686, 'Andrei_Mikhnevich': 54.710316, 'Marc_Racicot': 75.00391, 'Andrew_Bunner': 40.298737, 'Allen_Iverson': 0.0, 'Alice_Fisher': 0.0, 'Luo_Linquan': 34.567276, 'Anders_Ebbeson': 0.0, 'Matt_Siebrandt': 8.075057, 'Dewayne_White': 15.948534, 'Andre_Lange': 0.0, 'Ana_Isabel_Sanchez': 0.0, 'Elias_Attallah': 0.0, 'Peter_Fonda': 46.125244, 'Dario_Camuffo': 0.0, 'Amy_Yasbeck': 0.0, 'Cameron_Diaz': 3.7131205, 'Andrew_Caldecott': 17.24934, 'Hadley_Bilger': 24.90607, 'Aaron_Guiel': 3.5836828, 'Dorothy_Lamour': 16.845901, 'Amy_Redford': 4.4813824, 'Carl_Levin': 35.01712, 'Charlie_Williams': 41.693825, 'Annette_Lu': 14.426094, 'Lutz_Freitag': 35.061615, 'Aparna_Pillai': 26.141232, 'Tim_Floyd': 0.0, 'James_Brazelton': 0.0, 'Anna_Faris': 64.72657, 'Charles_Richardson': 80.65028, 'Chelsea_Clinton': 9.865787, 'Elijan_Ingram': 4.36034, 'Catriona_Le_May_Doan': 0.0, 'Jaccy_Ann': 0.0, 'Abbas_Kiarostami': 0.0, 'Bijan_Darvish': 36.011127, 'Roy_Williams': 13.815282, 'Carla_Tricoli': 2.161089, 'Bill_OReilly': 48.688118, 'Alex_Wallau': 0.0, 'Ruth_Dreifuss': 42.87413, 'Chen_Kaige': 0.0, 'Abdel_Nasser_Assidi': 0.0, 'Azmi_Bishara': 0.0, 'Saburo_Kawabuchi': 7.679618, 'Edward_Greenspan': 14.252607, 'Rashid_Qureshi': 8.0150385, 'Charles_Schumer': 29.333958, 'Fred_Huff': 25.745686, 'Lars_Von_Trier': 3.1460454, 'Allan_Wagner': 0.0, 'Cho_Myung-kyun': 12.662893, 'Camille_Colvin': 31.718176, 'Anthony_Carter': 0.0, 'Joy_Bryant': 0.0, 'Bill_Herrion': 0.0, 'Harald_Ringstorff': 40.91263, 'Ann_Godbehere': 54.310036, 'Andrew_Sabey': 0.0, 'Anna_Jones': 16.517841, 'Alicia_Keys': 96.59189, 'Abba_Eban': 0.0, 'Guillermo_Canas': 7.2087812, 'Ann_Veneman': 1.459662, 'Chhouk_Rin': 0.0, 'Frank_Bell': 0.0, 'Carol_Carmody': 47.689342, 'Morgan_Freeman': 38.252426, 'Annie-Jeanne_Reynaud': 0.10175514, 'Artieas_Shanks': 0.0, 'Atiabet_Ijan_Amabel': 0.0, 'James_Ivory': 0.9015107, 'Hugh_Campbell': 27.66547, 'Raquel_Welch': 0.0, 'Anthony_Fauci': 6.4848757, 'Iain_Duncan_Smith': 0.47619486, 'Laura_Marlow': 28.192844, 'Joxel_Garcia': 12.331663, 'Alina_Kabaeva': 42.91797, 'Anzori_Kikalishvili': 33.061172, 'Hamad_Bin_Jassim': 0.0, 'Stella_McCartney': 0.0, 'Carlos_Ruckauf': 37.360504, 'Lech_Walesa': 4.4034452, 'Denis_Coderre': 56.98698, 'Tim_Curry': 0.0, 'Anthony_Garotinho': 0.0, 'Saman_Shali': 0.0, 'Anne_McLellan': 0.0, 'Chris_Crocker': 60.90416, 'Sean_Townsend': 0.0, 'Fred_Swan': 0.0, 'Abdel_Aziz_Al-Hakim': 0.0, 'Donna_Barrera': 0.0, 'Carlo_Ancelotti': 36.63269, 'Bill_Carmody': 0.0, 'Amy_Pascal': 0.0, 'Habib_Rizieq': 44.980583, 'Manuel_Llorente': 48.48357, 'Iain_Richmond': 94.93419, 'Bryan_Chui': 48.700966, 'Nabil_Shaath': 9.376555, 'Andre_Agassi': 10.132121, 'Billy_Edelin': 0.0, 'Choi_Yun-yong': 11.874658, 'Jean_Brumley': 0.0, 'Janice_Abreu': 66.97342, 'Sadam_Hassan': 12.987984, 'Jason_Campbell': 46.5669, 'Feliciano_Lopez': 1.0978394, 'Anastasia_Kelesidou': 20.501148, 'Shigeo_Nagashima': 10.269725, 'Ali_Hammoud': 37.795235, 'Darren_Campel': 0.0, 'Anthony_Corso': 44.90361, 'Denis_Fassou-Nguesso': 0.0, 'Anneli_Jaatteenmaki': 63.208675, 'Andrzej_Tyszkiewicz': 0.0, 'Scott_Wolf': 0.0, 'Charlize_Theron': 6.1164775, 'Lazaro_Castro': 38.214508, 'Allan_Houston': 10.313038, 'Ana_Sebastiao': 0.0, 'Elvis_Costello': 10.235293, 'Olympia_Dukakis': 111.5217, 'Elijah_Wood': 6.899629, 'Anne_ONeil': 26.68969, 'Alistair_MacDonald': 69.661, 'Alicia_Witt': 0.0, 'Ashraf_Alasmar': 4.4995866, 'Kirsten_Gilham': 2.053566, 'Kalid_Kaid': 0.0, 'Jacqueline_Gold': 0.0, 'Hung_Wan-ting': 0.0, 'Bill_Stapleton': 0.0, 'Alexandra_Pelosi': 0.0, 'Lucio_Stanca': 0.0, 'Ari_Bousbib': 20.83282, 'Ruth_Pearce': 0.0, 'Jack_Nicholson': 18.720594, 'Chris_Cooper': 29.477562, 'Raoul_Ruiz': 40.243248, 'Katalin_Kollat': 0.450531, 'Kirsten_Clark': 19.18222, 'Chandrika_Kumaratunga': 50.94879, 'Sally_Field': 21.64309, 'Ahmed_Ibrahim_Bilal': 0.0, 'Marc_Grossman': 1.5996842, 'Alfonso_Cuaron': 0.0, 'Abdoulaye_Wade': 20.366116, 'Gary_Leon_Ridgway': 0.0, 'Jaime_Pressly': 21.233374, 'Rulon_Gardner': 0.0, 'Anne_Krueger': 15.410484, 'Bill_Stein': 22.660381, 'Amber_Frey': 0.0, 'Hun_Sen': 5.945939, 'Cristina_Kirchner': 0.0, 'Evo_Morales': 33.904957, 'Ahmad_Jbarah': 0.0, 'Rainer_Schuettler': 0.0, 'Aaron_Patterson': 64.90257, 'Jon_Kitna': 0.0, 'Lyudmila_Putin': 0.0, 'Ana_Palacio': 7.6852493, 'Damon_Dash': 0.0, 'Amber_nan': 1.8084908, 'Shingo_Suetsugu': 41.448097, 'Andrea_De_Cruz': 2.0550613, 'Jose_Manuel_Durao_Barroso': 11.779073, 'Frank_Beamer': 20.53445, 'Makiya_Ali_Hassan': 10.576899, 'Fernando_Gonzalez': 15.203991, 'Alex_Sink': 0.0, 'Otto_Reich': 0.0, 'Mona_Rishmawi': 0.0, 'Saddam_Hussein': 39.796986, 'Aaron_Pena': 0.0, 'Blas_Ople': 0.52944183, 'Shimon_Peres': 57.156033, 'Koichi_Tanaka': 45.389343, 'Sada_Jacobson': 5.5679474, 'Carol_Burnett': 78.426384, 'Arthur_Johnson': 31.305809, 'Dwayne_Wade': 0.0, 'Arif_Mardin': 32.888702, 'Edward_Flynn': 4.5453234, 'Christian_Bale': 0.0, 'Antanas_Valionis': 20.37901, 'Tiffany_Limos': 0.0, 'Paul_Martin': 14.952663, 'Arlen_Specter': 3.7793531, 'Alvaro_Silva_Calderon': 53.949833, 'Amelia_Vega': 86.596504, 'Dyab_Abou_Jahjah': 0.0, 'Nadia_Petrova': 0.0, 'Ashton_Kutcher': 0.0, 'Andrew_Firestone': 0.0, 'Ali_Fallahian': 0.0, 'Griffin_Colvin': 0.0, 'David_Obey': 0.0, 'Elizabeth_Berkeley': 77.78218, 'Park_Jie-won': 24.27229, 'Ann_Morgan': 17.62096, 'Carlos_Quintanilla_Schmidt': 0.0, 'Nino_DAngelo': 0.0, 'Andrea_Yates': 62.63504, 'Arianna_Huffington': 3.2095547, 'Mufti_Mohammad_Syed': 35.002937, 'Anastasia_Myskina': 29.927734, 'Carin_Koch': 0.0, 'Fatmir_Limaj': 18.271118, 'Patrick_McEnroe': 39.169094, 'Chris_Penn': 27.523912, 'Anne_Heche': 63.75731, 'Andre_Bucher': 2.4367876, 'Madeleine_Albright': 57.434525, 'Allison_Janney': 0.0, 'Adrian_McPherson': 0.0, 'Elena_Bovina': 0.0, 'Jason_Sehorn': 14.032681, 'Debra_Yang': 0.0, 'Hootie_Johnson': 14.3956785, 'Anjum_Hussain': 0.0, 'Arantxa_Sanchez-Vicario': 0.0, 'Amber_Tamblyn': 27.70718, 'Felicity_Huffman': 0.0, 'Carolyn_Dawn_Johnson': 0.0, 'Aaron_Tippin': 0.0, 'Tim_Curley': 0.0, 'Chris_Noth': 0.0, 'Ross_Verba': 0.0, 'Francisco_Maturana': 0.0, 'Ahmad_Masood': 0.0, 'Amram_Mitzna': 8.581641, 'Francisco_Santos': 0.0, 'Sam_Torrance': 5.352364, 'Mahathir_Mohamad': 37.868176, 'Mike_Holmgren': 17.596672, 'Anna_Nicole_Smith': 52.031586, 'Jaime_Orti': 0.0, 'Sean_Patrick_Thomas': 41.13525, 'Aretha_Franklin': 42.46395, 'Laura_Morante': 0.0, 'Donna_Morrissey': 2.2922058, 'Howard_Smith': 62.14731, 'Alyse_Beaupre': 0.0, 'Jack_LaLanne': 60.66238, 'Julianne_Moore': 19.23403, 'Chang_Jae_On': 41.647537, 'Dudley_Rogers': 18.091158, 'Alicia_Silverstone': 12.424981, 'Shia_LaBeouf': 11.073994, 'Choi_Sung-hong': 38.663647, 'Ravan_AG_Farhadi': 24.665438, 'Bryan_Cooley': 28.019428, 'Charles_Grassley': 0.0, 'Eduardo_Chillida': 28.927015, 'Allen_Rock': 0.0, 'Ashraf_Ghani': 8.287439, 'Charles_Chandler_IV': 0.0, 'Moon-So-ri': 35.511932, 'Amy_Gale': 45.105507, 'Frances_Fisher': 0.9138503, 'Sachin_Tendulkar': 0.0, 'Karen_Lynn_Gorney': 0.0, 'Alimzhan_Tokhtakhounov': 8.411975, 'Arturo_Gatti': 16.631514, 'Ali_Bin_Hussein': 0.0, 'Donald_Evans': 0.0, 'Tiger_Woods': 14.944659, 'Dai_Bachtiar': 43.62516, 'Anatoliy_Kinakh': 14.545376, 'Cate_Blanchett': 2.7876956, 'Norman_Mineta': 39.867344, 'Alyson_Hannigan': 40.8888, 'Tim_Allen': 0.0, 'Catherine_Bell': 0.0, 'Butch_Davis': 0.0, 'Jane_Clayson': 0.0, 'Gustavo_Kuerten': 5.1940484, 'Andrew_Fastow': 0.0, 'Javier_Vazquez': 7.5902367, 'Annette_Bening': 0.0, 'Spike_Lee': 0.0, 'James_Cunningham': 6.5607452, 'Hal_Gehman': 10.788615, 'Jack_Smith': 12.436108, 'Barbara_De_Brun': 0.0, 'Karen_Clarkson': 0.0, 'Fernando_Henrique_Cardoso': 66.46898, 'Cristina_Saralegui': 6.3342896, 'Fran_Drescher': 16.780722, 'Norodom_Chakrapong': 0.0, 'Fruit_Chan': 0.0, 'Bill_Graham': 1.9359584, 'Dule_Hill': 14.068384, 'Nong_Duc_Manh': 0.0, 'Frank_Pallone': 0.0, 'Bianca_Jagger': 0.0, 'David_Blaine': 0.0, 'Ann_Landers': 26.732487, 'Lucio_Gutierrez': 32.70225, 'Stacey_Dales-Schuman': 0.0, 'Jon_Gruden': 1.8202035, 'Bertrand_Bonello': 6.6904297, 'Amy_Cotton': 0.0, 'Donald_Fehr': 0.30940938, 'Kate_Burton': 0.0, 'Magui_Serna': 0.0, 'Tim_Henman': 1.6422774, 'Rupert_Grint': 66.11378, 'Ariel_Sharon': 4.391232, 'Austin_Kearns': 18.383612, 'Tim_Chapman': 0.0, 'Adrian_Murrell': 43.06104, 'Annie_Machon': 95.33714, 'Ruth_Harlow': 5.8707857, 'Carina_Lau_Ka-ling': 1.0542493, 'Muffet_McGraw': 4.5255194, 'Luther_Htu': 0.0, 'Andrew_Gilligan': 15.035228, 'Nora_Bendijo': 8.451107, 'Anthony_Hazen': 0.0, 'Andrew_Bernard': 2.2661138, 'Adrianna_Zuzic': 0.0, 'Arthur_Martinez': 60.462967, 'Hans-Christian_Schmid': 0.0, 'Nadia_Forte': 0.0, 'Morgan_Fairchild': 28.629816, 'Marc_Leger': 9.133186, 'Guillermo_Monroy': 0.0, 'Eva_Mendes': 16.59543, 'Alvaro_Noboa': 0.0, 'Amy_Smart': 0.0, 'Filip_De_Winter': 17.087114, 'Malcolm_Glazer': 0.0, 'Hamid_Efendi': 1.7293358, 'Adrien_Brody': 10.105863, 'Sean_Penn': 0.0, 'Atal_Bihari_Vajpayee': 18.194174, 'Camilla_Parker_Bowles': 11.886277, 'Andrea_Bocelli': 28.631172, 'Hank_Azaria': 0.0, 'Frank_Marshall': 0.0, 'Bill_Clancy': 0.0, 'Mack_Brown': 0.0, 'Aly_Wagner': 0.0, 'Hank_Bass': 0.0, 'Amanda_Coetzer': 3.8378417, 'Andrew_Niccol': 0.0, 'Annika_Sorenstam': 0.0, 'Hans_Peter_Briegel': 0.5665364, 'Sally_Kirkland': 30.416658, 'Alicia_Molik': 22.41705, 'Shireen_Amir_Begum': 10.0742855, 'Abdel_Madi_Shabneh': 9.664262, 'Darrell_Royal': 16.695778, 'Megawati_Sukarnoputri': 1.2350004, 'Howard_Stern': 23.856836, 'Franklin_Damann': 0.0, 'Masum_Turker': 20.679495, 'Daniel_Chin': 8.802376, 'Normand_Legault': 0.0, 'Roy_Romanow': 0.0, 'Cheryl_Tiegs': 0.0, 'Ali_Khamenei': 0.0, 'Andy_Benes': 0.0, 'Chang_Dae-whan': 4.928704, 'Oleg_Romantsev': 30.4039, 'Bertie_Ahern': 7.135031, 'Almeida_Baptista': 13.232416, 'Andrew_Cuomo': 11.454996, 'Anders_Fogh_Rasmussen': 27.713444, 'Sally_Ride': 0.0, 'Eduard_Shevardnadze': 63.081123, 'Carlos_Queiroz': 0.0, 'Floyd_Mayweather': 0.0, 'Laila_Ali': 25.189247, 'Sachiko_Yamada': 12.726538, 'David_Oh': 0.0, 'David_Provost': 0.0, 'Ari_Fleischer': 14.2807865, 'Guillermo_Coria': 1.353658, 'Hatsui_Hasuike': 11.700224, 'Franklin_Brown': 25.113214, 'Fred_Rogers': 0.0, 'Bruce_Lunsford': 0.0, 'Amy_Brenneman': 0.0, 'Doc_Rivers': 0.0, 'Shirley_Jones': 6.2988453, 'Dwayne_Williams': 77.15753, 'Daniel_Bruehl': 23.83294, 'Arie_Haan': 0.0, 'Ana_Paula_Gerard': 0.0, 'Carlo_Azeglio_Ciampi': 0.0, 'Dan_Kellner': 82.4841, 'Amr_Moussa': 9.373985, 'Marco_Antonio_Barrera': 51.77885, 'Elva_Hsiao': 0.0, 'Amanda_Marsh': 0.0, 'Andrew_Wetzler': 0.0, 'Amanda_Plumer': 0.0, 'Francisco_Garcia': 0.0, 'Sabah_Al-Ahmad_Al-Jaber_Al-Sabah': 0.0, 'Andrei_Konchalovsky': 3.702694, 'Tim_Duncan': 18.670914}\n",
      "{'Salma_Hayek': 30.184265, 'Shinya_Taniguchi': 55.457233, 'Jacqueline_Marris': 4.932726, 'Hank_Aaron': 47.418068, 'Cathy_Freeman': 30.593353, 'Nizar_Trabelsi': 0.0, 'Alison_Lohman': 4.5685487, 'Duane_Lee_Chapman': 10.514816, 'Andre_Smith': 17.089598, 'Charles_Rogers': 0.0, 'Anne_Donovan': 37.47307, 'Caroline_Link': 0.0, 'Bryan_Murray': 0.0, 'Mathias_Reichhold': 9.745484, 'Bill_Cartwright': 0.0, 'Manuel_Jesus': 2.71031, 'James_Sensenbrenner': 0.0, 'Carlos_Iturgaitz': 22.093521, 'Lars_Burgsmuller': 0.0, 'Alma_Powell': 9.896912, 'Shobha_De': 0.0, 'Anita_DeFrantz': 0.0, 'Raf_Vallone': 28.11034, 'Chris_Cornell': 0.0, 'Matt_Morris': 0.0, 'Carlos_Ghosn': 34.16529, 'Aline_Chretien': 37.618027, 'Andrew_Luster': 20.612932, 'Bill_Sizemore': 0.0, 'Felipe_De_Borbon': 0.0, 'Noor_Mohammed': 23.399483, 'Gary_Gitnick': 0.0, 'Hugh_Carey': 34.596973, 'Rosny_Desroches': 0.0, 'Julie_Andrews': 33.505272, 'Padraig_Harrington': 44.134205, 'Chen_Liang_Yu': 24.927727, 'Allison_Searing': 3.433073, 'Laura_Linney': 8.850868, 'Cecile_de_France': 0.0, 'Adrian_Fernandez': 0.0, 'Casy_Preslar': 0.0, 'Matt_Roney': 2.3672066, 'Howard_Schultz': 0.0, 'Shigeru_Ishiba': 46.34909, 'Beyonce_Knowles': 0.0, 'Ivan_Shvedoff': 15.759122, 'Carolyn_Kuhl': 0.0, 'Adisai_Bodharamik': 0.0, 'Cynthia_Rowley': 0.0, 'Shinzo_Abe': 20.238182, 'Dan_Monson': 0.0, 'Ruth_Stubbs': 0.0, 'James_McMahon': 12.268261, 'BJ_Habibie': 3.5888557, 'Ali_Ahmeti': 34.203934, 'Humberto_Espinoza': 59.09737, 'Aram_Adler': 12.20145, 'Luis_Horna': 17.96892, 'Larry_Wilmore': 0.0, 'Alvaro_Uribe': 46.293964, 'Monica_Gabrielle': 0.0, 'Stacey_Jones': 29.211763, 'Damarius_Bilbo': 0.0, 'Ana_Claudia_Talancon': 7.0438, 'Eddie_Sutton': 14.923685, 'Cesar_Gaviria': 0.0, 'Bulent_Ecevit': 22.704428, 'Hubie_Brown': 0.0, 'Kurt_Warner': 13.776739, 'Luis_Guzman': 0.0, 'Carlos_Fasciolo': 0.0, 'Gustavo_Noboa': 0.0, 'Jacqueline_Edwards': 30.250252, 'Jake_Brace': 0.0, 'Dagmar_Dunlevy': 29.656967, 'Andrew_Weissmann': 4.160032, 'David_Chase': 10.670817, 'Bob_nox': 48.71794, 'Andres_Manuel_Lopez_Obrador': 0.0, 'Paddy_Long': 39.924393, 'Cemil_Cicek': 40.507164, 'Filippo_Inzaghi': 7.426973, 'Malak_Habbak': 35.693924, 'Mike_Johanns': 0.0, 'Anja_Paerson': 0.0, 'Andres_Pastrana': 5.475153, 'Karen_Mok': 0.0, 'Oleksandr_Moroz': 46.093876, 'Daniel_Barenboim': 23.992561, 'Agnes_Bruckner': 10.357441, 'Barbara_Brezigar': 5.2252793, 'Kurt_Thomas': 48.76935, 'Allan_Kemakeza': 7.2703075, 'Dan_LaCoutre': 33.492355, 'Anna_Chicherova': 54.892307, 'Ian_Campbell': 0.0, 'Lachlan_Murdoch': 7.9031167, 'Jamie_Carey': 0.0, 'Andrew_Shutley': 34.57575, 'Billy_Graham': 28.854195, 'Kirsten_Dunst': 13.3255825, 'Eddy_Hartenstein': 0.0, 'Adolfo_Aguilar_Zinser': 16.094416, 'Bill_Guerin': 36.603455, 'Lucrecia_Orozco': 0.0, 'Andres_DAlessandro': 0.0, 'JC_Chasez': 0.0, 'Manuel_Pellegrini': 15.45392, 'Aaron_Eckhart': 0.0, 'Anderson_Varejao': 79.94472, 'Anne_Cavers': 31.034958, 'Nuck_Kiy': 65.02946, 'Fernando_Hierro': 61.79132, 'Elena_de_Chavez': 0.0, 'Bill_Parcells': 16.530418, 'Ruben_Sierra': 0.0, 'Olivier_Rochus': 0.0, 'Lana_Clarkson': 55.50544, 'Dexter_Jackson': 41.755146, 'Anwar_Ibrahim': 0.5370549, 'Anthony_Hopkins': 15.52182, 'Donna_Brazile': 45.88122, 'Ambrose_Lee': 0.0, 'Rainer_Gut': 0.0, 'Andrew_Jarecki': 0.0, 'Andy_Bryant': 0.0, 'Cristina_Torrens_Valero': 0.0, 'Hartmut_Mehdorn': 0.0, 'Donald_Carty': 0.0, 'Anna_Kournikova': 2.1893916, 'Harvey_Fierstein': 38.796158, 'Annie_Chaplin': 44.031807, 'Maha_Habib': 18.6471, 'Billy_Gilman': 34.084267, 'Ruano_Pascual': 0.0, 'Otto_Schily': 0.0, 'David_Bowie': 0.0, 'Blythe_Danner': 31.253822, 'Rafael_Bielsa': 9.856567, 'Djabir_Said-Guerni': 0.0, 'Ataollah_Mohajerani': 0.0, 'Filippo_Volandri': 11.379916, 'Charles_Cope': 28.215117, 'Frank_Abagnale_Jr': 7.060954, 'Shingo_Katayama': 4.969015, 'Frank_Zappa': 0.0, 'Cacy_rox': 65.87942, 'Hamid_Karzai': 9.739183, 'Tim_Blake_Nelson': 55.283413, 'Bill_Nelson': 25.978209, 'Alicia_Hollowell': 27.334045, 'Alonzo_Mourning': 0.0, 'Abdulaziz_Kamilov': 12.4550295, 'Andre_Techine': 13.626898, 'Chick_Hearn': 19.813211, 'Tim_Conway': 9.263365, 'Alen_dan': 551.1052, 'Andreas_Vinciguerra': 12.994106, 'Kate_Capshaw': 18.707596, 'Aaron_Peirsol': 17.03552, 'Carmen_Electra': 17.87044, 'Craig_MacTavish': 0.0, 'Muhammad_Ali': 2.1270108, 'Ivan_Stambolic': 0.0, 'Avril_Lavigne': 0.0, 'Andrea_Kiser': 30.650015, 'Cesar_Maia': 7.8718886, 'Frank_Murkowski': 61.049026, 'Raja_Ibrahim': 31.562004, 'Amelie_Mauresmo': 3.364687, 'Alessandro_Nesta': 0.0, 'Bernice_Wong': 0.0, 'Aaron_Sorkin': 0.0, 'Bustam_A_Zedan_Aljanabi': 17.066944, 'Pieter_Bouw': 8.52696, 'Adriana_Perez_Navarro': 0.0, 'Craig_Fitzgibbon': 1.3701973, 'Luis_Gonzalez_Macchi': 37.290215, 'Rudy_Tomjanovich': 0.0, 'Pedro_Pauleta': 0.0, 'Ellen_Martin': 0.0, 'Monica_Bellucci': 0.8345957, 'Fujio_Cho': 60.0838, 'Paddy_Torsney': 0.0, 'OJ_Simpson': 78.00331, 'Ahmed_Ghazi': 56.4127, 'Charlie_Zaa': 7.763296, 'Ana_Guevara': 50.290947, 'Eduard_Limonov': 0.0, 'Anthony_Ervin': 0.0, 'Larry_Beinfest': 0.0, 'Jose_Cevallos': 21.712261, 'Mary_Jo_Myers': 61.229767, 'Janela_Jara': 0.0, 'Ahmed_Lopez': 1.2825117, 'Andrei_Nikolishin': 0.0, 'Jan_Bjoerklund': 6.9519844, 'Gustavo_Terrazas': 77.81178, 'Andrei_Mikhnevich': 0.6829233, 'Marc_Racicot': 33.142212, 'Andrew_Bunner': 34.87235, 'Allen_Iverson': 44.620735, 'Alice_Fisher': 0.0, 'Luo_Linquan': 0.0, 'Anders_Ebbeson': 0.0, 'Matt_Siebrandt': 0.0, 'Dewayne_White': 0.0, 'Andre_Lange': 0.89410305, 'Ana_Isabel_Sanchez': 0.0, 'Elias_Attallah': 0.0, 'Peter_Fonda': 63.736916, 'Dario_Camuffo': 0.0, 'Amy_Yasbeck': 0.0, 'Cameron_Diaz': 14.764571, 'Andrew_Caldecott': 0.0, 'Hadley_Bilger': 7.247057, 'Aaron_Guiel': 39.64711, 'Dorothy_Lamour': 49.27101, 'Amy_Redford': 8.835081, 'Carl_Levin': 0.0, 'Charlie_Williams': 15.808007, 'Annette_Lu': 0.0, 'Lutz_Freitag': 13.117815, 'Aparna_Pillai': 0.0, 'Tim_Floyd': 0.0, 'James_Brazelton': 37.57412, 'Anna_Faris': 0.0, 'Charles_Richardson': 42.486454, 'Chelsea_Clinton': 13.470735, 'Elijan_Ingram': 0.0, 'Catriona_Le_May_Doan': 0.0, 'Jaccy_Ann': 28.656845, 'Abbas_Kiarostami': 4.2276163, 'Bijan_Darvish': 9.951787, 'Roy_Williams': 0.0, 'Carla_Tricoli': 0.0, 'Bill_OReilly': 28.760605, 'Alex_Wallau': 0.0, 'Ruth_Dreifuss': 0.72846484, 'Chen_Kaige': 14.56563, 'Abdel_Nasser_Assidi': 38.757828, 'Azmi_Bishara': 0.0, 'Saburo_Kawabuchi': 6.1000395, 'Edward_Greenspan': 35.608345, 'Rashid_Qureshi': 0.0, 'Charles_Schumer': 0.0, 'Fred_Huff': 32.118824, 'Lars_Von_Trier': 5.9088063, 'Allan_Wagner': 16.82063, 'Cho_Myung-kyun': 0.0, 'Camille_Colvin': 0.0, 'Anthony_Carter': 0.0, 'Joy_Bryant': 0.0, 'Bill_Herrion': 38.671963, 'Harald_Ringstorff': 0.0, 'Ann_Godbehere': 0.0, 'Andrew_Sabey': 0.0, 'Anna_Jones': 0.5727668, 'Alicia_Keys': 49.016052, 'Abba_Eban': 30.1747, 'Guillermo_Canas': 5.353063, 'Ann_Veneman': 0.0, 'Chhouk_Rin': 41.579323, 'Frank_Bell': 32.36818, 'Carol_Carmody': 31.71214, 'Morgan_Freeman': 3.949037, 'Annie-Jeanne_Reynaud': 28.351337, 'Artieas_Shanks': 105.210144, 'Atiabet_Ijan_Amabel': 16.532547, 'James_Ivory': 0.0, 'Hugh_Campbell': 74.88076, 'Raquel_Welch': 0.0, 'Anthony_Fauci': 69.32728, 'Iain_Duncan_Smith': 23.476229, 'Laura_Marlow': 0.0, 'Joxel_Garcia': 0.0, 'Alina_Kabaeva': 16.7622, 'Anzori_Kikalishvili': 4.899233, 'Hamad_Bin_Jassim': 18.73474, 'Stella_McCartney': 32.429417, 'Carlos_Ruckauf': 9.082634, 'Lech_Walesa': 21.31156, 'Denis_Coderre': 6.6550217, 'Tim_Curry': 65.97801, 'Anthony_Garotinho': 17.74703, 'Saman_Shali': 2.7917814, 'Anne_McLellan': 0.0, 'Chris_Crocker': 0.0, 'Sean_Townsend': 0.0, 'Fred_Swan': 0.0, 'Abdel_Aziz_Al-Hakim': 34.035347, 'Donna_Barrera': 0.0, 'Carlo_Ancelotti': 15.320142, 'Bill_Carmody': 40.832497, 'Amy_Pascal': 12.054916, 'Habib_Rizieq': 0.0, 'Manuel_Llorente': 17.256695, 'Iain_Richmond': 0.0, 'Bryan_Chui': 34.19747, 'Nabil_Shaath': 0.0, 'Andre_Agassi': 72.6558, 'Billy_Edelin': 86.611855, 'Choi_Yun-yong': 0.0, 'Jean_Brumley': 28.954483, 'Janice_Abreu': 44.514374, 'Sadam_Hassan': 10.707175, 'Jason_Campbell': 55.024208, 'Feliciano_Lopez': 0.0, 'Anastasia_Kelesidou': 1.4185221, 'Shigeo_Nagashima': 0.0, 'Ali_Hammoud': 42.65055, 'Darren_Campel': 0.0, 'Anthony_Corso': 0.0, 'Denis_Fassou-Nguesso': 0.0, 'Anneli_Jaatteenmaki': 53.439728, 'Andrzej_Tyszkiewicz': 0.0, 'Scott_Wolf': 11.2159395, 'Charlize_Theron': 0.0, 'Lazaro_Castro': 48.04968, 'Allan_Houston': 0.0, 'Ana_Sebastiao': 0.0, 'Elvis_Costello': 12.183794, 'Olympia_Dukakis': 0.0, 'Elijah_Wood': 14.867679, 'Anne_ONeil': 0.0, 'Alistair_MacDonald': 0.0, 'Alicia_Witt': 32.365005, 'Ashraf_Alasmar': 0.0, 'Kirsten_Gilham': 0.5187168, 'Kalid_Kaid': 0.0, 'Jacqueline_Gold': 2.1608229, 'Hung_Wan-ting': 0.0, 'Bill_Stapleton': 0.0, 'Alexandra_Pelosi': 0.0, 'Lucio_Stanca': 0.0, 'Ari_Bousbib': 99.29559, 'Ruth_Pearce': 43.43842, 'Jack_Nicholson': 14.438415, 'Chris_Cooper': 15.386366, 'Raoul_Ruiz': 1.5186884, 'Katalin_Kollat': 7.557558, 'Kirsten_Clark': 0.0, 'Chandrika_Kumaratunga': 0.0, 'Sally_Field': 0.24300098, 'Ahmed_Ibrahim_Bilal': 5.634605, 'Marc_Grossman': 0.0, 'Alfonso_Cuaron': 0.0, 'Abdoulaye_Wade': 23.225143, 'Gary_Leon_Ridgway': 4.3054657, 'Jaime_Pressly': 40.880024, 'Rulon_Gardner': 80.44861, 'Anne_Krueger': 42.124874, 'Bill_Stein': 67.01009, 'Amber_Frey': 0.0, 'Hun_Sen': 3.5882235, 'Cristina_Kirchner': 13.068583, 'Evo_Morales': 0.0, 'Ahmad_Jbarah': 0.0, 'Rainer_Schuettler': 58.9146, 'Aaron_Patterson': 1.8814383, 'Jon_Kitna': 0.0, 'Lyudmila_Putin': 0.0, 'Ana_Palacio': 1.3060194, 'Damon_Dash': 0.0, 'Amber_nan': 0.0, 'Shingo_Suetsugu': 41.309303, 'Andrea_De_Cruz': 0.0, 'Jose_Manuel_Durao_Barroso': 1.0860654, 'Frank_Beamer': 0.0, 'Makiya_Ali_Hassan': 0.0, 'Fernando_Gonzalez': 35.847797, 'Alex_Sink': 30.074701, 'Otto_Reich': 0.69389915, 'Mona_Rishmawi': 0.0, 'Saddam_Hussein': 14.442654, 'Aaron_Pena': 0.0, 'Blas_Ople': 18.865494, 'Shimon_Peres': 31.327349, 'Koichi_Tanaka': 26.082092, 'Sada_Jacobson': 28.856012, 'Carol_Burnett': 47.448105, 'Arthur_Johnson': 0.0, 'Dwayne_Wade': 0.0, 'Arif_Mardin': 0.0, 'Edward_Flynn': 0.0, 'Christian_Bale': 47.71418, 'Antanas_Valionis': 0.0, 'Tiffany_Limos': 0.0, 'Paul_Martin': 33.283447, 'Arlen_Specter': 0.0, 'Alvaro_Silva_Calderon': 45.493397, 'Amelia_Vega': 74.52525, 'Dyab_Abou_Jahjah': 0.0, 'Nadia_Petrova': 0.0, 'Ashton_Kutcher': 15.093391, 'Andrew_Firestone': 0.0, 'Ali_Fallahian': 8.277801, 'Griffin_Colvin': 31.975435, 'David_Obey': 0.0, 'Elizabeth_Berkeley': 0.0, 'Park_Jie-won': 0.0, 'Ann_Morgan': 9.922552, 'Carlos_Quintanilla_Schmidt': 0.0, 'Nino_DAngelo': 3.5092, 'Andrea_Yates': 0.0, 'Arianna_Huffington': 49.90772, 'Mufti_Mohammad_Syed': 35.653893, 'Anastasia_Myskina': 7.404606, 'Carin_Koch': 0.0, 'Fatmir_Limaj': 24.516582, 'Patrick_McEnroe': 8.019524, 'Chris_Penn': 0.0, 'Anne_Heche': 8.8488865, 'Andre_Bucher': 0.0, 'Madeleine_Albright': 14.97475, 'Allison_Janney': 63.03312, 'Adrian_McPherson': 11.854054, 'Elena_Bovina': 0.0, 'Jason_Sehorn': 3.120245, 'Debra_Yang': 0.0, 'Hootie_Johnson': 0.0, 'Anjum_Hussain': 23.35711, 'Arantxa_Sanchez-Vicario': 12.006366, 'Amber_Tamblyn': 15.409857, 'Felicity_Huffman': 29.767519, 'Carolyn_Dawn_Johnson': 2.3666766, 'Aaron_Tippin': 0.0, 'Tim_Curley': 0.0, 'Chris_Noth': 0.0, 'Ross_Verba': 0.0, 'Francisco_Maturana': 10.382999, 'Ahmad_Masood': 39.058876, 'Amram_Mitzna': 0.0, 'Francisco_Santos': 0.0, 'Sam_Torrance': 56.486202, 'Mahathir_Mohamad': 42.858074, 'Mike_Holmgren': 0.0, 'Anna_Nicole_Smith': 0.0, 'Jaime_Orti': 0.0, 'Sean_Patrick_Thomas': 0.0, 'Aretha_Franklin': 17.01909, 'Laura_Morante': 7.350728, 'Donna_Morrissey': 0.0, 'Howard_Smith': 45.98683, 'Alyse_Beaupre': 0.0, 'Jack_LaLanne': 62.164265, 'Julianne_Moore': 3.8974972, 'Chang_Jae_On': 5.099125, 'Dudley_Rogers': 24.177824, 'Alicia_Silverstone': 0.0, 'Shia_LaBeouf': 71.78093, 'Choi_Sung-hong': 36.225075, 'Ravan_AG_Farhadi': 11.717096, 'Bryan_Cooley': 17.575474, 'Charles_Grassley': 3.6637592, 'Eduardo_Chillida': 30.942791, 'Allen_Rock': 0.0, 'Ashraf_Ghani': 11.0658455, 'Charles_Chandler_IV': 15.853682, 'Moon-So-ri': 0.0, 'Amy_Gale': 31.46176, 'Frances_Fisher': 32.622986, 'Sachin_Tendulkar': 80.95511, 'Karen_Lynn_Gorney': 29.829182, 'Alimzhan_Tokhtakhounov': 56.414948, 'Arturo_Gatti': 0.0, 'Ali_Bin_Hussein': 30.934132, 'Donald_Evans': 0.0, 'Tiger_Woods': 5.4990935, 'Dai_Bachtiar': 60.57153, 'Anatoliy_Kinakh': 0.0, 'Cate_Blanchett': 43.589108, 'Norman_Mineta': 40.022774, 'Alyson_Hannigan': 0.0, 'Tim_Allen': 58.778564, 'Catherine_Bell': 0.0, 'Butch_Davis': 0.0, 'Jane_Clayson': 0.0, 'Gustavo_Kuerten': 21.194511, 'Andrew_Fastow': 0.0, 'Javier_Vazquez': 18.131283, 'Annette_Bening': 0.0, 'Spike_Lee': 3.4845142, 'James_Cunningham': 15.425601, 'Hal_Gehman': 5.2864995, 'Jack_Smith': 0.0, 'Barbara_De_Brun': 0.0, 'Karen_Clarkson': 0.0, 'Fernando_Henrique_Cardoso': 62.450928, 'Cristina_Saralegui': 4.619243, 'Fran_Drescher': 0.0, 'Norodom_Chakrapong': 0.0, 'Fruit_Chan': 0.0, 'Bill_Graham': 0.0, 'Dule_Hill': 0.0, 'Nong_Duc_Manh': 0.0, 'Frank_Pallone': 0.0, 'Bianca_Jagger': 0.0, 'David_Blaine': 0.0, 'Ann_Landers': 12.019802, 'Lucio_Gutierrez': 0.044758245, 'Stacey_Dales-Schuman': 0.0, 'Jon_Gruden': 45.44882, 'Bertrand_Bonello': 7.3021107, 'Amy_Cotton': 9.914033, 'Donald_Fehr': 34.283325, 'Kate_Burton': 14.278036, 'Magui_Serna': 8.457961, 'Tim_Henman': 7.6692963, 'Rupert_Grint': 51.158833, 'Ariel_Sharon': 20.300373, 'Austin_Kearns': 3.601521, 'Tim_Chapman': 0.0, 'Adrian_Murrell': 43.601418, 'Annie_Machon': 39.534115, 'Ruth_Harlow': 0.0, 'Carina_Lau_Ka-ling': 0.0, 'Muffet_McGraw': 40.05389, 'Luther_Htu': 0.0, 'Andrew_Gilligan': 0.0, 'Nora_Bendijo': 19.394173, 'Anthony_Hazen': 0.0, 'Andrew_Bernard': 8.134763, 'Adrianna_Zuzic': 0.0, 'Arthur_Martinez': 9.951603, 'Hans-Christian_Schmid': 0.0, 'Nadia_Forte': 0.0, 'Morgan_Fairchild': 16.254864, 'Marc_Leger': 90.16607, 'Guillermo_Monroy': 0.0, 'Eva_Mendes': 0.0, 'Alvaro_Noboa': 3.905813, 'Amy_Smart': 0.0, 'Filip_De_Winter': 0.0, 'Malcolm_Glazer': 13.131596, 'Hamid_Efendi': 16.88331, 'Adrien_Brody': 26.381601, 'Sean_Penn': 0.0, 'Atal_Bihari_Vajpayee': 34.58086, 'Camilla_Parker_Bowles': 0.0, 'Andrea_Bocelli': 0.0, 'Hank_Azaria': 13.040763, 'Frank_Marshall': 0.0, 'Bill_Clancy': 4.426749, 'Mack_Brown': 1.7290168, 'Aly_Wagner': 3.5043983, 'Hank_Bass': 0.0, 'Amanda_Coetzer': 31.633766, 'Andrew_Niccol': 0.0, 'Annika_Sorenstam': 0.0, 'Hans_Peter_Briegel': 75.66225, 'Sally_Kirkland': 0.0, 'Alicia_Molik': 0.0, 'Shireen_Amir_Begum': 19.63533, 'Abdel_Madi_Shabneh': 0.0, 'Darrell_Royal': 3.008647, 'Megawati_Sukarnoputri': 7.0974956, 'Howard_Stern': 6.013443, 'Franklin_Damann': 0.0, 'Masum_Turker': 0.0, 'Daniel_Chin': 17.835186, 'Normand_Legault': 49.167774, 'Roy_Romanow': 14.485216, 'Cheryl_Tiegs': 0.0, 'Ali_Khamenei': 0.26508555, 'Andy_Benes': 0.0, 'Chang_Dae-whan': 15.4122505, 'Oleg_Romantsev': 0.0, 'Bertie_Ahern': 4.122241, 'Almeida_Baptista': 0.0, 'Andrew_Cuomo': 6.1629677, 'Anders_Fogh_Rasmussen': 20.827412, 'Sally_Ride': 27.587933, 'Eduard_Shevardnadze': 29.920612, 'Carlos_Queiroz': 0.0, 'Floyd_Mayweather': 32.099663, 'Laila_Ali': 11.755355, 'Sachiko_Yamada': 8.629017, 'David_Oh': 0.0, 'David_Provost': 0.0, 'Ari_Fleischer': 3.499195, 'Guillermo_Coria': 0.0, 'Hatsui_Hasuike': 7.180337, 'Franklin_Brown': 48.351234, 'Fred_Rogers': 0.0, 'Bruce_Lunsford': 39.196793, 'Amy_Brenneman': 24.030352, 'Doc_Rivers': 26.188608, 'Shirley_Jones': 0.0, 'Dwayne_Williams': 29.65644, 'Daniel_Bruehl': 2.620175, 'Arie_Haan': 21.20718, 'Ana_Paula_Gerard': 69.95534, 'Carlo_Azeglio_Ciampi': 33.98457, 'Dan_Kellner': 0.0, 'Amr_Moussa': 43.676514, 'Marco_Antonio_Barrera': 25.582483, 'Elva_Hsiao': 27.796637, 'Amanda_Marsh': 4.899376, 'Andrew_Wetzler': 0.0, 'Amanda_Plumer': 0.0, 'Francisco_Garcia': 7.9543085, 'Sabah_Al-Ahmad_Al-Jaber_Al-Sabah': 0.0, 'Andrei_Konchalovsky': 0.0, 'Tim_Duncan': 7.061162}\n"
     ]
    }
   ],
   "source": [
    "img_path = '/Users/tayamayuto/Face_recognition_IF/data/input/315222_s.jpg'\n",
    "\n",
    "img = cv2.imread(img_path)\n",
    "\n",
    "app = FaceAnalysis(name='buffalo_s',root='~/.insightface/models/')\n",
    "app.prepare(ctx_id=0, det_size=(640, 640))\n",
    "\n",
    "faces = app.get(np.array(img))\n",
    "\n",
    "unknown_embeddings = []\n",
    "for i in range(len(faces)):\n",
    "    unknown_embeddings.append(faces[i].embedding)\n",
    "\n",
    "pred_names = judge_sim(known_embeddings, known_names, unknown_embeddings, 95)\n"
   ]
  },
  {
   "cell_type": "code",
   "execution_count": 114,
   "metadata": {},
   "outputs": [
    {
     "name": "stdout",
     "output_type": "stream",
     "text": [
      "['Amber_nan', 'Bob_nox', 'Jaccy_Ann', 'Nuck_Kiy', 'Cacy_rox', 'Alen_dan']\n"
     ]
    }
   ],
   "source": [
    "print(pred_names)"
   ]
  },
  {
   "cell_type": "code",
   "execution_count": 121,
   "metadata": {},
   "outputs": [
    {
     "data": {
      "image/jpeg": "[encoded data removed]",
      "text/plain": [
       "<IPython.core.display.Image object>"
      ]
     },
     "metadata": {},
     "output_type": "display_data"
    }
   ],
   "source": [
    "detect = draw_on(img, faces, pred_names)\n",
    "\n",
    "#cv2.imwrite('/Users/tayamayuto/Face_recognition_IF/data/output/4_men.jpeg', detect)\n",
    "\n",
    "_, buf = cv2.imencode(\".jpg\", detect)\n",
    "display(Image(data=buf.tobytes()))"
   ]
  }
 ],
 "metadata": {
  "kernelspec": {
   "display_name": "face_env",
   "language": "python",
   "name": "python3"
  },
  "language_info": {
   "codemirror_mode": {
    "name": "ipython",
    "version": 3
   },
   "file_extension": ".py",
   "mimetype": "text/x-python",
   "name": "python",
   "nbconvert_exporter": "python",
   "pygments_lexer": "ipython3",
   "version": "3.10.6"
  },
  "orig_nbformat": 4
 },
 "nbformat": 4,
 "nbformat_minor": 2
}
