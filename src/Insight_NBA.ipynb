{
 "cells": [
  {
   "cell_type": "code",
   "execution_count": 1,
   "metadata": {},
   "outputs": [],
   "source": [
    "import numpy as np\n",
    "import os\n",
    "import cv2\n",
    "from insightface.app import FaceAnalysis\n",
    "import pandas as pd\n",
    "from glob import glob\n",
    "from insightface.app.common import Face\n",
    "from insightface.model_zoo import model_zoo\n",
    "from tqdm import tqdm\n",
    "from collections import defaultdict\n",
    "\n"
   ]
  },
  {
   "cell_type": "code",
   "execution_count": 2,
   "metadata": {},
   "outputs": [
    {
     "name": "stdout",
     "output_type": "stream",
     "text": [
      "Applied providers: ['CPUExecutionProvider'], with options: {'CPUExecutionProvider': {}}\n",
      "Applied providers: ['CPUExecutionProvider'], with options: {'CPUExecutionProvider': {}}\n"
     ]
    },
    {
     "name": "stderr",
     "output_type": "stream",
     "text": [
      "/Users/tayamayuto/Face_recognition_IF/face_env/lib/python3.10/site-packages/onnxruntime/capi/onnxruntime_inference_collection.py:65: UserWarning: Specified provider 'CUDAExecutionProvider' is not in available provider names.Available providers: 'CPUExecutionProvider'\n",
      "  warnings.warn(\n"
     ]
    }
   ],
   "source": [
    "det_model_path = 'buffalo_s/det_500m.onnx'\n",
    "rec_model_path = 'buffalo_s/w600k_mbf.onnx'\n",
    "\n",
    "det_model = model_zoo.get_model(f'/Users/tayamayuto/Face_recognition_IF/.insightface/models/{det_model_path}')\n",
    "rec_model = model_zoo.get_model(f'/Users/tayamayuto/Face_recognition_IF/.insightface/models/{rec_model_path}')\n",
    "\n",
    "det_model.prepare(ctx_id=0, input_size=(640, 640), det_thres=0.5)"
   ]
  },
  {
   "cell_type": "code",
   "execution_count": 8,
   "metadata": {},
   "outputs": [
    {
     "name": "stderr",
     "output_type": "stream",
     "text": [
      "  0%|          | 1/510 [00:00<05:42,  1.49it/s]"
     ]
    },
    {
     "name": "stdout",
     "output_type": "stream",
     "text": [
      "['B.J. Boston, Jr.', 'B.J. Boston, Jr.', 'B.J. Boston, Jr.', 'B.J. Boston, Jr.', 'B.J. Boston, Jr.', 'B.J. Boston, Jr.', 'B.J. Boston, Jr.', 'B.J. Boston, Jr.', 'B.J. Boston, Jr.', 'B.J. Boston, Jr.']\n"
     ]
    },
    {
     "name": "stderr",
     "output_type": "stream",
     "text": [
      "  0%|          | 2/510 [00:01<05:37,  1.50it/s]"
     ]
    },
    {
     "name": "stdout",
     "output_type": "stream",
     "text": [
      "['Kobe Brown', 'Kobe Brown', 'Kobe Brown', 'Kobe Brown', 'Kobe Brown', 'Kobe Brown', 'Kobe Brown', 'Kobe Brown', 'Kobe Brown', 'Kobe Brown']\n"
     ]
    },
    {
     "name": "stderr",
     "output_type": "stream",
     "text": [
      "  1%|          | 3/510 [00:01<04:42,  1.80it/s]"
     ]
    },
    {
     "name": "stdout",
     "output_type": "stream",
     "text": [
      "['A.J. Green', 'A.J. Green', 'A.J. Green', 'A.J. Green', 'A.J. Green', 'A.J. Green', 'A.J. Green', 'A.J. Green', 'A.J. Green', 'A.J. Green']\n"
     ]
    },
    {
     "name": "stderr",
     "output_type": "stream",
     "text": [
      "  1%|          | 4/510 [00:02<04:22,  1.93it/s]"
     ]
    },
    {
     "name": "stdout",
     "output_type": "stream",
     "text": [
      "['Danilo Gallinari', 'Danilo Gallinari', 'Danilo Gallinari', 'Danilo Gallinari', 'Danilo Gallinari', 'Danilo Gallinari', 'Danilo Gallinari', 'Danilo Gallinari', 'Danilo Gallinari', 'Danilo Gallinari']\n"
     ]
    },
    {
     "name": "stderr",
     "output_type": "stream",
     "text": [
      "  1%|          | 5/510 [00:02<04:16,  1.97it/s]"
     ]
    },
    {
     "name": "stdout",
     "output_type": "stream",
     "text": [
      "['Dante Exum', 'Dante Exum', 'Dante Exum', 'Dante Exum', 'Dante Exum', 'Dante Exum', 'Dante Exum', 'Dante Exum', 'Dante Exum', 'Dante Exum']\n"
     ]
    },
    {
     "name": "stderr",
     "output_type": "stream",
     "text": [
      "  1%|          | 6/510 [00:03<04:12,  2.00it/s]"
     ]
    },
    {
     "name": "stdout",
     "output_type": "stream",
     "text": [
      "['Christian Braun', 'Christian Braun', 'Christian Braun', 'Christian Braun', 'Christian Braun', 'Christian Braun', 'Christian Braun', 'Christian Braun', 'Christian Braun']\n"
     ]
    },
    {
     "name": "stderr",
     "output_type": "stream",
     "text": [
      "  1%|▏         | 7/510 [00:03<04:09,  2.02it/s]"
     ]
    },
    {
     "name": "stdout",
     "output_type": "stream",
     "text": [
      "['Duncan Robinson', 'Duncan Robinson', 'Duncan Robinson', 'Duncan Robinson', 'Duncan Robinson', 'Duncan Robinson', 'Duncan Robinson', 'Duncan Robinson']\n"
     ]
    },
    {
     "name": "stderr",
     "output_type": "stream",
     "text": [
      "  2%|▏         | 8/510 [00:04<04:40,  1.79it/s]"
     ]
    },
    {
     "name": "stdout",
     "output_type": "stream",
     "text": [
      "['Georges Niang', 'Georges Niang', 'Georges Niang', 'Georges Niang', 'Georges Niang', 'Georges Niang', 'Georges Niang']\n"
     ]
    },
    {
     "name": "stderr",
     "output_type": "stream",
     "text": [
      "  2%|▏         | 9/510 [00:05<04:54,  1.70it/s]"
     ]
    },
    {
     "name": "stdout",
     "output_type": "stream",
     "text": [
      "['Robin Lopez', 'Robin Lopez', 'Robin Lopez', 'Robin Lopez', 'Robin Lopez', 'Robin Lopez', 'Robin Lopez', 'Robin Lopez', 'Robin Lopez', 'Robin Lopez']\n"
     ]
    },
    {
     "name": "stderr",
     "output_type": "stream",
     "text": [
      "  2%|▏         | 10/510 [00:05<04:50,  1.72it/s]"
     ]
    },
    {
     "name": "stdout",
     "output_type": "stream",
     "text": [
      "['John Collins', 'John Collins', 'John Collins', 'John Collins', 'John Collins', 'John Collins', 'John Collins', 'John Collins', 'John Collins', 'John Collins']\n"
     ]
    },
    {
     "name": "stderr",
     "output_type": "stream",
     "text": [
      "  2%|▏         | 11/510 [00:06<04:32,  1.83it/s]"
     ]
    },
    {
     "name": "stdout",
     "output_type": "stream",
     "text": [
      "['Richaun Holmes', 'Richaun Holmes', 'Richaun Holmes', 'Richaun Holmes', 'Richaun Holmes', 'Richaun Holmes', 'Richaun Holmes', 'Richaun Holmes', 'Richaun Holmes', 'Richaun Holmes']\n"
     ]
    },
    {
     "name": "stderr",
     "output_type": "stream",
     "text": [
      "  2%|▏         | 12/510 [00:06<04:48,  1.73it/s]"
     ]
    },
    {
     "name": "stdout",
     "output_type": "stream",
     "text": [
      "['Maxi Kleber', 'Maxi Kleber', 'Maxi Kleber', 'Maxi Kleber', 'Maxi Kleber', 'Maxi Kleber', 'Maxi Kleber', 'Maxi Kleber', 'Maxi Kleber', 'Maxi Kleber']\n"
     ]
    },
    {
     "name": "stderr",
     "output_type": "stream",
     "text": [
      "  3%|▎         | 13/510 [00:07<05:28,  1.51it/s]"
     ]
    },
    {
     "name": "stdout",
     "output_type": "stream",
     "text": [
      "['Terry Rozier', 'Terry Rozier', 'Terry Rozier', 'Terry Rozier', 'Terry Rozier', 'Terry Rozier', 'Terry Rozier', 'Terry Rozier', 'Terry Rozier', 'Terry Rozier']\n"
     ]
    },
    {
     "name": "stderr",
     "output_type": "stream",
     "text": [
      "  3%|▎         | 14/510 [00:08<05:00,  1.65it/s]"
     ]
    },
    {
     "name": "stdout",
     "output_type": "stream",
     "text": [
      "['Derrick White', 'Derrick White', 'Derrick White', 'Derrick White', 'Derrick White', 'Derrick White', 'Derrick White', 'Derrick White', 'Derrick White', 'Derrick White']\n"
     ]
    },
    {
     "name": "stderr",
     "output_type": "stream",
     "text": [
      "  3%|▎         | 15/510 [00:08<04:47,  1.72it/s]"
     ]
    },
    {
     "name": "stdout",
     "output_type": "stream",
     "text": [
      "['Isaac Okoro', 'Isaac Okoro', 'Isaac Okoro', 'Isaac Okoro', 'Isaac Okoro', 'Isaac Okoro', 'Isaac Okoro', 'Isaac Okoro', 'Isaac Okoro']\n"
     ]
    },
    {
     "name": "stderr",
     "output_type": "stream",
     "text": [
      "  3%|▎         | 16/510 [00:09<04:48,  1.72it/s]"
     ]
    },
    {
     "name": "stdout",
     "output_type": "stream",
     "text": [
      "['Rui Hachimura', 'Rui Hachimura', 'Rui Hachimura', 'Rui Hachimura', 'Rui Hachimura', 'Rui Hachimura', 'Rui Hachimura', 'Rui Hachimura', 'Rui Hachimura', 'Rui Hachimura']\n"
     ]
    },
    {
     "name": "stderr",
     "output_type": "stream",
     "text": [
      "  3%|▎         | 17/510 [00:09<04:23,  1.87it/s]"
     ]
    },
    {
     "name": "stdout",
     "output_type": "stream",
     "text": [
      "['Kai Jones', 'Kai Jones', 'Kai Jones', 'Kai Jones', 'Kai Jones', 'Kai Jones', 'Kai Jones', 'Kai Jones', 'Kai Jones', 'Kai Jones']\n"
     ]
    },
    {
     "name": "stderr",
     "output_type": "stream",
     "text": [
      "  4%|▎         | 18/510 [00:10<04:44,  1.73it/s]"
     ]
    },
    {
     "name": "stdout",
     "output_type": "stream",
     "text": [
      "['Stephen Curry', 'Stephen Curry', 'Stephen Curry', 'Stephen Curry', 'Stephen Curry', 'Stephen Curry', 'Stephen Curry', 'Stephen Curry', 'Stephen Curry', 'Stephen Curry']\n"
     ]
    },
    {
     "name": "stderr",
     "output_type": "stream",
     "text": [
      "  4%|▎         | 19/510 [00:10<04:22,  1.87it/s]"
     ]
    },
    {
     "name": "stdout",
     "output_type": "stream",
     "text": [
      "['Jamal Murray', 'Jamal Murray', 'Jamal Murray', 'Jamal Murray', 'Jamal Murray', 'Jamal Murray', 'Jamal Murray', 'Jamal Murray', 'Jamal Murray', 'Jamal Murray']\n"
     ]
    },
    {
     "name": "stderr",
     "output_type": "stream",
     "text": [
      "  4%|▍         | 20/510 [00:11<04:02,  2.02it/s]"
     ]
    },
    {
     "name": "stdout",
     "output_type": "stream",
     "text": [
      "['Gordon Hayward', 'Gordon Hayward', 'Gordon Hayward', 'Gordon Hayward', 'Gordon Hayward', 'Gordon Hayward', 'Gordon Hayward', 'Gordon Hayward', 'Gordon Hayward', 'Gordon Hayward']\n"
     ]
    },
    {
     "name": "stderr",
     "output_type": "stream",
     "text": [
      "  4%|▍         | 21/510 [00:11<04:57,  1.64it/s]"
     ]
    },
    {
     "name": "stdout",
     "output_type": "stream",
     "text": [
      "[\"Royce O'Neale\", \"Royce O'Neale\", \"Royce O'Neale\", \"Royce O'Neale\", \"Royce O'Neale\", \"Royce O'Neale\", \"Royce O'Neale\", \"Royce O'Neale\", \"Royce O'Neale\", \"Royce O'Neale\"]\n"
     ]
    },
    {
     "name": "stderr",
     "output_type": "stream",
     "text": [
      "  4%|▍         | 22/510 [00:12<04:12,  1.94it/s]"
     ]
    },
    {
     "name": "stdout",
     "output_type": "stream",
     "text": [
      "['Kris Murray', 'Kris Murray', 'Kris Murray', 'Kris Murray', 'Kris Murray', 'Kris Murray', 'Kris Murray']\n"
     ]
    },
    {
     "name": "stderr",
     "output_type": "stream",
     "text": [
      "  5%|▍         | 23/510 [00:12<03:57,  2.05it/s]"
     ]
    },
    {
     "name": "stdout",
     "output_type": "stream",
     "text": [
      "['Marvin Bagley III', 'Marvin Bagley III', 'Marvin Bagley III', 'Marvin Bagley III', 'Marvin Bagley III', 'Marvin Bagley III', 'Marvin Bagley III', 'Marvin Bagley III', 'Marvin Bagley III', 'Marvin Bagley III']\n"
     ]
    },
    {
     "name": "stderr",
     "output_type": "stream",
     "text": [
      "  5%|▍         | 24/510 [00:13<04:20,  1.87it/s]"
     ]
    },
    {
     "name": "stdout",
     "output_type": "stream",
     "text": [
      "['Tyler Herro', 'Tyler Herro', 'Tyler Herro', 'Tyler Herro', 'Tyler Herro', 'Tyler Herro', 'Tyler Herro', 'Tyler Herro', 'Tyler Herro', 'Tyler Herro']\n"
     ]
    },
    {
     "name": "stderr",
     "output_type": "stream",
     "text": [
      "  5%|▍         | 25/510 [00:13<04:32,  1.78it/s]"
     ]
    },
    {
     "name": "stdout",
     "output_type": "stream",
     "text": [
      "['Zeke Nnaji', 'Zeke Nnaji', 'Zeke Nnaji', 'Zeke Nnaji', 'Zeke Nnaji', 'Zeke Nnaji', 'Zeke Nnaji', 'Zeke Nnaji', 'Zeke Nnaji', 'Zeke Nnaji']\n"
     ]
    },
    {
     "name": "stderr",
     "output_type": "stream",
     "text": [
      "  5%|▌         | 26/510 [00:14<04:16,  1.89it/s]"
     ]
    },
    {
     "name": "stdout",
     "output_type": "stream",
     "text": [
      "['Trae Young', 'Trae Young', 'Trae Young', 'Trae Young', 'Trae Young', 'Trae Young', 'Trae Young', 'Trae Young', 'Trae Young', 'Trae Young']\n"
     ]
    },
    {
     "name": "stderr",
     "output_type": "stream",
     "text": [
      "  5%|▌         | 27/510 [00:14<04:20,  1.85it/s]"
     ]
    },
    {
     "name": "stdout",
     "output_type": "stream",
     "text": [
      "['Haywood Highsmith', 'Haywood Highsmith', 'Haywood Highsmith', 'Haywood Highsmith', 'Haywood Highsmith', 'Haywood Highsmith', 'Haywood Highsmith', 'Haywood Highsmith', 'Haywood Highsmith', 'Haywood Highsmith']\n"
     ]
    },
    {
     "name": "stderr",
     "output_type": "stream",
     "text": [
      "  5%|▌         | 28/510 [00:15<03:56,  2.04it/s]"
     ]
    },
    {
     "name": "stdout",
     "output_type": "stream",
     "text": [
      "['JaVale McGee', 'JaVale McGee', 'JaVale McGee', 'JaVale McGee', 'JaVale McGee', 'JaVale McGee', 'JaVale McGee', 'JaVale McGee', 'JaVale McGee', 'JaVale McGee']\n"
     ]
    },
    {
     "name": "stderr",
     "output_type": "stream",
     "text": [
      "  6%|▌         | 29/510 [00:15<03:54,  2.05it/s]"
     ]
    },
    {
     "name": "stdout",
     "output_type": "stream",
     "text": [
      "['Al Horford', 'Al Horford', 'Al Horford', 'Al Horford', 'Al Horford', 'Al Horford', 'Al Horford', 'Al Horford', 'Al Horford', 'Al Horford']\n"
     ]
    },
    {
     "name": "stderr",
     "output_type": "stream",
     "text": [
      "  6%|▌         | 30/510 [00:16<03:48,  2.10it/s]"
     ]
    },
    {
     "name": "stdout",
     "output_type": "stream",
     "text": [
      "['Ivica Zubac', 'Ivica Zubac', 'Ivica Zubac', 'Ivica Zubac', 'Ivica Zubac', 'Ivica Zubac', 'Ivica Zubac', 'Ivica Zubac', 'Ivica Zubac', 'Ivica Zubac']\n"
     ]
    },
    {
     "name": "stderr",
     "output_type": "stream",
     "text": [
      "  6%|▌         | 31/510 [00:17<04:46,  1.67it/s]"
     ]
    },
    {
     "name": "stdout",
     "output_type": "stream",
     "text": [
      "['Ron Harper', 'Ron Harper', 'Ron Harper', 'Ron Harper', 'Ron Harper', 'Ron Harper', 'Ron Harper', 'Ron Harper']\n"
     ]
    },
    {
     "name": "stderr",
     "output_type": "stream",
     "text": [
      "  6%|▋         | 32/510 [00:17<04:03,  1.97it/s]"
     ]
    },
    {
     "name": "stdout",
     "output_type": "stream",
     "text": [
      "['Cody Martin', 'Cody Martin', 'Cody Martin', 'Cody Martin', 'Cody Martin', 'Cody Martin', 'Cody Martin']\n"
     ]
    },
    {
     "name": "stderr",
     "output_type": "stream",
     "text": [
      "  6%|▋         | 33/510 [00:17<03:58,  2.00it/s]"
     ]
    },
    {
     "name": "stdout",
     "output_type": "stream",
     "text": [
      "['Kevin Love', 'Kevin Love', 'Kevin Love', 'Kevin Love', 'Kevin Love', 'Kevin Love', 'Kevin Love', 'Kevin Love', 'Kevin Love', 'Kevin Love']\n"
     ]
    },
    {
     "name": "stderr",
     "output_type": "stream",
     "text": [
      "  7%|▋         | 34/510 [00:18<04:07,  1.92it/s]"
     ]
    },
    {
     "name": "stdout",
     "output_type": "stream",
     "text": [
      "['Kawhi Leonard', 'Kawhi Leonard', 'Kawhi Leonard', 'Kawhi Leonard', 'Kawhi Leonard', 'Kawhi Leonard', 'Kawhi Leonard', 'Kawhi Leonard', 'Kawhi Leonard', 'Kawhi Leonard']\n"
     ]
    },
    {
     "name": "stderr",
     "output_type": "stream",
     "text": [
      "  7%|▋         | 35/510 [00:18<03:52,  2.04it/s]"
     ]
    },
    {
     "name": "stdout",
     "output_type": "stream",
     "text": [
      "['Nerlens Noel', 'Nerlens Noel', 'Nerlens Noel', 'Nerlens Noel', 'Nerlens Noel', 'Nerlens Noel', 'Nerlens Noel', 'Nerlens Noel', 'Nerlens Noel', 'Nerlens Noel']\n"
     ]
    },
    {
     "name": "stderr",
     "output_type": "stream",
     "text": [
      "  7%|▋         | 36/510 [00:19<04:02,  1.95it/s]"
     ]
    },
    {
     "name": "stdout",
     "output_type": "stream",
     "text": [
      "['Coby White', 'Coby White', 'Coby White', 'Coby White', 'Coby White', 'Coby White', 'Coby White', 'Coby White', 'Coby White', 'Coby White']\n"
     ]
    },
    {
     "name": "stderr",
     "output_type": "stream",
     "text": [
      "  7%|▋         | 37/510 [00:19<03:41,  2.14it/s]"
     ]
    },
    {
     "name": "stdout",
     "output_type": "stream",
     "text": [
      "['Jacob Gilyard', 'Jacob Gilyard', 'Jacob Gilyard', 'Jacob Gilyard', 'Jacob Gilyard', 'Jacob Gilyard', 'Jacob Gilyard', 'Jacob Gilyard']\n"
     ]
    },
    {
     "name": "stderr",
     "output_type": "stream",
     "text": [
      "  7%|▋         | 38/510 [00:20<04:46,  1.65it/s]"
     ]
    },
    {
     "name": "stdout",
     "output_type": "stream",
     "text": [
      "['Seth Lundy', 'Seth Lundy', 'Seth Lundy', 'Seth Lundy', 'Seth Lundy', 'Seth Lundy', 'Seth Lundy', 'Seth Lundy']\n"
     ]
    },
    {
     "name": "stderr",
     "output_type": "stream",
     "text": [
      "  8%|▊         | 39/510 [00:21<04:53,  1.60it/s]"
     ]
    },
    {
     "name": "stdout",
     "output_type": "stream",
     "text": [
      "['Mike Miles, Jr.', 'Mike Miles, Jr.', 'Mike Miles, Jr.', 'Mike Miles, Jr.', 'Mike Miles, Jr.', 'Mike Miles, Jr.', 'Mike Miles, Jr.', 'Mike Miles, Jr.', 'Mike Miles, Jr.', 'Mike Miles, Jr.']\n"
     ]
    },
    {
     "name": "stderr",
     "output_type": "stream",
     "text": [
      "  8%|▊         | 40/510 [00:22<04:42,  1.66it/s]"
     ]
    },
    {
     "name": "stdout",
     "output_type": "stream",
     "text": [
      "['Jaylen Brown', 'Jaylen Brown', 'Jaylen Brown', 'Jaylen Brown', 'Jaylen Brown', 'Jaylen Brown', 'Jaylen Brown', 'Jaylen Brown', 'Jaylen Brown', 'Jaylen Brown']\n"
     ]
    },
    {
     "name": "stderr",
     "output_type": "stream",
     "text": [
      "  8%|▊         | 41/510 [00:22<04:08,  1.89it/s]"
     ]
    },
    {
     "name": "stdout",
     "output_type": "stream",
     "text": [
      "['Luka Samanic', 'Luka Samanic', 'Luka Samanic', 'Luka Samanic', 'Luka Samanic', 'Luka Samanic', 'Luka Samanic']\n"
     ]
    },
    {
     "name": "stderr",
     "output_type": "stream",
     "text": [
      "  8%|▊         | 42/510 [00:22<04:22,  1.78it/s]"
     ]
    },
    {
     "name": "stdout",
     "output_type": "stream",
     "text": [
      "['Larry Nance, Jr.', 'Larry Nance, Jr.', 'Larry Nance, Jr.', 'Larry Nance, Jr.', 'Larry Nance, Jr.', 'Larry Nance, Jr.', 'Larry Nance, Jr.', 'Larry Nance, Jr.', 'Larry Nance, Jr.', 'Larry Nance, Jr.']\n"
     ]
    },
    {
     "name": "stderr",
     "output_type": "stream",
     "text": [
      "  8%|▊         | 43/510 [00:23<04:13,  1.84it/s]"
     ]
    },
    {
     "name": "stdout",
     "output_type": "stream",
     "text": [
      "['Spencer Dinwiddie', 'Spencer Dinwiddie', 'Spencer Dinwiddie', 'Spencer Dinwiddie', 'Spencer Dinwiddie', 'Spencer Dinwiddie', 'Spencer Dinwiddie', 'Spencer Dinwiddie', 'Spencer Dinwiddie', 'Spencer Dinwiddie']\n"
     ]
    },
    {
     "name": "stderr",
     "output_type": "stream",
     "text": [
      "libpng warning: iCCP: known incorrect sRGB profile\n",
      "  9%|▊         | 44/510 [00:24<04:33,  1.70it/s]"
     ]
    },
    {
     "name": "stdout",
     "output_type": "stream",
     "text": [
      "['Keyonte George', 'Keyonte George', 'Keyonte George', 'Keyonte George', 'Keyonte George', 'Keyonte George', 'Keyonte George', 'Keyonte George', 'Keyonte George', 'Keyonte George']\n"
     ]
    },
    {
     "name": "stderr",
     "output_type": "stream",
     "text": [
      "  9%|▉         | 45/510 [00:24<04:58,  1.56it/s]"
     ]
    },
    {
     "name": "stdout",
     "output_type": "stream",
     "text": [
      "['Kelly Olynyk', 'Kelly Olynyk', 'Kelly Olynyk', 'Kelly Olynyk', 'Kelly Olynyk', 'Kelly Olynyk', 'Kelly Olynyk', 'Kelly Olynyk', 'Kelly Olynyk', 'Kelly Olynyk']\n"
     ]
    },
    {
     "name": "stderr",
     "output_type": "stream",
     "text": [
      "  9%|▉         | 46/510 [00:25<04:56,  1.56it/s]"
     ]
    },
    {
     "name": "stdout",
     "output_type": "stream",
     "text": [
      "['Gary Harris', 'Gary Harris', 'Gary Harris', 'Gary Harris', 'Gary Harris', 'Gary Harris', 'Gary Harris', 'Gary Harris', 'Gary Harris', 'Gary Harris']\n"
     ]
    },
    {
     "name": "stderr",
     "output_type": "stream",
     "text": [
      "  9%|▉         | 47/510 [00:26<05:11,  1.48it/s]"
     ]
    },
    {
     "name": "stdout",
     "output_type": "stream",
     "text": [
      "['Saben Lee', 'Saben Lee', 'Saben Lee', 'Saben Lee', 'Saben Lee', 'Saben Lee', 'Saben Lee', 'Saben Lee', 'Saben Lee', 'Saben Lee']\n"
     ]
    },
    {
     "name": "stderr",
     "output_type": "stream",
     "text": [
      "  9%|▉         | 48/510 [00:27<05:28,  1.41it/s]"
     ]
    },
    {
     "name": "stdout",
     "output_type": "stream",
     "text": [
      "['Taylor Hendricks', 'Taylor Hendricks', 'Taylor Hendricks', 'Taylor Hendricks', 'Taylor Hendricks', 'Taylor Hendricks', 'Taylor Hendricks', 'Taylor Hendricks', 'Taylor Hendricks', 'Taylor Hendricks']\n"
     ]
    },
    {
     "name": "stderr",
     "output_type": "stream",
     "text": [
      " 10%|▉         | 49/510 [00:27<05:05,  1.51it/s]"
     ]
    },
    {
     "name": "stdout",
     "output_type": "stream",
     "text": [
      "['Max Christie', 'Max Christie', 'Max Christie', 'Max Christie', 'Max Christie', 'Max Christie', 'Max Christie', 'Max Christie', 'Max Christie', 'Max Christie']\n"
     ]
    },
    {
     "name": "stderr",
     "output_type": "stream",
     "text": [
      " 10%|▉         | 50/510 [00:28<05:29,  1.39it/s]"
     ]
    },
    {
     "name": "stdout",
     "output_type": "stream",
     "text": [
      "['Josh Christopher', 'Josh Christopher', 'Josh Christopher', 'Josh Christopher', 'Josh Christopher', 'Josh Christopher', 'Josh Christopher', 'Josh Christopher', 'Josh Christopher']\n"
     ]
    },
    {
     "name": "stderr",
     "output_type": "stream",
     "text": [
      " 10%|█         | 51/510 [00:29<05:07,  1.49it/s]"
     ]
    },
    {
     "name": "stdout",
     "output_type": "stream",
     "text": [
      "['Nikola Jovic', 'Nikola Jovic', 'Nikola Jovic', 'Nikola Jovic', 'Nikola Jovic', 'Nikola Jovic', 'Nikola Jovic', 'Nikola Jovic', 'Nikola Jovic', 'Nikola Jovic']\n"
     ]
    },
    {
     "name": "stderr",
     "output_type": "stream",
     "text": [
      " 10%|█         | 52/510 [00:29<05:11,  1.47it/s]"
     ]
    },
    {
     "name": "stdout",
     "output_type": "stream",
     "text": [
      "['Patrick Baldwin, Jr.', 'Patrick Baldwin, Jr.', 'Patrick Baldwin, Jr.', 'Patrick Baldwin, Jr.', 'Patrick Baldwin, Jr.', 'Patrick Baldwin, Jr.', 'Patrick Baldwin, Jr.', 'Patrick Baldwin, Jr.', 'Patrick Baldwin, Jr.', 'Patrick Baldwin, Jr.']\n"
     ]
    },
    {
     "name": "stderr",
     "output_type": "stream",
     "text": [
      " 10%|█         | 53/510 [00:30<05:02,  1.51it/s]"
     ]
    },
    {
     "name": "stdout",
     "output_type": "stream",
     "text": [
      "['Robert Covington', 'Robert Covington', 'Robert Covington', 'Robert Covington', 'Robert Covington', 'Robert Covington', 'Robert Covington', 'Robert Covington', 'Robert Covington', 'Robert Covington']\n"
     ]
    },
    {
     "name": "stderr",
     "output_type": "stream",
     "text": [
      " 11%|█         | 54/510 [00:31<05:22,  1.42it/s]"
     ]
    },
    {
     "name": "stdout",
     "output_type": "stream",
     "text": [
      "['Thanasis Antetokounmpo', 'Thanasis Antetokounmpo', 'Thanasis Antetokounmpo', 'Thanasis Antetokounmpo', 'Thanasis Antetokounmpo', 'Thanasis Antetokounmpo', 'Thanasis Antetokounmpo', 'Thanasis Antetokounmpo', 'Thanasis Antetokounmpo', 'Thanasis Antetokounmpo']\n"
     ]
    },
    {
     "name": "stderr",
     "output_type": "stream",
     "text": [
      " 11%|█         | 55/510 [00:31<05:02,  1.50it/s]"
     ]
    },
    {
     "name": "stdout",
     "output_type": "stream",
     "text": [
      "['Jordan Hawkins', 'Jordan Hawkins', 'Jordan Hawkins', 'Jordan Hawkins', 'Jordan Hawkins', 'Jordan Hawkins', 'Jordan Hawkins', 'Jordan Hawkins', 'Jordan Hawkins', 'Jordan Hawkins']\n"
     ]
    },
    {
     "name": "stderr",
     "output_type": "stream",
     "text": [
      " 11%|█         | 56/510 [00:32<04:59,  1.52it/s]"
     ]
    },
    {
     "name": "stdout",
     "output_type": "stream",
     "text": [
      "['Damian Lillard', 'Damian Lillard', 'Damian Lillard', 'Damian Lillard', 'Damian Lillard', 'Damian Lillard', 'Damian Lillard', 'Damian Lillard', 'Damian Lillard', 'Damian Lillard']\n"
     ]
    },
    {
     "name": "stderr",
     "output_type": "stream",
     "text": [
      " 11%|█         | 57/510 [00:33<05:17,  1.43it/s]"
     ]
    },
    {
     "name": "stdout",
     "output_type": "stream",
     "text": [
      "['Ty Jerome', 'Ty Jerome', 'Ty Jerome', 'Ty Jerome', 'Ty Jerome', 'Ty Jerome', 'Ty Jerome', 'Ty Jerome', 'Ty Jerome', 'Ty Jerome']\n"
     ]
    },
    {
     "name": "stderr",
     "output_type": "stream",
     "text": [
      " 11%|█▏        | 58/510 [00:33<04:43,  1.59it/s]"
     ]
    },
    {
     "name": "stdout",
     "output_type": "stream",
     "text": [
      "['Leonard Miller', 'Leonard Miller', 'Leonard Miller', 'Leonard Miller', 'Leonard Miller', 'Leonard Miller', 'Leonard Miller', 'Leonard Miller', 'Leonard Miller', 'Leonard Miller']\n"
     ]
    },
    {
     "name": "stderr",
     "output_type": "stream",
     "text": [
      " 12%|█▏        | 59/510 [00:34<04:29,  1.67it/s]"
     ]
    },
    {
     "name": "stdout",
     "output_type": "stream",
     "text": [
      "['Jake LaRavia', 'Jake LaRavia', 'Jake LaRavia', 'Jake LaRavia', 'Jake LaRavia', 'Jake LaRavia', 'Jake LaRavia', 'Jake LaRavia']\n"
     ]
    },
    {
     "name": "stderr",
     "output_type": "stream",
     "text": [
      " 12%|█▏        | 60/510 [00:34<04:21,  1.72it/s]"
     ]
    },
    {
     "name": "stdout",
     "output_type": "stream",
     "text": [
      "['Julius Randle', 'Julius Randle', 'Julius Randle', 'Julius Randle', 'Julius Randle', 'Julius Randle', 'Julius Randle', 'Julius Randle', 'Julius Randle', 'Julius Randle']\n"
     ]
    },
    {
     "name": "stderr",
     "output_type": "stream",
     "text": [
      " 12%|█▏        | 61/510 [00:35<04:17,  1.74it/s]"
     ]
    },
    {
     "name": "stdout",
     "output_type": "stream",
     "text": [
      "['Cam Thomas', 'Cam Thomas', 'Cam Thomas', 'Cam Thomas', 'Cam Thomas', 'Cam Thomas', 'Cam Thomas', 'Cam Thomas', 'Cam Thomas', 'Cam Thomas']\n"
     ]
    },
    {
     "name": "stderr",
     "output_type": "stream",
     "text": [
      " 12%|█▏        | 62/510 [00:35<04:04,  1.83it/s]"
     ]
    },
    {
     "name": "stdout",
     "output_type": "stream",
     "text": [
      "['Javon Freeman-Liberty', 'Javon Freeman-Liberty', 'Javon Freeman-Liberty', 'Javon Freeman-Liberty', 'Javon Freeman-Liberty', 'Javon Freeman-Liberty', 'Javon Freeman-Liberty', 'Javon Freeman-Liberty', 'Javon Freeman-Liberty']\n"
     ]
    },
    {
     "name": "stderr",
     "output_type": "stream",
     "text": [
      "libpng warning: iCCP: known incorrect sRGB profile\n",
      " 12%|█▏        | 63/510 [00:36<04:32,  1.64it/s]"
     ]
    },
    {
     "name": "stdout",
     "output_type": "stream",
     "text": [
      "['Trayce Jackson-Davis', 'Trayce Jackson-Davis', 'Trayce Jackson-Davis', 'Trayce Jackson-Davis', 'Trayce Jackson-Davis', 'Trayce Jackson-Davis', 'Trayce Jackson-Davis', 'Trayce Jackson-Davis', 'Trayce Jackson-Davis', 'Trayce Jackson-Davis']\n"
     ]
    },
    {
     "name": "stderr",
     "output_type": "stream",
     "text": [
      " 13%|█▎        | 64/510 [00:37<04:42,  1.58it/s]"
     ]
    },
    {
     "name": "stdout",
     "output_type": "stream",
     "text": [
      "['Tobias Harris', 'Tobias Harris', 'Tobias Harris', 'Tobias Harris', 'Tobias Harris', 'Tobias Harris', 'Tobias Harris', 'Tobias Harris', 'Tobias Harris', 'Tobias Harris']\n"
     ]
    },
    {
     "name": "stderr",
     "output_type": "stream",
     "text": [
      " 13%|█▎        | 65/510 [00:37<04:34,  1.62it/s]"
     ]
    },
    {
     "name": "stdout",
     "output_type": "stream",
     "text": [
      "['Alex Len', 'Alex Len', 'Alex Len', 'Alex Len', 'Alex Len', 'Alex Len', 'Alex Len', 'Alex Len', 'Alex Len', 'Alex Len']\n"
     ]
    },
    {
     "name": "stderr",
     "output_type": "stream",
     "text": [
      " 13%|█▎        | 66/510 [00:38<04:19,  1.71it/s]"
     ]
    },
    {
     "name": "stdout",
     "output_type": "stream",
     "text": [
      "['Ricky Council IV', 'Ricky Council IV', 'Ricky Council IV', 'Ricky Council IV', 'Ricky Council IV', 'Ricky Council IV', 'Ricky Council IV', 'Ricky Council IV', 'Ricky Council IV', 'Ricky Council IV']\n"
     ]
    },
    {
     "name": "stderr",
     "output_type": "stream",
     "text": [
      " 13%|█▎        | 67/510 [00:38<04:26,  1.66it/s]"
     ]
    },
    {
     "name": "stdout",
     "output_type": "stream",
     "text": [
      "['Admiral Schofield', 'Admiral Schofield', 'Admiral Schofield', 'Admiral Schofield', 'Admiral Schofield', 'Admiral Schofield', 'Admiral Schofield', 'Admiral Schofield', 'Admiral Schofield', 'Admiral Schofield']\n"
     ]
    },
    {
     "name": "stderr",
     "output_type": "stream",
     "text": [
      " 13%|█▎        | 68/510 [00:39<04:25,  1.66it/s]"
     ]
    },
    {
     "name": "stdout",
     "output_type": "stream",
     "text": [
      "['Jalen McDaniels', 'Jalen McDaniels', 'Jalen McDaniels', 'Jalen McDaniels', 'Jalen McDaniels', 'Jalen McDaniels', 'Jalen McDaniels', 'Jalen McDaniels', 'Jalen McDaniels', 'Jalen McDaniels']\n"
     ]
    },
    {
     "name": "stderr",
     "output_type": "stream",
     "text": [
      " 14%|█▎        | 69/510 [00:40<04:25,  1.66it/s]"
     ]
    },
    {
     "name": "stdout",
     "output_type": "stream",
     "text": [
      "['Anthony Edwards', 'Anthony Edwards', 'Anthony Edwards', 'Anthony Edwards', 'Anthony Edwards', 'Anthony Edwards', 'Anthony Edwards', 'Anthony Edwards', 'Anthony Edwards', 'Anthony Edwards']\n"
     ]
    },
    {
     "name": "stderr",
     "output_type": "stream",
     "text": [
      " 14%|█▎        | 70/510 [00:40<04:16,  1.72it/s]"
     ]
    },
    {
     "name": "stdout",
     "output_type": "stream",
     "text": [
      "['Darius Bazley', 'Darius Bazley', 'Darius Bazley', 'Darius Bazley', 'Darius Bazley', 'Darius Bazley', 'Darius Bazley', 'Darius Bazley', 'Darius Bazley', 'Darius Bazley']\n"
     ]
    },
    {
     "name": "stderr",
     "output_type": "stream",
     "text": [
      " 14%|█▍        | 71/510 [00:41<04:33,  1.61it/s]"
     ]
    },
    {
     "name": "stdout",
     "output_type": "stream",
     "text": [
      "['Moussa Diabate', 'Moussa Diabate', 'Moussa Diabate', 'Moussa Diabate', 'Moussa Diabate', 'Moussa Diabate', 'Moussa Diabate', 'Moussa Diabate', 'Moussa Diabate', 'Moussa Diabate']\n"
     ]
    },
    {
     "name": "stderr",
     "output_type": "stream",
     "text": [
      "libpng warning: iCCP: known incorrect sRGB profile\n",
      " 14%|█▍        | 72/510 [00:42<04:24,  1.65it/s]"
     ]
    },
    {
     "name": "stdout",
     "output_type": "stream",
     "text": [
      "['Damion Lee', 'Damion Lee', 'Damion Lee', 'Damion Lee', 'Damion Lee', 'Damion Lee', 'Damion Lee', 'Damion Lee', 'Damion Lee', 'Damion Lee']\n"
     ]
    },
    {
     "name": "stderr",
     "output_type": "stream",
     "text": [
      " 14%|█▍        | 73/510 [00:42<04:10,  1.75it/s]"
     ]
    },
    {
     "name": "stdout",
     "output_type": "stream",
     "text": [
      "['Jabari Smith, Jr.', 'Jabari Smith, Jr.', 'Jabari Smith, Jr.', 'Jabari Smith, Jr.', 'Jabari Smith, Jr.', 'Jabari Smith, Jr.', 'Jabari Smith, Jr.', 'Jabari Smith, Jr.', 'Jabari Smith, Jr.', 'Jabari Smith, Jr.']\n"
     ]
    },
    {
     "name": "stderr",
     "output_type": "stream",
     "text": [
      " 15%|█▍        | 74/510 [00:43<04:28,  1.63it/s]"
     ]
    },
    {
     "name": "stdout",
     "output_type": "stream",
     "text": [
      "['Jordan Clarkson', 'Jordan Clarkson', 'Jordan Clarkson', 'Jordan Clarkson', 'Jordan Clarkson', 'Jordan Clarkson']\n"
     ]
    },
    {
     "name": "stderr",
     "output_type": "stream",
     "text": [
      " 15%|█▍        | 75/510 [00:43<04:12,  1.72it/s]"
     ]
    },
    {
     "name": "stdout",
     "output_type": "stream",
     "text": [
      "['Bojan Bogdanovic', 'Bojan Bogdanovic', 'Bojan Bogdanovic', 'Bojan Bogdanovic', 'Bojan Bogdanovic', 'Bojan Bogdanovic', 'Bojan Bogdanovic', 'Bojan Bogdanovic', 'Bojan Bogdanovic', 'Bojan Bogdanovic']\n"
     ]
    },
    {
     "name": "stderr",
     "output_type": "stream",
     "text": [
      " 15%|█▍        | 76/510 [00:44<05:07,  1.41it/s]"
     ]
    },
    {
     "name": "stdout",
     "output_type": "stream",
     "text": [
      "['Scoot Henderson', 'Scoot Henderson', 'Scoot Henderson', 'Scoot Henderson', 'Scoot Henderson', 'Scoot Henderson', 'Scoot Henderson', 'Scoot Henderson', 'Scoot Henderson']\n"
     ]
    },
    {
     "name": "stderr",
     "output_type": "stream",
     "text": [
      " 15%|█▌        | 77/510 [00:45<05:19,  1.35it/s]"
     ]
    },
    {
     "name": "stdout",
     "output_type": "stream",
     "text": [
      "['Peyton Watson', 'Peyton Watson', 'Peyton Watson', 'Peyton Watson', 'Peyton Watson', 'Peyton Watson', 'Peyton Watson', 'Peyton Watson', 'Peyton Watson']\n"
     ]
    },
    {
     "name": "stderr",
     "output_type": "stream",
     "text": [
      " 15%|█▌        | 78/510 [00:46<04:48,  1.50it/s]"
     ]
    },
    {
     "name": "stdout",
     "output_type": "stream",
     "text": [
      "['Joey Hauser', 'Joey Hauser', 'Joey Hauser', 'Joey Hauser']\n"
     ]
    },
    {
     "name": "stderr",
     "output_type": "stream",
     "text": [
      " 15%|█▌        | 79/510 [00:46<04:42,  1.53it/s]"
     ]
    },
    {
     "name": "stdout",
     "output_type": "stream",
     "text": [
      "['A.J. Lawson', 'A.J. Lawson', 'A.J. Lawson', 'A.J. Lawson', 'A.J. Lawson', 'A.J. Lawson', 'A.J. Lawson', 'A.J. Lawson', 'A.J. Lawson']\n"
     ]
    },
    {
     "name": "stderr",
     "output_type": "stream",
     "text": [
      " 16%|█▌        | 80/510 [00:47<04:40,  1.53it/s]"
     ]
    },
    {
     "name": "stdout",
     "output_type": "stream",
     "text": [
      "['Dejounte Murray', 'Dejounte Murray', 'Dejounte Murray', 'Dejounte Murray', 'Dejounte Murray', 'Dejounte Murray', 'Dejounte Murray', 'Dejounte Murray', 'Dejounte Murray', 'Dejounte Murray']\n"
     ]
    },
    {
     "name": "stderr",
     "output_type": "stream",
     "text": [
      " 16%|█▌        | 81/510 [00:48<04:46,  1.50it/s]"
     ]
    },
    {
     "name": "stdout",
     "output_type": "stream",
     "text": [
      "['Lindell Wigginton', 'Lindell Wigginton', 'Lindell Wigginton', 'Lindell Wigginton', 'Lindell Wigginton', 'Lindell Wigginton', 'Lindell Wigginton', 'Lindell Wigginton', 'Lindell Wigginton', 'Lindell Wigginton']\n"
     ]
    },
    {
     "name": "stderr",
     "output_type": "stream",
     "text": [
      " 16%|█▌        | 82/510 [00:48<04:58,  1.43it/s]"
     ]
    },
    {
     "name": "stdout",
     "output_type": "stream",
     "text": [
      "['Markquis Nowell', 'Markquis Nowell', 'Markquis Nowell', 'Markquis Nowell', 'Markquis Nowell', 'Markquis Nowell', 'Markquis Nowell', 'Markquis Nowell', 'Markquis Nowell']\n"
     ]
    },
    {
     "name": "stderr",
     "output_type": "stream",
     "text": [
      " 16%|█▋        | 83/510 [00:49<04:45,  1.49it/s]"
     ]
    },
    {
     "name": "stdout",
     "output_type": "stream",
     "text": [
      "['Joshua Obiesie', 'Joshua Obiesie', 'Joshua Obiesie', 'Joshua Obiesie', 'Joshua Obiesie', 'Joshua Obiesie', 'Joshua Obiesie', 'Joshua Obiesie', 'Joshua Obiesie', 'Joshua Obiesie']\n"
     ]
    },
    {
     "name": "stderr",
     "output_type": "stream",
     "text": [
      " 16%|█▋        | 84/510 [00:50<05:06,  1.39it/s]"
     ]
    },
    {
     "name": "stdout",
     "output_type": "stream",
     "text": [
      "['Reggie Bullock', 'Reggie Bullock', 'Reggie Bullock', 'Reggie Bullock', 'Reggie Bullock', 'Reggie Bullock', 'Reggie Bullock', 'Reggie Bullock', 'Reggie Bullock', 'Reggie Bullock']\n"
     ]
    },
    {
     "name": "stderr",
     "output_type": "stream",
     "text": [
      " 17%|█▋        | 85/510 [00:50<04:38,  1.53it/s]"
     ]
    },
    {
     "name": "stdout",
     "output_type": "stream",
     "text": [
      "['Jeremy Sochan', 'Jeremy Sochan', 'Jeremy Sochan', 'Jeremy Sochan', 'Jeremy Sochan', 'Jeremy Sochan', 'Jeremy Sochan', 'Jeremy Sochan', 'Jeremy Sochan', 'Jeremy Sochan']\n"
     ]
    },
    {
     "name": "stderr",
     "output_type": "stream",
     "text": [
      " 17%|█▋        | 86/510 [00:51<04:17,  1.65it/s]"
     ]
    },
    {
     "name": "stdout",
     "output_type": "stream",
     "text": [
      "['Delon Wright', 'Delon Wright', 'Delon Wright', 'Delon Wright', 'Delon Wright', 'Delon Wright', 'Delon Wright', 'Delon Wright', 'Delon Wright', 'Delon Wright']\n"
     ]
    },
    {
     "name": "stderr",
     "output_type": "stream",
     "text": [
      " 17%|█▋        | 87/510 [00:52<05:11,  1.36it/s]"
     ]
    },
    {
     "name": "stdout",
     "output_type": "stream",
     "text": [
      "['Sam Merrill', 'Sam Merrill', 'Sam Merrill', 'Sam Merrill', 'Sam Merrill', 'Sam Merrill', 'Sam Merrill', 'Sam Merrill', 'Sam Merrill', 'Sam Merrill']\n"
     ]
    },
    {
     "name": "stderr",
     "output_type": "stream",
     "text": [
      " 17%|█▋        | 88/510 [00:52<04:50,  1.45it/s]"
     ]
    },
    {
     "name": "stdout",
     "output_type": "stream",
     "text": [
      "['Jalen Pickett', 'Jalen Pickett', 'Jalen Pickett', 'Jalen Pickett', 'Jalen Pickett', 'Jalen Pickett', 'Jalen Pickett', 'Jalen Pickett']\n"
     ]
    },
    {
     "name": "stderr",
     "output_type": "stream",
     "text": [
      " 17%|█▋        | 89/510 [00:53<04:46,  1.47it/s]"
     ]
    },
    {
     "name": "stdout",
     "output_type": "stream",
     "text": [
      "['Dorian Finney-Smith', 'Dorian Finney-Smith', 'Dorian Finney-Smith', 'Dorian Finney-Smith', 'Dorian Finney-Smith', 'Dorian Finney-Smith', 'Dorian Finney-Smith', 'Dorian Finney-Smith', 'Dorian Finney-Smith', 'Dorian Finney-Smith']\n"
     ]
    },
    {
     "name": "stderr",
     "output_type": "stream",
     "text": [
      " 18%|█▊        | 90/510 [00:54<04:33,  1.54it/s]"
     ]
    },
    {
     "name": "stdout",
     "output_type": "stream",
     "text": [
      "['P.J. Tucker', 'P.J. Tucker', 'P.J. Tucker', 'P.J. Tucker', 'P.J. Tucker', 'P.J. Tucker', 'P.J. Tucker', 'P.J. Tucker', 'P.J. Tucker', 'P.J. Tucker']\n"
     ]
    },
    {
     "name": "stderr",
     "output_type": "stream",
     "text": [
      " 18%|█▊        | 91/510 [00:54<04:43,  1.48it/s]"
     ]
    },
    {
     "name": "stdout",
     "output_type": "stream",
     "text": [
      "['Malik Beasley', 'Malik Beasley', 'Malik Beasley', 'Malik Beasley', 'Malik Beasley', 'Malik Beasley', 'Malik Beasley', 'Malik Beasley', 'Malik Beasley', 'Malik Beasley']\n"
     ]
    },
    {
     "name": "stderr",
     "output_type": "stream",
     "text": [
      " 18%|█▊        | 92/510 [00:55<04:28,  1.56it/s]"
     ]
    },
    {
     "name": "stdout",
     "output_type": "stream",
     "text": [
      "[\"De'Andre Hunter\", \"De'Andre Hunter\", \"De'Andre Hunter\", \"De'Andre Hunter\", \"De'Andre Hunter\", \"De'Andre Hunter\", \"De'Andre Hunter\", \"De'Andre Hunter\", \"De'Andre Hunter\", \"De'Andre Hunter\"]\n"
     ]
    },
    {
     "name": "stderr",
     "output_type": "stream",
     "text": [
      " 18%|█▊        | 93/510 [00:55<04:17,  1.62it/s]"
     ]
    },
    {
     "name": "stdout",
     "output_type": "stream",
     "text": [
      "['Harrison Barnes', 'Harrison Barnes', 'Harrison Barnes', 'Harrison Barnes', 'Harrison Barnes', 'Harrison Barnes', 'Harrison Barnes', 'Harrison Barnes', 'Harrison Barnes', 'Harrison Barnes']\n"
     ]
    },
    {
     "name": "stderr",
     "output_type": "stream",
     "text": [
      " 18%|█▊        | 94/510 [00:56<04:16,  1.62it/s]"
     ]
    },
    {
     "name": "stdout",
     "output_type": "stream",
     "text": [
      "['Jakob Poeltl', 'Jakob Poeltl', 'Jakob Poeltl', 'Jakob Poeltl', 'Jakob Poeltl', 'Jakob Poeltl', 'Jakob Poeltl', 'Jakob Poeltl', 'Jakob Poeltl', 'Jakob Poeltl']\n"
     ]
    },
    {
     "name": "stderr",
     "output_type": "stream",
     "text": [
      " 19%|█▊        | 95/510 [00:57<04:32,  1.53it/s]"
     ]
    },
    {
     "name": "stdout",
     "output_type": "stream",
     "text": [
      "['Filip Petrusev', 'Filip Petrusev', 'Filip Petrusev', 'Filip Petrusev', 'Filip Petrusev', 'Filip Petrusev', 'Filip Petrusev', 'Filip Petrusev', 'Filip Petrusev', 'Filip Petrusev']\n"
     ]
    },
    {
     "name": "stderr",
     "output_type": "stream",
     "text": [
      " 19%|█▉        | 96/510 [00:57<04:22,  1.58it/s]"
     ]
    },
    {
     "name": "stdout",
     "output_type": "stream",
     "text": [
      "['Jaren Jackson, Jr.', 'Jaren Jackson, Jr.', 'Jaren Jackson, Jr.', 'Jaren Jackson, Jr.', 'Jaren Jackson, Jr.', 'Jaren Jackson, Jr.', 'Jaren Jackson, Jr.', 'Jaren Jackson, Jr.', 'Jaren Jackson, Jr.', 'Jaren Jackson, Jr.']\n"
     ]
    },
    {
     "name": "stderr",
     "output_type": "stream",
     "text": [
      " 19%|█▉        | 97/510 [00:58<04:12,  1.63it/s]"
     ]
    },
    {
     "name": "stdout",
     "output_type": "stream",
     "text": [
      "['Lonnie Walker', 'Lonnie Walker', 'Lonnie Walker', 'Lonnie Walker', 'Lonnie Walker', 'Lonnie Walker', 'Lonnie Walker', 'Lonnie Walker', 'Lonnie Walker', 'Lonnie Walker']\n"
     ]
    },
    {
     "name": "stderr",
     "output_type": "stream",
     "text": [
      " 19%|█▉        | 98/510 [00:58<03:58,  1.73it/s]"
     ]
    },
    {
     "name": "stdout",
     "output_type": "stream",
     "text": [
      "['Jaylin Williams', 'Jaylin Williams', 'Jaylin Williams', 'Jaylin Williams', 'Jaylin Williams', 'Jaylin Williams', 'Jaylin Williams', 'Jaylin Williams', 'Jaylin Williams']\n"
     ]
    },
    {
     "name": "stderr",
     "output_type": "stream",
     "text": [
      " 19%|█▉        | 99/510 [00:59<04:15,  1.61it/s]"
     ]
    },
    {
     "name": "stdout",
     "output_type": "stream",
     "text": [
      "['Rudy Gobert', 'Rudy Gobert', 'Rudy Gobert', 'Rudy Gobert', 'Rudy Gobert', 'Rudy Gobert', 'Rudy Gobert', 'Rudy Gobert', 'Rudy Gobert', 'Rudy Gobert']\n"
     ]
    },
    {
     "name": "stderr",
     "output_type": "stream",
     "text": [
      " 20%|█▉        | 100/510 [01:00<04:06,  1.66it/s]"
     ]
    },
    {
     "name": "stdout",
     "output_type": "stream",
     "text": [
      "['Jalen Wilson', 'Jalen Wilson', 'Jalen Wilson', 'Jalen Wilson', 'Jalen Wilson', 'Jalen Wilson', 'Jalen Wilson']\n"
     ]
    },
    {
     "name": "stderr",
     "output_type": "stream",
     "text": [
      " 20%|█▉        | 101/510 [01:00<04:10,  1.63it/s]"
     ]
    },
    {
     "name": "stdout",
     "output_type": "stream",
     "text": [
      "['Vasilje Micic', 'Vasilje Micic', 'Vasilje Micic', 'Vasilje Micic', 'Vasilje Micic', 'Vasilje Micic', 'Vasilje Micic', 'Vasilje Micic', 'Vasilje Micic', 'Vasilje Micic']\n"
     ]
    },
    {
     "name": "stderr",
     "output_type": "stream",
     "text": [
      " 20%|██        | 102/510 [01:01<04:18,  1.58it/s]"
     ]
    },
    {
     "name": "stdout",
     "output_type": "stream",
     "text": [
      "['Jack White', 'Jack White', 'Jack White', 'Jack White', 'Jack White', 'Jack White', 'Jack White', 'Jack White', 'Jack White', 'Jack White']\n"
     ]
    },
    {
     "name": "stderr",
     "output_type": "stream",
     "text": [
      " 20%|██        | 103/510 [01:02<04:41,  1.45it/s]"
     ]
    },
    {
     "name": "stdout",
     "output_type": "stream",
     "text": [
      "['Bryce McGowens', 'Bryce McGowens', 'Bryce McGowens', 'Bryce McGowens', 'Bryce McGowens', 'Bryce McGowens', 'Bryce McGowens', 'Bryce McGowens', 'Bryce McGowens', 'Bryce McGowens']\n"
     ]
    },
    {
     "name": "stderr",
     "output_type": "stream",
     "text": [
      " 20%|██        | 104/510 [01:02<04:24,  1.53it/s]"
     ]
    },
    {
     "name": "stdout",
     "output_type": "stream",
     "text": [
      "['Gary Trent, Jr.', 'Gary Trent, Jr.', 'Gary Trent, Jr.', 'Gary Trent, Jr.', 'Gary Trent, Jr.', 'Gary Trent, Jr.', 'Gary Trent, Jr.', 'Gary Trent, Jr.', 'Gary Trent, Jr.', 'Gary Trent, Jr.']\n"
     ]
    },
    {
     "name": "stderr",
     "output_type": "stream",
     "text": [
      " 21%|██        | 105/510 [01:03<04:07,  1.64it/s]"
     ]
    },
    {
     "name": "stdout",
     "output_type": "stream",
     "text": [
      "['Jalen Williams', 'Jalen Williams', 'Jalen Williams', 'Jalen Williams', 'Jalen Williams', 'Jalen Williams', 'Jalen Williams', 'Jalen Williams', 'Jalen Williams']\n"
     ]
    },
    {
     "name": "stderr",
     "output_type": "stream",
     "text": [
      " 21%|██        | 106/510 [01:04<04:05,  1.65it/s]"
     ]
    },
    {
     "name": "stdout",
     "output_type": "stream",
     "text": [
      "['Thomas Bryant', 'Thomas Bryant', 'Thomas Bryant', 'Thomas Bryant', 'Thomas Bryant', 'Thomas Bryant', 'Thomas Bryant', 'Thomas Bryant', 'Thomas Bryant', 'Thomas Bryant']\n"
     ]
    },
    {
     "name": "stderr",
     "output_type": "stream",
     "text": [
      " 21%|██        | 107/510 [01:04<04:13,  1.59it/s]"
     ]
    },
    {
     "name": "stdout",
     "output_type": "stream",
     "text": [
      "['Marcus Morris', 'Marcus Morris', 'Marcus Morris', 'Marcus Morris', 'Marcus Morris', 'Marcus Morris', 'Marcus Morris', 'Marcus Morris', 'Marcus Morris', 'Marcus Morris']\n"
     ]
    },
    {
     "name": "stderr",
     "output_type": "stream",
     "text": [
      " 21%|██        | 108/510 [01:05<05:24,  1.24it/s]"
     ]
    },
    {
     "name": "stdout",
     "output_type": "stream",
     "text": [
      "['Nassir Little', 'Nassir Little', 'Nassir Little', 'Nassir Little', 'Nassir Little', 'Nassir Little', 'Nassir Little', 'Nassir Little', 'Nassir Little', 'Nassir Little']\n"
     ]
    },
    {
     "name": "stderr",
     "output_type": "stream",
     "text": [
      " 21%|██▏       | 109/510 [01:06<05:04,  1.32it/s]"
     ]
    },
    {
     "name": "stdout",
     "output_type": "stream",
     "text": [
      "['Jordan Poole', 'Jordan Poole', 'Jordan Poole', 'Jordan Poole', 'Jordan Poole', 'Jordan Poole', 'Jordan Poole', 'Jordan Poole', 'Jordan Poole', 'Jordan Poole']\n"
     ]
    },
    {
     "name": "stderr",
     "output_type": "stream",
     "text": [
      " 22%|██▏       | 110/510 [01:07<04:47,  1.39it/s]"
     ]
    },
    {
     "name": "stdout",
     "output_type": "stream",
     "text": [
      "['Aaron Gordon', 'Aaron Gordon', 'Aaron Gordon', 'Aaron Gordon', 'Aaron Gordon', 'Aaron Gordon', 'Aaron Gordon', 'Aaron Gordon', 'Aaron Gordon', 'Aaron Gordon']\n"
     ]
    },
    {
     "name": "stderr",
     "output_type": "stream",
     "text": [
      " 22%|██▏       | 111/510 [01:07<04:32,  1.46it/s]"
     ]
    },
    {
     "name": "stdout",
     "output_type": "stream",
     "text": [
      "['Kristaps Porzingis', 'Kristaps Porzingis', 'Kristaps Porzingis', 'Kristaps Porzingis', 'Kristaps Porzingis', 'Kristaps Porzingis', 'Kristaps Porzingis', 'Kristaps Porzingis', 'Kristaps Porzingis', 'Kristaps Porzingis']\n"
     ]
    },
    {
     "name": "stderr",
     "output_type": "stream",
     "text": [
      " 22%|██▏       | 112/510 [01:08<04:09,  1.60it/s]"
     ]
    },
    {
     "name": "stdout",
     "output_type": "stream",
     "text": [
      "['Danuel House', 'Danuel House', 'Danuel House', 'Danuel House', 'Danuel House', 'Danuel House', 'Danuel House', 'Danuel House', 'Danuel House', 'Danuel House']\n"
     ]
    },
    {
     "name": "stderr",
     "output_type": "stream",
     "text": [
      " 22%|██▏       | 113/510 [01:08<04:06,  1.61it/s]"
     ]
    },
    {
     "name": "stdout",
     "output_type": "stream",
     "text": [
      "['Kobe Bufkin', 'Kobe Bufkin', 'Kobe Bufkin', 'Kobe Bufkin', 'Kobe Bufkin', 'Kobe Bufkin', 'Kobe Bufkin', 'Kobe Bufkin', 'Kobe Bufkin', 'Kobe Bufkin']\n"
     ]
    },
    {
     "name": "stderr",
     "output_type": "stream",
     "text": [
      " 22%|██▏       | 114/510 [01:09<04:40,  1.41it/s]"
     ]
    },
    {
     "name": "stdout",
     "output_type": "stream",
     "text": [
      "['Markelle Fultz', 'Markelle Fultz', 'Markelle Fultz', 'Markelle Fultz', 'Markelle Fultz', 'Markelle Fultz', 'Markelle Fultz', 'Markelle Fultz', 'Markelle Fultz', 'Markelle Fultz']\n"
     ]
    },
    {
     "name": "stderr",
     "output_type": "stream",
     "text": [
      " 23%|██▎       | 115/510 [01:10<04:37,  1.42it/s]"
     ]
    },
    {
     "name": "stdout",
     "output_type": "stream",
     "text": [
      "['Chimezie Metu', 'Chimezie Metu', 'Chimezie Metu', 'Chimezie Metu', 'Chimezie Metu', 'Chimezie Metu', 'Chimezie Metu', 'Chimezie Metu', 'Chimezie Metu', 'Chimezie Metu']\n"
     ]
    },
    {
     "name": "stderr",
     "output_type": "stream",
     "text": [
      " 23%|██▎       | 116/510 [01:11<04:32,  1.45it/s]"
     ]
    },
    {
     "name": "stdout",
     "output_type": "stream",
     "text": [
      "['Naji Marshall', 'Naji Marshall', 'Naji Marshall', 'Naji Marshall', 'Naji Marshall', 'Naji Marshall', 'Naji Marshall', 'Naji Marshall', 'Naji Marshall', 'Naji Marshall']\n"
     ]
    },
    {
     "name": "stderr",
     "output_type": "stream",
     "text": [
      " 23%|██▎       | 117/510 [01:11<04:34,  1.43it/s]"
     ]
    },
    {
     "name": "stdout",
     "output_type": "stream",
     "text": [
      "['Andrew Wiggins', 'Andrew Wiggins', 'Andrew Wiggins', 'Andrew Wiggins', 'Andrew Wiggins', 'Andrew Wiggins', 'Andrew Wiggins', 'Andrew Wiggins', 'Andrew Wiggins', 'Andrew Wiggins']\n"
     ]
    },
    {
     "name": "stderr",
     "output_type": "stream",
     "text": [
      " 23%|██▎       | 118/510 [01:12<04:21,  1.50it/s]"
     ]
    },
    {
     "name": "stdout",
     "output_type": "stream",
     "text": [
      "['Sidy Cissoko', 'Sidy Cissoko', 'Sidy Cissoko', 'Sidy Cissoko', 'Sidy Cissoko', 'Sidy Cissoko', 'Sidy Cissoko', 'Sidy Cissoko', 'Sidy Cissoko', 'Sidy Cissoko']\n"
     ]
    },
    {
     "name": "stderr",
     "output_type": "stream",
     "text": [
      " 23%|██▎       | 119/510 [01:13<04:03,  1.60it/s]"
     ]
    },
    {
     "name": "stdout",
     "output_type": "stream",
     "text": [
      "[\"D'Moi Hodge\", \"D'Moi Hodge\", \"D'Moi Hodge\", \"D'Moi Hodge\", \"D'Moi Hodge\", \"D'Moi Hodge\", \"D'Moi Hodge\", \"D'Moi Hodge\"]\n"
     ]
    },
    {
     "name": "stderr",
     "output_type": "stream",
     "text": [
      " 24%|██▎       | 120/510 [01:13<04:06,  1.58it/s]"
     ]
    },
    {
     "name": "stdout",
     "output_type": "stream",
     "text": [
      "['Darius Garland', 'Darius Garland', 'Darius Garland', 'Darius Garland', 'Darius Garland', 'Darius Garland', 'Darius Garland', 'Darius Garland', 'Darius Garland', 'Darius Garland']\n"
     ]
    },
    {
     "name": "stderr",
     "output_type": "stream",
     "text": [
      " 24%|██▎       | 121/510 [01:14<04:06,  1.58it/s]"
     ]
    },
    {
     "name": "stdout",
     "output_type": "stream",
     "text": [
      "['Wesley Matthews', 'Wesley Matthews', 'Wesley Matthews', 'Wesley Matthews', 'Wesley Matthews', 'Wesley Matthews', 'Wesley Matthews', 'Wesley Matthews', 'Wesley Matthews', 'Wesley Matthews']\n"
     ]
    },
    {
     "name": "stderr",
     "output_type": "stream",
     "text": [
      " 24%|██▍       | 122/510 [01:14<03:55,  1.65it/s]"
     ]
    },
    {
     "name": "stdout",
     "output_type": "stream",
     "text": [
      "['Tim Hardaway Jr.', 'Tim Hardaway Jr.', 'Tim Hardaway Jr.', 'Tim Hardaway Jr.', 'Tim Hardaway Jr.', 'Tim Hardaway Jr.', 'Tim Hardaway Jr.', 'Tim Hardaway Jr.', 'Tim Hardaway Jr.', 'Tim Hardaway Jr.']\n"
     ]
    },
    {
     "name": "stderr",
     "output_type": "stream",
     "text": [
      " 24%|██▍       | 123/510 [01:15<03:49,  1.69it/s]"
     ]
    },
    {
     "name": "stdout",
     "output_type": "stream",
     "text": [
      "['Klay Thompson', 'Klay Thompson', 'Klay Thompson', 'Klay Thompson', 'Klay Thompson', 'Klay Thompson', 'Klay Thompson', 'Klay Thompson', 'Klay Thompson', 'Klay Thompson']\n"
     ]
    },
    {
     "name": "stderr",
     "output_type": "stream",
     "text": [
      " 24%|██▍       | 124/510 [01:16<03:57,  1.63it/s]"
     ]
    },
    {
     "name": "stdout",
     "output_type": "stream",
     "text": [
      "['Jordan Goodwin', 'Jordan Goodwin', 'Jordan Goodwin', 'Jordan Goodwin', 'Jordan Goodwin', 'Jordan Goodwin', 'Jordan Goodwin', 'Jordan Goodwin', 'Jordan Goodwin', 'Jordan Goodwin']\n"
     ]
    },
    {
     "name": "stderr",
     "output_type": "stream",
     "text": [
      " 25%|██▍       | 125/510 [01:16<03:57,  1.62it/s]"
     ]
    },
    {
     "name": "stdout",
     "output_type": "stream",
     "text": [
      "['Khem Birch', 'Khem Birch', 'Khem Birch', 'Khem Birch', 'Khem Birch', 'Khem Birch', 'Khem Birch', 'Khem Birch', 'Khem Birch', 'Khem Birch']\n"
     ]
    },
    {
     "name": "stderr",
     "output_type": "stream",
     "text": [
      " 25%|██▍       | 126/510 [01:17<04:04,  1.57it/s]"
     ]
    },
    {
     "name": "stdout",
     "output_type": "stream",
     "text": [
      "['Andre Jackson, Jr.', 'Andre Jackson, Jr.', 'Andre Jackson, Jr.', 'Andre Jackson, Jr.', 'Andre Jackson, Jr.', 'Andre Jackson, Jr.', 'Andre Jackson, Jr.', 'Andre Jackson, Jr.', 'Andre Jackson, Jr.', 'Andre Jackson, Jr.']\n"
     ]
    },
    {
     "name": "stderr",
     "output_type": "stream",
     "text": [
      " 25%|██▍       | 127/510 [01:18<04:14,  1.50it/s]"
     ]
    },
    {
     "name": "stdout",
     "output_type": "stream",
     "text": [
      "['Luke Kornet', 'Luke Kornet', 'Luke Kornet', 'Luke Kornet', 'Luke Kornet', 'Luke Kornet', 'Luke Kornet', 'Luke Kornet', 'Luke Kornet', 'Luke Kornet']\n"
     ]
    },
    {
     "name": "stderr",
     "output_type": "stream",
     "text": [
      "libpng warning: iCCP: known incorrect sRGB profile\n",
      " 25%|██▌       | 128/510 [01:18<03:59,  1.60it/s]"
     ]
    },
    {
     "name": "stdout",
     "output_type": "stream",
     "text": [
      "['Brandin Podziemski', 'Brandin Podziemski', 'Brandin Podziemski', 'Brandin Podziemski', 'Brandin Podziemski', 'Brandin Podziemski', 'Brandin Podziemski', 'Brandin Podziemski', 'Brandin Podziemski', 'Brandin Podziemski']\n"
     ]
    },
    {
     "name": "stderr",
     "output_type": "stream",
     "text": [
      " 25%|██▌       | 129/510 [01:19<03:42,  1.71it/s]"
     ]
    },
    {
     "name": "stdout",
     "output_type": "stream",
     "text": [
      "['Josh Minott', 'Josh Minott', 'Josh Minott', 'Josh Minott', 'Josh Minott', 'Josh Minott', 'Josh Minott']\n"
     ]
    },
    {
     "name": "stderr",
     "output_type": "stream",
     "text": [
      "libpng warning: iCCP: known incorrect sRGB profile\n",
      " 25%|██▌       | 130/510 [01:20<04:22,  1.45it/s]"
     ]
    },
    {
     "name": "stdout",
     "output_type": "stream",
     "text": [
      "['Austin Reaves', 'Austin Reaves', 'Austin Reaves', 'Austin Reaves', 'Austin Reaves', 'Austin Reaves', 'Austin Reaves', 'Austin Reaves', 'Austin Reaves', 'Austin Reaves']\n"
     ]
    },
    {
     "name": "stderr",
     "output_type": "stream",
     "text": [
      " 26%|██▌       | 131/510 [01:20<04:35,  1.37it/s]"
     ]
    },
    {
     "name": "stdout",
     "output_type": "stream",
     "text": [
      "['Mason Plumlee', 'Mason Plumlee', 'Mason Plumlee', 'Mason Plumlee', 'Mason Plumlee', 'Mason Plumlee', 'Mason Plumlee', 'Mason Plumlee', 'Mason Plumlee', 'Mason Plumlee']\n"
     ]
    },
    {
     "name": "stderr",
     "output_type": "stream",
     "text": [
      " 26%|██▌       | 132/510 [01:21<04:07,  1.52it/s]"
     ]
    },
    {
     "name": "stdout",
     "output_type": "stream",
     "text": [
      "['Lester Quinones', 'Lester Quinones', 'Lester Quinones', 'Lester Quinones', 'Lester Quinones', 'Lester Quinones', 'Lester Quinones']\n"
     ]
    },
    {
     "name": "stderr",
     "output_type": "stream",
     "text": [
      " 26%|██▌       | 133/510 [01:22<04:09,  1.51it/s]"
     ]
    },
    {
     "name": "stdout",
     "output_type": "stream",
     "text": [
      "['Malik Monk', 'Malik Monk', 'Malik Monk', 'Malik Monk', 'Malik Monk', 'Malik Monk', 'Malik Monk', 'Malik Monk', 'Malik Monk', 'Malik Monk']\n"
     ]
    },
    {
     "name": "stderr",
     "output_type": "stream",
     "text": [
      " 26%|██▋       | 134/510 [01:22<04:33,  1.38it/s]"
     ]
    },
    {
     "name": "stdout",
     "output_type": "stream",
     "text": [
      "['Ricky Rubio', 'Ricky Rubio', 'Ricky Rubio', 'Ricky Rubio', 'Ricky Rubio', 'Ricky Rubio', 'Ricky Rubio', 'Ricky Rubio', 'Ricky Rubio', 'Ricky Rubio']\n"
     ]
    },
    {
     "name": "stderr",
     "output_type": "stream",
     "text": [
      " 26%|██▋       | 135/510 [01:23<04:43,  1.32it/s]"
     ]
    },
    {
     "name": "stdout",
     "output_type": "stream",
     "text": [
      "['Cam Whitmore', 'Cam Whitmore', 'Cam Whitmore', 'Cam Whitmore', 'Cam Whitmore', 'Cam Whitmore', 'Cam Whitmore', 'Cam Whitmore', 'Cam Whitmore', 'Cam Whitmore']\n"
     ]
    },
    {
     "name": "stderr",
     "output_type": "stream",
     "text": [
      " 27%|██▋       | 136/510 [01:24<04:50,  1.29it/s]"
     ]
    },
    {
     "name": "stdout",
     "output_type": "stream",
     "text": [
      "['Precious Achiuwa', 'Precious Achiuwa', 'Precious Achiuwa', 'Precious Achiuwa', 'Precious Achiuwa', 'Precious Achiuwa', 'Precious Achiuwa', 'Precious Achiuwa', 'Precious Achiuwa', 'Precious Achiuwa']\n"
     ]
    },
    {
     "name": "stderr",
     "output_type": "stream",
     "text": [
      " 27%|██▋       | 137/510 [01:25<04:52,  1.27it/s]"
     ]
    },
    {
     "name": "stdout",
     "output_type": "stream",
     "text": [
      "['Jevon Carter', 'Jevon Carter', 'Jevon Carter', 'Jevon Carter', 'Jevon Carter', 'Jevon Carter', 'Jevon Carter', 'Jevon Carter', 'Jevon Carter', 'Jevon Carter']\n"
     ]
    },
    {
     "name": "stderr",
     "output_type": "stream",
     "text": [
      " 27%|██▋       | 138/510 [01:25<04:28,  1.38it/s]"
     ]
    },
    {
     "name": "stdout",
     "output_type": "stream",
     "text": [
      "['Josh Hart', 'Josh Hart', 'Josh Hart', 'Josh Hart', 'Josh Hart', 'Josh Hart', 'Josh Hart', 'Josh Hart', 'Josh Hart', 'Josh Hart']\n"
     ]
    },
    {
     "name": "stderr",
     "output_type": "stream",
     "text": [
      " 27%|██▋       | 139/510 [01:26<04:11,  1.48it/s]"
     ]
    },
    {
     "name": "stdout",
     "output_type": "stream",
     "text": [
      "['Hunter Tyson', 'Hunter Tyson', 'Hunter Tyson', 'Hunter Tyson', 'Hunter Tyson', 'Hunter Tyson', 'Hunter Tyson', 'Hunter Tyson', 'Hunter Tyson', 'Hunter Tyson']\n"
     ]
    },
    {
     "name": "stderr",
     "output_type": "stream",
     "text": [
      " 27%|██▋       | 140/510 [01:27<04:23,  1.41it/s]"
     ]
    },
    {
     "name": "stdout",
     "output_type": "stream",
     "text": [
      "['Alex Caruso', 'Alex Caruso', 'Alex Caruso', 'Alex Caruso', 'Alex Caruso', 'Alex Caruso', 'Alex Caruso', 'Alex Caruso', 'Alex Caruso', 'Alex Caruso']\n"
     ]
    },
    {
     "name": "stderr",
     "output_type": "stream",
     "text": [
      "libpng warning: iCCP: known incorrect sRGB profile\n",
      " 28%|██▊       | 141/510 [01:27<04:04,  1.51it/s]"
     ]
    },
    {
     "name": "stdout",
     "output_type": "stream",
     "text": [
      "['Azuolas Tubelis', 'Azuolas Tubelis', 'Azuolas Tubelis', 'Azuolas Tubelis', 'Azuolas Tubelis', 'Azuolas Tubelis', 'Azuolas Tubelis', 'Azuolas Tubelis', 'Azuolas Tubelis', 'Azuolas Tubelis']\n"
     ]
    },
    {
     "name": "stderr",
     "output_type": "stream",
     "text": [
      " 28%|██▊       | 142/510 [01:28<04:25,  1.39it/s]"
     ]
    },
    {
     "name": "stdout",
     "output_type": "stream",
     "text": [
      "['Jalen Brunson', 'Jalen Brunson', 'Jalen Brunson', 'Jalen Brunson', 'Jalen Brunson', 'Jalen Brunson', 'Jalen Brunson', 'Jalen Brunson', 'Jalen Brunson', 'Jalen Brunson']\n"
     ]
    },
    {
     "name": "stderr",
     "output_type": "stream",
     "text": [
      " 28%|██▊       | 143/510 [01:29<04:43,  1.29it/s]"
     ]
    },
    {
     "name": "stdout",
     "output_type": "stream",
     "text": [
      "['Terance Mann', 'Terance Mann', 'Terance Mann', 'Terance Mann', 'Terance Mann', 'Terance Mann', 'Terance Mann', 'Terance Mann', 'Terance Mann', 'Terance Mann']\n"
     ]
    },
    {
     "name": "stderr",
     "output_type": "stream",
     "text": [
      " 28%|██▊       | 144/510 [01:30<04:29,  1.36it/s]"
     ]
    },
    {
     "name": "stdout",
     "output_type": "stream",
     "text": [
      "['Lonzo Ball', 'Lonzo Ball', 'Lonzo Ball', 'Lonzo Ball', 'Lonzo Ball', 'Lonzo Ball', 'Lonzo Ball', 'Lonzo Ball', 'Lonzo Ball', 'Lonzo Ball']\n"
     ]
    },
    {
     "name": "stderr",
     "output_type": "stream",
     "text": [
      " 28%|██▊       | 145/510 [01:30<04:10,  1.45it/s]"
     ]
    },
    {
     "name": "stdout",
     "output_type": "stream",
     "text": [
      "['Jaylen Martin', 'Jaylen Martin', 'Jaylen Martin', 'Jaylen Martin', 'Jaylen Martin', 'Jaylen Martin', 'Jaylen Martin', 'Jaylen Martin', 'Jaylen Martin', 'Jaylen Martin']\n"
     ]
    },
    {
     "name": "stderr",
     "output_type": "stream",
     "text": [
      " 29%|██▊       | 146/510 [01:31<04:04,  1.49it/s]"
     ]
    },
    {
     "name": "stdout",
     "output_type": "stream",
     "text": [
      "['Goga Bitadze', 'Goga Bitadze', 'Goga Bitadze', 'Goga Bitadze', 'Goga Bitadze', 'Goga Bitadze', 'Goga Bitadze', 'Goga Bitadze', 'Goga Bitadze', 'Goga Bitadze']\n"
     ]
    },
    {
     "name": "stderr",
     "output_type": "stream",
     "text": [
      " 29%|██▉       | 147/510 [01:31<03:39,  1.66it/s]"
     ]
    },
    {
     "name": "stdout",
     "output_type": "stream",
     "text": [
      "['A.J. Griffin, Jr.', 'A.J. Griffin, Jr.', 'A.J. Griffin, Jr.', 'A.J. Griffin, Jr.', 'A.J. Griffin, Jr.', 'A.J. Griffin, Jr.', 'A.J. Griffin, Jr.']\n"
     ]
    },
    {
     "name": "stderr",
     "output_type": "stream",
     "text": [
      " 29%|██▉       | 148/510 [01:32<03:43,  1.62it/s]"
     ]
    },
    {
     "name": "stdout",
     "output_type": "stream",
     "text": [
      "['Keon Ellis', 'Keon Ellis', 'Keon Ellis', 'Keon Ellis', 'Keon Ellis', 'Keon Ellis', 'Keon Ellis', 'Keon Ellis']\n"
     ]
    },
    {
     "name": "stderr",
     "output_type": "stream",
     "text": [
      " 29%|██▉       | 149/510 [01:33<03:46,  1.59it/s]"
     ]
    },
    {
     "name": "stdout",
     "output_type": "stream",
     "text": [
      "['Landry Shamet', 'Landry Shamet', 'Landry Shamet', 'Landry Shamet', 'Landry Shamet', 'Landry Shamet', 'Landry Shamet', 'Landry Shamet', 'Landry Shamet', 'Landry Shamet']\n"
     ]
    },
    {
     "name": "stderr",
     "output_type": "stream",
     "text": [
      " 29%|██▉       | 150/510 [01:33<03:37,  1.65it/s]"
     ]
    },
    {
     "name": "stdout",
     "output_type": "stream",
     "text": [
      "['Jeremiah Robinson-Earl', 'Jeremiah Robinson-Earl', 'Jeremiah Robinson-Earl', 'Jeremiah Robinson-Earl', 'Jeremiah Robinson-Earl', 'Jeremiah Robinson-Earl', 'Jeremiah Robinson-Earl', 'Jeremiah Robinson-Earl', 'Jeremiah Robinson-Earl', 'Jeremiah Robinson-Earl']\n"
     ]
    },
    {
     "name": "stderr",
     "output_type": "stream",
     "text": [
      " 30%|██▉       | 151/510 [01:34<03:34,  1.67it/s]"
     ]
    },
    {
     "name": "stdout",
     "output_type": "stream",
     "text": [
      "['Anthony Davis', 'Anthony Davis', 'Anthony Davis', 'Anthony Davis', 'Anthony Davis', 'Anthony Davis', 'Anthony Davis', 'Anthony Davis', 'Anthony Davis', 'Anthony Davis']\n"
     ]
    },
    {
     "name": "stderr",
     "output_type": "stream",
     "text": [
      " 30%|██▉       | 152/510 [01:35<04:01,  1.48it/s]"
     ]
    },
    {
     "name": "stdout",
     "output_type": "stream",
     "text": [
      "['Gary Payton II', 'Gary Payton II', 'Gary Payton II', 'Gary Payton II', 'Gary Payton II', 'Gary Payton II', 'Gary Payton II', 'Gary Payton II', 'Gary Payton II', 'Gary Payton II']\n"
     ]
    },
    {
     "name": "stderr",
     "output_type": "stream",
     "text": [
      " 30%|███       | 153/510 [01:36<04:30,  1.32it/s]"
     ]
    },
    {
     "name": "stdout",
     "output_type": "stream",
     "text": [
      "[\"Devonte' Graham\", \"Devonte' Graham\", \"Devonte' Graham\", \"Devonte' Graham\", \"Devonte' Graham\", \"Devonte' Graham\", \"Devonte' Graham\", \"Devonte' Graham\", \"Devonte' Graham\", \"Devonte' Graham\"]\n"
     ]
    },
    {
     "name": "stderr",
     "output_type": "stream",
     "text": [
      " 30%|███       | 154/510 [01:36<04:22,  1.35it/s]"
     ]
    },
    {
     "name": "stdout",
     "output_type": "stream",
     "text": [
      "['Shaedon Sharpe', 'Shaedon Sharpe', 'Shaedon Sharpe', 'Shaedon Sharpe', 'Shaedon Sharpe', 'Shaedon Sharpe', 'Shaedon Sharpe', 'Shaedon Sharpe', 'Shaedon Sharpe', 'Shaedon Sharpe']\n"
     ]
    },
    {
     "name": "stderr",
     "output_type": "stream",
     "text": [
      " 30%|███       | 155/510 [01:37<04:18,  1.37it/s]"
     ]
    },
    {
     "name": "stdout",
     "output_type": "stream",
     "text": [
      "['Omer Yurtseven', 'Omer Yurtseven', 'Omer Yurtseven', 'Omer Yurtseven', 'Omer Yurtseven', 'Omer Yurtseven', 'Omer Yurtseven', 'Omer Yurtseven', 'Omer Yurtseven', 'Omer Yurtseven']\n"
     ]
    },
    {
     "name": "stderr",
     "output_type": "stream",
     "text": [
      " 31%|███       | 156/510 [01:38<04:29,  1.31it/s]"
     ]
    },
    {
     "name": "stdout",
     "output_type": "stream",
     "text": [
      "['Ziaire Williams', 'Ziaire Williams', 'Ziaire Williams', 'Ziaire Williams', 'Ziaire Williams', 'Ziaire Williams', 'Ziaire Williams', 'Ziaire Williams', 'Ziaire Williams', 'Ziaire Williams']\n"
     ]
    },
    {
     "name": "stderr",
     "output_type": "stream",
     "text": [
      " 31%|███       | 157/510 [01:38<04:11,  1.40it/s]"
     ]
    },
    {
     "name": "stdout",
     "output_type": "stream",
     "text": [
      "['DeAndre Jordan', 'DeAndre Jordan', 'DeAndre Jordan', 'DeAndre Jordan', 'DeAndre Jordan', 'DeAndre Jordan', 'DeAndre Jordan', 'DeAndre Jordan', 'DeAndre Jordan', 'DeAndre Jordan']\n"
     ]
    },
    {
     "name": "stderr",
     "output_type": "stream",
     "text": [
      " 31%|███       | 158/510 [01:39<03:56,  1.49it/s]"
     ]
    },
    {
     "name": "stdout",
     "output_type": "stream",
     "text": [
      "['Isaiah Jackson', 'Isaiah Jackson', 'Isaiah Jackson', 'Isaiah Jackson', 'Isaiah Jackson', 'Isaiah Jackson', 'Isaiah Jackson', 'Isaiah Jackson', 'Isaiah Jackson', 'Isaiah Jackson']\n"
     ]
    },
    {
     "name": "stderr",
     "output_type": "stream",
     "text": [
      " 31%|███       | 159/510 [01:40<04:37,  1.26it/s]"
     ]
    },
    {
     "name": "stdout",
     "output_type": "stream",
     "text": [
      "['J.D. Davison', 'J.D. Davison', 'J.D. Davison', 'J.D. Davison', 'J.D. Davison', 'J.D. Davison', 'J.D. Davison', 'J.D. Davison', 'J.D. Davison', 'J.D. Davison']\n"
     ]
    },
    {
     "name": "stderr",
     "output_type": "stream",
     "text": [
      "libpng warning: iCCP: known incorrect sRGB profile\n",
      " 31%|███▏      | 160/510 [01:41<04:22,  1.33it/s]"
     ]
    },
    {
     "name": "stdout",
     "output_type": "stream",
     "text": [
      "['Montrezl Harrell', 'Montrezl Harrell', 'Montrezl Harrell', 'Montrezl Harrell', 'Montrezl Harrell', 'Montrezl Harrell', 'Montrezl Harrell', 'Montrezl Harrell', 'Montrezl Harrell', 'Montrezl Harrell']\n"
     ]
    },
    {
     "name": "stderr",
     "output_type": "stream",
     "text": [
      " 32%|███▏      | 161/510 [01:41<04:04,  1.43it/s]"
     ]
    },
    {
     "name": "stdout",
     "output_type": "stream",
     "text": [
      "['Andrew Funk', 'Andrew Funk', 'Andrew Funk', 'Andrew Funk', 'Andrew Funk', 'Andrew Funk']\n"
     ]
    },
    {
     "name": "stderr",
     "output_type": "stream",
     "text": [
      " 32%|███▏      | 162/510 [01:42<03:50,  1.51it/s]"
     ]
    },
    {
     "name": "stdout",
     "output_type": "stream",
     "text": [
      "['Luguentz Dort', 'Luguentz Dort', 'Luguentz Dort', 'Luguentz Dort', 'Luguentz Dort', 'Luguentz Dort', 'Luguentz Dort', 'Luguentz Dort', 'Luguentz Dort', 'Luguentz Dort']\n"
     ]
    },
    {
     "name": "stderr",
     "output_type": "stream",
     "text": [
      " 32%|███▏      | 163/510 [01:43<03:46,  1.53it/s]"
     ]
    },
    {
     "name": "stdout",
     "output_type": "stream",
     "text": [
      "['Cedi Osman', 'Cedi Osman', 'Cedi Osman', 'Cedi Osman', 'Cedi Osman', 'Cedi Osman', 'Cedi Osman', 'Cedi Osman', 'Cedi Osman', 'Cedi Osman']\n"
     ]
    },
    {
     "name": "stderr",
     "output_type": "stream",
     "text": [
      " 32%|███▏      | 164/510 [01:43<03:37,  1.59it/s]"
     ]
    },
    {
     "name": "stdout",
     "output_type": "stream",
     "text": [
      "['Damian Jones', 'Damian Jones', 'Damian Jones', 'Damian Jones', 'Damian Jones', 'Damian Jones', 'Damian Jones', 'Damian Jones', 'Damian Jones', 'Damian Jones']\n"
     ]
    },
    {
     "name": "stderr",
     "output_type": "stream",
     "text": [
      " 32%|███▏      | 165/510 [01:44<03:35,  1.60it/s]"
     ]
    },
    {
     "name": "stdout",
     "output_type": "stream",
     "text": [
      "['Dru Smith', 'Dru Smith', 'Dru Smith', 'Dru Smith', 'Dru Smith', 'Dru Smith', 'Dru Smith', 'Dru Smith', 'Dru Smith', 'Dru Smith']\n"
     ]
    },
    {
     "name": "stderr",
     "output_type": "stream",
     "text": [
      " 33%|███▎      | 166/510 [01:44<03:09,  1.82it/s]"
     ]
    },
    {
     "name": "stdout",
     "output_type": "stream",
     "text": [
      "['Jamaree Bouyea', 'Jamaree Bouyea', 'Jamaree Bouyea', 'Jamaree Bouyea', 'Jamaree Bouyea', 'Jamaree Bouyea', 'Jamaree Bouyea']\n"
     ]
    },
    {
     "name": "stderr",
     "output_type": "stream",
     "text": [
      " 33%|███▎      | 167/510 [01:45<03:17,  1.74it/s]"
     ]
    },
    {
     "name": "stdout",
     "output_type": "stream",
     "text": [
      "['Miles McBride', 'Miles McBride', 'Miles McBride', 'Miles McBride', 'Miles McBride', 'Miles McBride', 'Miles McBride', 'Miles McBride', 'Miles McBride', 'Miles McBride']\n"
     ]
    },
    {
     "name": "stderr",
     "output_type": "stream",
     "text": [
      " 33%|███▎      | 168/510 [01:45<03:24,  1.67it/s]"
     ]
    },
    {
     "name": "stdout",
     "output_type": "stream",
     "text": [
      "['Keita Bates-Diop', 'Keita Bates-Diop', 'Keita Bates-Diop', 'Keita Bates-Diop', 'Keita Bates-Diop', 'Keita Bates-Diop', 'Keita Bates-Diop', 'Keita Bates-Diop', 'Keita Bates-Diop', 'Keita Bates-Diop']\n"
     ]
    },
    {
     "name": "stderr",
     "output_type": "stream",
     "text": [
      " 33%|███▎      | 169/510 [01:46<03:14,  1.75it/s]"
     ]
    },
    {
     "name": "stdout",
     "output_type": "stream",
     "text": [
      "['Jalen Suggs', 'Jalen Suggs', 'Jalen Suggs', 'Jalen Suggs', 'Jalen Suggs', 'Jalen Suggs', 'Jalen Suggs', 'Jalen Suggs', 'Jalen Suggs', 'Jalen Suggs']\n"
     ]
    },
    {
     "name": "stderr",
     "output_type": "stream",
     "text": [
      " 33%|███▎      | 170/510 [01:47<03:35,  1.57it/s]"
     ]
    },
    {
     "name": "stdout",
     "output_type": "stream",
     "text": [
      "['Onyeka Okongwu', 'Onyeka Okongwu', 'Onyeka Okongwu', 'Onyeka Okongwu', 'Onyeka Okongwu', 'Onyeka Okongwu', 'Onyeka Okongwu', 'Onyeka Okongwu', 'Onyeka Okongwu', 'Onyeka Okongwu']\n"
     ]
    },
    {
     "name": "stderr",
     "output_type": "stream",
     "text": [
      " 34%|███▎      | 171/510 [01:48<03:58,  1.42it/s]"
     ]
    },
    {
     "name": "stdout",
     "output_type": "stream",
     "text": [
      "['Trevor Hudgins', 'Trevor Hudgins', 'Trevor Hudgins', 'Trevor Hudgins', 'Trevor Hudgins', 'Trevor Hudgins', 'Trevor Hudgins', 'Trevor Hudgins']\n"
     ]
    },
    {
     "name": "stderr",
     "output_type": "stream",
     "text": [
      " 34%|███▎      | 172/510 [01:48<03:52,  1.46it/s]"
     ]
    },
    {
     "name": "stdout",
     "output_type": "stream",
     "text": [
      "['Jae Crowder', 'Jae Crowder', 'Jae Crowder', 'Jae Crowder', 'Jae Crowder', 'Jae Crowder', 'Jae Crowder', 'Jae Crowder', 'Jae Crowder', 'Jae Crowder']\n"
     ]
    },
    {
     "name": "stderr",
     "output_type": "stream",
     "text": [
      " 34%|███▍      | 173/510 [01:49<03:54,  1.43it/s]"
     ]
    },
    {
     "name": "stdout",
     "output_type": "stream",
     "text": [
      "['Mike Muscala', 'Mike Muscala', 'Mike Muscala', 'Mike Muscala', 'Mike Muscala', 'Mike Muscala', 'Mike Muscala', 'Mike Muscala', 'Mike Muscala', 'Mike Muscala']\n"
     ]
    },
    {
     "name": "stderr",
     "output_type": "stream",
     "text": [
      " 34%|███▍      | 174/510 [01:50<04:04,  1.37it/s]"
     ]
    },
    {
     "name": "stdout",
     "output_type": "stream",
     "text": [
      "['Saddiq Bey', 'Saddiq Bey', 'Saddiq Bey', 'Saddiq Bey', 'Saddiq Bey', 'Saddiq Bey', 'Saddiq Bey', 'Saddiq Bey', 'Saddiq Bey', 'Saddiq Bey']\n"
     ]
    },
    {
     "name": "stderr",
     "output_type": "stream",
     "text": [
      " 34%|███▍      | 175/510 [01:50<03:59,  1.40it/s]"
     ]
    },
    {
     "name": "stdout",
     "output_type": "stream",
     "text": [
      "['Kessler Edwards', 'Kessler Edwards', 'Kessler Edwards', 'Kessler Edwards', 'Kessler Edwards', 'Kessler Edwards', 'Kessler Edwards', 'Kessler Edwards', 'Kessler Edwards', 'Kessler Edwards']\n"
     ]
    },
    {
     "name": "stderr",
     "output_type": "stream",
     "text": [
      " 35%|███▍      | 176/510 [01:51<03:44,  1.49it/s]"
     ]
    },
    {
     "name": "stdout",
     "output_type": "stream",
     "text": [
      "['Dyson Daniels', 'Dyson Daniels', 'Dyson Daniels', 'Dyson Daniels', 'Dyson Daniels', 'Dyson Daniels', 'Dyson Daniels', 'Dyson Daniels', 'Dyson Daniels', 'Dyson Daniels']\n"
     ]
    },
    {
     "name": "stderr",
     "output_type": "stream",
     "text": [
      " 35%|███▍      | 177/510 [01:52<03:29,  1.59it/s]"
     ]
    },
    {
     "name": "stdout",
     "output_type": "stream",
     "text": [
      "['Domantas Sabonis', 'Domantas Sabonis', 'Domantas Sabonis', 'Domantas Sabonis', 'Domantas Sabonis', 'Domantas Sabonis', 'Domantas Sabonis', 'Domantas Sabonis', 'Domantas Sabonis', 'Domantas Sabonis']\n"
     ]
    },
    {
     "name": "stderr",
     "output_type": "stream",
     "text": [
      " 35%|███▍      | 178/510 [01:52<03:31,  1.57it/s]"
     ]
    },
    {
     "name": "stdout",
     "output_type": "stream",
     "text": [
      "['Doug McDermott', 'Doug McDermott', 'Doug McDermott', 'Doug McDermott', 'Doug McDermott', 'Doug McDermott', 'Doug McDermott', 'Doug McDermott', 'Doug McDermott', 'Doug McDermott']\n"
     ]
    },
    {
     "name": "stderr",
     "output_type": "stream",
     "text": [
      " 35%|███▌      | 179/510 [01:53<03:43,  1.48it/s]"
     ]
    },
    {
     "name": "stdout",
     "output_type": "stream",
     "text": [
      "['Taurean Prince', 'Taurean Prince', 'Taurean Prince', 'Taurean Prince', 'Taurean Prince', 'Taurean Prince', 'Taurean Prince', 'Taurean Prince', 'Taurean Prince', 'Taurean Prince']\n"
     ]
    },
    {
     "name": "stderr",
     "output_type": "stream",
     "text": [
      " 35%|███▌      | 180/510 [01:54<03:36,  1.52it/s]"
     ]
    },
    {
     "name": "stdout",
     "output_type": "stream",
     "text": [
      "['Garrison Mathews', 'Garrison Mathews', 'Garrison Mathews', 'Garrison Mathews', 'Garrison Mathews', 'Garrison Mathews', 'Garrison Mathews', 'Garrison Mathews']\n"
     ]
    },
    {
     "name": "stderr",
     "output_type": "stream",
     "text": [
      " 35%|███▌      | 181/510 [01:55<04:17,  1.28it/s]"
     ]
    },
    {
     "name": "stdout",
     "output_type": "stream",
     "text": [
      "['Trey Murphy III', 'Trey Murphy III', 'Trey Murphy III', 'Trey Murphy III', 'Trey Murphy III', 'Trey Murphy III', 'Trey Murphy III', 'Trey Murphy III']\n"
     ]
    },
    {
     "name": "stderr",
     "output_type": "stream",
     "text": [
      " 36%|███▌      | 182/510 [01:55<04:00,  1.36it/s]"
     ]
    },
    {
     "name": "stdout",
     "output_type": "stream",
     "text": [
      "['Brandon Miller', 'Brandon Miller', 'Brandon Miller', 'Brandon Miller', 'Brandon Miller', 'Brandon Miller', 'Brandon Miller', 'Brandon Miller', 'Brandon Miller', 'Brandon Miller']\n"
     ]
    },
    {
     "name": "stderr",
     "output_type": "stream",
     "text": [
      " 36%|███▌      | 183/510 [01:56<04:01,  1.35it/s]"
     ]
    },
    {
     "name": "stdout",
     "output_type": "stream",
     "text": [
      "[\"Jae'sean Tate\", \"Jae'sean Tate\", \"Jae'sean Tate\", \"Jae'sean Tate\", \"Jae'sean Tate\", \"Jae'sean Tate\", \"Jae'sean Tate\", \"Jae'sean Tate\", \"Jae'sean Tate\", \"Jae'sean Tate\"]\n"
     ]
    },
    {
     "name": "stderr",
     "output_type": "stream",
     "text": [
      " 36%|███▌      | 184/510 [01:57<03:56,  1.38it/s]"
     ]
    },
    {
     "name": "stdout",
     "output_type": "stream",
     "text": [
      "['Kobi Simmons', 'Kobi Simmons', 'Kobi Simmons', 'Kobi Simmons', 'Kobi Simmons', 'Kobi Simmons', 'Kobi Simmons', 'Kobi Simmons', 'Kobi Simmons', 'Kobi Simmons']\n"
     ]
    },
    {
     "name": "stderr",
     "output_type": "stream",
     "text": [
      " 36%|███▋      | 185/510 [01:57<03:56,  1.37it/s]"
     ]
    },
    {
     "name": "stdout",
     "output_type": "stream",
     "text": [
      "['Cory Joseph', 'Cory Joseph', 'Cory Joseph', 'Cory Joseph', 'Cory Joseph', 'Cory Joseph', 'Cory Joseph', 'Cory Joseph', 'Cory Joseph', 'Cory Joseph']\n"
     ]
    },
    {
     "name": "stderr",
     "output_type": "stream",
     "text": [
      " 36%|███▋      | 186/510 [01:58<03:53,  1.39it/s]"
     ]
    },
    {
     "name": "stdout",
     "output_type": "stream",
     "text": [
      "['Jordan McLaughlin', 'Jordan McLaughlin', 'Jordan McLaughlin', 'Jordan McLaughlin', 'Jordan McLaughlin', 'Jordan McLaughlin', 'Jordan McLaughlin', 'Jordan McLaughlin', 'Jordan McLaughlin']\n"
     ]
    },
    {
     "name": "stderr",
     "output_type": "stream",
     "text": [
      " 37%|███▋      | 187/510 [01:59<04:25,  1.21it/s]"
     ]
    },
    {
     "name": "stdout",
     "output_type": "stream",
     "text": [
      "['Braxton Key', 'Braxton Key', 'Braxton Key', 'Braxton Key', 'Braxton Key', 'Braxton Key', 'Braxton Key', 'Braxton Key', 'Braxton Key', 'Braxton Key']\n"
     ]
    },
    {
     "name": "stderr",
     "output_type": "stream",
     "text": [
      " 37%|███▋      | 188/510 [02:00<04:23,  1.22it/s]"
     ]
    },
    {
     "name": "stdout",
     "output_type": "stream",
     "text": [
      "['Dalano Banton', 'Dalano Banton', 'Dalano Banton', 'Dalano Banton', 'Dalano Banton', 'Dalano Banton', 'Dalano Banton', 'Dalano Banton', 'Dalano Banton', 'Dalano Banton']\n"
     ]
    },
    {
     "name": "stderr",
     "output_type": "stream",
     "text": [
      " 37%|███▋      | 189/510 [02:01<04:07,  1.30it/s]"
     ]
    },
    {
     "name": "stdout",
     "output_type": "stream",
     "text": [
      "['Josh Green', 'Josh Green', 'Josh Green', 'Josh Green', 'Josh Green', 'Josh Green', 'Josh Green', 'Josh Green', 'Josh Green', 'Josh Green']\n"
     ]
    },
    {
     "name": "stderr",
     "output_type": "stream",
     "text": [
      " 37%|███▋      | 190/510 [02:01<03:57,  1.35it/s]"
     ]
    },
    {
     "name": "stdout",
     "output_type": "stream",
     "text": [
      "['Jarred Vanderbilt', 'Jarred Vanderbilt', 'Jarred Vanderbilt', 'Jarred Vanderbilt', 'Jarred Vanderbilt', 'Jarred Vanderbilt', 'Jarred Vanderbilt', 'Jarred Vanderbilt', 'Jarred Vanderbilt', 'Jarred Vanderbilt']\n"
     ]
    },
    {
     "name": "stderr",
     "output_type": "stream",
     "text": [
      " 37%|███▋      | 191/510 [02:02<03:53,  1.37it/s]"
     ]
    },
    {
     "name": "stdout",
     "output_type": "stream",
     "text": [
      "['Brandon Clarke', 'Brandon Clarke', 'Brandon Clarke', 'Brandon Clarke', 'Brandon Clarke', 'Brandon Clarke', 'Brandon Clarke', 'Brandon Clarke', 'Brandon Clarke', 'Brandon Clarke']\n"
     ]
    },
    {
     "name": "stderr",
     "output_type": "stream",
     "text": [
      " 38%|███▊      | 192/510 [02:03<03:36,  1.47it/s]"
     ]
    },
    {
     "name": "stdout",
     "output_type": "stream",
     "text": [
      "['Kevin Huerter', 'Kevin Huerter', 'Kevin Huerter', 'Kevin Huerter', 'Kevin Huerter', 'Kevin Huerter', 'Kevin Huerter', 'Kevin Huerter', 'Kevin Huerter', 'Kevin Huerter']\n"
     ]
    },
    {
     "name": "stderr",
     "output_type": "stream",
     "text": [
      " 38%|███▊      | 193/510 [02:03<03:49,  1.38it/s]"
     ]
    },
    {
     "name": "stdout",
     "output_type": "stream",
     "text": [
      "['Tosan Evbuomwan', 'Tosan Evbuomwan', 'Tosan Evbuomwan', 'Tosan Evbuomwan', 'Tosan Evbuomwan', 'Tosan Evbuomwan']\n"
     ]
    },
    {
     "name": "stderr",
     "output_type": "stream",
     "text": [
      " 38%|███▊      | 194/510 [02:04<03:47,  1.39it/s]"
     ]
    },
    {
     "name": "stdout",
     "output_type": "stream",
     "text": [
      "['Aaron Wiggins', 'Aaron Wiggins', 'Aaron Wiggins', 'Aaron Wiggins', 'Aaron Wiggins', 'Aaron Wiggins', 'Aaron Wiggins', 'Aaron Wiggins', 'Aaron Wiggins', 'Aaron Wiggins']\n"
     ]
    },
    {
     "name": "stderr",
     "output_type": "stream",
     "text": [
      " 38%|███▊      | 195/510 [02:05<03:36,  1.45it/s]"
     ]
    },
    {
     "name": "stdout",
     "output_type": "stream",
     "text": [
      "['Kentavious Caldwell-Pope', 'Kentavious Caldwell-Pope', 'Kentavious Caldwell-Pope', 'Kentavious Caldwell-Pope', 'Kentavious Caldwell-Pope', 'Kentavious Caldwell-Pope', 'Kentavious Caldwell-Pope', 'Kentavious Caldwell-Pope', 'Kentavious Caldwell-Pope']\n"
     ]
    },
    {
     "name": "stderr",
     "output_type": "stream",
     "text": [
      " 38%|███▊      | 196/510 [02:05<03:15,  1.61it/s]"
     ]
    },
    {
     "name": "stdout",
     "output_type": "stream",
     "text": [
      "['Ja Morant', 'Ja Morant', 'Ja Morant', 'Ja Morant', 'Ja Morant', 'Ja Morant']\n"
     ]
    },
    {
     "name": "stderr",
     "output_type": "stream",
     "text": [
      " 39%|███▊      | 197/510 [02:06<03:15,  1.60it/s]"
     ]
    },
    {
     "name": "stdout",
     "output_type": "stream",
     "text": [
      "['Josh Giddey', 'Josh Giddey', 'Josh Giddey', 'Josh Giddey', 'Josh Giddey', 'Josh Giddey', 'Josh Giddey', 'Josh Giddey', 'Josh Giddey', 'Josh Giddey']\n"
     ]
    },
    {
     "name": "stderr",
     "output_type": "stream",
     "text": [
      " 39%|███▉      | 198/510 [02:07<03:50,  1.35it/s]"
     ]
    },
    {
     "name": "stdout",
     "output_type": "stream",
     "text": [
      "['Trey Lyles', 'Trey Lyles', 'Trey Lyles', 'Trey Lyles', 'Trey Lyles', 'Trey Lyles', 'Trey Lyles', 'Trey Lyles', 'Trey Lyles', 'Trey Lyles']\n"
     ]
    },
    {
     "name": "stderr",
     "output_type": "stream",
     "text": [
      " 39%|███▉      | 199/510 [02:07<03:33,  1.45it/s]"
     ]
    },
    {
     "name": "stdout",
     "output_type": "stream",
     "text": [
      "['Julian Champagnie', 'Julian Champagnie', 'Julian Champagnie', 'Julian Champagnie', 'Julian Champagnie', 'Julian Champagnie', 'Julian Champagnie', 'Julian Champagnie', 'Julian Champagnie', 'Julian Champagnie']\n"
     ]
    },
    {
     "name": "stderr",
     "output_type": "stream",
     "text": [
      " 39%|███▉      | 200/510 [02:08<03:38,  1.42it/s]"
     ]
    },
    {
     "name": "stdout",
     "output_type": "stream",
     "text": [
      "['Kendall Brown', 'Kendall Brown', 'Kendall Brown', 'Kendall Brown', 'Kendall Brown', 'Kendall Brown', 'Kendall Brown', 'Kendall Brown', 'Kendall Brown']\n"
     ]
    },
    {
     "name": "stderr",
     "output_type": "stream",
     "text": [
      " 39%|███▉      | 201/510 [02:09<03:47,  1.36it/s]"
     ]
    },
    {
     "name": "stdout",
     "output_type": "stream",
     "text": [
      "['Nick Richards', 'Nick Richards', 'Nick Richards', 'Nick Richards', 'Nick Richards', 'Nick Richards', 'Nick Richards', 'Nick Richards', 'Nick Richards', 'Nick Richards']\n"
     ]
    },
    {
     "name": "stderr",
     "output_type": "stream",
     "text": [
      " 40%|███▉      | 202/510 [02:10<03:35,  1.43it/s]"
     ]
    },
    {
     "name": "stdout",
     "output_type": "stream",
     "text": [
      "['Troy Brown, Jr.', 'Troy Brown, Jr.', 'Troy Brown, Jr.', 'Troy Brown, Jr.', 'Troy Brown, Jr.', 'Troy Brown, Jr.', 'Troy Brown, Jr.', 'Troy Brown, Jr.', 'Troy Brown, Jr.', 'Troy Brown, Jr.']\n"
     ]
    },
    {
     "name": "stderr",
     "output_type": "stream",
     "text": [
      " 40%|███▉      | 203/510 [02:10<03:31,  1.45it/s]"
     ]
    },
    {
     "name": "stdout",
     "output_type": "stream",
     "text": [
      "['Dylan Windler', 'Dylan Windler', 'Dylan Windler', 'Dylan Windler', 'Dylan Windler', 'Dylan Windler', 'Dylan Windler', 'Dylan Windler', 'Dylan Windler', 'Dylan Windler']\n"
     ]
    },
    {
     "name": "stderr",
     "output_type": "stream",
     "text": [
      " 40%|████      | 204/510 [02:11<03:13,  1.58it/s]"
     ]
    },
    {
     "name": "stdout",
     "output_type": "stream",
     "text": [
      "['Jonas Valanciunas', 'Jonas Valanciunas', 'Jonas Valanciunas', 'Jonas Valanciunas', 'Jonas Valanciunas', 'Jonas Valanciunas', 'Jonas Valanciunas', 'Jonas Valanciunas', 'Jonas Valanciunas', 'Jonas Valanciunas']\n"
     ]
    },
    {
     "name": "stderr",
     "output_type": "stream",
     "text": [
      " 40%|████      | 205/510 [02:12<03:23,  1.50it/s]"
     ]
    },
    {
     "name": "stdout",
     "output_type": "stream",
     "text": [
      "['Isaiah Stewart II', 'Isaiah Stewart II', 'Isaiah Stewart II', 'Isaiah Stewart II', 'Isaiah Stewart II', 'Isaiah Stewart II', 'Isaiah Stewart II', 'Isaiah Stewart II', 'Isaiah Stewart II', 'Isaiah Stewart II']\n"
     ]
    },
    {
     "name": "stderr",
     "output_type": "stream",
     "text": [
      " 40%|████      | 206/510 [02:12<03:11,  1.59it/s]"
     ]
    },
    {
     "name": "stdout",
     "output_type": "stream",
     "text": [
      "['Dean Wade', 'Dean Wade', 'Dean Wade', 'Dean Wade', 'Dean Wade', 'Dean Wade', 'Dean Wade', 'Dean Wade', 'Dean Wade', 'Dean Wade']\n"
     ]
    },
    {
     "name": "stderr",
     "output_type": "stream",
     "text": [
      " 41%|████      | 207/510 [02:13<03:24,  1.48it/s]"
     ]
    },
    {
     "name": "stdout",
     "output_type": "stream",
     "text": [
      "['Nick Smith, Jr.', 'Nick Smith, Jr.', 'Nick Smith, Jr.', 'Nick Smith, Jr.', 'Nick Smith, Jr.', 'Nick Smith, Jr.', 'Nick Smith, Jr.', 'Nick Smith, Jr.', 'Nick Smith, Jr.', 'Nick Smith, Jr.']\n"
     ]
    },
    {
     "name": "stderr",
     "output_type": "stream",
     "text": [
      " 41%|████      | 208/510 [02:13<03:10,  1.58it/s]"
     ]
    },
    {
     "name": "stdout",
     "output_type": "stream",
     "text": [
      "['Josh Okogie', 'Josh Okogie', 'Josh Okogie', 'Josh Okogie', 'Josh Okogie', 'Josh Okogie', 'Josh Okogie', 'Josh Okogie', 'Josh Okogie', 'Josh Okogie']\n"
     ]
    },
    {
     "name": "stderr",
     "output_type": "stream",
     "text": [
      " 41%|████      | 209/510 [02:14<03:10,  1.58it/s]"
     ]
    },
    {
     "name": "stdout",
     "output_type": "stream",
     "text": [
      "['Amari Bailey', 'Amari Bailey', 'Amari Bailey', 'Amari Bailey', 'Amari Bailey', 'Amari Bailey', 'Amari Bailey', 'Amari Bailey', 'Amari Bailey', 'Amari Bailey']\n"
     ]
    },
    {
     "name": "stderr",
     "output_type": "stream",
     "text": [
      " 41%|████      | 210/510 [02:15<03:27,  1.45it/s]"
     ]
    },
    {
     "name": "stdout",
     "output_type": "stream",
     "text": [
      "['Quentin Grimes', 'Quentin Grimes', 'Quentin Grimes', 'Quentin Grimes', 'Quentin Grimes', 'Quentin Grimes', 'Quentin Grimes', 'Quentin Grimes', 'Quentin Grimes', 'Quentin Grimes']\n"
     ]
    },
    {
     "name": "stderr",
     "output_type": "stream",
     "text": [
      " 41%|████▏     | 211/510 [02:16<03:25,  1.46it/s]"
     ]
    },
    {
     "name": "stdout",
     "output_type": "stream",
     "text": [
      "['James Harden', 'James Harden', 'James Harden', 'James Harden', 'James Harden', 'James Harden', 'James Harden', 'James Harden', 'James Harden', 'James Harden']\n"
     ]
    },
    {
     "name": "stderr",
     "output_type": "stream",
     "text": [
      " 42%|████▏     | 212/510 [02:16<03:26,  1.44it/s]"
     ]
    },
    {
     "name": "stdout",
     "output_type": "stream",
     "text": [
      "['Jaden Ivey', 'Jaden Ivey', 'Jaden Ivey', 'Jaden Ivey', 'Jaden Ivey', 'Jaden Ivey', 'Jaden Ivey', 'Jaden Ivey', 'Jaden Ivey', 'Jaden Ivey']\n"
     ]
    },
    {
     "name": "stderr",
     "output_type": "stream",
     "text": [
      " 42%|████▏     | 213/510 [02:17<03:24,  1.45it/s]"
     ]
    },
    {
     "name": "stdout",
     "output_type": "stream",
     "text": [
      "['DaQuan Jeffries', 'DaQuan Jeffries', 'DaQuan Jeffries', 'DaQuan Jeffries', 'DaQuan Jeffries', 'DaQuan Jeffries', 'DaQuan Jeffries', 'DaQuan Jeffries']\n"
     ]
    },
    {
     "name": "stderr",
     "output_type": "stream",
     "text": [
      " 42%|████▏     | 214/510 [02:18<03:25,  1.44it/s]"
     ]
    },
    {
     "name": "stdout",
     "output_type": "stream",
     "text": [
      "['Tyus Jones', 'Tyus Jones', 'Tyus Jones', 'Tyus Jones', 'Tyus Jones', 'Tyus Jones', 'Tyus Jones', 'Tyus Jones', 'Tyus Jones', 'Tyus Jones']\n"
     ]
    },
    {
     "name": "stderr",
     "output_type": "stream",
     "text": [
      " 42%|████▏     | 215/510 [02:19<03:43,  1.32it/s]"
     ]
    },
    {
     "name": "stdout",
     "output_type": "stream",
     "text": [
      "['Patrick Williams', 'Patrick Williams', 'Patrick Williams', 'Patrick Williams', 'Patrick Williams', 'Patrick Williams', 'Patrick Williams', 'Patrick Williams', 'Patrick Williams', 'Patrick Williams']\n"
     ]
    },
    {
     "name": "stderr",
     "output_type": "stream",
     "text": [
      " 42%|████▏     | 216/510 [02:19<03:43,  1.32it/s]"
     ]
    },
    {
     "name": "stdout",
     "output_type": "stream",
     "text": [
      "['Payton Pritchard', 'Payton Pritchard', 'Payton Pritchard', 'Payton Pritchard', 'Payton Pritchard', 'Payton Pritchard', 'Payton Pritchard', 'Payton Pritchard', 'Payton Pritchard', 'Payton Pritchard']\n"
     ]
    },
    {
     "name": "stderr",
     "output_type": "stream",
     "text": [
      " 43%|████▎     | 217/510 [02:20<03:33,  1.37it/s]"
     ]
    },
    {
     "name": "stdout",
     "output_type": "stream",
     "text": [
      "['Ayo Dosunmu', 'Ayo Dosunmu', 'Ayo Dosunmu', 'Ayo Dosunmu', 'Ayo Dosunmu', 'Ayo Dosunmu', 'Ayo Dosunmu', 'Ayo Dosunmu', 'Ayo Dosunmu', 'Ayo Dosunmu']\n"
     ]
    },
    {
     "name": "stderr",
     "output_type": "stream",
     "text": [
      " 43%|████▎     | 218/510 [02:21<03:36,  1.35it/s]"
     ]
    },
    {
     "name": "stdout",
     "output_type": "stream",
     "text": [
      "['Toumani Camara', 'Toumani Camara', 'Toumani Camara', 'Toumani Camara', 'Toumani Camara', 'Toumani Camara', 'Toumani Camara', 'Toumani Camara', 'Toumani Camara', 'Toumani Camara']\n"
     ]
    },
    {
     "name": "stderr",
     "output_type": "stream",
     "text": [
      " 43%|████▎     | 219/510 [02:21<03:33,  1.36it/s]"
     ]
    },
    {
     "name": "stdout",
     "output_type": "stream",
     "text": [
      "['Justin Champagnie', 'Justin Champagnie', 'Justin Champagnie', 'Justin Champagnie', 'Justin Champagnie', 'Justin Champagnie', 'Justin Champagnie', 'Justin Champagnie', 'Justin Champagnie', 'Justin Champagnie']\n"
     ]
    },
    {
     "name": "stderr",
     "output_type": "stream",
     "text": [
      " 43%|████▎     | 220/510 [02:22<03:34,  1.35it/s]"
     ]
    },
    {
     "name": "stdout",
     "output_type": "stream",
     "text": [
      "['Mike Conley', 'Mike Conley', 'Mike Conley', 'Mike Conley', 'Mike Conley', 'Mike Conley', 'Mike Conley', 'Mike Conley', 'Mike Conley', 'Mike Conley']\n"
     ]
    },
    {
     "name": "stderr",
     "output_type": "stream",
     "text": [
      " 43%|████▎     | 221/510 [02:23<03:34,  1.35it/s]"
     ]
    },
    {
     "name": "stdout",
     "output_type": "stream",
     "text": [
      "['Isaiah Livers', 'Isaiah Livers', 'Isaiah Livers', 'Isaiah Livers', 'Isaiah Livers', 'Isaiah Livers', 'Isaiah Livers', 'Isaiah Livers', 'Isaiah Livers', 'Isaiah Livers']\n"
     ]
    },
    {
     "name": "stderr",
     "output_type": "stream",
     "text": [
      " 44%|████▎     | 222/510 [02:24<03:35,  1.34it/s]"
     ]
    },
    {
     "name": "stdout",
     "output_type": "stream",
     "text": [
      "['Grayson Allen', 'Grayson Allen', 'Grayson Allen', 'Grayson Allen', 'Grayson Allen', 'Grayson Allen', 'Grayson Allen', 'Grayson Allen', 'Grayson Allen', 'Grayson Allen']\n"
     ]
    },
    {
     "name": "stderr",
     "output_type": "stream",
     "text": [
      " 44%|████▎     | 223/510 [02:25<03:44,  1.28it/s]"
     ]
    },
    {
     "name": "stdout",
     "output_type": "stream",
     "text": [
      "['Santi Aldama', 'Santi Aldama', 'Santi Aldama', 'Santi Aldama', 'Santi Aldama', 'Santi Aldama', 'Santi Aldama', 'Santi Aldama', 'Santi Aldama', 'Santi Aldama']\n"
     ]
    },
    {
     "name": "stderr",
     "output_type": "stream",
     "text": [
      " 44%|████▍     | 224/510 [02:25<03:35,  1.33it/s]"
     ]
    },
    {
     "name": "stdout",
     "output_type": "stream",
     "text": [
      "[\"De'Anthony Melton\", \"De'Anthony Melton\", \"De'Anthony Melton\", \"De'Anthony Melton\", \"De'Anthony Melton\", \"De'Anthony Melton\", \"De'Anthony Melton\", \"De'Anthony Melton\", \"De'Anthony Melton\", \"De'Anthony Melton\"]\n"
     ]
    },
    {
     "name": "stderr",
     "output_type": "stream",
     "text": [
      " 44%|████▍     | 225/510 [02:26<03:24,  1.40it/s]"
     ]
    },
    {
     "name": "stdout",
     "output_type": "stream",
     "text": [
      "['Julian Strawther', 'Julian Strawther', 'Julian Strawther', 'Julian Strawther', 'Julian Strawther', 'Julian Strawther', 'Julian Strawther', 'Julian Strawther']\n"
     ]
    },
    {
     "name": "stderr",
     "output_type": "stream",
     "text": [
      " 44%|████▍     | 226/510 [02:27<04:08,  1.14it/s]"
     ]
    },
    {
     "name": "stdout",
     "output_type": "stream",
     "text": [
      "['Usman Garuba', 'Usman Garuba', 'Usman Garuba', 'Usman Garuba', 'Usman Garuba', 'Usman Garuba', 'Usman Garuba', 'Usman Garuba', 'Usman Garuba', 'Usman Garuba']\n"
     ]
    },
    {
     "name": "stderr",
     "output_type": "stream",
     "text": [
      " 45%|████▍     | 227/510 [02:28<03:55,  1.20it/s]"
     ]
    },
    {
     "name": "stdout",
     "output_type": "stream",
     "text": [
      "['Justin Holiday', 'Justin Holiday', 'Justin Holiday', 'Justin Holiday', 'Justin Holiday', 'Justin Holiday', 'Justin Holiday', 'Justin Holiday', 'Justin Holiday', 'Justin Holiday']\n"
     ]
    },
    {
     "name": "stderr",
     "output_type": "stream",
     "text": [
      " 45%|████▍     | 228/510 [02:29<03:56,  1.19it/s]"
     ]
    },
    {
     "name": "stdout",
     "output_type": "stream",
     "text": [
      "['Shake Milton', 'Shake Milton', 'Shake Milton', 'Shake Milton', 'Shake Milton', 'Shake Milton', 'Shake Milton', 'Shake Milton', 'Shake Milton', 'Shake Milton']\n"
     ]
    },
    {
     "name": "stderr",
     "output_type": "stream",
     "text": [
      " 45%|████▍     | 229/510 [02:30<04:00,  1.17it/s]"
     ]
    },
    {
     "name": "stdout",
     "output_type": "stream",
     "text": [
      "['Ryan Rollins', 'Ryan Rollins', 'Ryan Rollins', 'Ryan Rollins', 'Ryan Rollins', 'Ryan Rollins', 'Ryan Rollins', 'Ryan Rollins', 'Ryan Rollins', 'Ryan Rollins']\n"
     ]
    },
    {
     "name": "stderr",
     "output_type": "stream",
     "text": [
      " 45%|████▌     | 230/510 [02:30<03:59,  1.17it/s]"
     ]
    },
    {
     "name": "stdout",
     "output_type": "stream",
     "text": [
      "['Tyrese Maxey', 'Tyrese Maxey', 'Tyrese Maxey', 'Tyrese Maxey', 'Tyrese Maxey', 'Tyrese Maxey', 'Tyrese Maxey', 'Tyrese Maxey', 'Tyrese Maxey', 'Tyrese Maxey']\n"
     ]
    },
    {
     "name": "stderr",
     "output_type": "stream",
     "text": [
      " 45%|████▌     | 231/510 [02:31<03:40,  1.27it/s]"
     ]
    },
    {
     "name": "stdout",
     "output_type": "stream",
     "text": [
      "['Jeff Green', 'Jeff Green', 'Jeff Green', 'Jeff Green', 'Jeff Green', 'Jeff Green', 'Jeff Green', 'Jeff Green', 'Jeff Green', 'Jeff Green']\n"
     ]
    },
    {
     "name": "stderr",
     "output_type": "stream",
     "text": [
      " 45%|████▌     | 232/510 [02:32<03:24,  1.36it/s]"
     ]
    },
    {
     "name": "stdout",
     "output_type": "stream",
     "text": [
      "[\"D'Angelo Russell\", \"D'Angelo Russell\", \"D'Angelo Russell\", \"D'Angelo Russell\", \"D'Angelo Russell\", \"D'Angelo Russell\", \"D'Angelo Russell\", \"D'Angelo Russell\", \"D'Angelo Russell\", \"D'Angelo Russell\"]\n"
     ]
    },
    {
     "name": "stderr",
     "output_type": "stream",
     "text": [
      " 46%|████▌     | 233/510 [02:32<03:22,  1.37it/s]"
     ]
    },
    {
     "name": "stdout",
     "output_type": "stream",
     "text": [
      "['Bennedict Mathurin', 'Bennedict Mathurin', 'Bennedict Mathurin', 'Bennedict Mathurin', 'Bennedict Mathurin', 'Bennedict Mathurin', 'Bennedict Mathurin', 'Bennedict Mathurin', 'Bennedict Mathurin', 'Bennedict Mathurin']\n"
     ]
    },
    {
     "name": "stderr",
     "output_type": "stream",
     "text": [
      " 46%|████▌     | 234/510 [02:33<03:13,  1.42it/s]"
     ]
    },
    {
     "name": "stdout",
     "output_type": "stream",
     "text": [
      "['Kris Dunn', 'Kris Dunn', 'Kris Dunn', 'Kris Dunn', 'Kris Dunn', 'Kris Dunn', 'Kris Dunn', 'Kris Dunn', 'Kris Dunn', 'Kris Dunn']\n"
     ]
    },
    {
     "name": "stderr",
     "output_type": "stream",
     "text": [
      " 46%|████▌     | 235/510 [02:34<03:19,  1.38it/s]"
     ]
    },
    {
     "name": "stdout",
     "output_type": "stream",
     "text": [
      "['Jayson Tatum', 'Jayson Tatum', 'Jayson Tatum', 'Jayson Tatum', 'Jayson Tatum', 'Jayson Tatum', 'Jayson Tatum', 'Jayson Tatum', 'Jayson Tatum', 'Jayson Tatum']\n"
     ]
    },
    {
     "name": "stderr",
     "output_type": "stream",
     "text": [
      " 46%|████▋     | 236/510 [02:35<03:24,  1.34it/s]"
     ]
    },
    {
     "name": "stdout",
     "output_type": "stream",
     "text": [
      "['Paul Reed, Jr.', 'Paul Reed, Jr.', 'Paul Reed, Jr.', 'Paul Reed, Jr.', 'Paul Reed, Jr.', 'Paul Reed, Jr.', 'Paul Reed, Jr.', 'Paul Reed, Jr.', 'Paul Reed, Jr.', 'Paul Reed, Jr.']\n"
     ]
    },
    {
     "name": "stderr",
     "output_type": "stream",
     "text": [
      " 46%|████▋     | 237/510 [02:35<03:21,  1.35it/s]"
     ]
    },
    {
     "name": "stdout",
     "output_type": "stream",
     "text": [
      "['OG Anunoby', 'OG Anunoby', 'OG Anunoby', 'OG Anunoby', 'OG Anunoby', 'OG Anunoby', 'OG Anunoby', 'OG Anunoby', 'OG Anunoby', 'OG Anunoby']\n"
     ]
    },
    {
     "name": "stderr",
     "output_type": "stream",
     "text": [
      " 47%|████▋     | 238/510 [02:36<03:50,  1.18it/s]"
     ]
    },
    {
     "name": "stdout",
     "output_type": "stream",
     "text": [
      "['Nickeil Alexander-Walker', 'Nickeil Alexander-Walker', 'Nickeil Alexander-Walker', 'Nickeil Alexander-Walker', 'Nickeil Alexander-Walker', 'Nickeil Alexander-Walker', 'Nickeil Alexander-Walker', 'Nickeil Alexander-Walker', 'Nickeil Alexander-Walker', 'Nickeil Alexander-Walker']\n"
     ]
    },
    {
     "name": "stderr",
     "output_type": "stream",
     "text": [
      " 47%|████▋     | 239/510 [02:37<03:50,  1.17it/s]"
     ]
    },
    {
     "name": "stdout",
     "output_type": "stream",
     "text": [
      "['Tre Mann', 'Tre Mann', 'Tre Mann', 'Tre Mann', 'Tre Mann', 'Tre Mann', 'Tre Mann', 'Tre Mann', 'Tre Mann', 'Tre Mann']\n"
     ]
    },
    {
     "name": "stderr",
     "output_type": "stream",
     "text": [
      " 47%|████▋     | 240/510 [02:38<03:39,  1.23it/s]"
     ]
    },
    {
     "name": "stdout",
     "output_type": "stream",
     "text": [
      "['Xavier Sneed', 'Xavier Sneed', 'Xavier Sneed', 'Xavier Sneed', 'Xavier Sneed', 'Xavier Sneed', 'Xavier Sneed', 'Xavier Sneed', 'Xavier Sneed', 'Xavier Sneed']\n"
     ]
    },
    {
     "name": "stderr",
     "output_type": "stream",
     "text": [
      " 47%|████▋     | 241/510 [02:39<03:43,  1.20it/s]"
     ]
    },
    {
     "name": "stdout",
     "output_type": "stream",
     "text": [
      "['Jarrett Allen', 'Jarrett Allen', 'Jarrett Allen', 'Jarrett Allen', 'Jarrett Allen', 'Jarrett Allen', 'Jarrett Allen', 'Jarrett Allen', 'Jarrett Allen', 'Jarrett Allen']\n"
     ]
    },
    {
     "name": "stderr",
     "output_type": "stream",
     "text": [
      " 47%|████▋     | 242/510 [02:40<03:53,  1.15it/s]"
     ]
    },
    {
     "name": "stdout",
     "output_type": "stream",
     "text": [
      "['Victor Oladipo', 'Victor Oladipo', 'Victor Oladipo', 'Victor Oladipo', 'Victor Oladipo', 'Victor Oladipo', 'Victor Oladipo', 'Victor Oladipo', 'Victor Oladipo', 'Victor Oladipo']\n"
     ]
    },
    {
     "name": "stderr",
     "output_type": "stream",
     "text": [
      " 48%|████▊     | 243/510 [02:41<03:40,  1.21it/s]"
     ]
    },
    {
     "name": "stdout",
     "output_type": "stream",
     "text": [
      "['Evan Mobley', 'Evan Mobley', 'Evan Mobley', 'Evan Mobley', 'Evan Mobley', 'Evan Mobley', 'Evan Mobley', 'Evan Mobley', 'Evan Mobley', 'Evan Mobley']\n"
     ]
    },
    {
     "name": "stderr",
     "output_type": "stream",
     "text": [
      " 48%|████▊     | 244/510 [02:41<03:30,  1.26it/s]"
     ]
    },
    {
     "name": "stdout",
     "output_type": "stream",
     "text": [
      "['Jett Howard', 'Jett Howard', 'Jett Howard', 'Jett Howard', 'Jett Howard', 'Jett Howard', 'Jett Howard', 'Jett Howard', 'Jett Howard', 'Jett Howard']\n"
     ]
    },
    {
     "name": "stderr",
     "output_type": "stream",
     "text": [
      "libpng warning: iCCP: known incorrect sRGB profile\n",
      " 48%|████▊     | 245/510 [02:42<03:24,  1.30it/s]"
     ]
    },
    {
     "name": "stdout",
     "output_type": "stream",
     "text": [
      "['Jericho Sims', 'Jericho Sims', 'Jericho Sims', 'Jericho Sims', 'Jericho Sims', 'Jericho Sims', 'Jericho Sims', 'Jericho Sims', 'Jericho Sims', 'Jericho Sims']\n"
     ]
    },
    {
     "name": "stderr",
     "output_type": "stream",
     "text": [
      " 48%|████▊     | 246/510 [02:43<03:07,  1.41it/s]"
     ]
    },
    {
     "name": "stdout",
     "output_type": "stream",
     "text": [
      "['Bobby Portis', 'Bobby Portis', 'Bobby Portis', 'Bobby Portis', 'Bobby Portis', 'Bobby Portis', 'Bobby Portis', 'Bobby Portis', 'Bobby Portis', 'Bobby Portis']\n"
     ]
    },
    {
     "name": "stderr",
     "output_type": "stream",
     "text": [
      " 48%|████▊     | 247/510 [02:43<02:38,  1.66it/s]"
     ]
    },
    {
     "name": "stdout",
     "output_type": "stream",
     "text": [
      "['Ibou Badji', 'Ibou Badji', 'Ibou Badji', 'Ibou Badji', 'Ibou Badji', 'Ibou Badji']\n"
     ]
    },
    {
     "name": "stderr",
     "output_type": "stream",
     "text": [
      " 49%|████▊     | 248/510 [02:44<02:50,  1.54it/s]"
     ]
    },
    {
     "name": "stdout",
     "output_type": "stream",
     "text": [
      "['Jonathan Isaac', 'Jonathan Isaac', 'Jonathan Isaac', 'Jonathan Isaac', 'Jonathan Isaac', 'Jonathan Isaac', 'Jonathan Isaac', 'Jonathan Isaac', 'Jonathan Isaac', 'Jonathan Isaac']\n"
     ]
    },
    {
     "name": "stderr",
     "output_type": "stream",
     "text": [
      " 49%|████▉     | 249/510 [02:45<03:17,  1.32it/s]"
     ]
    },
    {
     "name": "stdout",
     "output_type": "stream",
     "text": [
      "['Tre Jones', 'Tre Jones', 'Tre Jones', 'Tre Jones', 'Tre Jones', 'Tre Jones', 'Tre Jones', 'Tre Jones', 'Tre Jones', 'Tre Jones']\n"
     ]
    },
    {
     "name": "stderr",
     "output_type": "stream",
     "text": [
      " 49%|████▉     | 250/510 [02:45<03:15,  1.33it/s]"
     ]
    },
    {
     "name": "stdout",
     "output_type": "stream",
     "text": [
      "['Tari Eason', 'Tari Eason', 'Tari Eason', 'Tari Eason', 'Tari Eason', 'Tari Eason', 'Tari Eason', 'Tari Eason', 'Tari Eason', 'Tari Eason']\n"
     ]
    },
    {
     "name": "stderr",
     "output_type": "stream",
     "text": [
      " 49%|████▉     | 251/510 [02:46<03:12,  1.34it/s]"
     ]
    },
    {
     "name": "stdout",
     "output_type": "stream",
     "text": [
      "['DeMar DeRozan', 'DeMar DeRozan', 'DeMar DeRozan', 'DeMar DeRozan', 'DeMar DeRozan', 'DeMar DeRozan', 'DeMar DeRozan', 'DeMar DeRozan', 'DeMar DeRozan', 'DeMar DeRozan']\n"
     ]
    },
    {
     "name": "stderr",
     "output_type": "stream",
     "text": [
      " 49%|████▉     | 252/510 [02:47<03:25,  1.25it/s]"
     ]
    },
    {
     "name": "stdout",
     "output_type": "stream",
     "text": [
      "['Talen Horton-Tucker', 'Talen Horton-Tucker', 'Talen Horton-Tucker', 'Talen Horton-Tucker', 'Talen Horton-Tucker', 'Talen Horton-Tucker', 'Talen Horton-Tucker', 'Talen Horton-Tucker', 'Talen Horton-Tucker', 'Talen Horton-Tucker']\n"
     ]
    },
    {
     "name": "stderr",
     "output_type": "stream",
     "text": [
      " 50%|████▉     | 253/510 [02:48<03:04,  1.39it/s]"
     ]
    },
    {
     "name": "stdout",
     "output_type": "stream",
     "text": [
      "['Jeff Dowtin', 'Jeff Dowtin', 'Jeff Dowtin', 'Jeff Dowtin', 'Jeff Dowtin', 'Jeff Dowtin']\n"
     ]
    },
    {
     "name": "stderr",
     "output_type": "stream",
     "text": [
      " 50%|████▉     | 254/510 [02:48<03:04,  1.39it/s]"
     ]
    },
    {
     "name": "stdout",
     "output_type": "stream",
     "text": [
      "['Cam Reddish', 'Cam Reddish', 'Cam Reddish', 'Cam Reddish', 'Cam Reddish', 'Cam Reddish', 'Cam Reddish', 'Cam Reddish', 'Cam Reddish', 'Cam Reddish']\n"
     ]
    },
    {
     "name": "stderr",
     "output_type": "stream",
     "text": [
      " 50%|█████     | 255/510 [02:49<03:14,  1.31it/s]"
     ]
    },
    {
     "name": "stdout",
     "output_type": "stream",
     "text": [
      "[\"Sir'Jabari Rice\", \"Sir'Jabari Rice\", \"Sir'Jabari Rice\", \"Sir'Jabari Rice\", \"Sir'Jabari Rice\", \"Sir'Jabari Rice\"]\n"
     ]
    },
    {
     "name": "stderr",
     "output_type": "stream",
     "text": [
      " 50%|█████     | 256/510 [02:50<03:20,  1.27it/s]"
     ]
    },
    {
     "name": "stdout",
     "output_type": "stream",
     "text": [
      "['Mikal Bridges', 'Mikal Bridges', 'Mikal Bridges', 'Mikal Bridges', 'Mikal Bridges', 'Mikal Bridges', 'Mikal Bridges', 'Mikal Bridges', 'Mikal Bridges', 'Mikal Bridges']\n"
     ]
    },
    {
     "name": "stderr",
     "output_type": "stream",
     "text": [
      " 50%|█████     | 257/510 [02:51<03:19,  1.27it/s]"
     ]
    },
    {
     "name": "stdout",
     "output_type": "stream",
     "text": [
      "['Johnny Davis', 'Johnny Davis', 'Johnny Davis', 'Johnny Davis', 'Johnny Davis', 'Johnny Davis', 'Johnny Davis', 'Johnny Davis', 'Johnny Davis', 'Johnny Davis']\n"
     ]
    },
    {
     "name": "stderr",
     "output_type": "stream",
     "text": [
      " 51%|█████     | 258/510 [02:51<03:05,  1.36it/s]"
     ]
    },
    {
     "name": "stdout",
     "output_type": "stream",
     "text": [
      "['John Butler', 'John Butler', 'John Butler', 'John Butler', 'John Butler', 'John Butler', 'John Butler', 'John Butler', 'John Butler', 'John Butler']\n"
     ]
    },
    {
     "name": "stderr",
     "output_type": "stream",
     "text": [
      " 51%|█████     | 259/510 [02:52<02:57,  1.42it/s]"
     ]
    },
    {
     "name": "stdout",
     "output_type": "stream",
     "text": [
      "['Chris Duarte', 'Chris Duarte', 'Chris Duarte', 'Chris Duarte', 'Chris Duarte', 'Chris Duarte', 'Chris Duarte', 'Chris Duarte', 'Chris Duarte', 'Chris Duarte']\n"
     ]
    },
    {
     "name": "stderr",
     "output_type": "stream",
     "text": [
      " 51%|█████     | 260/510 [02:53<02:53,  1.44it/s]"
     ]
    },
    {
     "name": "stdout",
     "output_type": "stream",
     "text": [
      "['Monte Morris', 'Monte Morris', 'Monte Morris', 'Monte Morris', 'Monte Morris', 'Monte Morris', 'Monte Morris', 'Monte Morris', 'Monte Morris', 'Monte Morris']\n"
     ]
    },
    {
     "name": "stderr",
     "output_type": "stream",
     "text": [
      " 51%|█████     | 261/510 [02:53<02:38,  1.57it/s]"
     ]
    },
    {
     "name": "stdout",
     "output_type": "stream",
     "text": [
      "['Gradey Dick', 'Gradey Dick', 'Gradey Dick', 'Gradey Dick', 'Gradey Dick', 'Gradey Dick', 'Gradey Dick', 'Gradey Dick']\n"
     ]
    },
    {
     "name": "stderr",
     "output_type": "stream",
     "text": [
      " 51%|█████▏    | 262/510 [02:54<02:45,  1.50it/s]"
     ]
    },
    {
     "name": "stdout",
     "output_type": "stream",
     "text": [
      "['C.J. McCollum', 'C.J. McCollum', 'C.J. McCollum', 'C.J. McCollum', 'C.J. McCollum', 'C.J. McCollum', 'C.J. McCollum', 'C.J. McCollum', 'C.J. McCollum', 'C.J. McCollum']\n"
     ]
    },
    {
     "name": "stderr",
     "output_type": "stream",
     "text": [
      " 52%|█████▏    | 263/510 [02:55<03:11,  1.29it/s]"
     ]
    },
    {
     "name": "stdout",
     "output_type": "stream",
     "text": [
      "['Miles Bridges', 'Miles Bridges', 'Miles Bridges', 'Miles Bridges', 'Miles Bridges', 'Miles Bridges', 'Miles Bridges', 'Miles Bridges', 'Miles Bridges', 'Miles Bridges']\n"
     ]
    },
    {
     "name": "stderr",
     "output_type": "stream",
     "text": [
      " 52%|█████▏    | 264/510 [02:56<03:25,  1.20it/s]"
     ]
    },
    {
     "name": "stdout",
     "output_type": "stream",
     "text": [
      "['Wendell Carter, Jr.', 'Wendell Carter, Jr.', 'Wendell Carter, Jr.', 'Wendell Carter, Jr.', 'Wendell Carter, Jr.', 'Wendell Carter, Jr.', 'Wendell Carter, Jr.', 'Wendell Carter, Jr.', 'Wendell Carter, Jr.', 'Wendell Carter, Jr.']\n"
     ]
    },
    {
     "name": "stderr",
     "output_type": "stream",
     "text": [
      " 52%|█████▏    | 265/510 [02:57<03:09,  1.29it/s]"
     ]
    },
    {
     "name": "stdout",
     "output_type": "stream",
     "text": [
      "['Xavier Cooks', 'Xavier Cooks', 'Xavier Cooks', 'Xavier Cooks', 'Xavier Cooks', 'Xavier Cooks', 'Xavier Cooks', 'Xavier Cooks', 'Xavier Cooks', 'Xavier Cooks']\n"
     ]
    },
    {
     "name": "stderr",
     "output_type": "stream",
     "text": [
      " 52%|█████▏    | 266/510 [02:57<03:00,  1.35it/s]"
     ]
    },
    {
     "name": "stdout",
     "output_type": "stream",
     "text": [
      "['Deandre Ayton', 'Deandre Ayton', 'Deandre Ayton', 'Deandre Ayton', 'Deandre Ayton', 'Deandre Ayton', 'Deandre Ayton', 'Deandre Ayton', 'Deandre Ayton', 'Deandre Ayton']\n"
     ]
    },
    {
     "name": "stderr",
     "output_type": "stream",
     "text": [
      " 52%|█████▏    | 267/510 [02:58<03:29,  1.16it/s]"
     ]
    },
    {
     "name": "stdout",
     "output_type": "stream",
     "text": [
      "['Walker Kessler', 'Walker Kessler', 'Walker Kessler', 'Walker Kessler', 'Walker Kessler', 'Walker Kessler', 'Walker Kessler', 'Walker Kessler', 'Walker Kessler', 'Walker Kessler']\n"
     ]
    },
    {
     "name": "stderr",
     "output_type": "stream",
     "text": [
      " 53%|█████▎    | 268/510 [02:59<03:13,  1.25it/s]"
     ]
    },
    {
     "name": "stdout",
     "output_type": "stream",
     "text": [
      "['James Bouknight', 'James Bouknight', 'James Bouknight', 'James Bouknight', 'James Bouknight', 'James Bouknight', 'James Bouknight', 'James Bouknight', 'James Bouknight', 'James Bouknight']\n"
     ]
    },
    {
     "name": "stderr",
     "output_type": "stream",
     "text": [
      " 53%|█████▎    | 269/510 [03:00<03:01,  1.33it/s]"
     ]
    },
    {
     "name": "stdout",
     "output_type": "stream",
     "text": [
      "['Kevon Harris', 'Kevon Harris', 'Kevon Harris', 'Kevon Harris', 'Kevon Harris', 'Kevon Harris', 'Kevon Harris', 'Kevon Harris', 'Kevon Harris', 'Kevon Harris']\n"
     ]
    },
    {
     "name": "stderr",
     "output_type": "stream",
     "text": [
      " 53%|█████▎    | 270/510 [03:00<02:45,  1.45it/s]"
     ]
    },
    {
     "name": "stdout",
     "output_type": "stream",
     "text": [
      "['Johnny Juzang', 'Johnny Juzang', 'Johnny Juzang', 'Johnny Juzang', 'Johnny Juzang', 'Johnny Juzang', 'Johnny Juzang', 'Johnny Juzang', 'Johnny Juzang', 'Johnny Juzang']\n"
     ]
    },
    {
     "name": "stderr",
     "output_type": "stream",
     "text": [
      " 53%|█████▎    | 271/510 [03:01<02:58,  1.34it/s]"
     ]
    },
    {
     "name": "stdout",
     "output_type": "stream",
     "text": [
      "['Yuta Watanabe', 'Yuta Watanabe', 'Yuta Watanabe', 'Yuta Watanabe', 'Yuta Watanabe', 'Yuta Watanabe', 'Yuta Watanabe', 'Yuta Watanabe', 'Yuta Watanabe', 'Yuta Watanabe']\n"
     ]
    },
    {
     "name": "stderr",
     "output_type": "stream",
     "text": [
      " 53%|█████▎    | 272/510 [03:02<02:49,  1.41it/s]"
     ]
    },
    {
     "name": "stdout",
     "output_type": "stream",
     "text": [
      "['Colby Jones', 'Colby Jones', 'Colby Jones', 'Colby Jones', 'Colby Jones', 'Colby Jones', 'Colby Jones', 'Colby Jones', 'Colby Jones', 'Colby Jones']\n"
     ]
    },
    {
     "name": "stderr",
     "output_type": "stream",
     "text": [
      " 54%|█████▎    | 273/510 [03:02<02:43,  1.45it/s]"
     ]
    },
    {
     "name": "stdout",
     "output_type": "stream",
     "text": [
      "['Thaddeus Young', 'Thaddeus Young', 'Thaddeus Young', 'Thaddeus Young', 'Thaddeus Young', 'Thaddeus Young', 'Thaddeus Young', 'Thaddeus Young', 'Thaddeus Young', 'Thaddeus Young']\n"
     ]
    },
    {
     "name": "stderr",
     "output_type": "stream",
     "text": [
      " 54%|█████▎    | 274/510 [03:03<02:38,  1.49it/s]"
     ]
    },
    {
     "name": "stdout",
     "output_type": "stream",
     "text": [
      "['Caleb Martin', 'Caleb Martin', 'Caleb Martin', 'Caleb Martin', 'Caleb Martin', 'Caleb Martin']\n"
     ]
    },
    {
     "name": "stderr",
     "output_type": "stream",
     "text": [
      " 54%|█████▍    | 275/510 [03:04<02:30,  1.56it/s]"
     ]
    },
    {
     "name": "stdout",
     "output_type": "stream",
     "text": [
      "['T.J. McConnell', 'T.J. McConnell', 'T.J. McConnell', 'T.J. McConnell', 'T.J. McConnell', 'T.J. McConnell', 'T.J. McConnell', 'T.J. McConnell', 'T.J. McConnell', 'T.J. McConnell']\n"
     ]
    },
    {
     "name": "stderr",
     "output_type": "stream",
     "text": [
      " 54%|█████▍    | 276/510 [03:04<02:27,  1.59it/s]"
     ]
    },
    {
     "name": "stdout",
     "output_type": "stream",
     "text": [
      "['Cody Zeller', 'Cody Zeller', 'Cody Zeller', 'Cody Zeller', 'Cody Zeller', 'Cody Zeller', 'Cody Zeller', 'Cody Zeller', 'Cody Zeller', 'Cody Zeller']\n"
     ]
    },
    {
     "name": "stderr",
     "output_type": "stream",
     "text": [
      " 54%|█████▍    | 277/510 [03:05<02:34,  1.50it/s]"
     ]
    },
    {
     "name": "stdout",
     "output_type": "stream",
     "text": [
      "['Russell Westbrook', 'Russell Westbrook', 'Russell Westbrook', 'Russell Westbrook', 'Russell Westbrook', 'Russell Westbrook', 'Russell Westbrook', 'Russell Westbrook', 'Russell Westbrook', 'Russell Westbrook']\n"
     ]
    },
    {
     "name": "stderr",
     "output_type": "stream",
     "text": [
      " 55%|█████▍    | 278/510 [03:06<02:36,  1.48it/s]"
     ]
    },
    {
     "name": "stdout",
     "output_type": "stream",
     "text": [
      "['Joel Embiid', 'Joel Embiid', 'Joel Embiid', 'Joel Embiid', 'Joel Embiid', 'Joel Embiid', 'Joel Embiid', 'Joel Embiid', 'Joel Embiid', 'Joel Embiid']\n"
     ]
    },
    {
     "name": "stderr",
     "output_type": "stream",
     "text": [
      " 55%|█████▍    | 279/510 [03:07<02:58,  1.30it/s]"
     ]
    },
    {
     "name": "stdout",
     "output_type": "stream",
     "text": [
      "['Oshae Brissett', 'Oshae Brissett', 'Oshae Brissett', 'Oshae Brissett', 'Oshae Brissett', 'Oshae Brissett', 'Oshae Brissett', 'Oshae Brissett', 'Oshae Brissett', 'Oshae Brissett']\n"
     ]
    },
    {
     "name": "stderr",
     "output_type": "stream",
     "text": [
      " 55%|█████▍    | 280/510 [03:07<02:45,  1.39it/s]"
     ]
    },
    {
     "name": "stdout",
     "output_type": "stream",
     "text": [
      "['Nikola Vucevic', 'Nikola Vucevic', 'Nikola Vucevic', 'Nikola Vucevic', 'Nikola Vucevic', 'Nikola Vucevic', 'Nikola Vucevic', 'Nikola Vucevic', 'Nikola Vucevic', 'Nikola Vucevic']\n"
     ]
    },
    {
     "name": "stderr",
     "output_type": "stream",
     "text": [
      " 55%|█████▌    | 281/510 [03:08<02:35,  1.48it/s]"
     ]
    },
    {
     "name": "stdout",
     "output_type": "stream",
     "text": [
      "['James Wiseman', 'James Wiseman', 'James Wiseman', 'James Wiseman', 'James Wiseman', 'James Wiseman', 'James Wiseman', 'James Wiseman', 'James Wiseman', 'James Wiseman']\n"
     ]
    },
    {
     "name": "stderr",
     "output_type": "stream",
     "text": [
      " 55%|█████▌    | 282/510 [03:09<02:43,  1.40it/s]"
     ]
    },
    {
     "name": "stdout",
     "output_type": "stream",
     "text": [
      "['Onuralp Bitim', 'Onuralp Bitim', 'Onuralp Bitim', 'Onuralp Bitim', 'Onuralp Bitim', 'Onuralp Bitim', 'Onuralp Bitim']\n"
     ]
    },
    {
     "name": "stderr",
     "output_type": "stream",
     "text": [
      " 55%|█████▌    | 283/510 [03:09<02:35,  1.46it/s]"
     ]
    },
    {
     "name": "stdout",
     "output_type": "stream",
     "text": [
      "['Jalen Smith', 'Jalen Smith', 'Jalen Smith', 'Jalen Smith', 'Jalen Smith', 'Jalen Smith', 'Jalen Smith', 'Jalen Smith', 'Jalen Smith', 'Jalen Smith']\n"
     ]
    },
    {
     "name": "stderr",
     "output_type": "stream",
     "text": [
      " 56%|█████▌    | 284/510 [03:10<02:54,  1.29it/s]"
     ]
    },
    {
     "name": "stdout",
     "output_type": "stream",
     "text": [
      "['Paolo Banchero', 'Paolo Banchero', 'Paolo Banchero', 'Paolo Banchero', 'Paolo Banchero', 'Paolo Banchero', 'Paolo Banchero', 'Paolo Banchero', 'Paolo Banchero']\n"
     ]
    },
    {
     "name": "stderr",
     "output_type": "stream",
     "text": [
      " 56%|█████▌    | 285/510 [03:11<02:48,  1.33it/s]"
     ]
    },
    {
     "name": "stdout",
     "output_type": "stream",
     "text": [
      "['Brook Lopez', 'Brook Lopez', 'Brook Lopez', 'Brook Lopez', 'Brook Lopez', 'Brook Lopez', 'Brook Lopez', 'Brook Lopez', 'Brook Lopez', 'Brook Lopez']\n"
     ]
    },
    {
     "name": "stderr",
     "output_type": "stream",
     "text": [
      " 56%|█████▌    | 286/510 [03:12<02:49,  1.32it/s]"
     ]
    },
    {
     "name": "stdout",
     "output_type": "stream",
     "text": [
      "['Otto Porter', 'Otto Porter', 'Otto Porter', 'Otto Porter', 'Otto Porter', 'Otto Porter', 'Otto Porter', 'Otto Porter', 'Otto Porter', 'Otto Porter']\n"
     ]
    },
    {
     "name": "stderr",
     "output_type": "stream",
     "text": [
      " 56%|█████▋    | 287/510 [03:13<03:01,  1.23it/s]"
     ]
    },
    {
     "name": "stdout",
     "output_type": "stream",
     "text": [
      "['Xavier Tillman, Sr.', 'Xavier Tillman, Sr.', 'Xavier Tillman, Sr.', 'Xavier Tillman, Sr.', 'Xavier Tillman, Sr.', 'Xavier Tillman, Sr.', 'Xavier Tillman, Sr.', 'Xavier Tillman, Sr.', 'Xavier Tillman, Sr.', 'Xavier Tillman, Sr.']\n"
     ]
    },
    {
     "name": "stderr",
     "output_type": "stream",
     "text": [
      "libpng warning: iCCP: known incorrect sRGB profile\n",
      " 56%|█████▋    | 288/510 [03:13<02:44,  1.35it/s]"
     ]
    },
    {
     "name": "stdout",
     "output_type": "stream",
     "text": [
      "['Chris Paul', 'Chris Paul', 'Chris Paul', 'Chris Paul', 'Chris Paul', 'Chris Paul', 'Chris Paul', 'Chris Paul', 'Chris Paul', 'Chris Paul']\n"
     ]
    },
    {
     "name": "stderr",
     "output_type": "stream",
     "text": [
      " 57%|█████▋    | 289/510 [03:14<02:37,  1.41it/s]"
     ]
    },
    {
     "name": "stdout",
     "output_type": "stream",
     "text": [
      "['Bilal Coulibaly', 'Bilal Coulibaly', 'Bilal Coulibaly', 'Bilal Coulibaly', 'Bilal Coulibaly', 'Bilal Coulibaly', 'Bilal Coulibaly', 'Bilal Coulibaly', 'Bilal Coulibaly', 'Bilal Coulibaly']\n"
     ]
    },
    {
     "name": "stderr",
     "output_type": "stream",
     "text": [
      " 57%|█████▋    | 290/510 [03:15<02:41,  1.36it/s]"
     ]
    },
    {
     "name": "stdout",
     "output_type": "stream",
     "text": [
      "['Devin Vassell', 'Devin Vassell', 'Devin Vassell', 'Devin Vassell', 'Devin Vassell', 'Devin Vassell', 'Devin Vassell', 'Devin Vassell', 'Devin Vassell', 'Devin Vassell']\n"
     ]
    },
    {
     "name": "stderr",
     "output_type": "stream",
     "text": [
      " 57%|█████▋    | 291/510 [03:15<02:32,  1.44it/s]"
     ]
    },
    {
     "name": "stdout",
     "output_type": "stream",
     "text": [
      "['Jabari Walker', 'Jabari Walker', 'Jabari Walker', 'Jabari Walker', 'Jabari Walker', 'Jabari Walker', 'Jabari Walker', 'Jabari Walker', 'Jabari Walker', 'Jabari Walker']\n"
     ]
    },
    {
     "name": "stderr",
     "output_type": "stream",
     "text": [
      " 57%|█████▋    | 292/510 [03:16<02:27,  1.48it/s]"
     ]
    },
    {
     "name": "stdout",
     "output_type": "stream",
     "text": [
      "['Keon Johnson', 'Keon Johnson', 'Keon Johnson', 'Keon Johnson', 'Keon Johnson', 'Keon Johnson', 'Keon Johnson', 'Keon Johnson', 'Keon Johnson', 'Keon Johnson']\n"
     ]
    },
    {
     "name": "stderr",
     "output_type": "stream",
     "text": [
      " 57%|█████▋    | 293/510 [03:17<02:31,  1.43it/s]"
     ]
    },
    {
     "name": "stdout",
     "output_type": "stream",
     "text": [
      "['Jerami Grant', 'Jerami Grant', 'Jerami Grant', 'Jerami Grant', 'Jerami Grant', 'Jerami Grant', 'Jerami Grant', 'Jerami Grant', 'Jerami Grant', 'Jerami Grant']\n"
     ]
    },
    {
     "name": "stderr",
     "output_type": "stream",
     "text": [
      " 58%|█████▊    | 294/510 [03:18<02:39,  1.36it/s]"
     ]
    },
    {
     "name": "stdout",
     "output_type": "stream",
     "text": [
      "['Donovan Mitchell', 'Donovan Mitchell', 'Donovan Mitchell', 'Donovan Mitchell', 'Donovan Mitchell', 'Donovan Mitchell', 'Donovan Mitchell', 'Donovan Mitchell', 'Donovan Mitchell', 'Donovan Mitchell']\n"
     ]
    },
    {
     "name": "stderr",
     "output_type": "stream",
     "text": [
      " 58%|█████▊    | 295/510 [03:18<02:44,  1.31it/s]"
     ]
    },
    {
     "name": "stdout",
     "output_type": "stream",
     "text": [
      "['Kyrie Irving', 'Kyrie Irving', 'Kyrie Irving', 'Kyrie Irving', 'Kyrie Irving', 'Kyrie Irving', 'Kyrie Irving', 'Kyrie Irving', 'Kyrie Irving', 'Kyrie Irving']\n"
     ]
    },
    {
     "name": "stderr",
     "output_type": "stream",
     "text": [
      " 58%|█████▊    | 296/510 [03:19<02:34,  1.39it/s]"
     ]
    },
    {
     "name": "stdout",
     "output_type": "stream",
     "text": [
      "['Isaiah Mobley', 'Isaiah Mobley', 'Isaiah Mobley', 'Isaiah Mobley', 'Isaiah Mobley', 'Isaiah Mobley', 'Isaiah Mobley', 'Isaiah Mobley', 'Isaiah Mobley']\n"
     ]
    },
    {
     "name": "stderr",
     "output_type": "stream",
     "text": [
      " 58%|█████▊    | 297/510 [03:20<02:32,  1.40it/s]"
     ]
    },
    {
     "name": "stdout",
     "output_type": "stream",
     "text": [
      "['Obi Toppin', 'Obi Toppin', 'Obi Toppin', 'Obi Toppin', 'Obi Toppin', 'Obi Toppin', 'Obi Toppin', 'Obi Toppin', 'Obi Toppin', 'Obi Toppin']\n"
     ]
    },
    {
     "name": "stderr",
     "output_type": "stream",
     "text": [
      " 58%|█████▊    | 298/510 [03:21<02:47,  1.26it/s]"
     ]
    },
    {
     "name": "stdout",
     "output_type": "stream",
     "text": [
      "['Mouhamed Gueye', 'Mouhamed Gueye', 'Mouhamed Gueye', 'Mouhamed Gueye', 'Mouhamed Gueye', 'Mouhamed Gueye', 'Mouhamed Gueye', 'Mouhamed Gueye', 'Mouhamed Gueye', 'Mouhamed Gueye']\n"
     ]
    },
    {
     "name": "stderr",
     "output_type": "stream",
     "text": [
      " 59%|█████▊    | 299/510 [03:21<02:34,  1.37it/s]"
     ]
    },
    {
     "name": "stdout",
     "output_type": "stream",
     "text": [
      "['Bam Adebayo', 'Bam Adebayo', 'Bam Adebayo', 'Bam Adebayo', 'Bam Adebayo', 'Bam Adebayo', 'Bam Adebayo', 'Bam Adebayo', 'Bam Adebayo', 'Bam Adebayo']\n"
     ]
    },
    {
     "name": "stderr",
     "output_type": "stream",
     "text": [
      "libpng warning: iCCP: known incorrect sRGB profile\n",
      "libpng warning: iCCP: known incorrect sRGB profile\n",
      " 59%|█████▉    | 300/510 [03:22<02:20,  1.49it/s]"
     ]
    },
    {
     "name": "stdout",
     "output_type": "stream",
     "text": [
      "['Isaiah Wong', 'Isaiah Wong', 'Isaiah Wong', 'Isaiah Wong', 'Isaiah Wong', 'Isaiah Wong', 'Isaiah Wong']\n"
     ]
    },
    {
     "name": "stderr",
     "output_type": "stream",
     "text": [
      " 59%|█████▉    | 301/510 [03:22<02:17,  1.52it/s]"
     ]
    },
    {
     "name": "stdout",
     "output_type": "stream",
     "text": [
      "['Paul George', 'Paul George', 'Paul George', 'Paul George', 'Paul George', 'Paul George', 'Paul George', 'Paul George', 'Paul George', 'Paul George']\n"
     ]
    },
    {
     "name": "stderr",
     "output_type": "stream",
     "text": [
      " 59%|█████▉    | 302/510 [03:23<02:17,  1.52it/s]"
     ]
    },
    {
     "name": "stdout",
     "output_type": "stream",
     "text": [
      "['Moses Moody', 'Moses Moody', 'Moses Moody', 'Moses Moody', 'Moses Moody', 'Moses Moody', 'Moses Moody', 'Moses Moody', 'Moses Moody', 'Moses Moody']\n"
     ]
    },
    {
     "name": "stderr",
     "output_type": "stream",
     "text": [
      " 59%|█████▉    | 303/510 [03:24<02:13,  1.56it/s]"
     ]
    },
    {
     "name": "stdout",
     "output_type": "stream",
     "text": [
      "['Cameron Payne', 'Cameron Payne', 'Cameron Payne', 'Cameron Payne', 'Cameron Payne', 'Cameron Payne', 'Cameron Payne', 'Cameron Payne', 'Cameron Payne', 'Cameron Payne']\n"
     ]
    },
    {
     "name": "stderr",
     "output_type": "stream",
     "text": [
      " 60%|█████▉    | 304/510 [03:25<02:35,  1.33it/s]"
     ]
    },
    {
     "name": "stdout",
     "output_type": "stream",
     "text": [
      "['Davis Bertans', 'Davis Bertans', 'Davis Bertans', 'Davis Bertans', 'Davis Bertans', 'Davis Bertans', 'Davis Bertans', 'Davis Bertans', 'Davis Bertans', 'Davis Bertans']\n"
     ]
    },
    {
     "name": "stderr",
     "output_type": "stream",
     "text": [
      " 60%|█████▉    | 305/510 [03:25<02:29,  1.37it/s]"
     ]
    },
    {
     "name": "stdout",
     "output_type": "stream",
     "text": [
      "['Seth Curry', 'Seth Curry', 'Seth Curry', 'Seth Curry', 'Seth Curry', 'Seth Curry', 'Seth Curry', 'Seth Curry', 'Seth Curry', 'Seth Curry']\n"
     ]
    },
    {
     "name": "stderr",
     "output_type": "stream",
     "text": [
      " 60%|██████    | 306/510 [03:26<02:18,  1.48it/s]"
     ]
    },
    {
     "name": "stdout",
     "output_type": "stream",
     "text": [
      "['Isaiah Joe', 'Isaiah Joe', 'Isaiah Joe', 'Isaiah Joe', 'Isaiah Joe', 'Isaiah Joe', 'Isaiah Joe', 'Isaiah Joe', 'Isaiah Joe', 'Isaiah Joe']\n"
     ]
    },
    {
     "name": "stderr",
     "output_type": "stream",
     "text": [
      " 60%|██████    | 307/510 [03:27<02:17,  1.47it/s]"
     ]
    },
    {
     "name": "stdout",
     "output_type": "stream",
     "text": [
      "['Devin Booker', 'Devin Booker', 'Devin Booker', 'Devin Booker', 'Devin Booker', 'Devin Booker', 'Devin Booker', 'Devin Booker', 'Devin Booker', 'Devin Booker']\n"
     ]
    },
    {
     "name": "stderr",
     "output_type": "stream",
     "text": [
      " 60%|██████    | 308/510 [03:27<02:27,  1.37it/s]"
     ]
    },
    {
     "name": "stdout",
     "output_type": "stream",
     "text": [
      "['Joe Harris', 'Joe Harris', 'Joe Harris', 'Joe Harris', 'Joe Harris', 'Joe Harris', 'Joe Harris', 'Joe Harris', 'Joe Harris', 'Joe Harris']\n"
     ]
    },
    {
     "name": "stderr",
     "output_type": "stream",
     "text": [
      " 61%|██████    | 309/510 [03:28<02:40,  1.26it/s]"
     ]
    },
    {
     "name": "stdout",
     "output_type": "stream",
     "text": [
      "['Dalen Terry', 'Dalen Terry', 'Dalen Terry', 'Dalen Terry', 'Dalen Terry', 'Dalen Terry', 'Dalen Terry', 'Dalen Terry', 'Dalen Terry', 'Dalen Terry']\n"
     ]
    },
    {
     "name": "stderr",
     "output_type": "stream",
     "text": [
      " 61%|██████    | 310/510 [03:29<02:56,  1.13it/s]"
     ]
    },
    {
     "name": "stdout",
     "output_type": "stream",
     "text": [
      "['Sam Hauser', 'Sam Hauser', 'Sam Hauser', 'Sam Hauser', 'Sam Hauser', 'Sam Hauser', 'Sam Hauser', 'Sam Hauser', 'Sam Hauser', 'Sam Hauser']\n"
     ]
    },
    {
     "name": "stderr",
     "output_type": "stream",
     "text": [
      " 61%|██████    | 311/510 [03:30<02:30,  1.32it/s]"
     ]
    },
    {
     "name": "stdout",
     "output_type": "stream",
     "text": [
      "['Ben Sheppard', 'Ben Sheppard', 'Ben Sheppard', 'Ben Sheppard', 'Ben Sheppard']\n"
     ]
    },
    {
     "name": "stderr",
     "output_type": "stream",
     "text": [
      " 61%|██████    | 312/510 [03:31<02:38,  1.25it/s]"
     ]
    },
    {
     "name": "stdout",
     "output_type": "stream",
     "text": [
      "['Chet Holmgren', 'Chet Holmgren', 'Chet Holmgren', 'Chet Holmgren', 'Chet Holmgren', 'Chet Holmgren', 'Chet Holmgren', 'Chet Holmgren', 'Chet Holmgren', 'Chet Holmgren']\n"
     ]
    },
    {
     "name": "stderr",
     "output_type": "stream",
     "text": [
      " 61%|██████▏   | 313/510 [03:32<02:33,  1.28it/s]"
     ]
    },
    {
     "name": "stdout",
     "output_type": "stream",
     "text": [
      "['Karl-Anthony Towns', 'Karl-Anthony Towns', 'Karl-Anthony Towns', 'Karl-Anthony Towns', 'Karl-Anthony Towns', 'Karl-Anthony Towns', 'Karl-Anthony Towns', 'Karl-Anthony Towns', 'Karl-Anthony Towns', 'Karl-Anthony Towns']\n"
     ]
    },
    {
     "name": "stderr",
     "output_type": "stream",
     "text": [
      " 62%|██████▏   | 314/510 [03:32<02:19,  1.40it/s]"
     ]
    },
    {
     "name": "stdout",
     "output_type": "stream",
     "text": [
      "['J.T. Thor', 'J.T. Thor', 'J.T. Thor', 'J.T. Thor', 'J.T. Thor', 'J.T. Thor', 'J.T. Thor', 'J.T. Thor', 'J.T. Thor', 'J.T. Thor']\n"
     ]
    },
    {
     "name": "stderr",
     "output_type": "stream",
     "text": [
      " 62%|██████▏   | 315/510 [03:33<02:20,  1.39it/s]"
     ]
    },
    {
     "name": "stdout",
     "output_type": "stream",
     "text": [
      "['Isaiah Hartenstein', 'Isaiah Hartenstein', 'Isaiah Hartenstein', 'Isaiah Hartenstein', 'Isaiah Hartenstein', 'Isaiah Hartenstein', 'Isaiah Hartenstein', 'Isaiah Hartenstein', 'Isaiah Hartenstein', 'Isaiah Hartenstein']\n"
     ]
    },
    {
     "name": "stderr",
     "output_type": "stream",
     "text": [
      " 62%|██████▏   | 316/510 [03:34<02:18,  1.40it/s]"
     ]
    },
    {
     "name": "stdout",
     "output_type": "stream",
     "text": [
      "['Zach Collins', 'Zach Collins', 'Zach Collins', 'Zach Collins', 'Zach Collins', 'Zach Collins', 'Zach Collins', 'Zach Collins', 'Zach Collins', 'Zach Collins']\n"
     ]
    },
    {
     "name": "stderr",
     "output_type": "stream",
     "text": [
      " 62%|██████▏   | 317/510 [03:34<02:11,  1.47it/s]"
     ]
    },
    {
     "name": "stdout",
     "output_type": "stream",
     "text": [
      "['Jonathan Kuminga', 'Jonathan Kuminga', 'Jonathan Kuminga', 'Jonathan Kuminga', 'Jonathan Kuminga', 'Jonathan Kuminga', 'Jonathan Kuminga', 'Jonathan Kuminga', 'Jonathan Kuminga', 'Jonathan Kuminga']\n"
     ]
    },
    {
     "name": "stderr",
     "output_type": "stream",
     "text": [
      " 62%|██████▏   | 318/510 [03:35<02:09,  1.49it/s]"
     ]
    },
    {
     "name": "stdout",
     "output_type": "stream",
     "text": [
      "['Kyle Lowry', 'Kyle Lowry', 'Kyle Lowry', 'Kyle Lowry', 'Kyle Lowry', 'Kyle Lowry', 'Kyle Lowry', 'Kyle Lowry', 'Kyle Lowry', 'Kyle Lowry']\n"
     ]
    },
    {
     "name": "stderr",
     "output_type": "stream",
     "text": [
      " 63%|██████▎   | 319/510 [03:36<02:11,  1.45it/s]"
     ]
    },
    {
     "name": "stdout",
     "output_type": "stream",
     "text": [
      "['Michael Porter, Jr.', 'Michael Porter, Jr.', 'Michael Porter, Jr.', 'Michael Porter, Jr.', 'Michael Porter, Jr.', 'Michael Porter, Jr.', 'Michael Porter, Jr.', 'Michael Porter, Jr.', 'Michael Porter, Jr.', 'Michael Porter, Jr.']\n"
     ]
    },
    {
     "name": "stderr",
     "output_type": "stream",
     "text": [
      " 63%|██████▎   | 320/510 [03:36<02:13,  1.42it/s]"
     ]
    },
    {
     "name": "stdout",
     "output_type": "stream",
     "text": [
      "['Max Strus', 'Max Strus', 'Max Strus', 'Max Strus', 'Max Strus', 'Max Strus', 'Max Strus', 'Max Strus', 'Max Strus', 'Max Strus']\n"
     ]
    },
    {
     "name": "stderr",
     "output_type": "stream",
     "text": [
      " 63%|██████▎   | 321/510 [03:37<02:18,  1.37it/s]"
     ]
    },
    {
     "name": "stdout",
     "output_type": "stream",
     "text": [
      "['Keyontae Johnson', 'Keyontae Johnson', 'Keyontae Johnson', 'Keyontae Johnson', 'Keyontae Johnson', 'Keyontae Johnson', 'Keyontae Johnson', 'Keyontae Johnson']\n"
     ]
    },
    {
     "name": "stderr",
     "output_type": "stream",
     "text": [
      " 63%|██████▎   | 322/510 [03:38<02:20,  1.34it/s]"
     ]
    },
    {
     "name": "stdout",
     "output_type": "stream",
     "text": [
      "['Cason Wallace', 'Cason Wallace', 'Cason Wallace', 'Cason Wallace', 'Cason Wallace', 'Cason Wallace', 'Cason Wallace', 'Cason Wallace', 'Cason Wallace']\n"
     ]
    },
    {
     "name": "stderr",
     "output_type": "stream",
     "text": [
      " 63%|██████▎   | 323/510 [03:38<02:15,  1.38it/s]"
     ]
    },
    {
     "name": "stdout",
     "output_type": "stream",
     "text": [
      "['Scottie Barnes', 'Scottie Barnes', 'Scottie Barnes', 'Scottie Barnes', 'Scottie Barnes', 'Scottie Barnes', 'Scottie Barnes', 'Scottie Barnes', 'Scottie Barnes', 'Scottie Barnes']\n"
     ]
    },
    {
     "name": "stderr",
     "output_type": "stream",
     "text": [
      " 64%|██████▎   | 324/510 [03:39<02:05,  1.48it/s]"
     ]
    },
    {
     "name": "stdout",
     "output_type": "stream",
     "text": [
      "['Dominick Barlow', 'Dominick Barlow', 'Dominick Barlow', 'Dominick Barlow', 'Dominick Barlow', 'Dominick Barlow', 'Dominick Barlow', 'Dominick Barlow']\n"
     ]
    },
    {
     "name": "stderr",
     "output_type": "stream",
     "text": [
      " 64%|██████▎   | 325/510 [03:40<02:20,  1.31it/s]"
     ]
    },
    {
     "name": "stdout",
     "output_type": "stream",
     "text": [
      "['Nathan Knight', 'Nathan Knight', 'Nathan Knight', 'Nathan Knight', 'Nathan Knight', 'Nathan Knight', 'Nathan Knight', 'Nathan Knight', 'Nathan Knight', 'Nathan Knight']\n"
     ]
    },
    {
     "name": "stderr",
     "output_type": "stream",
     "text": [
      "libpng warning: iCCP: known incorrect sRGB profile\n",
      " 64%|██████▍   | 326/510 [03:41<02:09,  1.43it/s]"
     ]
    },
    {
     "name": "stdout",
     "output_type": "stream",
     "text": [
      "['Bradley Beal', 'Bradley Beal', 'Bradley Beal', 'Bradley Beal', 'Bradley Beal', 'Bradley Beal', 'Bradley Beal', 'Bradley Beal', 'Bradley Beal', 'Bradley Beal']\n"
     ]
    },
    {
     "name": "stderr",
     "output_type": "stream",
     "text": [
      " 64%|██████▍   | 327/510 [03:41<02:14,  1.36it/s]"
     ]
    },
    {
     "name": "stdout",
     "output_type": "stream",
     "text": [
      "['Luke Kennard', 'Luke Kennard', 'Luke Kennard', 'Luke Kennard', 'Luke Kennard', 'Luke Kennard', 'Luke Kennard', 'Luke Kennard']\n"
     ]
    },
    {
     "name": "stderr",
     "output_type": "stream",
     "text": [
      " 64%|██████▍   | 328/510 [03:42<02:22,  1.28it/s]"
     ]
    },
    {
     "name": "stdout",
     "output_type": "stream",
     "text": [
      "[\"De'Aaron Fox\", \"De'Aaron Fox\", \"De'Aaron Fox\", \"De'Aaron Fox\", \"De'Aaron Fox\", \"De'Aaron Fox\", \"De'Aaron Fox\", \"De'Aaron Fox\", \"De'Aaron Fox\", \"De'Aaron Fox\"]\n"
     ]
    },
    {
     "name": "stderr",
     "output_type": "stream",
     "text": [
      " 65%|██████▍   | 329/510 [03:43<02:18,  1.31it/s]"
     ]
    },
    {
     "name": "stdout",
     "output_type": "stream",
     "text": [
      "['Jay Scrubb', 'Jay Scrubb', 'Jay Scrubb', 'Jay Scrubb', 'Jay Scrubb', 'Jay Scrubb', 'Jay Scrubb', 'Jay Scrubb', 'Jay Scrubb']\n"
     ]
    },
    {
     "name": "stderr",
     "output_type": "stream",
     "text": [
      " 65%|██████▍   | 330/510 [03:44<02:20,  1.28it/s]"
     ]
    },
    {
     "name": "stdout",
     "output_type": "stream",
     "text": [
      "['Justin Lewis', 'Justin Lewis', 'Justin Lewis', 'Justin Lewis', 'Justin Lewis', 'Justin Lewis', 'Justin Lewis', 'Justin Lewis', 'Justin Lewis']\n"
     ]
    },
    {
     "name": "stderr",
     "output_type": "stream",
     "text": [
      " 65%|██████▍   | 331/510 [03:45<02:23,  1.25it/s]"
     ]
    },
    {
     "name": "stdout",
     "output_type": "stream",
     "text": [
      "['Isaiah Roby', 'Isaiah Roby', 'Isaiah Roby', 'Isaiah Roby', 'Isaiah Roby', 'Isaiah Roby', 'Isaiah Roby', 'Isaiah Roby', 'Isaiah Roby', 'Isaiah Roby']\n"
     ]
    },
    {
     "name": "stderr",
     "output_type": "stream",
     "text": [
      " 65%|██████▌   | 332/510 [03:46<02:25,  1.22it/s]"
     ]
    },
    {
     "name": "stdout",
     "output_type": "stream",
     "text": [
      "['Anthony Black', 'Anthony Black', 'Anthony Black', 'Anthony Black', 'Anthony Black', 'Anthony Black', 'Anthony Black', 'Anthony Black', 'Anthony Black', 'Anthony Black']\n"
     ]
    },
    {
     "name": "stderr",
     "output_type": "stream",
     "text": [
      " 65%|██████▌   | 333/510 [03:46<02:23,  1.23it/s]"
     ]
    },
    {
     "name": "stdout",
     "output_type": "stream",
     "text": [
      "['Pat Connaughton', 'Pat Connaughton', 'Pat Connaughton', 'Pat Connaughton', 'Pat Connaughton', 'Pat Connaughton', 'Pat Connaughton', 'Pat Connaughton', 'Pat Connaughton', 'Pat Connaughton']\n"
     ]
    },
    {
     "name": "stderr",
     "output_type": "stream",
     "text": [
      " 65%|██████▌   | 334/510 [03:47<02:22,  1.23it/s]"
     ]
    },
    {
     "name": "stdout",
     "output_type": "stream",
     "text": [
      "['Vlatko Cancar', 'Vlatko Cancar', 'Vlatko Cancar', 'Vlatko Cancar', 'Vlatko Cancar', 'Vlatko Cancar', 'Vlatko Cancar', 'Vlatko Cancar', 'Vlatko Cancar', 'Vlatko Cancar']\n"
     ]
    },
    {
     "name": "stderr",
     "output_type": "stream",
     "text": [
      " 66%|██████▌   | 335/510 [03:48<02:15,  1.29it/s]"
     ]
    },
    {
     "name": "stdout",
     "output_type": "stream",
     "text": [
      "['E.J. Liddell', 'E.J. Liddell', 'E.J. Liddell', 'E.J. Liddell', 'E.J. Liddell', 'E.J. Liddell', 'E.J. Liddell', 'E.J. Liddell', 'E.J. Liddell', 'E.J. Liddell']\n"
     ]
    },
    {
     "name": "stderr",
     "output_type": "stream",
     "text": [
      " 66%|██████▌   | 336/510 [03:49<02:32,  1.14it/s]"
     ]
    },
    {
     "name": "stdout",
     "output_type": "stream",
     "text": [
      "['Jaden Springer', 'Jaden Springer', 'Jaden Springer', 'Jaden Springer', 'Jaden Springer', 'Jaden Springer', 'Jaden Springer', 'Jaden Springer', 'Jaden Springer', 'Jaden Springer']\n"
     ]
    },
    {
     "name": "stderr",
     "output_type": "stream",
     "text": [
      " 66%|██████▌   | 337/510 [03:50<02:21,  1.22it/s]"
     ]
    },
    {
     "name": "stdout",
     "output_type": "stream",
     "text": [
      "['Dwight Powell', 'Dwight Powell', 'Dwight Powell', 'Dwight Powell', 'Dwight Powell', 'Dwight Powell', 'Dwight Powell', 'Dwight Powell', 'Dwight Powell', 'Dwight Powell']\n"
     ]
    },
    {
     "name": "stderr",
     "output_type": "stream",
     "text": [
      " 66%|██████▋   | 338/510 [03:50<02:10,  1.32it/s]"
     ]
    },
    {
     "name": "stdout",
     "output_type": "stream",
     "text": [
      "['Kevin Durant', 'Kevin Durant', 'Kevin Durant', 'Kevin Durant', 'Kevin Durant', 'Kevin Durant', 'Kevin Durant', 'Kevin Durant', 'Kevin Durant', 'Kevin Durant']\n"
     ]
    },
    {
     "name": "stderr",
     "output_type": "stream",
     "text": [
      " 66%|██████▋   | 339/510 [03:51<02:03,  1.38it/s]"
     ]
    },
    {
     "name": "stdout",
     "output_type": "stream",
     "text": [
      "['Ochai Agbaji', 'Ochai Agbaji', 'Ochai Agbaji', 'Ochai Agbaji', 'Ochai Agbaji', 'Ochai Agbaji', 'Ochai Agbaji', 'Ochai Agbaji', 'Ochai Agbaji', 'Ochai Agbaji']\n"
     ]
    },
    {
     "name": "stderr",
     "output_type": "stream",
     "text": [
      " 67%|██████▋   | 340/510 [03:51<01:49,  1.55it/s]"
     ]
    },
    {
     "name": "stdout",
     "output_type": "stream",
     "text": [
      "['Craig Porter, Jr.', 'Craig Porter, Jr.', 'Craig Porter, Jr.', 'Craig Porter, Jr.', 'Craig Porter, Jr.', 'Craig Porter, Jr.', 'Craig Porter, Jr.']\n"
     ]
    },
    {
     "name": "stderr",
     "output_type": "stream",
     "text": [
      " 67%|██████▋   | 341/510 [03:52<01:53,  1.49it/s]"
     ]
    },
    {
     "name": "stdout",
     "output_type": "stream",
     "text": [
      "['R.J. Barrett', 'R.J. Barrett', 'R.J. Barrett', 'R.J. Barrett', 'R.J. Barrett', 'R.J. Barrett', 'R.J. Barrett', 'R.J. Barrett', 'R.J. Barrett', 'R.J. Barrett']\n"
     ]
    },
    {
     "name": "stderr",
     "output_type": "stream",
     "text": [
      " 67%|██████▋   | 342/510 [03:53<01:58,  1.42it/s]"
     ]
    },
    {
     "name": "stdout",
     "output_type": "stream",
     "text": [
      "['Dillon Brooks', 'Dillon Brooks', 'Dillon Brooks', 'Dillon Brooks', 'Dillon Brooks', 'Dillon Brooks', 'Dillon Brooks', 'Dillon Brooks', 'Dillon Brooks', 'Dillon Brooks']\n"
     ]
    },
    {
     "name": "stderr",
     "output_type": "stream",
     "text": [
      " 67%|██████▋   | 343/510 [03:54<02:16,  1.23it/s]"
     ]
    },
    {
     "name": "stdout",
     "output_type": "stream",
     "text": [
      "['Myles Turner', 'Myles Turner', 'Myles Turner', 'Myles Turner', 'Myles Turner', 'Myles Turner', 'Myles Turner', 'Myles Turner', 'Myles Turner', 'Myles Turner']\n"
     ]
    },
    {
     "name": "stderr",
     "output_type": "stream",
     "text": [
      " 67%|██████▋   | 344/510 [03:55<02:04,  1.33it/s]"
     ]
    },
    {
     "name": "stdout",
     "output_type": "stream",
     "text": [
      "[\"Day'Ron Sharpe\", \"Day'Ron Sharpe\", \"Day'Ron Sharpe\", \"Day'Ron Sharpe\", \"Day'Ron Sharpe\", \"Day'Ron Sharpe\", \"Day'Ron Sharpe\", \"Day'Ron Sharpe\", \"Day'Ron Sharpe\", \"Day'Ron Sharpe\"]\n"
     ]
    },
    {
     "name": "stderr",
     "output_type": "stream",
     "text": [
      " 68%|██████▊   | 345/510 [03:55<02:01,  1.35it/s]"
     ]
    },
    {
     "name": "stdout",
     "output_type": "stream",
     "text": [
      "['LeBron James', 'LeBron James', 'LeBron James', 'LeBron James', 'LeBron James', 'LeBron James', 'LeBron James', 'LeBron James', 'LeBron James', 'LeBron James']\n"
     ]
    },
    {
     "name": "stderr",
     "output_type": "stream",
     "text": [
      " 68%|██████▊   | 346/510 [03:56<02:02,  1.34it/s]"
     ]
    },
    {
     "name": "stdout",
     "output_type": "stream",
     "text": [
      "['Jarace Walker', 'Jarace Walker', 'Jarace Walker', 'Jarace Walker', 'Jarace Walker', 'Jarace Walker', 'Jarace Walker', 'Jarace Walker', 'Jarace Walker']\n"
     ]
    },
    {
     "name": "stderr",
     "output_type": "stream",
     "text": [
      " 68%|██████▊   | 347/510 [03:57<01:58,  1.37it/s]"
     ]
    },
    {
     "name": "stdout",
     "output_type": "stream",
     "text": [
      "['Collin Gillespie', 'Collin Gillespie', 'Collin Gillespie', 'Collin Gillespie', 'Collin Gillespie', 'Collin Gillespie', 'Collin Gillespie', 'Collin Gillespie']\n"
     ]
    },
    {
     "name": "stderr",
     "output_type": "stream",
     "text": [
      " 68%|██████▊   | 348/510 [03:57<01:52,  1.44it/s]"
     ]
    },
    {
     "name": "stdout",
     "output_type": "stream",
     "text": [
      "['Bones Hyland', 'Bones Hyland', 'Bones Hyland', 'Bones Hyland', 'Bones Hyland', 'Bones Hyland', 'Bones Hyland', 'Bones Hyland', 'Bones Hyland', 'Bones Hyland']\n"
     ]
    },
    {
     "name": "stderr",
     "output_type": "stream",
     "text": [
      " 68%|██████▊   | 349/510 [03:58<01:52,  1.44it/s]"
     ]
    },
    {
     "name": "stdout",
     "output_type": "stream",
     "text": [
      "['Andrew Nembhard', 'Andrew Nembhard', 'Andrew Nembhard', 'Andrew Nembhard', 'Andrew Nembhard', 'Andrew Nembhard', 'Andrew Nembhard', 'Andrew Nembhard', 'Andrew Nembhard', 'Andrew Nembhard']\n"
     ]
    },
    {
     "name": "stderr",
     "output_type": "stream",
     "text": [
      " 69%|██████▊   | 350/510 [03:59<01:54,  1.40it/s]"
     ]
    },
    {
     "name": "stdout",
     "output_type": "stream",
     "text": [
      "['Shai Gilgeous-Alexander', 'Shai Gilgeous-Alexander', 'Shai Gilgeous-Alexander', 'Shai Gilgeous-Alexander', 'Shai Gilgeous-Alexander', 'Shai Gilgeous-Alexander', 'Shai Gilgeous-Alexander', 'Shai Gilgeous-Alexander', 'Shai Gilgeous-Alexander', 'Shai Gilgeous-Alexander']\n"
     ]
    },
    {
     "name": "stderr",
     "output_type": "stream",
     "text": [
      " 69%|██████▉   | 351/510 [04:00<01:56,  1.36it/s]"
     ]
    },
    {
     "name": "stdout",
     "output_type": "stream",
     "text": [
      "['Desmond Bane', 'Desmond Bane', 'Desmond Bane', 'Desmond Bane', 'Desmond Bane', 'Desmond Bane', 'Desmond Bane', 'Desmond Bane', 'Desmond Bane', 'Desmond Bane']\n"
     ]
    },
    {
     "name": "stderr",
     "output_type": "stream",
     "text": [
      " 69%|██████▉   | 352/510 [04:00<02:00,  1.31it/s]"
     ]
    },
    {
     "name": "stdout",
     "output_type": "stream",
     "text": [
      "['Armoni Brooks', 'Armoni Brooks', 'Armoni Brooks', 'Armoni Brooks', 'Armoni Brooks', 'Armoni Brooks', 'Armoni Brooks', 'Armoni Brooks']\n"
     ]
    },
    {
     "name": "stderr",
     "output_type": "stream",
     "text": [
      " 69%|██████▉   | 353/510 [04:01<01:57,  1.34it/s]"
     ]
    },
    {
     "name": "stdout",
     "output_type": "stream",
     "text": [
      "['Jaxson Hayes', 'Jaxson Hayes', 'Jaxson Hayes', 'Jaxson Hayes', 'Jaxson Hayes', 'Jaxson Hayes', 'Jaxson Hayes', 'Jaxson Hayes', 'Jaxson Hayes', 'Jaxson Hayes']\n"
     ]
    },
    {
     "name": "stderr",
     "output_type": "stream",
     "text": [
      " 69%|██████▉   | 354/510 [04:02<01:49,  1.42it/s]"
     ]
    },
    {
     "name": "stdout",
     "output_type": "stream",
     "text": [
      "['Simone Fontecchio', 'Simone Fontecchio', 'Simone Fontecchio', 'Simone Fontecchio', 'Simone Fontecchio', 'Simone Fontecchio', 'Simone Fontecchio', 'Simone Fontecchio', 'Simone Fontecchio', 'Simone Fontecchio']\n"
     ]
    },
    {
     "name": "stderr",
     "output_type": "stream",
     "text": [
      " 70%|██████▉   | 355/510 [04:02<01:47,  1.44it/s]"
     ]
    },
    {
     "name": "stdout",
     "output_type": "stream",
     "text": [
      "['Eugene Omoruyi', 'Eugene Omoruyi', 'Eugene Omoruyi', 'Eugene Omoruyi', 'Eugene Omoruyi', 'Eugene Omoruyi', 'Eugene Omoruyi', 'Eugene Omoruyi', 'Eugene Omoruyi', 'Eugene Omoruyi']\n"
     ]
    },
    {
     "name": "stderr",
     "output_type": "stream",
     "text": [
      " 70%|██████▉   | 356/510 [04:03<01:46,  1.45it/s]"
     ]
    },
    {
     "name": "stdout",
     "output_type": "stream",
     "text": [
      "['Ben Simmons', 'Ben Simmons', 'Ben Simmons', 'Ben Simmons', 'Ben Simmons', 'Ben Simmons', 'Ben Simmons', 'Ben Simmons', 'Ben Simmons', 'Ben Simmons']\n"
     ]
    },
    {
     "name": "stderr",
     "output_type": "stream",
     "text": [
      " 70%|███████   | 357/510 [04:04<02:04,  1.23it/s]"
     ]
    },
    {
     "name": "stdout",
     "output_type": "stream",
     "text": [
      "['Matisse Thybulle', 'Matisse Thybulle', 'Matisse Thybulle', 'Matisse Thybulle', 'Matisse Thybulle', 'Matisse Thybulle', 'Matisse Thybulle', 'Matisse Thybulle', 'Matisse Thybulle', 'Matisse Thybulle']\n"
     ]
    },
    {
     "name": "stderr",
     "output_type": "stream",
     "text": [
      " 70%|███████   | 358/510 [04:05<01:58,  1.28it/s]"
     ]
    },
    {
     "name": "stdout",
     "output_type": "stream",
     "text": [
      "['Evan Fournier', 'Evan Fournier', 'Evan Fournier', 'Evan Fournier', 'Evan Fournier', 'Evan Fournier', 'Evan Fournier', 'Evan Fournier', 'Evan Fournier', 'Evan Fournier']\n"
     ]
    },
    {
     "name": "stderr",
     "output_type": "stream",
     "text": [
      " 70%|███████   | 359/510 [04:06<01:55,  1.31it/s]"
     ]
    },
    {
     "name": "stdout",
     "output_type": "stream",
     "text": [
      "['Jaden McDaniels', 'Jaden McDaniels', 'Jaden McDaniels', 'Jaden McDaniels', 'Jaden McDaniels', 'Jaden McDaniels', 'Jaden McDaniels', 'Jaden McDaniels', 'Jaden McDaniels']\n"
     ]
    },
    {
     "name": "stderr",
     "output_type": "stream",
     "text": [
      " 71%|███████   | 360/510 [04:06<01:55,  1.30it/s]"
     ]
    },
    {
     "name": "stdout",
     "output_type": "stream",
     "text": [
      "['Amir Coffey', 'Amir Coffey', 'Amir Coffey', 'Amir Coffey', 'Amir Coffey', 'Amir Coffey', 'Amir Coffey', 'Amir Coffey', 'Amir Coffey', 'Amir Coffey']\n"
     ]
    },
    {
     "name": "stderr",
     "output_type": "stream",
     "text": [
      " 71%|███████   | 361/510 [04:07<01:45,  1.41it/s]"
     ]
    },
    {
     "name": "stdout",
     "output_type": "stream",
     "text": [
      "['Adama Sanogo', 'Adama Sanogo', 'Adama Sanogo', 'Adama Sanogo', 'Adama Sanogo', 'Adama Sanogo', 'Adama Sanogo', 'Adama Sanogo', 'Adama Sanogo', 'Adama Sanogo']\n"
     ]
    },
    {
     "name": "stderr",
     "output_type": "stream",
     "text": [
      " 71%|███████   | 362/510 [04:08<01:59,  1.24it/s]"
     ]
    },
    {
     "name": "stdout",
     "output_type": "stream",
     "text": [
      "['Wendell Moore, Jr.', 'Wendell Moore, Jr.', 'Wendell Moore, Jr.', 'Wendell Moore, Jr.', 'Wendell Moore, Jr.', 'Wendell Moore, Jr.', 'Wendell Moore, Jr.', 'Wendell Moore, Jr.']\n"
     ]
    },
    {
     "name": "stderr",
     "output_type": "stream",
     "text": [
      " 71%|███████   | 363/510 [04:09<01:50,  1.33it/s]"
     ]
    },
    {
     "name": "stdout",
     "output_type": "stream",
     "text": [
      "['Khris Middleton', 'Khris Middleton', 'Khris Middleton', 'Khris Middleton', 'Khris Middleton', 'Khris Middleton', 'Khris Middleton', 'Khris Middleton', 'Khris Middleton', 'Khris Middleton']\n"
     ]
    },
    {
     "name": "stderr",
     "output_type": "stream",
     "text": [
      " 71%|███████▏  | 364/510 [04:09<01:43,  1.40it/s]"
     ]
    },
    {
     "name": "stdout",
     "output_type": "stream",
     "text": [
      "['Dario Saric', 'Dario Saric', 'Dario Saric', 'Dario Saric', 'Dario Saric', 'Dario Saric', 'Dario Saric', 'Dario Saric', 'Dario Saric', 'Dario Saric']\n"
     ]
    },
    {
     "name": "stderr",
     "output_type": "stream",
     "text": [
      "libpng warning: iCCP: known incorrect sRGB profile\n",
      " 72%|███████▏  | 365/510 [04:10<01:42,  1.41it/s]"
     ]
    },
    {
     "name": "stdout",
     "output_type": "stream",
     "text": [
      "['Duane Washington, Jr.', 'Duane Washington, Jr.', 'Duane Washington, Jr.', 'Duane Washington, Jr.', 'Duane Washington, Jr.', 'Duane Washington, Jr.', 'Duane Washington, Jr.', 'Duane Washington, Jr.', 'Duane Washington, Jr.', 'Duane Washington, Jr.']\n"
     ]
    },
    {
     "name": "stderr",
     "output_type": "stream",
     "text": [
      " 72%|███████▏  | 366/510 [04:11<01:39,  1.45it/s]"
     ]
    },
    {
     "name": "stdout",
     "output_type": "stream",
     "text": [
      "['Mitchell Robinson', 'Mitchell Robinson', 'Mitchell Robinson', 'Mitchell Robinson', 'Mitchell Robinson', 'Mitchell Robinson', 'Mitchell Robinson', 'Mitchell Robinson', 'Mitchell Robinson', 'Mitchell Robinson']\n"
     ]
    },
    {
     "name": "stderr",
     "output_type": "stream",
     "text": [
      " 72%|███████▏  | 367/510 [04:11<01:33,  1.53it/s]"
     ]
    },
    {
     "name": "stdout",
     "output_type": "stream",
     "text": [
      "['Davion Mitchell', 'Davion Mitchell', 'Davion Mitchell', 'Davion Mitchell', 'Davion Mitchell', 'Davion Mitchell', 'Davion Mitchell', 'Davion Mitchell', 'Davion Mitchell', 'Davion Mitchell']\n"
     ]
    },
    {
     "name": "stderr",
     "output_type": "stream",
     "text": [
      " 72%|███████▏  | 368/510 [04:12<01:35,  1.49it/s]"
     ]
    },
    {
     "name": "stdout",
     "output_type": "stream",
     "text": [
      "['Kyle Anderson', 'Kyle Anderson', 'Kyle Anderson', 'Kyle Anderson', 'Kyle Anderson', 'Kyle Anderson', 'Kyle Anderson', 'Kyle Anderson', 'Kyle Anderson', 'Kyle Anderson']\n"
     ]
    },
    {
     "name": "stderr",
     "output_type": "stream",
     "text": [
      " 72%|███████▏  | 369/510 [04:12<01:30,  1.56it/s]"
     ]
    },
    {
     "name": "stdout",
     "output_type": "stream",
     "text": [
      "['Immanuel Quickley', 'Immanuel Quickley', 'Immanuel Quickley', 'Immanuel Quickley', 'Immanuel Quickley', 'Immanuel Quickley', 'Immanuel Quickley', 'Immanuel Quickley', 'Immanuel Quickley', 'Immanuel Quickley']\n"
     ]
    },
    {
     "name": "stderr",
     "output_type": "stream",
     "text": [
      " 73%|███████▎  | 370/510 [04:13<01:48,  1.29it/s]"
     ]
    },
    {
     "name": "stdout",
     "output_type": "stream",
     "text": [
      "['Noah Clowney', 'Noah Clowney', 'Noah Clowney', 'Noah Clowney', 'Noah Clowney', 'Noah Clowney', 'Noah Clowney', 'Noah Clowney', 'Noah Clowney', 'Noah Clowney']\n"
     ]
    },
    {
     "name": "stderr",
     "output_type": "stream",
     "text": [
      " 73%|███████▎  | 371/510 [04:14<01:44,  1.33it/s]"
     ]
    },
    {
     "name": "stdout",
     "output_type": "stream",
     "text": [
      "['Grant Williams', 'Grant Williams', 'Grant Williams', 'Grant Williams', 'Grant Williams', 'Grant Williams', 'Grant Williams', 'Grant Williams', 'Grant Williams', 'Grant Williams']\n"
     ]
    },
    {
     "name": "stderr",
     "output_type": "stream",
     "text": [
      " 73%|███████▎  | 372/510 [04:15<01:39,  1.38it/s]"
     ]
    },
    {
     "name": "stdout",
     "output_type": "stream",
     "text": [
      "['Malachi Flynn', 'Malachi Flynn', 'Malachi Flynn', 'Malachi Flynn', 'Malachi Flynn', 'Malachi Flynn', 'Malachi Flynn', 'Malachi Flynn', 'Malachi Flynn', 'Malachi Flynn']\n"
     ]
    },
    {
     "name": "stderr",
     "output_type": "stream",
     "text": [
      " 73%|███████▎  | 373/510 [04:16<01:39,  1.38it/s]"
     ]
    },
    {
     "name": "stdout",
     "output_type": "stream",
     "text": [
      "['Sasha Vezenkov', 'Sasha Vezenkov', 'Sasha Vezenkov', 'Sasha Vezenkov', 'Sasha Vezenkov', 'Sasha Vezenkov', 'Sasha Vezenkov', 'Sasha Vezenkov', 'Sasha Vezenkov', 'Sasha Vezenkov']\n"
     ]
    },
    {
     "name": "stderr",
     "output_type": "stream",
     "text": [
      " 73%|███████▎  | 374/510 [04:16<01:43,  1.31it/s]"
     ]
    },
    {
     "name": "stdout",
     "output_type": "stream",
     "text": [
      "['Kira Lewis, Jr.', 'Kira Lewis, Jr.', 'Kira Lewis, Jr.', 'Kira Lewis, Jr.', 'Kira Lewis, Jr.', 'Kira Lewis, Jr.', 'Kira Lewis, Jr.', 'Kira Lewis, Jr.', 'Kira Lewis, Jr.', 'Kira Lewis, Jr.']\n"
     ]
    },
    {
     "name": "stderr",
     "output_type": "stream",
     "text": [
      " 74%|███████▎  | 375/510 [04:17<01:30,  1.50it/s]"
     ]
    },
    {
     "name": "stdout",
     "output_type": "stream",
     "text": [
      "['Jacob Toppin', 'Jacob Toppin', 'Jacob Toppin', 'Jacob Toppin', 'Jacob Toppin']\n"
     ]
    },
    {
     "name": "stderr",
     "output_type": "stream",
     "text": [
      " 74%|███████▎  | 376/510 [04:18<01:40,  1.33it/s]"
     ]
    },
    {
     "name": "stdout",
     "output_type": "stream",
     "text": [
      "['Moe Wagner', 'Moe Wagner', 'Moe Wagner', 'Moe Wagner', 'Moe Wagner', 'Moe Wagner', 'Moe Wagner', 'Moe Wagner', 'Moe Wagner', 'Moe Wagner']\n"
     ]
    },
    {
     "name": "stderr",
     "output_type": "stream",
     "text": [
      " 74%|███████▍  | 377/510 [04:19<01:39,  1.33it/s]"
     ]
    },
    {
     "name": "stdout",
     "output_type": "stream",
     "text": [
      "['Malcolm Cazalon', 'Malcolm Cazalon', 'Malcolm Cazalon', 'Malcolm Cazalon', 'Malcolm Cazalon', 'Malcolm Cazalon', 'Malcolm Cazalon', 'Malcolm Cazalon', 'Malcolm Cazalon', 'Malcolm Cazalon']\n"
     ]
    },
    {
     "name": "stderr",
     "output_type": "stream",
     "text": [
      " 74%|███████▍  | 378/510 [04:19<01:32,  1.43it/s]"
     ]
    },
    {
     "name": "stdout",
     "output_type": "stream",
     "text": [
      "['Jaime Jaquez, Jr.', 'Jaime Jaquez, Jr.', 'Jaime Jaquez, Jr.', 'Jaime Jaquez, Jr.', 'Jaime Jaquez, Jr.', 'Jaime Jaquez, Jr.', 'Jaime Jaquez, Jr.', 'Jaime Jaquez, Jr.', 'Jaime Jaquez, Jr.', 'Jaime Jaquez, Jr.']\n"
     ]
    },
    {
     "name": "stderr",
     "output_type": "stream",
     "text": [
      " 74%|███████▍  | 379/510 [04:20<01:27,  1.50it/s]"
     ]
    },
    {
     "name": "stdout",
     "output_type": "stream",
     "text": [
      "['K.J. Martin', 'K.J. Martin', 'K.J. Martin', 'K.J. Martin', 'K.J. Martin', 'K.J. Martin', 'K.J. Martin', 'K.J. Martin', 'K.J. Martin', 'K.J. Martin']\n"
     ]
    },
    {
     "name": "stderr",
     "output_type": "stream",
     "text": [
      " 75%|███████▍  | 380/510 [04:21<01:30,  1.44it/s]"
     ]
    },
    {
     "name": "stdout",
     "output_type": "stream",
     "text": [
      "['Kenrich Williams', 'Kenrich Williams', 'Kenrich Williams', 'Kenrich Williams', 'Kenrich Williams', 'Kenrich Williams', 'Kenrich Williams', 'Kenrich Williams', 'Kenrich Williams', 'Kenrich Williams']\n"
     ]
    },
    {
     "name": "stderr",
     "output_type": "stream",
     "text": [
      " 75%|███████▍  | 381/510 [04:21<01:39,  1.29it/s]"
     ]
    },
    {
     "name": "stdout",
     "output_type": "stream",
     "text": [
      "['Marcus Smart', 'Marcus Smart', 'Marcus Smart', 'Marcus Smart', 'Marcus Smart', 'Marcus Smart', 'Marcus Smart', 'Marcus Smart', 'Marcus Smart', 'Marcus Smart']\n"
     ]
    },
    {
     "name": "stderr",
     "output_type": "stream",
     "text": [
      " 75%|███████▍  | 382/510 [04:22<01:37,  1.31it/s]"
     ]
    },
    {
     "name": "stdout",
     "output_type": "stream",
     "text": [
      "['Ish Wainright', 'Ish Wainright', 'Ish Wainright', 'Ish Wainright', 'Ish Wainright', 'Ish Wainright', 'Ish Wainright', 'Ish Wainright', 'Ish Wainright', 'Ish Wainright']\n"
     ]
    },
    {
     "name": "stderr",
     "output_type": "stream",
     "text": [
      " 75%|███████▌  | 383/510 [04:23<01:37,  1.30it/s]"
     ]
    },
    {
     "name": "stdout",
     "output_type": "stream",
     "text": [
      "['Jordan Walsh', 'Jordan Walsh', 'Jordan Walsh', 'Jordan Walsh', 'Jordan Walsh', 'Jordan Walsh', 'Jordan Walsh', 'Jordan Walsh', 'Jordan Walsh', 'Jordan Walsh']\n"
     ]
    },
    {
     "name": "stderr",
     "output_type": "stream",
     "text": [
      " 75%|███████▌  | 384/510 [04:24<01:34,  1.33it/s]"
     ]
    },
    {
     "name": "stdout",
     "output_type": "stream",
     "text": [
      "['Jalen Green', 'Jalen Green', 'Jalen Green', 'Jalen Green', 'Jalen Green', 'Jalen Green', 'Jalen Green', 'Jalen Green', 'Jalen Green', 'Jalen Green']\n"
     ]
    },
    {
     "name": "stderr",
     "output_type": "stream",
     "text": [
      " 75%|███████▌  | 385/510 [04:24<01:22,  1.52it/s]"
     ]
    },
    {
     "name": "stdout",
     "output_type": "stream",
     "text": [
      "['Leaky Black', 'Leaky Black', 'Leaky Black', 'Leaky Black', 'Leaky Black', 'Leaky Black', 'Leaky Black']\n"
     ]
    },
    {
     "name": "stderr",
     "output_type": "stream",
     "text": [
      " 76%|███████▌  | 386/510 [04:25<01:18,  1.59it/s]"
     ]
    },
    {
     "name": "stdout",
     "output_type": "stream",
     "text": [
      "['Draymond Green', 'Draymond Green', 'Draymond Green', 'Draymond Green', 'Draymond Green', 'Draymond Green', 'Draymond Green', 'Draymond Green', 'Draymond Green', 'Draymond Green']\n"
     ]
    },
    {
     "name": "stderr",
     "output_type": "stream",
     "text": [
      " 76%|███████▌  | 387/510 [04:25<01:05,  1.88it/s]"
     ]
    },
    {
     "name": "stdout",
     "output_type": "stream",
     "text": [
      "['Jalen Slawson', 'Jalen Slawson', 'Jalen Slawson', 'Jalen Slawson', 'Jalen Slawson']\n"
     ]
    },
    {
     "name": "stderr",
     "output_type": "stream",
     "text": [
      " 76%|███████▌  | 388/510 [04:26<01:19,  1.53it/s]"
     ]
    },
    {
     "name": "stdout",
     "output_type": "stream",
     "text": [
      "['Dennis Smith', 'Dennis Smith', 'Dennis Smith', 'Dennis Smith', 'Dennis Smith', 'Dennis Smith', 'Dennis Smith', 'Dennis Smith', 'Dennis Smith', 'Dennis Smith']\n"
     ]
    },
    {
     "name": "stderr",
     "output_type": "stream",
     "text": [
      " 76%|███████▋  | 389/510 [04:27<01:20,  1.51it/s]"
     ]
    },
    {
     "name": "stdout",
     "output_type": "stream",
     "text": [
      "['Buddy Hield', 'Buddy Hield', 'Buddy Hield', 'Buddy Hield', 'Buddy Hield', 'Buddy Hield', 'Buddy Hield', 'Buddy Hield', 'Buddy Hield', 'Buddy Hield']\n"
     ]
    },
    {
     "name": "stderr",
     "output_type": "stream",
     "text": [
      " 76%|███████▋  | 390/510 [04:27<01:18,  1.52it/s]"
     ]
    },
    {
     "name": "stdout",
     "output_type": "stream",
     "text": [
      "['Bruce Brown, Jr.', 'Bruce Brown, Jr.', 'Bruce Brown, Jr.', 'Bruce Brown, Jr.', 'Bruce Brown, Jr.', 'Bruce Brown, Jr.', 'Bruce Brown, Jr.', 'Bruce Brown, Jr.', 'Bruce Brown, Jr.', 'Bruce Brown, Jr.']\n"
     ]
    },
    {
     "name": "stderr",
     "output_type": "stream",
     "text": [
      " 77%|███████▋  | 391/510 [04:28<01:21,  1.46it/s]"
     ]
    },
    {
     "name": "stdout",
     "output_type": "stream",
     "text": [
      "['Daniel Gafford', 'Daniel Gafford', 'Daniel Gafford', 'Daniel Gafford', 'Daniel Gafford', 'Daniel Gafford', 'Daniel Gafford', 'Daniel Gafford', 'Daniel Gafford', 'Daniel Gafford']\n"
     ]
    },
    {
     "name": "stderr",
     "output_type": "stream",
     "text": [
      " 77%|███████▋  | 392/510 [04:29<01:15,  1.55it/s]"
     ]
    },
    {
     "name": "stdout",
     "output_type": "stream",
     "text": [
      "['Andre Drummond', 'Andre Drummond', 'Andre Drummond', 'Andre Drummond', 'Andre Drummond', 'Andre Drummond', 'Andre Drummond', 'Andre Drummond', 'Andre Drummond', 'Andre Drummond']\n"
     ]
    },
    {
     "name": "stderr",
     "output_type": "stream",
     "text": [
      " 77%|███████▋  | 393/510 [04:29<01:20,  1.46it/s]"
     ]
    },
    {
     "name": "stdout",
     "output_type": "stream",
     "text": [
      "['Jordan Nwora', 'Jordan Nwora', 'Jordan Nwora', 'Jordan Nwora', 'Jordan Nwora', 'Jordan Nwora', 'Jordan Nwora', 'Jordan Nwora', 'Jordan Nwora', 'Jordan Nwora']\n"
     ]
    },
    {
     "name": "stderr",
     "output_type": "stream",
     "text": [
      " 77%|███████▋  | 394/510 [04:30<01:16,  1.51it/s]"
     ]
    },
    {
     "name": "stdout",
     "output_type": "stream",
     "text": [
      "['Derrick Rose', 'Derrick Rose', 'Derrick Rose', 'Derrick Rose', 'Derrick Rose', 'Derrick Rose', 'Derrick Rose', 'Derrick Rose', 'Derrick Rose', 'Derrick Rose']\n"
     ]
    },
    {
     "name": "stderr",
     "output_type": "stream",
     "text": [
      " 77%|███████▋  | 395/510 [04:30<01:08,  1.67it/s]"
     ]
    },
    {
     "name": "stdout",
     "output_type": "stream",
     "text": [
      "['Blake Wesley', 'Blake Wesley', 'Blake Wesley', 'Blake Wesley', 'Blake Wesley', 'Blake Wesley']\n"
     ]
    },
    {
     "name": "stderr",
     "output_type": "stream",
     "text": [
      " 78%|███████▊  | 396/510 [04:31<01:13,  1.55it/s]"
     ]
    },
    {
     "name": "stdout",
     "output_type": "stream",
     "text": [
      "['Bogdan Bogdanovic', 'Bogdan Bogdanovic', 'Bogdan Bogdanovic', 'Bogdan Bogdanovic', 'Bogdan Bogdanovic', 'Bogdan Bogdanovic', 'Bogdan Bogdanovic', 'Bogdan Bogdanovic', 'Bogdan Bogdanovic', 'Bogdan Bogdanovic']\n"
     ]
    },
    {
     "name": "stderr",
     "output_type": "stream",
     "text": [
      " 78%|███████▊  | 397/510 [04:32<01:31,  1.23it/s]"
     ]
    },
    {
     "name": "stdout",
     "output_type": "stream",
     "text": [
      "['Marcus Sasser', 'Marcus Sasser', 'Marcus Sasser', 'Marcus Sasser', 'Marcus Sasser', 'Marcus Sasser', 'Marcus Sasser', 'Marcus Sasser', 'Marcus Sasser', 'Marcus Sasser']\n"
     ]
    },
    {
     "name": "stderr",
     "output_type": "stream",
     "text": [
      "libpng warning: iCCP: known incorrect sRGB profile\n",
      " 78%|███████▊  | 398/510 [04:33<01:17,  1.44it/s]"
     ]
    },
    {
     "name": "stdout",
     "output_type": "stream",
     "text": [
      "['Ausar Thompson', 'Ausar Thompson', 'Ausar Thompson', 'Ausar Thompson', 'Ausar Thompson', 'Ausar Thompson']\n"
     ]
    },
    {
     "name": "stderr",
     "output_type": "stream",
     "text": [
      " 78%|███████▊  | 399/510 [04:34<01:21,  1.36it/s]"
     ]
    },
    {
     "name": "stdout",
     "output_type": "stream",
     "text": [
      "['Naz Reid', 'Naz Reid', 'Naz Reid', 'Naz Reid', 'Naz Reid', 'Naz Reid', 'Naz Reid', 'Naz Reid', 'Naz Reid', 'Naz Reid']\n"
     ]
    },
    {
     "name": "stderr",
     "output_type": "stream",
     "text": [
      " 78%|███████▊  | 400/510 [04:34<01:05,  1.69it/s]"
     ]
    },
    {
     "name": "stdout",
     "output_type": "stream",
     "text": [
      "['Amen Thompson', 'Amen Thompson', 'Amen Thompson', 'Amen Thompson']\n"
     ]
    },
    {
     "name": "stderr",
     "output_type": "stream",
     "text": [
      " 79%|███████▊  | 401/510 [04:35<01:11,  1.53it/s]"
     ]
    },
    {
     "name": "stdout",
     "output_type": "stream",
     "text": [
      "['Tyrese Haliburton', 'Tyrese Haliburton', 'Tyrese Haliburton', 'Tyrese Haliburton', 'Tyrese Haliburton', 'Tyrese Haliburton', 'Tyrese Haliburton', 'Tyrese Haliburton', 'Tyrese Haliburton', 'Tyrese Haliburton']\n"
     ]
    },
    {
     "name": "stderr",
     "output_type": "stream",
     "text": [
      " 79%|███████▉  | 402/510 [04:35<01:11,  1.50it/s]"
     ]
    },
    {
     "name": "stdout",
     "output_type": "stream",
     "text": [
      "['MarJon Beauchamp', 'MarJon Beauchamp', 'MarJon Beauchamp', 'MarJon Beauchamp', 'MarJon Beauchamp', 'MarJon Beauchamp', 'MarJon Beauchamp', 'MarJon Beauchamp', 'MarJon Beauchamp', 'MarJon Beauchamp']\n"
     ]
    },
    {
     "name": "stderr",
     "output_type": "stream",
     "text": [
      " 79%|███████▉  | 403/510 [04:36<01:10,  1.52it/s]"
     ]
    },
    {
     "name": "stdout",
     "output_type": "stream",
     "text": [
      "['Jaylen Clark', 'Jaylen Clark', 'Jaylen Clark', 'Jaylen Clark', 'Jaylen Clark', 'Jaylen Clark', 'Jaylen Clark', 'Jaylen Clark', 'Jaylen Clark', 'Jaylen Clark']\n"
     ]
    },
    {
     "name": "stderr",
     "output_type": "stream",
     "text": [
      " 79%|███████▉  | 404/510 [04:37<01:09,  1.54it/s]"
     ]
    },
    {
     "name": "stdout",
     "output_type": "stream",
     "text": [
      "['Corey Kispert', 'Corey Kispert', 'Corey Kispert', 'Corey Kispert', 'Corey Kispert', 'Corey Kispert', 'Corey Kispert', 'Corey Kispert', 'Corey Kispert', 'Corey Kispert']\n"
     ]
    },
    {
     "name": "stderr",
     "output_type": "stream",
     "text": [
      " 79%|███████▉  | 405/510 [04:37<01:13,  1.43it/s]"
     ]
    },
    {
     "name": "stdout",
     "output_type": "stream",
     "text": [
      "['Olivier-Maxence Prosper', 'Olivier-Maxence Prosper', 'Olivier-Maxence Prosper', 'Olivier-Maxence Prosper', 'Olivier-Maxence Prosper', 'Olivier-Maxence Prosper', 'Olivier-Maxence Prosper', 'Olivier-Maxence Prosper', 'Olivier-Maxence Prosper', 'Olivier-Maxence Prosper']\n"
     ]
    },
    {
     "name": "stderr",
     "output_type": "stream",
     "text": [
      " 80%|███████▉  | 406/510 [04:38<01:07,  1.53it/s]"
     ]
    },
    {
     "name": "stdout",
     "output_type": "stream",
     "text": [
      "['Dereck Lively II', 'Dereck Lively II', 'Dereck Lively II', 'Dereck Lively II', 'Dereck Lively II', 'Dereck Lively II', 'Dereck Lively II', 'Dereck Lively II', 'Dereck Lively II', 'Dereck Lively II']\n"
     ]
    },
    {
     "name": "stderr",
     "output_type": "stream",
     "text": [
      " 80%|███████▉  | 407/510 [04:39<01:14,  1.38it/s]"
     ]
    },
    {
     "name": "stdout",
     "output_type": "stream",
     "text": [
      "['Ousmane Dieng', 'Ousmane Dieng', 'Ousmane Dieng', 'Ousmane Dieng', 'Ousmane Dieng', 'Ousmane Dieng', 'Ousmane Dieng', 'Ousmane Dieng', 'Ousmane Dieng', 'Ousmane Dieng']\n"
     ]
    },
    {
     "name": "stderr",
     "output_type": "stream",
     "text": [
      " 80%|████████  | 408/510 [04:40<01:10,  1.44it/s]"
     ]
    },
    {
     "name": "stdout",
     "output_type": "stream",
     "text": [
      "['LaMelo Ball', 'LaMelo Ball', 'LaMelo Ball', 'LaMelo Ball', 'LaMelo Ball', 'LaMelo Ball', 'LaMelo Ball', 'LaMelo Ball', 'LaMelo Ball', 'LaMelo Ball']\n"
     ]
    },
    {
     "name": "stderr",
     "output_type": "stream",
     "text": [
      " 80%|████████  | 409/510 [04:40<01:10,  1.43it/s]"
     ]
    },
    {
     "name": "stdout",
     "output_type": "stream",
     "text": [
      "['Fred VanVleet', 'Fred VanVleet', 'Fred VanVleet', 'Fred VanVleet', 'Fred VanVleet', 'Fred VanVleet', 'Fred VanVleet', 'Fred VanVleet', 'Fred VanVleet', 'Fred VanVleet']\n"
     ]
    },
    {
     "name": "stderr",
     "output_type": "stream",
     "text": [
      " 80%|████████  | 410/510 [04:41<01:11,  1.40it/s]"
     ]
    },
    {
     "name": "stdout",
     "output_type": "stream",
     "text": [
      "['Furkan Korkmaz', 'Furkan Korkmaz', 'Furkan Korkmaz', 'Furkan Korkmaz', 'Furkan Korkmaz', 'Furkan Korkmaz', 'Furkan Korkmaz', 'Furkan Korkmaz', 'Furkan Korkmaz', 'Furkan Korkmaz']\n"
     ]
    },
    {
     "name": "stderr",
     "output_type": "stream",
     "text": [
      " 81%|████████  | 411/510 [04:42<01:07,  1.46it/s]"
     ]
    },
    {
     "name": "stdout",
     "output_type": "stream",
     "text": [
      "['Nicolas Batum', 'Nicolas Batum', 'Nicolas Batum', 'Nicolas Batum', 'Nicolas Batum', 'Nicolas Batum', 'Nicolas Batum', 'Nicolas Batum', 'Nicolas Batum', 'Nicolas Batum']\n"
     ]
    },
    {
     "name": "stderr",
     "output_type": "stream",
     "text": [
      " 81%|████████  | 412/510 [04:43<01:16,  1.27it/s]"
     ]
    },
    {
     "name": "stdout",
     "output_type": "stream",
     "text": [
      "['Eric Gordon', 'Eric Gordon', 'Eric Gordon', 'Eric Gordon', 'Eric Gordon', 'Eric Gordon', 'Eric Gordon', 'Eric Gordon', 'Eric Gordon', 'Eric Gordon']\n"
     ]
    },
    {
     "name": "stderr",
     "output_type": "stream",
     "text": [
      " 81%|████████  | 413/510 [04:43<01:15,  1.29it/s]"
     ]
    },
    {
     "name": "stdout",
     "output_type": "stream",
     "text": [
      "['Luka Garza', 'Luka Garza', 'Luka Garza', 'Luka Garza', 'Luka Garza', 'Luka Garza', 'Luka Garza', 'Luka Garza', 'Luka Garza', 'Luka Garza']\n"
     ]
    },
    {
     "name": "stderr",
     "output_type": "stream",
     "text": [
      " 81%|████████  | 414/510 [04:44<01:18,  1.22it/s]"
     ]
    },
    {
     "name": "stdout",
     "output_type": "stream",
     "text": [
      "['Maxwell Lewis', 'Maxwell Lewis', 'Maxwell Lewis', 'Maxwell Lewis', 'Maxwell Lewis', 'Maxwell Lewis', 'Maxwell Lewis', 'Maxwell Lewis', 'Maxwell Lewis', 'Maxwell Lewis']\n"
     ]
    },
    {
     "name": "stderr",
     "output_type": "stream",
     "text": [
      " 81%|████████▏ | 415/510 [04:45<01:20,  1.18it/s]"
     ]
    },
    {
     "name": "stdout",
     "output_type": "stream",
     "text": [
      "['Lauri Markkanen', 'Lauri Markkanen', 'Lauri Markkanen', 'Lauri Markkanen', 'Lauri Markkanen', 'Lauri Markkanen', 'Lauri Markkanen', 'Lauri Markkanen', 'Lauri Markkanen', 'Lauri Markkanen']\n"
     ]
    },
    {
     "name": "stderr",
     "output_type": "stream",
     "text": [
      " 82%|████████▏ | 416/510 [04:46<01:15,  1.24it/s]"
     ]
    },
    {
     "name": "stdout",
     "output_type": "stream",
     "text": [
      "['Jalen Duren', 'Jalen Duren', 'Jalen Duren', 'Jalen Duren', 'Jalen Duren', 'Jalen Duren', 'Jalen Duren', 'Jalen Duren', 'Jalen Duren', 'Jalen Duren']\n"
     ]
    },
    {
     "name": "stderr",
     "output_type": "stream",
     "text": [
      " 82%|████████▏ | 417/510 [04:47<01:12,  1.28it/s]"
     ]
    },
    {
     "name": "stdout",
     "output_type": "stream",
     "text": [
      "['Josh Richardson', 'Josh Richardson', 'Josh Richardson', 'Josh Richardson', 'Josh Richardson', 'Josh Richardson', 'Josh Richardson', 'Josh Richardson', 'Josh Richardson', 'Josh Richardson']\n"
     ]
    },
    {
     "name": "stderr",
     "output_type": "stream",
     "text": [
      " 82%|████████▏ | 418/510 [04:48<01:15,  1.22it/s]"
     ]
    },
    {
     "name": "stdout",
     "output_type": "stream",
     "text": [
      "['Dariq Whitehead', 'Dariq Whitehead', 'Dariq Whitehead', 'Dariq Whitehead', 'Dariq Whitehead', 'Dariq Whitehead', 'Dariq Whitehead', 'Dariq Whitehead', 'Dariq Whitehead', 'Dariq Whitehead']\n"
     ]
    },
    {
     "name": "stderr",
     "output_type": "stream",
     "text": [
      " 82%|████████▏ | 419/510 [04:48<01:12,  1.26it/s]"
     ]
    },
    {
     "name": "stdout",
     "output_type": "stream",
     "text": [
      "['Joe Ingles', 'Joe Ingles', 'Joe Ingles', 'Joe Ingles', 'Joe Ingles', 'Joe Ingles', 'Joe Ingles', 'Joe Ingles', 'Joe Ingles', 'Joe Ingles']\n"
     ]
    },
    {
     "name": "stderr",
     "output_type": "stream",
     "text": [
      " 82%|████████▏ | 420/510 [04:49<01:08,  1.31it/s]"
     ]
    },
    {
     "name": "stdout",
     "output_type": "stream",
     "text": [
      "['Zach LaVine', 'Zach LaVine', 'Zach LaVine', 'Zach LaVine', 'Zach LaVine', 'Zach LaVine', 'Zach LaVine', 'Zach LaVine', 'Zach LaVine', 'Zach LaVine']\n"
     ]
    },
    {
     "name": "stderr",
     "output_type": "stream",
     "text": [
      "libpng warning: iCCP: known incorrect sRGB profile\n",
      " 83%|████████▎ | 421/510 [04:50<01:10,  1.27it/s]"
     ]
    },
    {
     "name": "stdout",
     "output_type": "stream",
     "text": [
      "['Cameron Johnson', 'Cameron Johnson', 'Cameron Johnson', 'Cameron Johnson', 'Cameron Johnson', 'Cameron Johnson', 'Cameron Johnson', 'Cameron Johnson', 'Cameron Johnson', 'Cameron Johnson']\n"
     ]
    },
    {
     "name": "stderr",
     "output_type": "stream",
     "text": [
      " 83%|████████▎ | 422/510 [04:51<01:08,  1.28it/s]"
     ]
    },
    {
     "name": "stdout",
     "output_type": "stream",
     "text": [
      "['Chris Livingston', 'Chris Livingston', 'Chris Livingston', 'Chris Livingston', 'Chris Livingston', 'Chris Livingston', 'Chris Livingston', 'Chris Livingston', 'Chris Livingston', 'Chris Livingston']\n"
     ]
    },
    {
     "name": "stderr",
     "output_type": "stream",
     "text": [
      " 83%|████████▎ | 423/510 [04:51<01:11,  1.22it/s]"
     ]
    },
    {
     "name": "stdout",
     "output_type": "stream",
     "text": [
      "['Jalen Johnson', 'Jalen Johnson', 'Jalen Johnson', 'Jalen Johnson', 'Jalen Johnson', 'Jalen Johnson', 'Jalen Johnson', 'Jalen Johnson', 'Jalen Johnson', 'Jalen Johnson']\n"
     ]
    },
    {
     "name": "stderr",
     "output_type": "stream",
     "text": [
      " 83%|████████▎ | 424/510 [04:52<01:09,  1.24it/s]"
     ]
    },
    {
     "name": "stdout",
     "output_type": "stream",
     "text": [
      "['Charles Bassey', 'Charles Bassey', 'Charles Bassey', 'Charles Bassey', 'Charles Bassey', 'Charles Bassey', 'Charles Bassey', 'Charles Bassey', 'Charles Bassey', 'Charles Bassey']\n"
     ]
    },
    {
     "name": "stderr",
     "output_type": "stream",
     "text": [
      " 83%|████████▎ | 425/510 [04:53<01:07,  1.26it/s]"
     ]
    },
    {
     "name": "stdout",
     "output_type": "stream",
     "text": [
      "['Jose Alvarado', 'Jose Alvarado', 'Jose Alvarado', 'Jose Alvarado', 'Jose Alvarado', 'Jose Alvarado', 'Jose Alvarado', 'Jose Alvarado', 'Jose Alvarado', 'Jose Alvarado']\n"
     ]
    },
    {
     "name": "stderr",
     "output_type": "stream",
     "text": [
      " 84%|████████▎ | 426/510 [04:54<01:16,  1.09it/s]"
     ]
    },
    {
     "name": "stdout",
     "output_type": "stream",
     "text": [
      "['Vit Krejci', 'Vit Krejci', 'Vit Krejci', 'Vit Krejci', 'Vit Krejci', 'Vit Krejci', 'Vit Krejci', 'Vit Krejci', 'Vit Krejci', 'Vit Krejci']\n"
     ]
    },
    {
     "name": "stderr",
     "output_type": "stream",
     "text": [
      " 84%|████████▎ | 427/510 [04:55<01:13,  1.12it/s]"
     ]
    },
    {
     "name": "stdout",
     "output_type": "stream",
     "text": [
      "['Collin Sexton', 'Collin Sexton', 'Collin Sexton', 'Collin Sexton', 'Collin Sexton', 'Collin Sexton', 'Collin Sexton', 'Collin Sexton', 'Collin Sexton', 'Collin Sexton']\n"
     ]
    },
    {
     "name": "stderr",
     "output_type": "stream",
     "text": [
      " 84%|████████▍ | 428/510 [04:56<01:06,  1.24it/s]"
     ]
    },
    {
     "name": "stdout",
     "output_type": "stream",
     "text": [
      "['Darius Days', 'Darius Days', 'Darius Days', 'Darius Days', 'Darius Days', 'Darius Days', 'Darius Days']\n"
     ]
    },
    {
     "name": "stderr",
     "output_type": "stream",
     "text": [
      " 84%|████████▍ | 429/510 [04:57<01:09,  1.17it/s]"
     ]
    },
    {
     "name": "stdout",
     "output_type": "stream",
     "text": [
      "['Brandon Ingram', 'Brandon Ingram', 'Brandon Ingram', 'Brandon Ingram', 'Brandon Ingram', 'Brandon Ingram', 'Brandon Ingram', 'Brandon Ingram', 'Brandon Ingram', 'Brandon Ingram']\n"
     ]
    },
    {
     "name": "stderr",
     "output_type": "stream",
     "text": [
      " 84%|████████▍ | 430/510 [04:57<01:02,  1.27it/s]"
     ]
    },
    {
     "name": "stdout",
     "output_type": "stream",
     "text": [
      "['Steven Adams', 'Steven Adams', 'Steven Adams', 'Steven Adams', 'Steven Adams', 'Steven Adams', 'Steven Adams', 'Steven Adams', 'Steven Adams', 'Steven Adams']\n"
     ]
    },
    {
     "name": "stderr",
     "output_type": "stream",
     "text": [
      "libpng warning: iCCP: known incorrect sRGB profile\n",
      "libpng warning: iCCP: known incorrect sRGB profile\n",
      " 85%|████████▍ | 431/510 [04:58<01:01,  1.29it/s]"
     ]
    },
    {
     "name": "stdout",
     "output_type": "stream",
     "text": [
      "['Brice Sensabaugh', 'Brice Sensabaugh', 'Brice Sensabaugh', 'Brice Sensabaugh', 'Brice Sensabaugh', 'Brice Sensabaugh', 'Brice Sensabaugh', 'Brice Sensabaugh', 'Brice Sensabaugh', 'Brice Sensabaugh']\n"
     ]
    },
    {
     "name": "stderr",
     "output_type": "stream",
     "text": [
      " 85%|████████▍ | 432/510 [04:59<01:03,  1.23it/s]"
     ]
    },
    {
     "name": "stdout",
     "output_type": "stream",
     "text": [
      "['TyTy Washington, Jr.', 'TyTy Washington, Jr.', 'TyTy Washington, Jr.', 'TyTy Washington, Jr.', 'TyTy Washington, Jr.', 'TyTy Washington, Jr.', 'TyTy Washington, Jr.', 'TyTy Washington, Jr.', 'TyTy Washington, Jr.', 'TyTy Washington, Jr.']\n"
     ]
    },
    {
     "name": "stderr",
     "output_type": "stream",
     "text": [
      " 85%|████████▍ | 433/510 [05:00<01:09,  1.11it/s]"
     ]
    },
    {
     "name": "stdout",
     "output_type": "stream",
     "text": [
      "['Sandro Mamukelashvili', 'Sandro Mamukelashvili', 'Sandro Mamukelashvili', 'Sandro Mamukelashvili', 'Sandro Mamukelashvili', 'Sandro Mamukelashvili', 'Sandro Mamukelashvili', 'Sandro Mamukelashvili', 'Sandro Mamukelashvili', 'Sandro Mamukelashvili']\n"
     ]
    },
    {
     "name": "stderr",
     "output_type": "stream",
     "text": [
      " 85%|████████▌ | 434/510 [05:01<01:02,  1.22it/s]"
     ]
    },
    {
     "name": "stdout",
     "output_type": "stream",
     "text": [
      "['Killian Hayes', 'Killian Hayes', 'Killian Hayes', 'Killian Hayes', 'Killian Hayes', 'Killian Hayes', 'Killian Hayes', 'Killian Hayes', 'Killian Hayes', 'Killian Hayes']\n"
     ]
    },
    {
     "name": "stderr",
     "output_type": "stream",
     "text": [
      " 85%|████████▌ | 435/510 [05:01<00:57,  1.29it/s]"
     ]
    },
    {
     "name": "stdout",
     "output_type": "stream",
     "text": [
      "['Drew Eubanks', 'Drew Eubanks', 'Drew Eubanks', 'Drew Eubanks', 'Drew Eubanks', 'Drew Eubanks', 'Drew Eubanks', 'Drew Eubanks']\n"
     ]
    },
    {
     "name": "stderr",
     "output_type": "stream",
     "text": [
      " 85%|████████▌ | 436/510 [05:02<00:52,  1.40it/s]"
     ]
    },
    {
     "name": "stdout",
     "output_type": "stream",
     "text": [
      "['Alperen Sengun', 'Alperen Sengun', 'Alperen Sengun', 'Alperen Sengun', 'Alperen Sengun', 'Alperen Sengun', 'Alperen Sengun', 'Alperen Sengun', 'Alperen Sengun', 'Alperen Sengun']\n"
     ]
    },
    {
     "name": "stderr",
     "output_type": "stream",
     "text": [
      " 86%|████████▌ | 437/510 [05:03<00:56,  1.29it/s]"
     ]
    },
    {
     "name": "stdout",
     "output_type": "stream",
     "text": [
      "['Aaron Nesmith', 'Aaron Nesmith', 'Aaron Nesmith', 'Aaron Nesmith', 'Aaron Nesmith', 'Aaron Nesmith', 'Aaron Nesmith', 'Aaron Nesmith', 'Aaron Nesmith', 'Aaron Nesmith']\n"
     ]
    },
    {
     "name": "stderr",
     "output_type": "stream",
     "text": [
      " 86%|████████▌ | 438/510 [05:04<00:59,  1.22it/s]"
     ]
    },
    {
     "name": "stdout",
     "output_type": "stream",
     "text": [
      "['Vincent Williams, Jr.', 'Vincent Williams, Jr.', 'Vincent Williams, Jr.', 'Vincent Williams, Jr.', 'Vincent Williams, Jr.', 'Vincent Williams, Jr.', 'Vincent Williams, Jr.', 'Vincent Williams, Jr.', 'Vincent Williams, Jr.', 'Vincent Williams, Jr.']\n"
     ]
    },
    {
     "name": "stderr",
     "output_type": "stream",
     "text": [
      " 86%|████████▌ | 439/510 [05:05<00:56,  1.25it/s]"
     ]
    },
    {
     "name": "stdout",
     "output_type": "stream",
     "text": [
      "['Malcolm Brogdon', 'Malcolm Brogdon', 'Malcolm Brogdon', 'Malcolm Brogdon', 'Malcolm Brogdon', 'Malcolm Brogdon', 'Malcolm Brogdon', 'Malcolm Brogdon', 'Malcolm Brogdon', 'Malcolm Brogdon']\n"
     ]
    },
    {
     "name": "stderr",
     "output_type": "stream",
     "text": [
      " 86%|████████▋ | 440/510 [05:05<00:52,  1.34it/s]"
     ]
    },
    {
     "name": "stdout",
     "output_type": "stream",
     "text": [
      "['Rayan Rupert', 'Rayan Rupert', 'Rayan Rupert', 'Rayan Rupert', 'Rayan Rupert', 'Rayan Rupert', 'Rayan Rupert', 'Rayan Rupert', 'Rayan Rupert', 'Rayan Rupert']\n"
     ]
    },
    {
     "name": "stderr",
     "output_type": "stream",
     "text": [
      " 86%|████████▋ | 441/510 [05:06<00:55,  1.24it/s]"
     ]
    },
    {
     "name": "stdout",
     "output_type": "stream",
     "text": [
      "['Bruno Fernando', 'Bruno Fernando', 'Bruno Fernando', 'Bruno Fernando', 'Bruno Fernando', 'Bruno Fernando', 'Bruno Fernando', 'Bruno Fernando', 'Bruno Fernando', 'Bruno Fernando']\n"
     ]
    },
    {
     "name": "stderr",
     "output_type": "stream",
     "text": [
      " 87%|████████▋ | 442/510 [05:07<00:56,  1.20it/s]"
     ]
    },
    {
     "name": "stdout",
     "output_type": "stream",
     "text": [
      "['Malaki Branham', 'Malaki Branham', 'Malaki Branham', 'Malaki Branham', 'Malaki Branham', 'Malaki Branham', 'Malaki Branham', 'Malaki Branham', 'Malaki Branham', 'Malaki Branham']\n"
     ]
    },
    {
     "name": "stderr",
     "output_type": "stream",
     "text": [
      " 87%|████████▋ | 443/510 [05:08<00:53,  1.25it/s]"
     ]
    },
    {
     "name": "stdout",
     "output_type": "stream",
     "text": [
      "['John Konchar', 'John Konchar', 'John Konchar', 'John Konchar', 'John Konchar', 'John Konchar', 'John Konchar', 'John Konchar', 'John Konchar', 'John Konchar']\n"
     ]
    },
    {
     "name": "stderr",
     "output_type": "stream",
     "text": [
      " 87%|████████▋ | 444/510 [05:09<00:56,  1.16it/s]"
     ]
    },
    {
     "name": "stdout",
     "output_type": "stream",
     "text": [
      "['Terquavion Smith', 'Terquavion Smith', 'Terquavion Smith', 'Terquavion Smith', 'Terquavion Smith', 'Terquavion Smith', 'Terquavion Smith', 'Terquavion Smith', 'Terquavion Smith', 'Terquavion Smith']\n"
     ]
    },
    {
     "name": "stderr",
     "output_type": "stream",
     "text": [
      " 87%|████████▋ | 445/510 [05:10<00:56,  1.16it/s]"
     ]
    },
    {
     "name": "stdout",
     "output_type": "stream",
     "text": [
      "['Herb Jones', 'Herb Jones', 'Herb Jones', 'Herb Jones', 'Herb Jones', 'Herb Jones', 'Herb Jones', 'Herb Jones', 'Herb Jones', 'Herb Jones']\n"
     ]
    },
    {
     "name": "stderr",
     "output_type": "stream",
     "text": [
      " 87%|████████▋ | 446/510 [05:10<00:53,  1.19it/s]"
     ]
    },
    {
     "name": "stdout",
     "output_type": "stream",
     "text": [
      "['Mohamed Bamba', 'Mohamed Bamba', 'Mohamed Bamba', 'Mohamed Bamba', 'Mohamed Bamba', 'Mohamed Bamba', 'Mohamed Bamba', 'Mohamed Bamba', 'Mohamed Bamba', 'Mohamed Bamba']\n"
     ]
    },
    {
     "name": "stderr",
     "output_type": "stream",
     "text": [
      " 88%|████████▊ | 447/510 [05:11<00:57,  1.09it/s]"
     ]
    },
    {
     "name": "stdout",
     "output_type": "stream",
     "text": [
      "['Daniel Theis', 'Daniel Theis', 'Daniel Theis', 'Daniel Theis', 'Daniel Theis', 'Daniel Theis', 'Daniel Theis', 'Daniel Theis', 'Daniel Theis', 'Daniel Theis']\n"
     ]
    },
    {
     "name": "stderr",
     "output_type": "stream",
     "text": [
      " 88%|████████▊ | 448/510 [05:13<01:13,  1.19s/it]"
     ]
    },
    {
     "name": "stdout",
     "output_type": "stream",
     "text": [
      "['Oscar Tshiebwe', 'Oscar Tshiebwe', 'Oscar Tshiebwe', 'Oscar Tshiebwe', 'Oscar Tshiebwe', 'Oscar Tshiebwe', 'Oscar Tshiebwe', 'Oscar Tshiebwe', 'Oscar Tshiebwe', 'Oscar Tshiebwe']\n"
     ]
    },
    {
     "name": "stderr",
     "output_type": "stream",
     "text": [
      " 88%|████████▊ | 449/510 [05:14<01:10,  1.16s/it]"
     ]
    },
    {
     "name": "stdout",
     "output_type": "stream",
     "text": [
      "['Micah Potter', 'Micah Potter', 'Micah Potter', 'Micah Potter', 'Micah Potter', 'Micah Potter', 'Micah Potter', 'Micah Potter', 'Micah Potter', 'Micah Potter']\n"
     ]
    },
    {
     "name": "stderr",
     "output_type": "stream",
     "text": [
      " 88%|████████▊ | 450/510 [05:15<01:04,  1.07s/it]"
     ]
    },
    {
     "name": "stdout",
     "output_type": "stream",
     "text": [
      "['Miles Norris', 'Miles Norris', 'Miles Norris', 'Miles Norris', 'Miles Norris', 'Miles Norris', 'Miles Norris', 'Miles Norris']\n"
     ]
    },
    {
     "name": "stderr",
     "output_type": "stream",
     "text": [
      " 88%|████████▊ | 451/510 [05:16<00:55,  1.07it/s]"
     ]
    },
    {
     "name": "stdout",
     "output_type": "stream",
     "text": [
      "['Anfernee Simons', 'Anfernee Simons', 'Anfernee Simons', 'Anfernee Simons', 'Anfernee Simons', 'Anfernee Simons', 'Anfernee Simons', 'Anfernee Simons', 'Anfernee Simons', 'Anfernee Simons']\n"
     ]
    },
    {
     "name": "stderr",
     "output_type": "stream",
     "text": [
      " 89%|████████▊ | 452/510 [05:17<00:49,  1.17it/s]"
     ]
    },
    {
     "name": "stdout",
     "output_type": "stream",
     "text": [
      "['Chris Boucher', 'Chris Boucher', 'Chris Boucher', 'Chris Boucher', 'Chris Boucher', 'Chris Boucher', 'Chris Boucher', 'Chris Boucher', 'Chris Boucher', 'Chris Boucher']\n"
     ]
    },
    {
     "name": "stderr",
     "output_type": "stream",
     "text": [
      " 89%|████████▉ | 453/510 [05:18<00:52,  1.09it/s]"
     ]
    },
    {
     "name": "stdout",
     "output_type": "stream",
     "text": [
      "['Mark Williams', 'Mark Williams', 'Mark Williams', 'Mark Williams', 'Mark Williams', 'Mark Williams', 'Mark Williams', 'Mark Williams', 'Mark Williams', 'Mark Williams']\n"
     ]
    },
    {
     "name": "stderr",
     "output_type": "stream",
     "text": [
      " 89%|████████▉ | 454/510 [05:18<00:47,  1.19it/s]"
     ]
    },
    {
     "name": "stdout",
     "output_type": "stream",
     "text": [
      "['Jason Preston', 'Jason Preston', 'Jason Preston', 'Jason Preston', 'Jason Preston', 'Jason Preston', 'Jason Preston', 'Jason Preston', 'Jason Preston', 'Jason Preston']\n"
     ]
    },
    {
     "name": "stderr",
     "output_type": "stream",
     "text": [
      "libpng warning: iCCP: known incorrect sRGB profile\n",
      " 89%|████████▉ | 455/510 [05:19<00:42,  1.30it/s]"
     ]
    },
    {
     "name": "stdout",
     "output_type": "stream",
     "text": [
      "['Jock Landale', 'Jock Landale', 'Jock Landale', 'Jock Landale', 'Jock Landale', 'Jock Landale', 'Jock Landale', 'Jock Landale', 'Jock Landale', 'Jock Landale']\n"
     ]
    },
    {
     "name": "stderr",
     "output_type": "stream",
     "text": [
      " 89%|████████▉ | 456/510 [05:19<00:38,  1.40it/s]"
     ]
    },
    {
     "name": "stdout",
     "output_type": "stream",
     "text": [
      "['Pascal Siakam', 'Pascal Siakam', 'Pascal Siakam', 'Pascal Siakam', 'Pascal Siakam', 'Pascal Siakam', 'Pascal Siakam', 'Pascal Siakam', 'Pascal Siakam', 'Pascal Siakam']\n"
     ]
    },
    {
     "name": "stderr",
     "output_type": "stream",
     "text": [
      " 90%|████████▉ | 457/510 [05:20<00:39,  1.36it/s]"
     ]
    },
    {
     "name": "stdout",
     "output_type": "stream",
     "text": [
      "['Caleb Houstan', 'Caleb Houstan', 'Caleb Houstan', 'Caleb Houstan', 'Caleb Houstan', 'Caleb Houstan']\n"
     ]
    },
    {
     "name": "stderr",
     "output_type": "stream",
     "text": [
      " 90%|████████▉ | 458/510 [05:21<00:38,  1.35it/s]"
     ]
    },
    {
     "name": "stdout",
     "output_type": "stream",
     "text": [
      "['Caris LeVert', 'Caris LeVert', 'Caris LeVert', 'Caris LeVert', 'Caris LeVert', 'Caris LeVert', 'Caris LeVert', 'Caris LeVert', 'Caris LeVert']\n"
     ]
    },
    {
     "name": "stderr",
     "output_type": "stream",
     "text": [
      " 90%|█████████ | 459/510 [05:22<00:38,  1.32it/s]"
     ]
    },
    {
     "name": "stdout",
     "output_type": "stream",
     "text": [
      "['Nikola Jokic', 'Nikola Jokic', 'Nikola Jokic', 'Nikola Jokic', 'Nikola Jokic', 'Nikola Jokic', 'Nikola Jokic', 'Nikola Jokic', 'Nikola Jokic', 'Nikola Jokic']\n"
     ]
    },
    {
     "name": "stderr",
     "output_type": "stream",
     "text": [
      " 90%|█████████ | 460/510 [05:22<00:35,  1.41it/s]"
     ]
    },
    {
     "name": "stdout",
     "output_type": "stream",
     "text": [
      "['Kyle Kuzma', 'Kyle Kuzma', 'Kyle Kuzma', 'Kyle Kuzma', 'Kyle Kuzma', 'Kyle Kuzma', 'Kyle Kuzma', 'Kyle Kuzma', 'Kyle Kuzma', 'Kyle Kuzma']\n"
     ]
    },
    {
     "name": "stderr",
     "output_type": "stream",
     "text": [
      " 90%|█████████ | 461/510 [05:23<00:31,  1.57it/s]"
     ]
    },
    {
     "name": "stdout",
     "output_type": "stream",
     "text": [
      "['Jalen Hood-Schifino', 'Jalen Hood-Schifino', 'Jalen Hood-Schifino', 'Jalen Hood-Schifino', 'Jalen Hood-Schifino', 'Jalen Hood-Schifino', 'Jalen Hood-Schifino']\n"
     ]
    },
    {
     "name": "stderr",
     "output_type": "stream",
     "text": [
      " 91%|█████████ | 462/510 [05:23<00:25,  1.90it/s]"
     ]
    },
    {
     "name": "stdout",
     "output_type": "stream",
     "text": [
      "['Alex Fudge', 'Alex Fudge', 'Alex Fudge']\n"
     ]
    },
    {
     "name": "stderr",
     "output_type": "stream",
     "text": [
      " 91%|█████████ | 463/510 [05:24<00:26,  1.75it/s]"
     ]
    },
    {
     "name": "stdout",
     "output_type": "stream",
     "text": [
      "['Julian Phillips', 'Julian Phillips', 'Julian Phillips', 'Julian Phillips', 'Julian Phillips', 'Julian Phillips', 'Julian Phillips', 'Julian Phillips', 'Julian Phillips', 'Julian Phillips']\n"
     ]
    },
    {
     "name": "stderr",
     "output_type": "stream",
     "text": [
      " 91%|█████████ | 464/510 [05:24<00:27,  1.65it/s]"
     ]
    },
    {
     "name": "stdout",
     "output_type": "stream",
     "text": [
      "['Deni Avdija', 'Deni Avdija', 'Deni Avdija', 'Deni Avdija', 'Deni Avdija', 'Deni Avdija', 'Deni Avdija', 'Deni Avdija', 'Deni Avdija', 'Deni Avdija']\n"
     ]
    },
    {
     "name": "stderr",
     "output_type": "stream",
     "text": [
      " 91%|█████████ | 465/510 [05:25<00:28,  1.58it/s]"
     ]
    },
    {
     "name": "stdout",
     "output_type": "stream",
     "text": [
      "['Kevin Porter, Jr.', 'Kevin Porter, Jr.', 'Kevin Porter, Jr.', 'Kevin Porter, Jr.', 'Kevin Porter, Jr.', 'Kevin Porter, Jr.', 'Kevin Porter, Jr.', 'Kevin Porter, Jr.', 'Kevin Porter, Jr.', 'Kevin Porter, Jr.']\n"
     ]
    },
    {
     "name": "stderr",
     "output_type": "stream",
     "text": [
      " 91%|█████████▏| 466/510 [05:25<00:23,  1.85it/s]"
     ]
    },
    {
     "name": "stdout",
     "output_type": "stream",
     "text": [
      "['David Roddy', 'David Roddy', 'David Roddy', 'David Roddy']\n"
     ]
    },
    {
     "name": "stderr",
     "output_type": "stream",
     "text": [
      " 92%|█████████▏| 467/510 [05:26<00:26,  1.65it/s]"
     ]
    },
    {
     "name": "stdout",
     "output_type": "stream",
     "text": [
      "['Isaiah Todd', 'Isaiah Todd', 'Isaiah Todd', 'Isaiah Todd', 'Isaiah Todd', 'Isaiah Todd', 'Isaiah Todd', 'Isaiah Todd', 'Isaiah Todd', 'Isaiah Todd']\n"
     ]
    },
    {
     "name": "stderr",
     "output_type": "stream",
     "text": [
      " 92%|█████████▏| 468/510 [05:27<00:26,  1.59it/s]"
     ]
    },
    {
     "name": "stdout",
     "output_type": "stream",
     "text": [
      "['Jazian Gortman', 'Jazian Gortman', 'Jazian Gortman', 'Jazian Gortman', 'Jazian Gortman', 'Jazian Gortman', 'Jazian Gortman']\n"
     ]
    },
    {
     "name": "stderr",
     "output_type": "stream",
     "text": [
      " 92%|█████████▏| 469/510 [05:28<00:28,  1.44it/s]"
     ]
    },
    {
     "name": "stdout",
     "output_type": "stream",
     "text": [
      "['Donte DiVincenzo', 'Donte DiVincenzo', 'Donte DiVincenzo', 'Donte DiVincenzo', 'Donte DiVincenzo', 'Donte DiVincenzo', 'Donte DiVincenzo', 'Donte DiVincenzo', 'Donte DiVincenzo', 'Donte DiVincenzo']\n"
     ]
    },
    {
     "name": "stderr",
     "output_type": "stream",
     "text": [
      "libpng warning: iCCP: known incorrect sRGB profile\n",
      " 92%|█████████▏| 470/510 [05:28<00:26,  1.52it/s]"
     ]
    },
    {
     "name": "stdout",
     "output_type": "stream",
     "text": [
      "['Bol Bol', 'Bol Bol', 'Bol Bol', 'Bol Bol', 'Bol Bol', 'Bol Bol', 'Bol Bol', 'Bol Bol', 'Bol Bol', 'Bol Bol']\n"
     ]
    },
    {
     "name": "stderr",
     "output_type": "stream",
     "text": [
      " 92%|█████████▏| 471/510 [05:29<00:27,  1.42it/s]"
     ]
    },
    {
     "name": "stdout",
     "output_type": "stream",
     "text": [
      "['Christian Koloko', 'Christian Koloko', 'Christian Koloko', 'Christian Koloko', 'Christian Koloko', 'Christian Koloko', 'Christian Koloko', 'Christian Koloko', 'Christian Koloko', 'Christian Koloko']\n"
     ]
    },
    {
     "name": "stderr",
     "output_type": "stream",
     "text": [
      "libpng warning: iCCP: known incorrect sRGB profile\n",
      " 93%|█████████▎| 472/510 [05:30<00:31,  1.19it/s]"
     ]
    },
    {
     "name": "stdout",
     "output_type": "stream",
     "text": [
      "['Jaden Hardy', 'Jaden Hardy', 'Jaden Hardy', 'Jaden Hardy', 'Jaden Hardy', 'Jaden Hardy', 'Jaden Hardy', 'Jaden Hardy', 'Jaden Hardy', 'Jaden Hardy']\n"
     ]
    },
    {
     "name": "stderr",
     "output_type": "stream",
     "text": [
      " 93%|█████████▎| 473/510 [05:31<00:27,  1.35it/s]"
     ]
    },
    {
     "name": "stdout",
     "output_type": "stream",
     "text": [
      "['Colin Castleton', 'Colin Castleton', 'Colin Castleton', 'Colin Castleton', 'Colin Castleton', 'Colin Castleton', 'Colin Castleton', 'Colin Castleton']\n"
     ]
    },
    {
     "name": "stderr",
     "output_type": "stream",
     "text": [
      " 93%|█████████▎| 474/510 [05:32<00:28,  1.28it/s]"
     ]
    },
    {
     "name": "stdout",
     "output_type": "stream",
     "text": [
      "['Aaron Holiday', 'Aaron Holiday', 'Aaron Holiday', 'Aaron Holiday', 'Aaron Holiday', 'Aaron Holiday', 'Aaron Holiday', 'Aaron Holiday', 'Aaron Holiday', 'Aaron Holiday']\n"
     ]
    },
    {
     "name": "stderr",
     "output_type": "stream",
     "text": [
      " 93%|█████████▎| 475/510 [05:32<00:24,  1.45it/s]"
     ]
    },
    {
     "name": "stdout",
     "output_type": "stream",
     "text": [
      "['Armaan Franklin', 'Armaan Franklin', 'Armaan Franklin', 'Armaan Franklin', 'Armaan Franklin', 'Armaan Franklin', 'Armaan Franklin', 'Armaan Franklin']\n"
     ]
    },
    {
     "name": "stderr",
     "output_type": "stream",
     "text": [
      " 93%|█████████▎| 476/510 [05:33<00:25,  1.32it/s]"
     ]
    },
    {
     "name": "stdout",
     "output_type": "stream",
     "text": [
      "['Jared Butler', 'Jared Butler', 'Jared Butler', 'Jared Butler', 'Jared Butler', 'Jared Butler', 'Jared Butler', 'Jared Butler', 'Jared Butler', 'Jared Butler']\n"
     ]
    },
    {
     "name": "stderr",
     "output_type": "stream",
     "text": [
      " 94%|█████████▎| 477/510 [05:34<00:24,  1.33it/s]"
     ]
    },
    {
     "name": "stdout",
     "output_type": "stream",
     "text": [
      "['Cole Anthony', 'Cole Anthony', 'Cole Anthony', 'Cole Anthony', 'Cole Anthony', 'Cole Anthony', 'Cole Anthony', 'Cole Anthony', 'Cole Anthony', 'Cole Anthony']\n"
     ]
    },
    {
     "name": "stderr",
     "output_type": "stream",
     "text": [
      " 94%|█████████▎| 478/510 [05:35<00:24,  1.28it/s]"
     ]
    },
    {
     "name": "stdout",
     "output_type": "stream",
     "text": [
      "['Cade Cunningham', 'Cade Cunningham', 'Cade Cunningham', 'Cade Cunningham', 'Cade Cunningham', 'Cade Cunningham', 'Cade Cunningham', 'Cade Cunningham', 'Cade Cunningham', 'Cade Cunningham']\n"
     ]
    },
    {
     "name": "stderr",
     "output_type": "stream",
     "text": [
      " 94%|█████████▍| 479/510 [05:35<00:24,  1.28it/s]"
     ]
    },
    {
     "name": "stdout",
     "output_type": "stream",
     "text": [
      "['Clint Capela', 'Clint Capela', 'Clint Capela', 'Clint Capela', 'Clint Capela', 'Clint Capela', 'Clint Capela', 'Clint Capela', 'Clint Capela', 'Clint Capela']\n"
     ]
    },
    {
     "name": "stderr",
     "output_type": "stream",
     "text": [
      " 94%|█████████▍| 480/510 [05:36<00:22,  1.33it/s]"
     ]
    },
    {
     "name": "stdout",
     "output_type": "stream",
     "text": [
      "['Reggie Jackson', 'Reggie Jackson', 'Reggie Jackson', 'Reggie Jackson', 'Reggie Jackson', 'Reggie Jackson', 'Reggie Jackson', 'Reggie Jackson', 'Reggie Jackson', 'Reggie Jackson']\n"
     ]
    },
    {
     "name": "stderr",
     "output_type": "stream",
     "text": [
      " 94%|█████████▍| 481/510 [05:37<00:21,  1.37it/s]"
     ]
    },
    {
     "name": "stdout",
     "output_type": "stream",
     "text": [
      "['Luka Doncic', 'Luka Doncic', 'Luka Doncic', 'Luka Doncic', 'Luka Doncic', 'Luka Doncic', 'Luka Doncic', 'Luka Doncic', 'Luka Doncic', 'Luka Doncic']\n"
     ]
    },
    {
     "name": "stderr",
     "output_type": "stream",
     "text": [
      " 95%|█████████▍| 482/510 [05:38<00:20,  1.35it/s]"
     ]
    },
    {
     "name": "stdout",
     "output_type": "stream",
     "text": [
      "['Chuma Okeke', 'Chuma Okeke', 'Chuma Okeke', 'Chuma Okeke', 'Chuma Okeke', 'Chuma Okeke', 'Chuma Okeke', 'Chuma Okeke', 'Chuma Okeke', 'Chuma Okeke']\n"
     ]
    },
    {
     "name": "stderr",
     "output_type": "stream",
     "text": [
      "libpng warning: iCCP: known incorrect sRGB profile\n",
      " 95%|█████████▍| 483/510 [05:39<00:24,  1.11it/s]"
     ]
    },
    {
     "name": "stdout",
     "output_type": "stream",
     "text": [
      "['Torrey Craig', 'Torrey Craig', 'Torrey Craig', 'Torrey Craig', 'Torrey Craig', 'Torrey Craig', 'Torrey Craig', 'Torrey Craig', 'Torrey Craig', 'Torrey Craig']\n"
     ]
    },
    {
     "name": "stderr",
     "output_type": "stream",
     "text": [
      " 95%|█████████▍| 484/510 [05:40<00:25,  1.03it/s]"
     ]
    },
    {
     "name": "stdout",
     "output_type": "stream",
     "text": [
      "['Jusuf Nurkic', 'Jusuf Nurkic', 'Jusuf Nurkic', 'Jusuf Nurkic', 'Jusuf Nurkic', 'Jusuf Nurkic', 'Jusuf Nurkic', 'Jusuf Nurkic', 'Jusuf Nurkic', 'Jusuf Nurkic']\n"
     ]
    },
    {
     "name": "stderr",
     "output_type": "stream",
     "text": [
      " 95%|█████████▌| 485/510 [05:41<00:22,  1.11it/s]"
     ]
    },
    {
     "name": "stdout",
     "output_type": "stream",
     "text": [
      "['Dennis Schroder', 'Dennis Schroder', 'Dennis Schroder', 'Dennis Schroder', 'Dennis Schroder', 'Dennis Schroder', 'Dennis Schroder', 'Dennis Schroder', 'Dennis Schroder', 'Dennis Schroder']\n"
     ]
    },
    {
     "name": "stderr",
     "output_type": "stream",
     "text": [
      " 95%|█████████▌| 486/510 [05:41<00:19,  1.21it/s]"
     ]
    },
    {
     "name": "stdout",
     "output_type": "stream",
     "text": [
      "['Keegan Murray', 'Keegan Murray', 'Keegan Murray', 'Keegan Murray', 'Keegan Murray', 'Keegan Murray', 'Keegan Murray', 'Keegan Murray', 'Keegan Murray', 'Keegan Murray']\n"
     ]
    },
    {
     "name": "stderr",
     "output_type": "stream",
     "text": [
      " 95%|█████████▌| 487/510 [05:42<00:18,  1.28it/s]"
     ]
    },
    {
     "name": "stdout",
     "output_type": "stream",
     "text": [
      "['Carlik Jones', 'Carlik Jones', 'Carlik Jones', 'Carlik Jones', 'Carlik Jones', 'Carlik Jones', 'Carlik Jones', 'Carlik Jones']\n"
     ]
    },
    {
     "name": "stderr",
     "output_type": "stream",
     "text": [
      " 96%|█████████▌| 488/510 [05:43<00:17,  1.27it/s]"
     ]
    },
    {
     "name": "stdout",
     "output_type": "stream",
     "text": [
      "['Aleksej Pokusevski', 'Aleksej Pokusevski', 'Aleksej Pokusevski', 'Aleksej Pokusevski', 'Aleksej Pokusevski', 'Aleksej Pokusevski', 'Aleksej Pokusevski', 'Aleksej Pokusevski', 'Aleksej Pokusevski', 'Aleksej Pokusevski']\n"
     ]
    },
    {
     "name": "stderr",
     "output_type": "stream",
     "text": [
      " 96%|█████████▌| 489/510 [05:44<00:16,  1.26it/s]"
     ]
    },
    {
     "name": "stdout",
     "output_type": "stream",
     "text": [
      "['Gabe Vincent', 'Gabe Vincent', 'Gabe Vincent', 'Gabe Vincent', 'Gabe Vincent', 'Gabe Vincent', 'Gabe Vincent', 'Gabe Vincent', 'Gabe Vincent', 'Gabe Vincent']\n"
     ]
    },
    {
     "name": "stderr",
     "output_type": "stream",
     "text": [
      " 96%|█████████▌| 490/510 [05:45<00:16,  1.22it/s]"
     ]
    },
    {
     "name": "stdout",
     "output_type": "stream",
     "text": [
      "['Robert Williams', 'Robert Williams', 'Robert Williams', 'Robert Williams', 'Robert Williams', 'Robert Williams', 'Robert Williams', 'Robert Williams', 'Robert Williams', 'Robert Williams']\n"
     ]
    },
    {
     "name": "stderr",
     "output_type": "stream",
     "text": [
      " 96%|█████████▋| 491/510 [05:45<00:14,  1.27it/s]"
     ]
    },
    {
     "name": "stdout",
     "output_type": "stream",
     "text": [
      "['Norman Powell', 'Norman Powell', 'Norman Powell', 'Norman Powell', 'Norman Powell', 'Norman Powell', 'Norman Powell', 'Norman Powell', 'Norman Powell', 'Norman Powell']\n"
     ]
    },
    {
     "name": "stderr",
     "output_type": "stream",
     "text": [
      " 96%|█████████▋| 492/510 [05:46<00:14,  1.26it/s]"
     ]
    },
    {
     "name": "stdout",
     "output_type": "stream",
     "text": [
      "['Dereon Seabron', 'Dereon Seabron', 'Dereon Seabron', 'Dereon Seabron', 'Dereon Seabron', 'Dereon Seabron', 'Dereon Seabron', 'Dereon Seabron', 'Dereon Seabron', 'Dereon Seabron']\n"
     ]
    },
    {
     "name": "stderr",
     "output_type": "stream",
     "text": [
      " 97%|█████████▋| 493/510 [05:47<00:12,  1.35it/s]"
     ]
    },
    {
     "name": "stdout",
     "output_type": "stream",
     "text": [
      "['Anthony Gill', 'Anthony Gill', 'Anthony Gill', 'Anthony Gill', 'Anthony Gill', 'Anthony Gill', 'Anthony Gill', 'Anthony Gill', 'Anthony Gill', 'Anthony Gill']\n"
     ]
    },
    {
     "name": "stderr",
     "output_type": "stream",
     "text": [
      " 97%|█████████▋| 494/510 [05:47<00:11,  1.41it/s]"
     ]
    },
    {
     "name": "stdout",
     "output_type": "stream",
     "text": [
      "['Patty Mills', 'Patty Mills', 'Patty Mills', 'Patty Mills', 'Patty Mills', 'Patty Mills', 'Patty Mills', 'Patty Mills', 'Patty Mills', 'Patty Mills']\n"
     ]
    },
    {
     "name": "stderr",
     "output_type": "stream",
     "text": [
      " 97%|█████████▋| 495/510 [05:48<00:10,  1.41it/s]"
     ]
    },
    {
     "name": "stdout",
     "output_type": "stream",
     "text": [
      "['Patrick Beverley', 'Patrick Beverley', 'Patrick Beverley', 'Patrick Beverley', 'Patrick Beverley', 'Patrick Beverley', 'Patrick Beverley', 'Patrick Beverley', 'Patrick Beverley', 'Patrick Beverley']\n"
     ]
    },
    {
     "name": "stderr",
     "output_type": "stream",
     "text": [
      " 97%|█████████▋| 496/510 [05:49<00:11,  1.19it/s]"
     ]
    },
    {
     "name": "stdout",
     "output_type": "stream",
     "text": [
      "['Victor Wembanyama', 'Victor Wembanyama', 'Victor Wembanyama', 'Victor Wembanyama', 'Victor Wembanyama', 'Victor Wembanyama', 'Victor Wembanyama', 'Victor Wembanyama', 'Victor Wembanyama', 'Victor Wembanyama']\n"
     ]
    },
    {
     "name": "stderr",
     "output_type": "stream",
     "text": [
      " 97%|█████████▋| 497/510 [05:50<00:09,  1.37it/s]"
     ]
    },
    {
     "name": "stdout",
     "output_type": "stream",
     "text": [
      "['Kenny Lofton, Jr.', 'Kenny Lofton, Jr.', 'Kenny Lofton, Jr.', 'Kenny Lofton, Jr.']\n"
     ]
    },
    {
     "name": "stderr",
     "output_type": "stream",
     "text": [
      " 98%|█████████▊| 498/510 [05:51<00:10,  1.16it/s]"
     ]
    },
    {
     "name": "stdout",
     "output_type": "stream",
     "text": [
      "['Zion Williamson', 'Zion Williamson', 'Zion Williamson', 'Zion Williamson', 'Zion Williamson', 'Zion Williamson', 'Zion Williamson', 'Zion Williamson', 'Zion Williamson', 'Zion Williamson']\n"
     ]
    },
    {
     "name": "stderr",
     "output_type": "stream",
     "text": [
      " 98%|█████████▊| 499/510 [05:52<00:09,  1.19it/s]"
     ]
    },
    {
     "name": "stdout",
     "output_type": "stream",
     "text": [
      "['Giannis Antetokounmpo', 'Giannis Antetokounmpo', 'Giannis Antetokounmpo', 'Giannis Antetokounmpo', 'Giannis Antetokounmpo', 'Giannis Antetokounmpo', 'Giannis Antetokounmpo', 'Giannis Antetokounmpo', 'Giannis Antetokounmpo', 'Giannis Antetokounmpo']\n"
     ]
    },
    {
     "name": "stderr",
     "output_type": "stream",
     "text": [
      " 98%|█████████▊| 500/510 [05:52<00:07,  1.43it/s]"
     ]
    },
    {
     "name": "stdout",
     "output_type": "stream",
     "text": [
      "['James Huff', 'James Huff', 'James Huff', 'James Huff', 'James Huff', 'James Huff']\n"
     ]
    },
    {
     "name": "stderr",
     "output_type": "stream",
     "text": [
      " 98%|█████████▊| 501/510 [05:53<00:06,  1.39it/s]"
     ]
    },
    {
     "name": "stdout",
     "output_type": "stream",
     "text": [
      "['Emoni Bates', 'Emoni Bates', 'Emoni Bates', 'Emoni Bates', 'Emoni Bates', 'Emoni Bates', 'Emoni Bates', 'Emoni Bates']\n"
     ]
    },
    {
     "name": "stderr",
     "output_type": "stream",
     "text": [
      " 98%|█████████▊| 502/510 [05:53<00:05,  1.40it/s]"
     ]
    },
    {
     "name": "stdout",
     "output_type": "stream",
     "text": [
      "['Jrue Holiday', 'Jrue Holiday', 'Jrue Holiday', 'Jrue Holiday', 'Jrue Holiday', 'Jrue Holiday', 'Jrue Holiday', 'Jrue Holiday', 'Jrue Holiday', 'Jrue Holiday']\n"
     ]
    },
    {
     "name": "stderr",
     "output_type": "stream",
     "text": [
      " 99%|█████████▊| 503/510 [05:54<00:04,  1.49it/s]"
     ]
    },
    {
     "name": "stdout",
     "output_type": "stream",
     "text": [
      "['Nicolas Claxton', 'Nicolas Claxton', 'Nicolas Claxton', 'Nicolas Claxton', 'Nicolas Claxton', 'Nicolas Claxton', 'Nicolas Claxton', 'Nicolas Claxton', 'Nicolas Claxton', 'Nicolas Claxton']\n"
     ]
    },
    {
     "name": "stderr",
     "output_type": "stream",
     "text": [
      " 99%|█████████▉| 504/510 [05:55<00:04,  1.40it/s]"
     ]
    },
    {
     "name": "stdout",
     "output_type": "stream",
     "text": [
      "['Orlando Robinson', 'Orlando Robinson', 'Orlando Robinson', 'Orlando Robinson', 'Orlando Robinson', 'Orlando Robinson', 'Orlando Robinson', 'Orlando Robinson', 'Orlando Robinson', 'Orlando Robinson']\n"
     ]
    },
    {
     "name": "stderr",
     "output_type": "stream",
     "text": [
      " 99%|█████████▉| 505/510 [05:56<00:03,  1.37it/s]"
     ]
    },
    {
     "name": "stdout",
     "output_type": "stream",
     "text": [
      "['Alec Burks', 'Alec Burks', 'Alec Burks', 'Alec Burks', 'Alec Burks', 'Alec Burks', 'Alec Burks', 'Alec Burks', 'Alec Burks', 'Alec Burks']\n"
     ]
    },
    {
     "name": "stderr",
     "output_type": "stream",
     "text": [
      " 99%|█████████▉| 506/510 [05:56<00:02,  1.37it/s]"
     ]
    },
    {
     "name": "stdout",
     "output_type": "stream",
     "text": [
      "['Kevon Looney', 'Kevon Looney', 'Kevon Looney', 'Kevon Looney', 'Kevon Looney', 'Kevon Looney', 'Kevon Looney', 'Kevon Looney', 'Kevon Looney', 'Kevon Looney']\n"
     ]
    },
    {
     "name": "stderr",
     "output_type": "stream",
     "text": [
      " 99%|█████████▉| 507/510 [05:57<00:02,  1.17it/s]"
     ]
    },
    {
     "name": "stdout",
     "output_type": "stream",
     "text": [
      "['Franz Wagner', 'Franz Wagner', 'Franz Wagner', 'Franz Wagner', 'Franz Wagner', 'Franz Wagner', 'Franz Wagner', 'Franz Wagner', 'Franz Wagner', 'Franz Wagner']\n"
     ]
    },
    {
     "name": "stderr",
     "output_type": "stream",
     "text": [
      "100%|█████████▉| 508/510 [05:58<00:01,  1.27it/s]"
     ]
    },
    {
     "name": "stdout",
     "output_type": "stream",
     "text": [
      "['Jimmy Butler', 'Jimmy Butler', 'Jimmy Butler', 'Jimmy Butler', 'Jimmy Butler', 'Jimmy Butler', 'Jimmy Butler', 'Jimmy Butler', 'Jimmy Butler', 'Jimmy Butler']\n"
     ]
    },
    {
     "name": "stderr",
     "output_type": "stream",
     "text": [
      "100%|█████████▉| 509/510 [05:59<00:00,  1.22it/s]"
     ]
    },
    {
     "name": "stdout",
     "output_type": "stream",
     "text": [
      "['Jared Rhoden', 'Jared Rhoden', 'Jared Rhoden', 'Jared Rhoden', 'Jared Rhoden', 'Jared Rhoden', 'Jared Rhoden', 'Jared Rhoden', 'Jared Rhoden', 'Jared Rhoden']\n"
     ]
    },
    {
     "name": "stderr",
     "output_type": "stream",
     "text": [
      "100%|██████████| 510/510 [06:00<00:00,  1.42it/s]"
     ]
    },
    {
     "name": "stdout",
     "output_type": "stream",
     "text": [
      "['Keldon Johnson', 'Keldon Johnson', 'Keldon Johnson', 'Keldon Johnson', 'Keldon Johnson', 'Keldon Johnson', 'Keldon Johnson', 'Keldon Johnson', 'Keldon Johnson', 'Keldon Johnson']\n"
     ]
    },
    {
     "name": "stderr",
     "output_type": "stream",
     "text": [
      "\n"
     ]
    }
   ],
   "source": [
    "known_names = []\n",
    "unknown_names = []\n",
    "known_embeddings = []\n",
    "unknown_embeddings = []\n",
    "\n",
    "players = os.listdir('/Users/tayamayuto/Face_recognition_IF/data/ts_raw')\n",
    "\n",
    "for player in tqdm(players):\n",
    "    player_embeddings, player_names = [], []\n",
    "\n",
    "    img_paths = glob(f'/Users/tayamayuto/Face_recognition_IF/data/ts_raw/{player}/*')\n",
    "    for img_path in img_paths:\n",
    "        img = cv2.imread(img_path)\n",
    "        if img is None: continue\n",
    "\n",
    "        bboxes, kpss = det_model.detect(img, max_num=0, metric='defualt')\n",
    "        if len(bboxes) != 1: continue\n",
    "\n",
    "        bbox = bboxes[0, :4]\n",
    "        det_score = bboxes[0, 4]\n",
    "        kps = kpss[0]\n",
    "        face = Face(bbox=bbox, kps=kps, det_score=det_score)\n",
    "\n",
    "        rec_model.get(img, face)\n",
    "        player_embeddings.append(face.normed_embedding)\n",
    "        player_names.append(player)\n",
    "        if len(player_embeddings) == 10: break\n",
    "\n",
    "    print(player_names)\n",
    "    player_embeddings = np.stack(player_embeddings, axis=0)\n",
    "    known_embeddings.append(player_embeddings[0:5])\n",
    "    unknown_embeddings.append(player_embeddings[5:10])\n",
    "    known_names += player_names[0:5]\n",
    "    unknown_names += player_names[5:10]\n",
    "    \n",
    "\n",
    "known_embeddings = np.concatenate(known_embeddings, axis=0)\n",
    "unknown_embeddings = np.concatenate(unknown_embeddings, axis=0)\n"
   ]
  },
  {
   "cell_type": "code",
   "execution_count": 9,
   "metadata": {},
   "outputs": [
    {
     "ename": "error",
     "evalue": "OpenCV(4.8.0) :-1: error: (-5:Bad argument) in function 'imshow'\n> Overload resolution failed:\n>  - imshow() missing required argument 'mat' (pos 2)\n>  - imshow() missing required argument 'mat' (pos 2)\n>  - imshow() missing required argument 'mat' (pos 2)\n",
     "output_type": "error",
     "traceback": [
      "\u001b[0;31m---------------------------------------------------------------------------\u001b[0m",
      "\u001b[0;31merror\u001b[0m                                     Traceback (most recent call last)",
      "Cell \u001b[0;32mIn[9], line 1\u001b[0m\n\u001b[0;32m----> 1\u001b[0m cv2\u001b[39m.\u001b[39;49mimshow(rec_model)\n\u001b[1;32m      2\u001b[0m cv2\u001b[39m.\u001b[39mwaitKey(\u001b[39m1\u001b[39m)\n",
      "\u001b[0;31merror\u001b[0m: OpenCV(4.8.0) :-1: error: (-5:Bad argument) in function 'imshow'\n> Overload resolution failed:\n>  - imshow() missing required argument 'mat' (pos 2)\n>  - imshow() missing required argument 'mat' (pos 2)\n>  - imshow() missing required argument 'mat' (pos 2)\n"
     ]
    }
   ],
   "source": []
  },
  {
   "cell_type": "code",
   "execution_count": 7,
   "metadata": {},
   "outputs": [
    {
     "name": "stdout",
     "output_type": "stream",
     "text": [
      "['B.J. Boston, Jr.', 'B.J. Boston, Jr.', 'B.J. Boston, Jr.', 'B.J. Boston, Jr.', 'B.J. Boston, Jr.', 'Kobe Brown', 'Kobe Brown', 'Kobe Brown', 'Kobe Brown', 'Kobe Brown', 'A.J. Green', 'A.J. Green', 'A.J. Green', 'A.J. Green', 'A.J. Green', 'Danilo Gallinari', 'Danilo Gallinari', 'Danilo Gallinari', 'Danilo Gallinari', 'Danilo Gallinari', 'Dante Exum', 'Dante Exum', 'Dante Exum', 'Dante Exum', 'Dante Exum', 'Christian Braun', 'Christian Braun', 'Christian Braun', 'Christian Braun', 'Christian Braun', 'Duncan Robinson', 'Duncan Robinson', 'Duncan Robinson', 'Duncan Robinson', 'Duncan Robinson', 'Georges Niang', 'Georges Niang', 'Georges Niang', 'Georges Niang', 'Georges Niang', 'Robin Lopez', 'Robin Lopez', 'Robin Lopez', 'Robin Lopez', 'Robin Lopez', 'John Collins', 'John Collins', 'John Collins', 'John Collins', 'John Collins', 'Richaun Holmes', 'Richaun Holmes', 'Richaun Holmes', 'Richaun Holmes', 'Richaun Holmes', 'Maxi Kleber', 'Maxi Kleber', 'Maxi Kleber', 'Maxi Kleber', 'Maxi Kleber', 'Terry Rozier', 'Terry Rozier', 'Terry Rozier', 'Terry Rozier', 'Terry Rozier', 'Derrick White', 'Derrick White', 'Derrick White', 'Derrick White', 'Derrick White', 'Isaac Okoro', 'Isaac Okoro', 'Isaac Okoro', 'Isaac Okoro', 'Isaac Okoro', 'Rui Hachimura', 'Rui Hachimura', 'Rui Hachimura', 'Rui Hachimura', 'Rui Hachimura', 'Kai Jones', 'Kai Jones', 'Kai Jones', 'Kai Jones', 'Kai Jones', 'Stephen Curry', 'Stephen Curry', 'Stephen Curry', 'Stephen Curry', 'Stephen Curry', 'Jamal Murray', 'Jamal Murray', 'Jamal Murray', 'Jamal Murray', 'Jamal Murray', 'Gordon Hayward', 'Gordon Hayward', 'Gordon Hayward', 'Gordon Hayward', 'Gordon Hayward', \"Royce O'Neale\", \"Royce O'Neale\", \"Royce O'Neale\", \"Royce O'Neale\", \"Royce O'Neale\", 'Kris Murray', 'Kris Murray', 'Kris Murray', 'Kris Murray', 'Kris Murray', 'Marvin Bagley III', 'Marvin Bagley III', 'Marvin Bagley III', 'Marvin Bagley III', 'Marvin Bagley III', 'Tyler Herro', 'Tyler Herro', 'Tyler Herro', 'Tyler Herro', 'Tyler Herro', 'Zeke Nnaji', 'Zeke Nnaji', 'Zeke Nnaji', 'Zeke Nnaji', 'Zeke Nnaji', 'Trae Young', 'Trae Young', 'Trae Young', 'Trae Young', 'Trae Young', 'Haywood Highsmith', 'Haywood Highsmith', 'Haywood Highsmith', 'Haywood Highsmith', 'Haywood Highsmith', 'JaVale McGee', 'JaVale McGee', 'JaVale McGee', 'JaVale McGee', 'JaVale McGee', 'Al Horford', 'Al Horford', 'Al Horford', 'Al Horford', 'Al Horford', 'Ivica Zubac', 'Ivica Zubac', 'Ivica Zubac', 'Ivica Zubac', 'Ivica Zubac', 'Ron Harper', 'Ron Harper', 'Ron Harper', 'Ron Harper', 'Ron Harper', 'Cody Martin', 'Cody Martin', 'Cody Martin', 'Cody Martin', 'Cody Martin', 'Kevin Love', 'Kevin Love', 'Kevin Love', 'Kevin Love', 'Kevin Love', 'Kawhi Leonard', 'Kawhi Leonard', 'Kawhi Leonard', 'Kawhi Leonard', 'Kawhi Leonard', 'Nerlens Noel', 'Nerlens Noel', 'Nerlens Noel', 'Nerlens Noel', 'Nerlens Noel', 'Coby White', 'Coby White', 'Coby White', 'Coby White', 'Coby White', 'Jacob Gilyard', 'Jacob Gilyard', 'Jacob Gilyard', 'Jacob Gilyard', 'Jacob Gilyard', 'Seth Lundy', 'Seth Lundy', 'Seth Lundy', 'Seth Lundy', 'Seth Lundy', 'Mike Miles, Jr.', 'Mike Miles, Jr.', 'Mike Miles, Jr.', 'Mike Miles, Jr.', 'Mike Miles, Jr.', 'Jaylen Brown', 'Jaylen Brown', 'Jaylen Brown', 'Jaylen Brown', 'Jaylen Brown', 'Luka Samanic', 'Luka Samanic', 'Luka Samanic', 'Luka Samanic', 'Luka Samanic', 'Larry Nance, Jr.', 'Larry Nance, Jr.', 'Larry Nance, Jr.', 'Larry Nance, Jr.', 'Larry Nance, Jr.', 'Spencer Dinwiddie', 'Spencer Dinwiddie', 'Spencer Dinwiddie', 'Spencer Dinwiddie', 'Spencer Dinwiddie', 'Keyonte George', 'Keyonte George', 'Keyonte George', 'Keyonte George', 'Keyonte George', 'Kelly Olynyk', 'Kelly Olynyk', 'Kelly Olynyk', 'Kelly Olynyk', 'Kelly Olynyk', 'Gary Harris', 'Gary Harris', 'Gary Harris', 'Gary Harris', 'Gary Harris', 'Saben Lee', 'Saben Lee', 'Saben Lee', 'Saben Lee', 'Saben Lee', 'Taylor Hendricks', 'Taylor Hendricks', 'Taylor Hendricks', 'Taylor Hendricks', 'Taylor Hendricks', 'Max Christie', 'Max Christie', 'Max Christie', 'Max Christie', 'Max Christie', 'Josh Christopher', 'Josh Christopher', 'Josh Christopher', 'Josh Christopher', 'Josh Christopher', 'Nikola Jovic', 'Nikola Jovic', 'Nikola Jovic', 'Nikola Jovic', 'Nikola Jovic', 'Patrick Baldwin, Jr.', 'Patrick Baldwin, Jr.', 'Patrick Baldwin, Jr.', 'Patrick Baldwin, Jr.', 'Patrick Baldwin, Jr.', 'Robert Covington', 'Robert Covington', 'Robert Covington', 'Robert Covington', 'Robert Covington', 'Thanasis Antetokounmpo', 'Thanasis Antetokounmpo', 'Thanasis Antetokounmpo', 'Thanasis Antetokounmpo', 'Thanasis Antetokounmpo', 'Jordan Hawkins', 'Jordan Hawkins', 'Jordan Hawkins', 'Jordan Hawkins', 'Jordan Hawkins', 'Damian Lillard', 'Damian Lillard', 'Damian Lillard', 'Damian Lillard', 'Damian Lillard', 'Ty Jerome', 'Ty Jerome', 'Ty Jerome', 'Ty Jerome', 'Ty Jerome', 'Leonard Miller', 'Leonard Miller', 'Leonard Miller', 'Leonard Miller', 'Leonard Miller', 'Jake LaRavia', 'Jake LaRavia', 'Jake LaRavia', 'Jake LaRavia', 'Jake LaRavia', 'Julius Randle', 'Julius Randle', 'Julius Randle', 'Julius Randle', 'Julius Randle', 'Cam Thomas', 'Cam Thomas', 'Cam Thomas', 'Cam Thomas', 'Cam Thomas', 'Javon Freeman-Liberty', 'Javon Freeman-Liberty', 'Javon Freeman-Liberty', 'Javon Freeman-Liberty', 'Javon Freeman-Liberty', 'Trayce Jackson-Davis', 'Trayce Jackson-Davis', 'Trayce Jackson-Davis', 'Trayce Jackson-Davis', 'Trayce Jackson-Davis', 'Tobias Harris', 'Tobias Harris', 'Tobias Harris', 'Tobias Harris', 'Tobias Harris', 'Alex Len', 'Alex Len', 'Alex Len', 'Alex Len', 'Alex Len', 'Ricky Council IV', 'Ricky Council IV', 'Ricky Council IV', 'Ricky Council IV', 'Ricky Council IV', 'Admiral Schofield', 'Admiral Schofield', 'Admiral Schofield', 'Admiral Schofield', 'Admiral Schofield', 'Jalen McDaniels', 'Jalen McDaniels', 'Jalen McDaniels', 'Jalen McDaniels', 'Jalen McDaniels', 'Anthony Edwards', 'Anthony Edwards', 'Anthony Edwards', 'Anthony Edwards', 'Anthony Edwards', 'Darius Bazley', 'Darius Bazley', 'Darius Bazley', 'Darius Bazley', 'Darius Bazley', 'Moussa Diabate', 'Moussa Diabate', 'Moussa Diabate', 'Moussa Diabate', 'Moussa Diabate', 'Damion Lee', 'Damion Lee', 'Damion Lee', 'Damion Lee', 'Damion Lee', 'Jabari Smith, Jr.', 'Jabari Smith, Jr.', 'Jabari Smith, Jr.', 'Jabari Smith, Jr.', 'Jabari Smith, Jr.', 'Jordan Clarkson', 'Jordan Clarkson', 'Jordan Clarkson', 'Jordan Clarkson', 'Jordan Clarkson', 'Bojan Bogdanovic', 'Bojan Bogdanovic', 'Bojan Bogdanovic', 'Bojan Bogdanovic', 'Bojan Bogdanovic', 'Scoot Henderson', 'Scoot Henderson', 'Scoot Henderson', 'Scoot Henderson', 'Scoot Henderson', 'Peyton Watson', 'Peyton Watson', 'Peyton Watson', 'Peyton Watson', 'Peyton Watson', 'Joey Hauser', 'Joey Hauser', 'Joey Hauser', 'Joey Hauser', 'A.J. Lawson', 'A.J. Lawson', 'A.J. Lawson', 'A.J. Lawson', 'A.J. Lawson', 'Dejounte Murray', 'Dejounte Murray', 'Dejounte Murray', 'Dejounte Murray', 'Dejounte Murray', 'Lindell Wigginton', 'Lindell Wigginton', 'Lindell Wigginton', 'Lindell Wigginton', 'Lindell Wigginton', 'Markquis Nowell', 'Markquis Nowell', 'Markquis Nowell', 'Markquis Nowell', 'Markquis Nowell', 'Joshua Obiesie', 'Joshua Obiesie', 'Joshua Obiesie', 'Joshua Obiesie', 'Joshua Obiesie', 'Reggie Bullock', 'Reggie Bullock', 'Reggie Bullock', 'Reggie Bullock', 'Reggie Bullock', 'Jeremy Sochan', 'Jeremy Sochan', 'Jeremy Sochan', 'Jeremy Sochan', 'Jeremy Sochan', 'Delon Wright', 'Delon Wright', 'Delon Wright', 'Delon Wright', 'Delon Wright', 'Sam Merrill', 'Sam Merrill', 'Sam Merrill', 'Sam Merrill', 'Sam Merrill', 'Jalen Pickett', 'Jalen Pickett', 'Jalen Pickett', 'Jalen Pickett', 'Jalen Pickett', 'Dorian Finney-Smith', 'Dorian Finney-Smith', 'Dorian Finney-Smith', 'Dorian Finney-Smith', 'Dorian Finney-Smith', 'P.J. Tucker', 'P.J. Tucker', 'P.J. Tucker', 'P.J. Tucker', 'P.J. Tucker', 'Malik Beasley', 'Malik Beasley', 'Malik Beasley', 'Malik Beasley', 'Malik Beasley', \"De'Andre Hunter\", \"De'Andre Hunter\", \"De'Andre Hunter\", \"De'Andre Hunter\", \"De'Andre Hunter\", 'Harrison Barnes', 'Harrison Barnes', 'Harrison Barnes', 'Harrison Barnes', 'Harrison Barnes', 'Jakob Poeltl', 'Jakob Poeltl', 'Jakob Poeltl', 'Jakob Poeltl', 'Jakob Poeltl', 'Filip Petrusev', 'Filip Petrusev', 'Filip Petrusev', 'Filip Petrusev', 'Filip Petrusev', 'Jaren Jackson, Jr.', 'Jaren Jackson, Jr.', 'Jaren Jackson, Jr.', 'Jaren Jackson, Jr.', 'Jaren Jackson, Jr.', 'Lonnie Walker', 'Lonnie Walker', 'Lonnie Walker', 'Lonnie Walker', 'Lonnie Walker', 'Jaylin Williams', 'Jaylin Williams', 'Jaylin Williams', 'Jaylin Williams', 'Jaylin Williams', 'Rudy Gobert', 'Rudy Gobert', 'Rudy Gobert', 'Rudy Gobert', 'Rudy Gobert', 'Jalen Wilson', 'Jalen Wilson', 'Jalen Wilson', 'Jalen Wilson', 'Jalen Wilson', 'Vasilje Micic', 'Vasilje Micic', 'Vasilje Micic', 'Vasilje Micic', 'Vasilje Micic', 'Jack White', 'Jack White', 'Jack White', 'Jack White', 'Jack White', 'Bryce McGowens', 'Bryce McGowens', 'Bryce McGowens', 'Bryce McGowens', 'Bryce McGowens', 'Gary Trent, Jr.', 'Gary Trent, Jr.', 'Gary Trent, Jr.', 'Gary Trent, Jr.', 'Gary Trent, Jr.', 'Jalen Williams', 'Jalen Williams', 'Jalen Williams', 'Jalen Williams', 'Jalen Williams', 'Thomas Bryant', 'Thomas Bryant', 'Thomas Bryant', 'Thomas Bryant', 'Thomas Bryant', 'Marcus Morris', 'Marcus Morris', 'Marcus Morris', 'Marcus Morris', 'Marcus Morris', 'Nassir Little', 'Nassir Little', 'Nassir Little', 'Nassir Little', 'Nassir Little', 'Jordan Poole', 'Jordan Poole', 'Jordan Poole', 'Jordan Poole', 'Jordan Poole', 'Aaron Gordon', 'Aaron Gordon', 'Aaron Gordon', 'Aaron Gordon', 'Aaron Gordon', 'Kristaps Porzingis', 'Kristaps Porzingis', 'Kristaps Porzingis', 'Kristaps Porzingis', 'Kristaps Porzingis', 'Danuel House', 'Danuel House', 'Danuel House', 'Danuel House', 'Danuel House', 'Kobe Bufkin', 'Kobe Bufkin', 'Kobe Bufkin', 'Kobe Bufkin', 'Kobe Bufkin', 'Markelle Fultz', 'Markelle Fultz', 'Markelle Fultz', 'Markelle Fultz', 'Markelle Fultz', 'Chimezie Metu', 'Chimezie Metu', 'Chimezie Metu', 'Chimezie Metu', 'Chimezie Metu', 'Naji Marshall', 'Naji Marshall', 'Naji Marshall', 'Naji Marshall', 'Naji Marshall', 'Andrew Wiggins', 'Andrew Wiggins', 'Andrew Wiggins', 'Andrew Wiggins', 'Andrew Wiggins', 'Sidy Cissoko', 'Sidy Cissoko', 'Sidy Cissoko', 'Sidy Cissoko', 'Sidy Cissoko', \"D'Moi Hodge\", \"D'Moi Hodge\", \"D'Moi Hodge\", \"D'Moi Hodge\", \"D'Moi Hodge\", 'Darius Garland', 'Darius Garland', 'Darius Garland', 'Darius Garland', 'Darius Garland', 'Wesley Matthews', 'Wesley Matthews', 'Wesley Matthews', 'Wesley Matthews', 'Wesley Matthews', 'Tim Hardaway Jr.', 'Tim Hardaway Jr.', 'Tim Hardaway Jr.', 'Tim Hardaway Jr.', 'Tim Hardaway Jr.', 'Klay Thompson', 'Klay Thompson', 'Klay Thompson', 'Klay Thompson', 'Klay Thompson', 'Jordan Goodwin', 'Jordan Goodwin', 'Jordan Goodwin', 'Jordan Goodwin', 'Jordan Goodwin', 'Khem Birch', 'Khem Birch', 'Khem Birch', 'Khem Birch', 'Khem Birch', 'Andre Jackson, Jr.', 'Andre Jackson, Jr.', 'Andre Jackson, Jr.', 'Andre Jackson, Jr.', 'Andre Jackson, Jr.', 'Luke Kornet', 'Luke Kornet', 'Luke Kornet', 'Luke Kornet', 'Luke Kornet', 'Brandin Podziemski', 'Brandin Podziemski', 'Brandin Podziemski', 'Brandin Podziemski', 'Brandin Podziemski', 'Josh Minott', 'Josh Minott', 'Josh Minott', 'Josh Minott', 'Josh Minott', 'Austin Reaves', 'Austin Reaves', 'Austin Reaves', 'Austin Reaves', 'Austin Reaves', 'Mason Plumlee', 'Mason Plumlee', 'Mason Plumlee', 'Mason Plumlee', 'Mason Plumlee', 'Lester Quinones', 'Lester Quinones', 'Lester Quinones', 'Lester Quinones', 'Lester Quinones', 'Malik Monk', 'Malik Monk', 'Malik Monk', 'Malik Monk', 'Malik Monk', 'Ricky Rubio', 'Ricky Rubio', 'Ricky Rubio', 'Ricky Rubio', 'Ricky Rubio', 'Cam Whitmore', 'Cam Whitmore', 'Cam Whitmore', 'Cam Whitmore', 'Cam Whitmore', 'Precious Achiuwa', 'Precious Achiuwa', 'Precious Achiuwa', 'Precious Achiuwa', 'Precious Achiuwa', 'Jevon Carter', 'Jevon Carter', 'Jevon Carter', 'Jevon Carter', 'Jevon Carter', 'Josh Hart', 'Josh Hart', 'Josh Hart', 'Josh Hart', 'Josh Hart', 'Hunter Tyson', 'Hunter Tyson', 'Hunter Tyson', 'Hunter Tyson', 'Hunter Tyson', 'Alex Caruso', 'Alex Caruso', 'Alex Caruso', 'Alex Caruso', 'Alex Caruso', 'Azuolas Tubelis', 'Azuolas Tubelis', 'Azuolas Tubelis', 'Azuolas Tubelis', 'Azuolas Tubelis', 'Jalen Brunson', 'Jalen Brunson', 'Jalen Brunson', 'Jalen Brunson', 'Jalen Brunson', 'Terance Mann', 'Terance Mann', 'Terance Mann', 'Terance Mann', 'Terance Mann', 'Lonzo Ball', 'Lonzo Ball', 'Lonzo Ball', 'Lonzo Ball', 'Lonzo Ball', 'Jaylen Martin', 'Jaylen Martin', 'Jaylen Martin', 'Jaylen Martin', 'Jaylen Martin', 'Goga Bitadze', 'Goga Bitadze', 'Goga Bitadze', 'Goga Bitadze', 'Goga Bitadze', 'A.J. Griffin, Jr.', 'A.J. Griffin, Jr.', 'A.J. Griffin, Jr.', 'A.J. Griffin, Jr.', 'A.J. Griffin, Jr.', 'Keon Ellis', 'Keon Ellis', 'Keon Ellis', 'Keon Ellis', 'Keon Ellis', 'Landry Shamet', 'Landry Shamet', 'Landry Shamet', 'Landry Shamet', 'Landry Shamet', 'Jeremiah Robinson-Earl', 'Jeremiah Robinson-Earl', 'Jeremiah Robinson-Earl', 'Jeremiah Robinson-Earl', 'Jeremiah Robinson-Earl', 'Anthony Davis', 'Anthony Davis', 'Anthony Davis', 'Anthony Davis', 'Anthony Davis', 'Gary Payton II', 'Gary Payton II', 'Gary Payton II', 'Gary Payton II', 'Gary Payton II', \"Devonte' Graham\", \"Devonte' Graham\", \"Devonte' Graham\", \"Devonte' Graham\", \"Devonte' Graham\", 'Shaedon Sharpe', 'Shaedon Sharpe', 'Shaedon Sharpe', 'Shaedon Sharpe', 'Shaedon Sharpe', 'Omer Yurtseven', 'Omer Yurtseven', 'Omer Yurtseven', 'Omer Yurtseven', 'Omer Yurtseven', 'Ziaire Williams', 'Ziaire Williams', 'Ziaire Williams', 'Ziaire Williams', 'Ziaire Williams', 'DeAndre Jordan', 'DeAndre Jordan', 'DeAndre Jordan', 'DeAndre Jordan', 'DeAndre Jordan', 'Isaiah Jackson', 'Isaiah Jackson', 'Isaiah Jackson', 'Isaiah Jackson', 'Isaiah Jackson', 'J.D. Davison', 'J.D. Davison', 'J.D. Davison', 'J.D. Davison', 'J.D. Davison', 'Montrezl Harrell', 'Montrezl Harrell', 'Montrezl Harrell', 'Montrezl Harrell', 'Montrezl Harrell', 'Andrew Funk', 'Andrew Funk', 'Andrew Funk', 'Andrew Funk', 'Andrew Funk', 'Luguentz Dort', 'Luguentz Dort', 'Luguentz Dort', 'Luguentz Dort', 'Luguentz Dort', 'Cedi Osman', 'Cedi Osman', 'Cedi Osman', 'Cedi Osman', 'Cedi Osman', 'Damian Jones', 'Damian Jones', 'Damian Jones', 'Damian Jones', 'Damian Jones', 'Dru Smith', 'Dru Smith', 'Dru Smith', 'Dru Smith', 'Dru Smith', 'Jamaree Bouyea', 'Jamaree Bouyea', 'Jamaree Bouyea', 'Jamaree Bouyea', 'Jamaree Bouyea', 'Miles McBride', 'Miles McBride', 'Miles McBride', 'Miles McBride', 'Miles McBride', 'Keita Bates-Diop', 'Keita Bates-Diop', 'Keita Bates-Diop', 'Keita Bates-Diop', 'Keita Bates-Diop', 'Jalen Suggs', 'Jalen Suggs', 'Jalen Suggs', 'Jalen Suggs', 'Jalen Suggs', 'Onyeka Okongwu', 'Onyeka Okongwu', 'Onyeka Okongwu', 'Onyeka Okongwu', 'Onyeka Okongwu', 'Trevor Hudgins', 'Trevor Hudgins', 'Trevor Hudgins', 'Trevor Hudgins', 'Trevor Hudgins', 'Jae Crowder', 'Jae Crowder', 'Jae Crowder', 'Jae Crowder', 'Jae Crowder', 'Mike Muscala', 'Mike Muscala', 'Mike Muscala', 'Mike Muscala', 'Mike Muscala', 'Saddiq Bey', 'Saddiq Bey', 'Saddiq Bey', 'Saddiq Bey', 'Saddiq Bey', 'Kessler Edwards', 'Kessler Edwards', 'Kessler Edwards', 'Kessler Edwards', 'Kessler Edwards', 'Dyson Daniels', 'Dyson Daniels', 'Dyson Daniels', 'Dyson Daniels', 'Dyson Daniels', 'Domantas Sabonis', 'Domantas Sabonis', 'Domantas Sabonis', 'Domantas Sabonis', 'Domantas Sabonis', 'Doug McDermott', 'Doug McDermott', 'Doug McDermott', 'Doug McDermott', 'Doug McDermott', 'Taurean Prince', 'Taurean Prince', 'Taurean Prince', 'Taurean Prince', 'Taurean Prince', 'Garrison Mathews', 'Garrison Mathews', 'Garrison Mathews', 'Garrison Mathews', 'Garrison Mathews', 'Trey Murphy III', 'Trey Murphy III', 'Trey Murphy III', 'Trey Murphy III', 'Trey Murphy III', 'Brandon Miller', 'Brandon Miller', 'Brandon Miller', 'Brandon Miller', 'Brandon Miller', \"Jae'sean Tate\", \"Jae'sean Tate\", \"Jae'sean Tate\", \"Jae'sean Tate\", \"Jae'sean Tate\", 'Kobi Simmons', 'Kobi Simmons', 'Kobi Simmons', 'Kobi Simmons', 'Kobi Simmons', 'Cory Joseph', 'Cory Joseph', 'Cory Joseph', 'Cory Joseph', 'Cory Joseph', 'Jordan McLaughlin', 'Jordan McLaughlin', 'Jordan McLaughlin', 'Jordan McLaughlin', 'Jordan McLaughlin', 'Braxton Key', 'Braxton Key', 'Braxton Key', 'Braxton Key', 'Braxton Key', 'Dalano Banton', 'Dalano Banton', 'Dalano Banton', 'Dalano Banton', 'Dalano Banton', 'Josh Green', 'Josh Green', 'Josh Green', 'Josh Green', 'Josh Green', 'Jarred Vanderbilt', 'Jarred Vanderbilt', 'Jarred Vanderbilt', 'Jarred Vanderbilt', 'Jarred Vanderbilt', 'Brandon Clarke', 'Brandon Clarke', 'Brandon Clarke', 'Brandon Clarke', 'Brandon Clarke', 'Kevin Huerter', 'Kevin Huerter', 'Kevin Huerter', 'Kevin Huerter', 'Kevin Huerter', 'Tosan Evbuomwan', 'Tosan Evbuomwan', 'Tosan Evbuomwan', 'Tosan Evbuomwan', 'Tosan Evbuomwan', 'Aaron Wiggins', 'Aaron Wiggins', 'Aaron Wiggins', 'Aaron Wiggins', 'Aaron Wiggins', 'Kentavious Caldwell-Pope', 'Kentavious Caldwell-Pope', 'Kentavious Caldwell-Pope', 'Kentavious Caldwell-Pope', 'Kentavious Caldwell-Pope', 'Ja Morant', 'Ja Morant', 'Ja Morant', 'Ja Morant', 'Ja Morant', 'Josh Giddey', 'Josh Giddey', 'Josh Giddey', 'Josh Giddey', 'Josh Giddey', 'Trey Lyles', 'Trey Lyles', 'Trey Lyles', 'Trey Lyles', 'Trey Lyles', 'Julian Champagnie', 'Julian Champagnie', 'Julian Champagnie', 'Julian Champagnie', 'Julian Champagnie', 'Kendall Brown', 'Kendall Brown', 'Kendall Brown', 'Kendall Brown', 'Kendall Brown', 'Nick Richards', 'Nick Richards', 'Nick Richards', 'Nick Richards', 'Nick Richards', 'Troy Brown, Jr.', 'Troy Brown, Jr.', 'Troy Brown, Jr.', 'Troy Brown, Jr.', 'Troy Brown, Jr.', 'Dylan Windler', 'Dylan Windler', 'Dylan Windler', 'Dylan Windler', 'Dylan Windler', 'Jonas Valanciunas', 'Jonas Valanciunas', 'Jonas Valanciunas', 'Jonas Valanciunas', 'Jonas Valanciunas', 'Isaiah Stewart II', 'Isaiah Stewart II', 'Isaiah Stewart II', 'Isaiah Stewart II', 'Isaiah Stewart II', 'Dean Wade', 'Dean Wade', 'Dean Wade', 'Dean Wade', 'Dean Wade', 'Nick Smith, Jr.', 'Nick Smith, Jr.', 'Nick Smith, Jr.', 'Nick Smith, Jr.', 'Nick Smith, Jr.', 'Josh Okogie', 'Josh Okogie', 'Josh Okogie', 'Josh Okogie', 'Josh Okogie', 'Amari Bailey', 'Amari Bailey', 'Amari Bailey', 'Amari Bailey', 'Amari Bailey', 'Quentin Grimes', 'Quentin Grimes', 'Quentin Grimes', 'Quentin Grimes', 'Quentin Grimes', 'James Harden', 'James Harden', 'James Harden', 'James Harden', 'James Harden', 'Jaden Ivey', 'Jaden Ivey', 'Jaden Ivey', 'Jaden Ivey', 'Jaden Ivey', 'DaQuan Jeffries', 'DaQuan Jeffries', 'DaQuan Jeffries', 'DaQuan Jeffries', 'DaQuan Jeffries', 'Tyus Jones', 'Tyus Jones', 'Tyus Jones', 'Tyus Jones', 'Tyus Jones', 'Patrick Williams', 'Patrick Williams', 'Patrick Williams', 'Patrick Williams', 'Patrick Williams', 'Payton Pritchard', 'Payton Pritchard', 'Payton Pritchard', 'Payton Pritchard', 'Payton Pritchard', 'Ayo Dosunmu', 'Ayo Dosunmu', 'Ayo Dosunmu', 'Ayo Dosunmu', 'Ayo Dosunmu', 'Toumani Camara', 'Toumani Camara', 'Toumani Camara', 'Toumani Camara', 'Toumani Camara', 'Justin Champagnie', 'Justin Champagnie', 'Justin Champagnie', 'Justin Champagnie', 'Justin Champagnie', 'Mike Conley', 'Mike Conley', 'Mike Conley', 'Mike Conley', 'Mike Conley', 'Isaiah Livers', 'Isaiah Livers', 'Isaiah Livers', 'Isaiah Livers', 'Isaiah Livers', 'Grayson Allen', 'Grayson Allen', 'Grayson Allen', 'Grayson Allen', 'Grayson Allen', 'Santi Aldama', 'Santi Aldama', 'Santi Aldama', 'Santi Aldama', 'Santi Aldama', \"De'Anthony Melton\", \"De'Anthony Melton\", \"De'Anthony Melton\", \"De'Anthony Melton\", \"De'Anthony Melton\", 'Julian Strawther', 'Julian Strawther', 'Julian Strawther', 'Julian Strawther', 'Julian Strawther', 'Usman Garuba', 'Usman Garuba', 'Usman Garuba', 'Usman Garuba', 'Usman Garuba', 'Justin Holiday', 'Justin Holiday', 'Justin Holiday', 'Justin Holiday', 'Justin Holiday', 'Shake Milton', 'Shake Milton', 'Shake Milton', 'Shake Milton', 'Shake Milton', 'Ryan Rollins', 'Ryan Rollins', 'Ryan Rollins', 'Ryan Rollins', 'Ryan Rollins', 'Tyrese Maxey', 'Tyrese Maxey', 'Tyrese Maxey', 'Tyrese Maxey', 'Tyrese Maxey', 'Jeff Green', 'Jeff Green', 'Jeff Green', 'Jeff Green', 'Jeff Green', \"D'Angelo Russell\", \"D'Angelo Russell\", \"D'Angelo Russell\", \"D'Angelo Russell\", \"D'Angelo Russell\", 'Bennedict Mathurin', 'Bennedict Mathurin', 'Bennedict Mathurin', 'Bennedict Mathurin', 'Bennedict Mathurin', 'Kris Dunn', 'Kris Dunn', 'Kris Dunn', 'Kris Dunn', 'Kris Dunn', 'Jayson Tatum', 'Jayson Tatum', 'Jayson Tatum', 'Jayson Tatum', 'Jayson Tatum', 'Paul Reed, Jr.', 'Paul Reed, Jr.', 'Paul Reed, Jr.', 'Paul Reed, Jr.', 'Paul Reed, Jr.', 'OG Anunoby', 'OG Anunoby', 'OG Anunoby', 'OG Anunoby', 'OG Anunoby', 'Nickeil Alexander-Walker', 'Nickeil Alexander-Walker', 'Nickeil Alexander-Walker', 'Nickeil Alexander-Walker', 'Nickeil Alexander-Walker', 'Tre Mann', 'Tre Mann', 'Tre Mann', 'Tre Mann', 'Tre Mann', 'Xavier Sneed', 'Xavier Sneed', 'Xavier Sneed', 'Xavier Sneed', 'Xavier Sneed', 'Jarrett Allen', 'Jarrett Allen', 'Jarrett Allen', 'Jarrett Allen', 'Jarrett Allen', 'Victor Oladipo', 'Victor Oladipo', 'Victor Oladipo', 'Victor Oladipo', 'Victor Oladipo', 'Evan Mobley', 'Evan Mobley', 'Evan Mobley', 'Evan Mobley', 'Evan Mobley', 'Jett Howard', 'Jett Howard', 'Jett Howard', 'Jett Howard', 'Jett Howard', 'Jericho Sims', 'Jericho Sims', 'Jericho Sims', 'Jericho Sims', 'Jericho Sims', 'Bobby Portis', 'Bobby Portis', 'Bobby Portis', 'Bobby Portis', 'Bobby Portis', 'Ibou Badji', 'Ibou Badji', 'Ibou Badji', 'Ibou Badji', 'Ibou Badji', 'Jonathan Isaac', 'Jonathan Isaac', 'Jonathan Isaac', 'Jonathan Isaac', 'Jonathan Isaac', 'Tre Jones', 'Tre Jones', 'Tre Jones', 'Tre Jones', 'Tre Jones', 'Tari Eason', 'Tari Eason', 'Tari Eason', 'Tari Eason', 'Tari Eason', 'DeMar DeRozan', 'DeMar DeRozan', 'DeMar DeRozan', 'DeMar DeRozan', 'DeMar DeRozan', 'Talen Horton-Tucker', 'Talen Horton-Tucker', 'Talen Horton-Tucker', 'Talen Horton-Tucker', 'Talen Horton-Tucker', 'Jeff Dowtin', 'Jeff Dowtin', 'Jeff Dowtin', 'Jeff Dowtin', 'Jeff Dowtin', 'Cam Reddish', 'Cam Reddish', 'Cam Reddish', 'Cam Reddish', 'Cam Reddish', \"Sir'Jabari Rice\", \"Sir'Jabari Rice\", \"Sir'Jabari Rice\", \"Sir'Jabari Rice\", \"Sir'Jabari Rice\", 'Mikal Bridges', 'Mikal Bridges', 'Mikal Bridges', 'Mikal Bridges', 'Mikal Bridges', 'Johnny Davis', 'Johnny Davis', 'Johnny Davis', 'Johnny Davis', 'Johnny Davis', 'John Butler', 'John Butler', 'John Butler', 'John Butler', 'John Butler', 'Chris Duarte', 'Chris Duarte', 'Chris Duarte', 'Chris Duarte', 'Chris Duarte', 'Monte Morris', 'Monte Morris', 'Monte Morris', 'Monte Morris', 'Monte Morris', 'Gradey Dick', 'Gradey Dick', 'Gradey Dick', 'Gradey Dick', 'Gradey Dick', 'C.J. McCollum', 'C.J. McCollum', 'C.J. McCollum', 'C.J. McCollum', 'C.J. McCollum', 'Miles Bridges', 'Miles Bridges', 'Miles Bridges', 'Miles Bridges', 'Miles Bridges', 'Wendell Carter, Jr.', 'Wendell Carter, Jr.', 'Wendell Carter, Jr.', 'Wendell Carter, Jr.', 'Wendell Carter, Jr.', 'Xavier Cooks', 'Xavier Cooks', 'Xavier Cooks', 'Xavier Cooks', 'Xavier Cooks', 'Deandre Ayton', 'Deandre Ayton', 'Deandre Ayton', 'Deandre Ayton', 'Deandre Ayton', 'Walker Kessler', 'Walker Kessler', 'Walker Kessler', 'Walker Kessler', 'Walker Kessler', 'James Bouknight', 'James Bouknight', 'James Bouknight', 'James Bouknight', 'James Bouknight', 'Kevon Harris', 'Kevon Harris', 'Kevon Harris', 'Kevon Harris', 'Kevon Harris', 'Johnny Juzang', 'Johnny Juzang', 'Johnny Juzang', 'Johnny Juzang', 'Johnny Juzang', 'Yuta Watanabe', 'Yuta Watanabe', 'Yuta Watanabe', 'Yuta Watanabe', 'Yuta Watanabe', 'Colby Jones', 'Colby Jones', 'Colby Jones', 'Colby Jones', 'Colby Jones', 'Thaddeus Young', 'Thaddeus Young', 'Thaddeus Young', 'Thaddeus Young', 'Thaddeus Young', 'Caleb Martin', 'Caleb Martin', 'Caleb Martin', 'Caleb Martin', 'Caleb Martin', 'T.J. McConnell', 'T.J. McConnell', 'T.J. McConnell', 'T.J. McConnell', 'T.J. McConnell', 'Cody Zeller', 'Cody Zeller', 'Cody Zeller', 'Cody Zeller', 'Cody Zeller', 'Russell Westbrook', 'Russell Westbrook', 'Russell Westbrook', 'Russell Westbrook', 'Russell Westbrook', 'Joel Embiid', 'Joel Embiid', 'Joel Embiid', 'Joel Embiid', 'Joel Embiid', 'Oshae Brissett', 'Oshae Brissett', 'Oshae Brissett', 'Oshae Brissett', 'Oshae Brissett', 'Nikola Vucevic', 'Nikola Vucevic', 'Nikola Vucevic', 'Nikola Vucevic', 'Nikola Vucevic', 'James Wiseman', 'James Wiseman', 'James Wiseman', 'James Wiseman', 'James Wiseman', 'Onuralp Bitim', 'Onuralp Bitim', 'Onuralp Bitim', 'Onuralp Bitim', 'Onuralp Bitim', 'Jalen Smith', 'Jalen Smith', 'Jalen Smith', 'Jalen Smith', 'Jalen Smith', 'Paolo Banchero', 'Paolo Banchero', 'Paolo Banchero', 'Paolo Banchero', 'Paolo Banchero', 'Brook Lopez', 'Brook Lopez', 'Brook Lopez', 'Brook Lopez', 'Brook Lopez', 'Otto Porter', 'Otto Porter', 'Otto Porter', 'Otto Porter', 'Otto Porter', 'Xavier Tillman, Sr.', 'Xavier Tillman, Sr.', 'Xavier Tillman, Sr.', 'Xavier Tillman, Sr.', 'Xavier Tillman, Sr.', 'Chris Paul', 'Chris Paul', 'Chris Paul', 'Chris Paul', 'Chris Paul', 'Bilal Coulibaly', 'Bilal Coulibaly', 'Bilal Coulibaly', 'Bilal Coulibaly', 'Bilal Coulibaly', 'Devin Vassell', 'Devin Vassell', 'Devin Vassell', 'Devin Vassell', 'Devin Vassell', 'Jabari Walker', 'Jabari Walker', 'Jabari Walker', 'Jabari Walker', 'Jabari Walker', 'Keon Johnson', 'Keon Johnson', 'Keon Johnson', 'Keon Johnson', 'Keon Johnson', 'Jerami Grant', 'Jerami Grant', 'Jerami Grant', 'Jerami Grant', 'Jerami Grant', 'Donovan Mitchell', 'Donovan Mitchell', 'Donovan Mitchell', 'Donovan Mitchell', 'Donovan Mitchell', 'Kyrie Irving', 'Kyrie Irving', 'Kyrie Irving', 'Kyrie Irving', 'Kyrie Irving', 'Isaiah Mobley', 'Isaiah Mobley', 'Isaiah Mobley', 'Isaiah Mobley', 'Isaiah Mobley', 'Obi Toppin', 'Obi Toppin', 'Obi Toppin', 'Obi Toppin', 'Obi Toppin', 'Mouhamed Gueye', 'Mouhamed Gueye', 'Mouhamed Gueye', 'Mouhamed Gueye', 'Mouhamed Gueye', 'Bam Adebayo', 'Bam Adebayo', 'Bam Adebayo', 'Bam Adebayo', 'Bam Adebayo', 'Isaiah Wong', 'Isaiah Wong', 'Isaiah Wong', 'Isaiah Wong', 'Isaiah Wong', 'Paul George', 'Paul George', 'Paul George', 'Paul George', 'Paul George', 'Moses Moody', 'Moses Moody', 'Moses Moody', 'Moses Moody', 'Moses Moody', 'Cameron Payne', 'Cameron Payne', 'Cameron Payne', 'Cameron Payne', 'Cameron Payne', 'Davis Bertans', 'Davis Bertans', 'Davis Bertans', 'Davis Bertans', 'Davis Bertans', 'Seth Curry', 'Seth Curry', 'Seth Curry', 'Seth Curry', 'Seth Curry', 'Isaiah Joe', 'Isaiah Joe', 'Isaiah Joe', 'Isaiah Joe', 'Isaiah Joe', 'Devin Booker', 'Devin Booker', 'Devin Booker', 'Devin Booker', 'Devin Booker', 'Joe Harris', 'Joe Harris', 'Joe Harris', 'Joe Harris', 'Joe Harris', 'Dalen Terry', 'Dalen Terry', 'Dalen Terry', 'Dalen Terry', 'Dalen Terry', 'Sam Hauser', 'Sam Hauser', 'Sam Hauser', 'Sam Hauser', 'Sam Hauser', 'Ben Sheppard', 'Ben Sheppard', 'Ben Sheppard', 'Ben Sheppard', 'Ben Sheppard', 'Chet Holmgren', 'Chet Holmgren', 'Chet Holmgren', 'Chet Holmgren', 'Chet Holmgren', 'Karl-Anthony Towns', 'Karl-Anthony Towns', 'Karl-Anthony Towns', 'Karl-Anthony Towns', 'Karl-Anthony Towns', 'J.T. Thor', 'J.T. Thor', 'J.T. Thor', 'J.T. Thor', 'J.T. Thor', 'Isaiah Hartenstein', 'Isaiah Hartenstein', 'Isaiah Hartenstein', 'Isaiah Hartenstein', 'Isaiah Hartenstein', 'Zach Collins', 'Zach Collins', 'Zach Collins', 'Zach Collins', 'Zach Collins', 'Jonathan Kuminga', 'Jonathan Kuminga', 'Jonathan Kuminga', 'Jonathan Kuminga', 'Jonathan Kuminga', 'Kyle Lowry', 'Kyle Lowry', 'Kyle Lowry', 'Kyle Lowry', 'Kyle Lowry', 'Michael Porter, Jr.', 'Michael Porter, Jr.', 'Michael Porter, Jr.', 'Michael Porter, Jr.', 'Michael Porter, Jr.', 'Max Strus', 'Max Strus', 'Max Strus', 'Max Strus', 'Max Strus', 'Keyontae Johnson', 'Keyontae Johnson', 'Keyontae Johnson', 'Keyontae Johnson', 'Keyontae Johnson', 'Cason Wallace', 'Cason Wallace', 'Cason Wallace', 'Cason Wallace', 'Cason Wallace', 'Scottie Barnes', 'Scottie Barnes', 'Scottie Barnes', 'Scottie Barnes', 'Scottie Barnes', 'Dominick Barlow', 'Dominick Barlow', 'Dominick Barlow', 'Dominick Barlow', 'Dominick Barlow', 'Nathan Knight', 'Nathan Knight', 'Nathan Knight', 'Nathan Knight', 'Nathan Knight', 'Bradley Beal', 'Bradley Beal', 'Bradley Beal', 'Bradley Beal', 'Bradley Beal', 'Luke Kennard', 'Luke Kennard', 'Luke Kennard', 'Luke Kennard', 'Luke Kennard', \"De'Aaron Fox\", \"De'Aaron Fox\", \"De'Aaron Fox\", \"De'Aaron Fox\", \"De'Aaron Fox\", 'Jay Scrubb', 'Jay Scrubb', 'Jay Scrubb', 'Jay Scrubb', 'Jay Scrubb', 'Justin Lewis', 'Justin Lewis', 'Justin Lewis', 'Justin Lewis', 'Justin Lewis', 'Isaiah Roby', 'Isaiah Roby', 'Isaiah Roby', 'Isaiah Roby', 'Isaiah Roby', 'Anthony Black', 'Anthony Black', 'Anthony Black', 'Anthony Black', 'Anthony Black', 'Pat Connaughton', 'Pat Connaughton', 'Pat Connaughton', 'Pat Connaughton', 'Pat Connaughton', 'Vlatko Cancar', 'Vlatko Cancar', 'Vlatko Cancar', 'Vlatko Cancar', 'Vlatko Cancar', 'E.J. Liddell', 'E.J. Liddell', 'E.J. Liddell', 'E.J. Liddell', 'E.J. Liddell', 'Jaden Springer', 'Jaden Springer', 'Jaden Springer', 'Jaden Springer', 'Jaden Springer', 'Dwight Powell', 'Dwight Powell', 'Dwight Powell', 'Dwight Powell', 'Dwight Powell', 'Kevin Durant', 'Kevin Durant', 'Kevin Durant', 'Kevin Durant', 'Kevin Durant', 'Ochai Agbaji', 'Ochai Agbaji', 'Ochai Agbaji', 'Ochai Agbaji', 'Ochai Agbaji', 'Craig Porter, Jr.', 'Craig Porter, Jr.', 'Craig Porter, Jr.', 'Craig Porter, Jr.', 'Craig Porter, Jr.', 'R.J. Barrett', 'R.J. Barrett', 'R.J. Barrett', 'R.J. Barrett', 'R.J. Barrett', 'Dillon Brooks', 'Dillon Brooks', 'Dillon Brooks', 'Dillon Brooks', 'Dillon Brooks', 'Myles Turner', 'Myles Turner', 'Myles Turner', 'Myles Turner', 'Myles Turner', \"Day'Ron Sharpe\", \"Day'Ron Sharpe\", \"Day'Ron Sharpe\", \"Day'Ron Sharpe\", \"Day'Ron Sharpe\", 'LeBron James', 'LeBron James', 'LeBron James', 'LeBron James', 'LeBron James', 'Jarace Walker', 'Jarace Walker', 'Jarace Walker', 'Jarace Walker', 'Jarace Walker', 'Collin Gillespie', 'Collin Gillespie', 'Collin Gillespie', 'Collin Gillespie', 'Collin Gillespie', 'Bones Hyland', 'Bones Hyland', 'Bones Hyland', 'Bones Hyland', 'Bones Hyland', 'Andrew Nembhard', 'Andrew Nembhard', 'Andrew Nembhard', 'Andrew Nembhard', 'Andrew Nembhard', 'Shai Gilgeous-Alexander', 'Shai Gilgeous-Alexander', 'Shai Gilgeous-Alexander', 'Shai Gilgeous-Alexander', 'Shai Gilgeous-Alexander', 'Desmond Bane', 'Desmond Bane', 'Desmond Bane', 'Desmond Bane', 'Desmond Bane', 'Armoni Brooks', 'Armoni Brooks', 'Armoni Brooks', 'Armoni Brooks', 'Armoni Brooks', 'Jaxson Hayes', 'Jaxson Hayes', 'Jaxson Hayes', 'Jaxson Hayes', 'Jaxson Hayes', 'Simone Fontecchio', 'Simone Fontecchio', 'Simone Fontecchio', 'Simone Fontecchio', 'Simone Fontecchio', 'Eugene Omoruyi', 'Eugene Omoruyi', 'Eugene Omoruyi', 'Eugene Omoruyi', 'Eugene Omoruyi', 'Ben Simmons', 'Ben Simmons', 'Ben Simmons', 'Ben Simmons', 'Ben Simmons', 'Matisse Thybulle', 'Matisse Thybulle', 'Matisse Thybulle', 'Matisse Thybulle', 'Matisse Thybulle', 'Evan Fournier', 'Evan Fournier', 'Evan Fournier', 'Evan Fournier', 'Evan Fournier', 'Jaden McDaniels', 'Jaden McDaniels', 'Jaden McDaniels', 'Jaden McDaniels', 'Jaden McDaniels', 'Amir Coffey', 'Amir Coffey', 'Amir Coffey', 'Amir Coffey', 'Amir Coffey', 'Adama Sanogo', 'Adama Sanogo', 'Adama Sanogo', 'Adama Sanogo', 'Adama Sanogo', 'Wendell Moore, Jr.', 'Wendell Moore, Jr.', 'Wendell Moore, Jr.', 'Wendell Moore, Jr.', 'Wendell Moore, Jr.', 'Khris Middleton', 'Khris Middleton', 'Khris Middleton', 'Khris Middleton', 'Khris Middleton', 'Dario Saric', 'Dario Saric', 'Dario Saric', 'Dario Saric', 'Dario Saric', 'Duane Washington, Jr.', 'Duane Washington, Jr.', 'Duane Washington, Jr.', 'Duane Washington, Jr.', 'Duane Washington, Jr.', 'Mitchell Robinson', 'Mitchell Robinson', 'Mitchell Robinson', 'Mitchell Robinson', 'Mitchell Robinson', 'Davion Mitchell', 'Davion Mitchell', 'Davion Mitchell', 'Davion Mitchell', 'Davion Mitchell', 'Kyle Anderson', 'Kyle Anderson', 'Kyle Anderson', 'Kyle Anderson', 'Kyle Anderson', 'Immanuel Quickley', 'Immanuel Quickley', 'Immanuel Quickley', 'Immanuel Quickley', 'Immanuel Quickley', 'Noah Clowney', 'Noah Clowney', 'Noah Clowney', 'Noah Clowney', 'Noah Clowney', 'Grant Williams', 'Grant Williams', 'Grant Williams', 'Grant Williams', 'Grant Williams', 'Malachi Flynn', 'Malachi Flynn', 'Malachi Flynn', 'Malachi Flynn', 'Malachi Flynn', 'Sasha Vezenkov', 'Sasha Vezenkov', 'Sasha Vezenkov', 'Sasha Vezenkov', 'Sasha Vezenkov', 'Kira Lewis, Jr.', 'Kira Lewis, Jr.', 'Kira Lewis, Jr.', 'Kira Lewis, Jr.', 'Kira Lewis, Jr.', 'Jacob Toppin', 'Jacob Toppin', 'Jacob Toppin', 'Jacob Toppin', 'Jacob Toppin', 'Moe Wagner', 'Moe Wagner', 'Moe Wagner', 'Moe Wagner', 'Moe Wagner', 'Malcolm Cazalon', 'Malcolm Cazalon', 'Malcolm Cazalon', 'Malcolm Cazalon', 'Malcolm Cazalon', 'Jaime Jaquez, Jr.', 'Jaime Jaquez, Jr.', 'Jaime Jaquez, Jr.', 'Jaime Jaquez, Jr.', 'Jaime Jaquez, Jr.', 'K.J. Martin', 'K.J. Martin', 'K.J. Martin', 'K.J. Martin', 'K.J. Martin', 'Kenrich Williams', 'Kenrich Williams', 'Kenrich Williams', 'Kenrich Williams', 'Kenrich Williams', 'Marcus Smart', 'Marcus Smart', 'Marcus Smart', 'Marcus Smart', 'Marcus Smart', 'Ish Wainright', 'Ish Wainright', 'Ish Wainright', 'Ish Wainright', 'Ish Wainright', 'Jordan Walsh', 'Jordan Walsh', 'Jordan Walsh', 'Jordan Walsh', 'Jordan Walsh', 'Jalen Green', 'Jalen Green', 'Jalen Green', 'Jalen Green', 'Jalen Green', 'Leaky Black', 'Leaky Black', 'Leaky Black', 'Leaky Black', 'Leaky Black', 'Draymond Green', 'Draymond Green', 'Draymond Green', 'Draymond Green', 'Draymond Green', 'Jalen Slawson', 'Jalen Slawson', 'Jalen Slawson', 'Jalen Slawson', 'Jalen Slawson', 'Dennis Smith', 'Dennis Smith', 'Dennis Smith', 'Dennis Smith', 'Dennis Smith', 'Buddy Hield', 'Buddy Hield', 'Buddy Hield', 'Buddy Hield', 'Buddy Hield', 'Bruce Brown, Jr.', 'Bruce Brown, Jr.', 'Bruce Brown, Jr.', 'Bruce Brown, Jr.', 'Bruce Brown, Jr.', 'Daniel Gafford', 'Daniel Gafford', 'Daniel Gafford', 'Daniel Gafford', 'Daniel Gafford', 'Andre Drummond', 'Andre Drummond', 'Andre Drummond', 'Andre Drummond', 'Andre Drummond', 'Jordan Nwora', 'Jordan Nwora', 'Jordan Nwora', 'Jordan Nwora', 'Jordan Nwora', 'Derrick Rose', 'Derrick Rose', 'Derrick Rose', 'Derrick Rose', 'Derrick Rose', 'Blake Wesley', 'Blake Wesley', 'Blake Wesley', 'Blake Wesley', 'Blake Wesley', 'Bogdan Bogdanovic', 'Bogdan Bogdanovic', 'Bogdan Bogdanovic', 'Bogdan Bogdanovic', 'Bogdan Bogdanovic', 'Marcus Sasser', 'Marcus Sasser', 'Marcus Sasser', 'Marcus Sasser', 'Marcus Sasser', 'Ausar Thompson', 'Ausar Thompson', 'Ausar Thompson', 'Ausar Thompson', 'Ausar Thompson', 'Naz Reid', 'Naz Reid', 'Naz Reid', 'Naz Reid', 'Naz Reid', 'Amen Thompson', 'Amen Thompson', 'Amen Thompson', 'Amen Thompson', 'Tyrese Haliburton', 'Tyrese Haliburton', 'Tyrese Haliburton', 'Tyrese Haliburton', 'Tyrese Haliburton', 'MarJon Beauchamp', 'MarJon Beauchamp', 'MarJon Beauchamp', 'MarJon Beauchamp', 'MarJon Beauchamp', 'Jaylen Clark', 'Jaylen Clark', 'Jaylen Clark', 'Jaylen Clark', 'Jaylen Clark', 'Corey Kispert', 'Corey Kispert', 'Corey Kispert', 'Corey Kispert', 'Corey Kispert', 'Olivier-Maxence Prosper', 'Olivier-Maxence Prosper', 'Olivier-Maxence Prosper', 'Olivier-Maxence Prosper', 'Olivier-Maxence Prosper', 'Dereck Lively II', 'Dereck Lively II', 'Dereck Lively II', 'Dereck Lively II', 'Dereck Lively II', 'Ousmane Dieng', 'Ousmane Dieng', 'Ousmane Dieng', 'Ousmane Dieng', 'Ousmane Dieng', 'LaMelo Ball', 'LaMelo Ball', 'LaMelo Ball', 'LaMelo Ball', 'LaMelo Ball', 'Fred VanVleet', 'Fred VanVleet', 'Fred VanVleet', 'Fred VanVleet', 'Fred VanVleet', 'Furkan Korkmaz', 'Furkan Korkmaz', 'Furkan Korkmaz', 'Furkan Korkmaz', 'Furkan Korkmaz', 'Nicolas Batum', 'Nicolas Batum', 'Nicolas Batum', 'Nicolas Batum', 'Nicolas Batum', 'Eric Gordon', 'Eric Gordon', 'Eric Gordon', 'Eric Gordon', 'Eric Gordon', 'Luka Garza', 'Luka Garza', 'Luka Garza', 'Luka Garza', 'Luka Garza', 'Maxwell Lewis', 'Maxwell Lewis', 'Maxwell Lewis', 'Maxwell Lewis', 'Maxwell Lewis', 'Lauri Markkanen', 'Lauri Markkanen', 'Lauri Markkanen', 'Lauri Markkanen', 'Lauri Markkanen', 'Jalen Duren', 'Jalen Duren', 'Jalen Duren', 'Jalen Duren', 'Jalen Duren', 'Josh Richardson', 'Josh Richardson', 'Josh Richardson', 'Josh Richardson', 'Josh Richardson', 'Dariq Whitehead', 'Dariq Whitehead', 'Dariq Whitehead', 'Dariq Whitehead', 'Dariq Whitehead', 'Joe Ingles', 'Joe Ingles', 'Joe Ingles', 'Joe Ingles', 'Joe Ingles', 'Zach LaVine', 'Zach LaVine', 'Zach LaVine', 'Zach LaVine', 'Zach LaVine', 'Cameron Johnson', 'Cameron Johnson', 'Cameron Johnson', 'Cameron Johnson', 'Cameron Johnson', 'Chris Livingston', 'Chris Livingston', 'Chris Livingston', 'Chris Livingston', 'Chris Livingston', 'Jalen Johnson', 'Jalen Johnson', 'Jalen Johnson', 'Jalen Johnson', 'Jalen Johnson', 'Charles Bassey', 'Charles Bassey', 'Charles Bassey', 'Charles Bassey', 'Charles Bassey', 'Jose Alvarado', 'Jose Alvarado', 'Jose Alvarado', 'Jose Alvarado', 'Jose Alvarado', 'Vit Krejci', 'Vit Krejci', 'Vit Krejci', 'Vit Krejci', 'Vit Krejci', 'Collin Sexton', 'Collin Sexton', 'Collin Sexton', 'Collin Sexton', 'Collin Sexton', 'Darius Days', 'Darius Days', 'Darius Days', 'Darius Days', 'Darius Days', 'Brandon Ingram', 'Brandon Ingram', 'Brandon Ingram', 'Brandon Ingram', 'Brandon Ingram', 'Steven Adams', 'Steven Adams', 'Steven Adams', 'Steven Adams', 'Steven Adams', 'Brice Sensabaugh', 'Brice Sensabaugh', 'Brice Sensabaugh', 'Brice Sensabaugh', 'Brice Sensabaugh', 'TyTy Washington, Jr.', 'TyTy Washington, Jr.', 'TyTy Washington, Jr.', 'TyTy Washington, Jr.', 'TyTy Washington, Jr.', 'Sandro Mamukelashvili', 'Sandro Mamukelashvili', 'Sandro Mamukelashvili', 'Sandro Mamukelashvili', 'Sandro Mamukelashvili', 'Killian Hayes', 'Killian Hayes', 'Killian Hayes', 'Killian Hayes', 'Killian Hayes', 'Drew Eubanks', 'Drew Eubanks', 'Drew Eubanks', 'Drew Eubanks', 'Drew Eubanks', 'Alperen Sengun', 'Alperen Sengun', 'Alperen Sengun', 'Alperen Sengun', 'Alperen Sengun', 'Aaron Nesmith', 'Aaron Nesmith', 'Aaron Nesmith', 'Aaron Nesmith', 'Aaron Nesmith', 'Vincent Williams, Jr.', 'Vincent Williams, Jr.', 'Vincent Williams, Jr.', 'Vincent Williams, Jr.', 'Vincent Williams, Jr.', 'Malcolm Brogdon', 'Malcolm Brogdon', 'Malcolm Brogdon', 'Malcolm Brogdon', 'Malcolm Brogdon', 'Rayan Rupert', 'Rayan Rupert', 'Rayan Rupert', 'Rayan Rupert', 'Rayan Rupert', 'Bruno Fernando', 'Bruno Fernando', 'Bruno Fernando', 'Bruno Fernando', 'Bruno Fernando', 'Malaki Branham', 'Malaki Branham', 'Malaki Branham', 'Malaki Branham', 'Malaki Branham', 'John Konchar', 'John Konchar', 'John Konchar', 'John Konchar', 'John Konchar', 'Terquavion Smith', 'Terquavion Smith', 'Terquavion Smith', 'Terquavion Smith', 'Terquavion Smith', 'Herb Jones', 'Herb Jones', 'Herb Jones', 'Herb Jones', 'Herb Jones', 'Mohamed Bamba', 'Mohamed Bamba', 'Mohamed Bamba', 'Mohamed Bamba', 'Mohamed Bamba', 'Daniel Theis', 'Daniel Theis', 'Daniel Theis', 'Daniel Theis', 'Daniel Theis', 'Oscar Tshiebwe', 'Oscar Tshiebwe', 'Oscar Tshiebwe', 'Oscar Tshiebwe', 'Oscar Tshiebwe', 'Micah Potter', 'Micah Potter', 'Micah Potter', 'Micah Potter', 'Micah Potter', 'Miles Norris', 'Miles Norris', 'Miles Norris', 'Miles Norris', 'Miles Norris', 'Anfernee Simons', 'Anfernee Simons', 'Anfernee Simons', 'Anfernee Simons', 'Anfernee Simons', 'Chris Boucher', 'Chris Boucher', 'Chris Boucher', 'Chris Boucher', 'Chris Boucher', 'Mark Williams', 'Mark Williams', 'Mark Williams', 'Mark Williams', 'Mark Williams', 'Jason Preston', 'Jason Preston', 'Jason Preston', 'Jason Preston', 'Jason Preston', 'Jock Landale', 'Jock Landale', 'Jock Landale', 'Jock Landale', 'Jock Landale', 'Pascal Siakam', 'Pascal Siakam', 'Pascal Siakam', 'Pascal Siakam', 'Pascal Siakam', 'Caleb Houstan', 'Caleb Houstan', 'Caleb Houstan', 'Caleb Houstan', 'Caleb Houstan', 'Caris LeVert', 'Caris LeVert', 'Caris LeVert', 'Caris LeVert', 'Caris LeVert', 'Nikola Jokic', 'Nikola Jokic', 'Nikola Jokic', 'Nikola Jokic', 'Nikola Jokic', 'Kyle Kuzma', 'Kyle Kuzma', 'Kyle Kuzma', 'Kyle Kuzma', 'Kyle Kuzma', 'Jalen Hood-Schifino', 'Jalen Hood-Schifino', 'Jalen Hood-Schifino', 'Jalen Hood-Schifino', 'Jalen Hood-Schifino', 'Alex Fudge', 'Alex Fudge', 'Alex Fudge', 'Julian Phillips', 'Julian Phillips', 'Julian Phillips', 'Julian Phillips', 'Julian Phillips', 'Deni Avdija', 'Deni Avdija', 'Deni Avdija', 'Deni Avdija', 'Deni Avdija', 'Kevin Porter, Jr.', 'Kevin Porter, Jr.', 'Kevin Porter, Jr.', 'Kevin Porter, Jr.', 'Kevin Porter, Jr.', 'David Roddy', 'David Roddy', 'David Roddy', 'David Roddy', 'Isaiah Todd', 'Isaiah Todd', 'Isaiah Todd', 'Isaiah Todd', 'Isaiah Todd', 'Jazian Gortman', 'Jazian Gortman', 'Jazian Gortman', 'Jazian Gortman', 'Jazian Gortman', 'Donte DiVincenzo', 'Donte DiVincenzo', 'Donte DiVincenzo', 'Donte DiVincenzo', 'Donte DiVincenzo', 'Bol Bol', 'Bol Bol', 'Bol Bol', 'Bol Bol', 'Bol Bol', 'Christian Koloko', 'Christian Koloko', 'Christian Koloko', 'Christian Koloko', 'Christian Koloko', 'Jaden Hardy', 'Jaden Hardy', 'Jaden Hardy', 'Jaden Hardy', 'Jaden Hardy', 'Colin Castleton', 'Colin Castleton', 'Colin Castleton', 'Colin Castleton', 'Colin Castleton', 'Aaron Holiday', 'Aaron Holiday', 'Aaron Holiday', 'Aaron Holiday', 'Aaron Holiday', 'Armaan Franklin', 'Armaan Franklin', 'Armaan Franklin', 'Armaan Franklin', 'Armaan Franklin', 'Jared Butler', 'Jared Butler', 'Jared Butler', 'Jared Butler', 'Jared Butler', 'Cole Anthony', 'Cole Anthony', 'Cole Anthony', 'Cole Anthony', 'Cole Anthony', 'Cade Cunningham', 'Cade Cunningham', 'Cade Cunningham', 'Cade Cunningham', 'Cade Cunningham', 'Clint Capela', 'Clint Capela', 'Clint Capela', 'Clint Capela', 'Clint Capela', 'Reggie Jackson', 'Reggie Jackson', 'Reggie Jackson', 'Reggie Jackson', 'Reggie Jackson', 'Luka Doncic', 'Luka Doncic', 'Luka Doncic', 'Luka Doncic', 'Luka Doncic', 'Chuma Okeke', 'Chuma Okeke', 'Chuma Okeke', 'Chuma Okeke', 'Chuma Okeke', 'Torrey Craig', 'Torrey Craig', 'Torrey Craig', 'Torrey Craig', 'Torrey Craig', 'Jusuf Nurkic', 'Jusuf Nurkic', 'Jusuf Nurkic', 'Jusuf Nurkic', 'Jusuf Nurkic', 'Dennis Schroder', 'Dennis Schroder', 'Dennis Schroder', 'Dennis Schroder', 'Dennis Schroder', 'Keegan Murray', 'Keegan Murray', 'Keegan Murray', 'Keegan Murray', 'Keegan Murray', 'Carlik Jones', 'Carlik Jones', 'Carlik Jones', 'Carlik Jones', 'Carlik Jones', 'Aleksej Pokusevski', 'Aleksej Pokusevski', 'Aleksej Pokusevski', 'Aleksej Pokusevski', 'Aleksej Pokusevski', 'Gabe Vincent', 'Gabe Vincent', 'Gabe Vincent', 'Gabe Vincent', 'Gabe Vincent', 'Robert Williams', 'Robert Williams', 'Robert Williams', 'Robert Williams', 'Robert Williams', 'Norman Powell', 'Norman Powell', 'Norman Powell', 'Norman Powell', 'Norman Powell', 'Dereon Seabron', 'Dereon Seabron', 'Dereon Seabron', 'Dereon Seabron', 'Dereon Seabron', 'Anthony Gill', 'Anthony Gill', 'Anthony Gill', 'Anthony Gill', 'Anthony Gill', 'Patty Mills', 'Patty Mills', 'Patty Mills', 'Patty Mills', 'Patty Mills', 'Patrick Beverley', 'Patrick Beverley', 'Patrick Beverley', 'Patrick Beverley', 'Patrick Beverley', 'Victor Wembanyama', 'Victor Wembanyama', 'Victor Wembanyama', 'Victor Wembanyama', 'Victor Wembanyama', 'Kenny Lofton, Jr.', 'Kenny Lofton, Jr.', 'Kenny Lofton, Jr.', 'Kenny Lofton, Jr.', 'Zion Williamson', 'Zion Williamson', 'Zion Williamson', 'Zion Williamson', 'Zion Williamson', 'Giannis Antetokounmpo', 'Giannis Antetokounmpo', 'Giannis Antetokounmpo', 'Giannis Antetokounmpo', 'Giannis Antetokounmpo', 'James Huff', 'James Huff', 'James Huff', 'James Huff', 'James Huff', 'Emoni Bates', 'Emoni Bates', 'Emoni Bates', 'Emoni Bates', 'Emoni Bates', 'Jrue Holiday', 'Jrue Holiday', 'Jrue Holiday', 'Jrue Holiday', 'Jrue Holiday', 'Nicolas Claxton', 'Nicolas Claxton', 'Nicolas Claxton', 'Nicolas Claxton', 'Nicolas Claxton', 'Orlando Robinson', 'Orlando Robinson', 'Orlando Robinson', 'Orlando Robinson', 'Orlando Robinson', 'Alec Burks', 'Alec Burks', 'Alec Burks', 'Alec Burks', 'Alec Burks', 'Kevon Looney', 'Kevon Looney', 'Kevon Looney', 'Kevon Looney', 'Kevon Looney', 'Franz Wagner', 'Franz Wagner', 'Franz Wagner', 'Franz Wagner', 'Franz Wagner', 'Jimmy Butler', 'Jimmy Butler', 'Jimmy Butler', 'Jimmy Butler', 'Jimmy Butler', 'Jared Rhoden', 'Jared Rhoden', 'Jared Rhoden', 'Jared Rhoden', 'Jared Rhoden', 'Keldon Johnson', 'Keldon Johnson', 'Keldon Johnson', 'Keldon Johnson', 'Keldon Johnson']\n",
      "['B.J. Boston, Jr.', 'B.J. Boston, Jr.', 'B.J. Boston, Jr.', 'B.J. Boston, Jr.', 'B.J. Boston, Jr.', 'Kobe Brown', 'Kobe Brown', 'Kobe Brown', 'Kobe Brown', 'Kobe Brown', 'A.J. Green', 'A.J. Green', 'A.J. Green', 'A.J. Green', 'A.J. Green', 'Danilo Gallinari', 'Danilo Gallinari', 'Danilo Gallinari', 'Danilo Gallinari', 'Danilo Gallinari', 'Dante Exum', 'Dante Exum', 'Dante Exum', 'Dante Exum', 'Dante Exum', 'Christian Braun', 'Christian Braun', 'Christian Braun', 'Christian Braun', 'Duncan Robinson', 'Duncan Robinson', 'Duncan Robinson', 'Georges Niang', 'Georges Niang', 'Robin Lopez', 'Robin Lopez', 'Robin Lopez', 'Robin Lopez', 'Robin Lopez', 'John Collins', 'John Collins', 'John Collins', 'John Collins', 'John Collins', 'Richaun Holmes', 'Richaun Holmes', 'Richaun Holmes', 'Richaun Holmes', 'Richaun Holmes', 'Maxi Kleber', 'Maxi Kleber', 'Maxi Kleber', 'Maxi Kleber', 'Maxi Kleber', 'Terry Rozier', 'Terry Rozier', 'Terry Rozier', 'Terry Rozier', 'Terry Rozier', 'Derrick White', 'Derrick White', 'Derrick White', 'Derrick White', 'Derrick White', 'Isaac Okoro', 'Isaac Okoro', 'Isaac Okoro', 'Isaac Okoro', 'Rui Hachimura', 'Rui Hachimura', 'Rui Hachimura', 'Rui Hachimura', 'Rui Hachimura', 'Kai Jones', 'Kai Jones', 'Kai Jones', 'Kai Jones', 'Kai Jones', 'Stephen Curry', 'Stephen Curry', 'Stephen Curry', 'Stephen Curry', 'Stephen Curry', 'Jamal Murray', 'Jamal Murray', 'Jamal Murray', 'Jamal Murray', 'Jamal Murray', 'Gordon Hayward', 'Gordon Hayward', 'Gordon Hayward', 'Gordon Hayward', 'Gordon Hayward', \"Royce O'Neale\", \"Royce O'Neale\", \"Royce O'Neale\", \"Royce O'Neale\", \"Royce O'Neale\", 'Kris Murray', 'Kris Murray', 'Marvin Bagley III', 'Marvin Bagley III', 'Marvin Bagley III', 'Marvin Bagley III', 'Marvin Bagley III', 'Tyler Herro', 'Tyler Herro', 'Tyler Herro', 'Tyler Herro', 'Tyler Herro', 'Zeke Nnaji', 'Zeke Nnaji', 'Zeke Nnaji', 'Zeke Nnaji', 'Zeke Nnaji', 'Trae Young', 'Trae Young', 'Trae Young', 'Trae Young', 'Trae Young', 'Haywood Highsmith', 'Haywood Highsmith', 'Haywood Highsmith', 'Haywood Highsmith', 'Haywood Highsmith', 'JaVale McGee', 'JaVale McGee', 'JaVale McGee', 'JaVale McGee', 'JaVale McGee', 'Al Horford', 'Al Horford', 'Al Horford', 'Al Horford', 'Al Horford', 'Ivica Zubac', 'Ivica Zubac', 'Ivica Zubac', 'Ivica Zubac', 'Ivica Zubac', 'Ron Harper', 'Ron Harper', 'Ron Harper', 'Cody Martin', 'Cody Martin', 'Kevin Love', 'Kevin Love', 'Kevin Love', 'Kevin Love', 'Kevin Love', 'Kawhi Leonard', 'Kawhi Leonard', 'Kawhi Leonard', 'Kawhi Leonard', 'Kawhi Leonard', 'Nerlens Noel', 'Nerlens Noel', 'Nerlens Noel', 'Nerlens Noel', 'Nerlens Noel', 'Coby White', 'Coby White', 'Coby White', 'Coby White', 'Coby White', 'Jacob Gilyard', 'Jacob Gilyard', 'Jacob Gilyard', 'Seth Lundy', 'Seth Lundy', 'Seth Lundy', 'Mike Miles, Jr.', 'Mike Miles, Jr.', 'Mike Miles, Jr.', 'Mike Miles, Jr.', 'Mike Miles, Jr.', 'Jaylen Brown', 'Jaylen Brown', 'Jaylen Brown', 'Jaylen Brown', 'Jaylen Brown', 'Luka Samanic', 'Luka Samanic', 'Larry Nance, Jr.', 'Larry Nance, Jr.', 'Larry Nance, Jr.', 'Larry Nance, Jr.', 'Larry Nance, Jr.', 'Spencer Dinwiddie', 'Spencer Dinwiddie', 'Spencer Dinwiddie', 'Spencer Dinwiddie', 'Spencer Dinwiddie', 'Keyonte George', 'Keyonte George', 'Keyonte George', 'Keyonte George', 'Keyonte George', 'Kelly Olynyk', 'Kelly Olynyk', 'Kelly Olynyk', 'Kelly Olynyk', 'Kelly Olynyk', 'Gary Harris', 'Gary Harris', 'Gary Harris', 'Gary Harris', 'Gary Harris', 'Saben Lee', 'Saben Lee', 'Saben Lee', 'Saben Lee', 'Saben Lee', 'Taylor Hendricks', 'Taylor Hendricks', 'Taylor Hendricks', 'Taylor Hendricks', 'Taylor Hendricks', 'Max Christie', 'Max Christie', 'Max Christie', 'Max Christie', 'Max Christie', 'Josh Christopher', 'Josh Christopher', 'Josh Christopher', 'Josh Christopher', 'Nikola Jovic', 'Nikola Jovic', 'Nikola Jovic', 'Nikola Jovic', 'Nikola Jovic', 'Patrick Baldwin, Jr.', 'Patrick Baldwin, Jr.', 'Patrick Baldwin, Jr.', 'Patrick Baldwin, Jr.', 'Patrick Baldwin, Jr.', 'Robert Covington', 'Robert Covington', 'Robert Covington', 'Robert Covington', 'Robert Covington', 'Thanasis Antetokounmpo', 'Thanasis Antetokounmpo', 'Thanasis Antetokounmpo', 'Thanasis Antetokounmpo', 'Thanasis Antetokounmpo', 'Jordan Hawkins', 'Jordan Hawkins', 'Jordan Hawkins', 'Jordan Hawkins', 'Jordan Hawkins', 'Damian Lillard', 'Damian Lillard', 'Damian Lillard', 'Damian Lillard', 'Damian Lillard', 'Ty Jerome', 'Ty Jerome', 'Ty Jerome', 'Ty Jerome', 'Ty Jerome', 'Leonard Miller', 'Leonard Miller', 'Leonard Miller', 'Leonard Miller', 'Leonard Miller', 'Jake LaRavia', 'Jake LaRavia', 'Jake LaRavia', 'Julius Randle', 'Julius Randle', 'Julius Randle', 'Julius Randle', 'Julius Randle', 'Cam Thomas', 'Cam Thomas', 'Cam Thomas', 'Cam Thomas', 'Cam Thomas', 'Javon Freeman-Liberty', 'Javon Freeman-Liberty', 'Javon Freeman-Liberty', 'Javon Freeman-Liberty', 'Trayce Jackson-Davis', 'Trayce Jackson-Davis', 'Trayce Jackson-Davis', 'Trayce Jackson-Davis', 'Trayce Jackson-Davis', 'Tobias Harris', 'Tobias Harris', 'Tobias Harris', 'Tobias Harris', 'Tobias Harris', 'Alex Len', 'Alex Len', 'Alex Len', 'Alex Len', 'Alex Len', 'Ricky Council IV', 'Ricky Council IV', 'Ricky Council IV', 'Ricky Council IV', 'Ricky Council IV', 'Admiral Schofield', 'Admiral Schofield', 'Admiral Schofield', 'Admiral Schofield', 'Admiral Schofield', 'Jalen McDaniels', 'Jalen McDaniels', 'Jalen McDaniels', 'Jalen McDaniels', 'Jalen McDaniels', 'Anthony Edwards', 'Anthony Edwards', 'Anthony Edwards', 'Anthony Edwards', 'Anthony Edwards', 'Darius Bazley', 'Darius Bazley', 'Darius Bazley', 'Darius Bazley', 'Darius Bazley', 'Moussa Diabate', 'Moussa Diabate', 'Moussa Diabate', 'Moussa Diabate', 'Moussa Diabate', 'Damion Lee', 'Damion Lee', 'Damion Lee', 'Damion Lee', 'Damion Lee', 'Jabari Smith, Jr.', 'Jabari Smith, Jr.', 'Jabari Smith, Jr.', 'Jabari Smith, Jr.', 'Jabari Smith, Jr.', 'Jordan Clarkson', 'Bojan Bogdanovic', 'Bojan Bogdanovic', 'Bojan Bogdanovic', 'Bojan Bogdanovic', 'Bojan Bogdanovic', 'Scoot Henderson', 'Scoot Henderson', 'Scoot Henderson', 'Scoot Henderson', 'Peyton Watson', 'Peyton Watson', 'Peyton Watson', 'Peyton Watson', 'A.J. Lawson', 'A.J. Lawson', 'A.J. Lawson', 'A.J. Lawson', 'Dejounte Murray', 'Dejounte Murray', 'Dejounte Murray', 'Dejounte Murray', 'Dejounte Murray', 'Lindell Wigginton', 'Lindell Wigginton', 'Lindell Wigginton', 'Lindell Wigginton', 'Lindell Wigginton', 'Markquis Nowell', 'Markquis Nowell', 'Markquis Nowell', 'Markquis Nowell', 'Joshua Obiesie', 'Joshua Obiesie', 'Joshua Obiesie', 'Joshua Obiesie', 'Joshua Obiesie', 'Reggie Bullock', 'Reggie Bullock', 'Reggie Bullock', 'Reggie Bullock', 'Reggie Bullock', 'Jeremy Sochan', 'Jeremy Sochan', 'Jeremy Sochan', 'Jeremy Sochan', 'Jeremy Sochan', 'Delon Wright', 'Delon Wright', 'Delon Wright', 'Delon Wright', 'Delon Wright', 'Sam Merrill', 'Sam Merrill', 'Sam Merrill', 'Sam Merrill', 'Sam Merrill', 'Jalen Pickett', 'Jalen Pickett', 'Jalen Pickett', 'Dorian Finney-Smith', 'Dorian Finney-Smith', 'Dorian Finney-Smith', 'Dorian Finney-Smith', 'Dorian Finney-Smith', 'P.J. Tucker', 'P.J. Tucker', 'P.J. Tucker', 'P.J. Tucker', 'P.J. Tucker', 'Malik Beasley', 'Malik Beasley', 'Malik Beasley', 'Malik Beasley', 'Malik Beasley', \"De'Andre Hunter\", \"De'Andre Hunter\", \"De'Andre Hunter\", \"De'Andre Hunter\", \"De'Andre Hunter\", 'Harrison Barnes', 'Harrison Barnes', 'Harrison Barnes', 'Harrison Barnes', 'Harrison Barnes', 'Jakob Poeltl', 'Jakob Poeltl', 'Jakob Poeltl', 'Jakob Poeltl', 'Jakob Poeltl', 'Filip Petrusev', 'Filip Petrusev', 'Filip Petrusev', 'Filip Petrusev', 'Filip Petrusev', 'Jaren Jackson, Jr.', 'Jaren Jackson, Jr.', 'Jaren Jackson, Jr.', 'Jaren Jackson, Jr.', 'Jaren Jackson, Jr.', 'Lonnie Walker', 'Lonnie Walker', 'Lonnie Walker', 'Lonnie Walker', 'Lonnie Walker', 'Jaylin Williams', 'Jaylin Williams', 'Jaylin Williams', 'Jaylin Williams', 'Rudy Gobert', 'Rudy Gobert', 'Rudy Gobert', 'Rudy Gobert', 'Rudy Gobert', 'Jalen Wilson', 'Jalen Wilson', 'Vasilje Micic', 'Vasilje Micic', 'Vasilje Micic', 'Vasilje Micic', 'Vasilje Micic', 'Jack White', 'Jack White', 'Jack White', 'Jack White', 'Jack White', 'Bryce McGowens', 'Bryce McGowens', 'Bryce McGowens', 'Bryce McGowens', 'Bryce McGowens', 'Gary Trent, Jr.', 'Gary Trent, Jr.', 'Gary Trent, Jr.', 'Gary Trent, Jr.', 'Gary Trent, Jr.', 'Jalen Williams', 'Jalen Williams', 'Jalen Williams', 'Jalen Williams', 'Thomas Bryant', 'Thomas Bryant', 'Thomas Bryant', 'Thomas Bryant', 'Thomas Bryant', 'Marcus Morris', 'Marcus Morris', 'Marcus Morris', 'Marcus Morris', 'Marcus Morris', 'Nassir Little', 'Nassir Little', 'Nassir Little', 'Nassir Little', 'Nassir Little', 'Jordan Poole', 'Jordan Poole', 'Jordan Poole', 'Jordan Poole', 'Jordan Poole', 'Aaron Gordon', 'Aaron Gordon', 'Aaron Gordon', 'Aaron Gordon', 'Aaron Gordon', 'Kristaps Porzingis', 'Kristaps Porzingis', 'Kristaps Porzingis', 'Kristaps Porzingis', 'Kristaps Porzingis', 'Danuel House', 'Danuel House', 'Danuel House', 'Danuel House', 'Danuel House', 'Kobe Bufkin', 'Kobe Bufkin', 'Kobe Bufkin', 'Kobe Bufkin', 'Kobe Bufkin', 'Markelle Fultz', 'Markelle Fultz', 'Markelle Fultz', 'Markelle Fultz', 'Markelle Fultz', 'Chimezie Metu', 'Chimezie Metu', 'Chimezie Metu', 'Chimezie Metu', 'Chimezie Metu', 'Naji Marshall', 'Naji Marshall', 'Naji Marshall', 'Naji Marshall', 'Naji Marshall', 'Andrew Wiggins', 'Andrew Wiggins', 'Andrew Wiggins', 'Andrew Wiggins', 'Andrew Wiggins', 'Sidy Cissoko', 'Sidy Cissoko', 'Sidy Cissoko', 'Sidy Cissoko', 'Sidy Cissoko', \"D'Moi Hodge\", \"D'Moi Hodge\", \"D'Moi Hodge\", 'Darius Garland', 'Darius Garland', 'Darius Garland', 'Darius Garland', 'Darius Garland', 'Wesley Matthews', 'Wesley Matthews', 'Wesley Matthews', 'Wesley Matthews', 'Wesley Matthews', 'Tim Hardaway Jr.', 'Tim Hardaway Jr.', 'Tim Hardaway Jr.', 'Tim Hardaway Jr.', 'Tim Hardaway Jr.', 'Klay Thompson', 'Klay Thompson', 'Klay Thompson', 'Klay Thompson', 'Klay Thompson', 'Jordan Goodwin', 'Jordan Goodwin', 'Jordan Goodwin', 'Jordan Goodwin', 'Jordan Goodwin', 'Khem Birch', 'Khem Birch', 'Khem Birch', 'Khem Birch', 'Khem Birch', 'Andre Jackson, Jr.', 'Andre Jackson, Jr.', 'Andre Jackson, Jr.', 'Andre Jackson, Jr.', 'Andre Jackson, Jr.', 'Luke Kornet', 'Luke Kornet', 'Luke Kornet', 'Luke Kornet', 'Luke Kornet', 'Brandin Podziemski', 'Brandin Podziemski', 'Brandin Podziemski', 'Brandin Podziemski', 'Brandin Podziemski', 'Josh Minott', 'Josh Minott', 'Austin Reaves', 'Austin Reaves', 'Austin Reaves', 'Austin Reaves', 'Austin Reaves', 'Mason Plumlee', 'Mason Plumlee', 'Mason Plumlee', 'Mason Plumlee', 'Mason Plumlee', 'Lester Quinones', 'Lester Quinones', 'Malik Monk', 'Malik Monk', 'Malik Monk', 'Malik Monk', 'Malik Monk', 'Ricky Rubio', 'Ricky Rubio', 'Ricky Rubio', 'Ricky Rubio', 'Ricky Rubio', 'Cam Whitmore', 'Cam Whitmore', 'Cam Whitmore', 'Cam Whitmore', 'Cam Whitmore', 'Precious Achiuwa', 'Precious Achiuwa', 'Precious Achiuwa', 'Precious Achiuwa', 'Precious Achiuwa', 'Jevon Carter', 'Jevon Carter', 'Jevon Carter', 'Jevon Carter', 'Jevon Carter', 'Josh Hart', 'Josh Hart', 'Josh Hart', 'Josh Hart', 'Josh Hart', 'Hunter Tyson', 'Hunter Tyson', 'Hunter Tyson', 'Hunter Tyson', 'Hunter Tyson', 'Alex Caruso', 'Alex Caruso', 'Alex Caruso', 'Alex Caruso', 'Alex Caruso', 'Azuolas Tubelis', 'Azuolas Tubelis', 'Azuolas Tubelis', 'Azuolas Tubelis', 'Azuolas Tubelis', 'Jalen Brunson', 'Jalen Brunson', 'Jalen Brunson', 'Jalen Brunson', 'Jalen Brunson', 'Terance Mann', 'Terance Mann', 'Terance Mann', 'Terance Mann', 'Terance Mann', 'Lonzo Ball', 'Lonzo Ball', 'Lonzo Ball', 'Lonzo Ball', 'Lonzo Ball', 'Jaylen Martin', 'Jaylen Martin', 'Jaylen Martin', 'Jaylen Martin', 'Jaylen Martin', 'Goga Bitadze', 'Goga Bitadze', 'Goga Bitadze', 'Goga Bitadze', 'Goga Bitadze', 'A.J. Griffin, Jr.', 'A.J. Griffin, Jr.', 'Keon Ellis', 'Keon Ellis', 'Keon Ellis', 'Landry Shamet', 'Landry Shamet', 'Landry Shamet', 'Landry Shamet', 'Landry Shamet', 'Jeremiah Robinson-Earl', 'Jeremiah Robinson-Earl', 'Jeremiah Robinson-Earl', 'Jeremiah Robinson-Earl', 'Jeremiah Robinson-Earl', 'Anthony Davis', 'Anthony Davis', 'Anthony Davis', 'Anthony Davis', 'Anthony Davis', 'Gary Payton II', 'Gary Payton II', 'Gary Payton II', 'Gary Payton II', 'Gary Payton II', \"Devonte' Graham\", \"Devonte' Graham\", \"Devonte' Graham\", \"Devonte' Graham\", \"Devonte' Graham\", 'Shaedon Sharpe', 'Shaedon Sharpe', 'Shaedon Sharpe', 'Shaedon Sharpe', 'Shaedon Sharpe', 'Omer Yurtseven', 'Omer Yurtseven', 'Omer Yurtseven', 'Omer Yurtseven', 'Omer Yurtseven', 'Ziaire Williams', 'Ziaire Williams', 'Ziaire Williams', 'Ziaire Williams', 'Ziaire Williams', 'DeAndre Jordan', 'DeAndre Jordan', 'DeAndre Jordan', 'DeAndre Jordan', 'DeAndre Jordan', 'Isaiah Jackson', 'Isaiah Jackson', 'Isaiah Jackson', 'Isaiah Jackson', 'Isaiah Jackson', 'J.D. Davison', 'J.D. Davison', 'J.D. Davison', 'J.D. Davison', 'J.D. Davison', 'Montrezl Harrell', 'Montrezl Harrell', 'Montrezl Harrell', 'Montrezl Harrell', 'Montrezl Harrell', 'Andrew Funk', 'Luguentz Dort', 'Luguentz Dort', 'Luguentz Dort', 'Luguentz Dort', 'Luguentz Dort', 'Cedi Osman', 'Cedi Osman', 'Cedi Osman', 'Cedi Osman', 'Cedi Osman', 'Damian Jones', 'Damian Jones', 'Damian Jones', 'Damian Jones', 'Damian Jones', 'Dru Smith', 'Dru Smith', 'Dru Smith', 'Dru Smith', 'Dru Smith', 'Jamaree Bouyea', 'Jamaree Bouyea', 'Miles McBride', 'Miles McBride', 'Miles McBride', 'Miles McBride', 'Miles McBride', 'Keita Bates-Diop', 'Keita Bates-Diop', 'Keita Bates-Diop', 'Keita Bates-Diop', 'Keita Bates-Diop', 'Jalen Suggs', 'Jalen Suggs', 'Jalen Suggs', 'Jalen Suggs', 'Jalen Suggs', 'Onyeka Okongwu', 'Onyeka Okongwu', 'Onyeka Okongwu', 'Onyeka Okongwu', 'Onyeka Okongwu', 'Trevor Hudgins', 'Trevor Hudgins', 'Trevor Hudgins', 'Jae Crowder', 'Jae Crowder', 'Jae Crowder', 'Jae Crowder', 'Jae Crowder', 'Mike Muscala', 'Mike Muscala', 'Mike Muscala', 'Mike Muscala', 'Mike Muscala', 'Saddiq Bey', 'Saddiq Bey', 'Saddiq Bey', 'Saddiq Bey', 'Saddiq Bey', 'Kessler Edwards', 'Kessler Edwards', 'Kessler Edwards', 'Kessler Edwards', 'Kessler Edwards', 'Dyson Daniels', 'Dyson Daniels', 'Dyson Daniels', 'Dyson Daniels', 'Dyson Daniels', 'Domantas Sabonis', 'Domantas Sabonis', 'Domantas Sabonis', 'Domantas Sabonis', 'Domantas Sabonis', 'Doug McDermott', 'Doug McDermott', 'Doug McDermott', 'Doug McDermott', 'Doug McDermott', 'Taurean Prince', 'Taurean Prince', 'Taurean Prince', 'Taurean Prince', 'Taurean Prince', 'Garrison Mathews', 'Garrison Mathews', 'Garrison Mathews', 'Trey Murphy III', 'Trey Murphy III', 'Trey Murphy III', 'Brandon Miller', 'Brandon Miller', 'Brandon Miller', 'Brandon Miller', 'Brandon Miller', \"Jae'sean Tate\", \"Jae'sean Tate\", \"Jae'sean Tate\", \"Jae'sean Tate\", \"Jae'sean Tate\", 'Kobi Simmons', 'Kobi Simmons', 'Kobi Simmons', 'Kobi Simmons', 'Kobi Simmons', 'Cory Joseph', 'Cory Joseph', 'Cory Joseph', 'Cory Joseph', 'Cory Joseph', 'Jordan McLaughlin', 'Jordan McLaughlin', 'Jordan McLaughlin', 'Jordan McLaughlin', 'Braxton Key', 'Braxton Key', 'Braxton Key', 'Braxton Key', 'Braxton Key', 'Dalano Banton', 'Dalano Banton', 'Dalano Banton', 'Dalano Banton', 'Dalano Banton', 'Josh Green', 'Josh Green', 'Josh Green', 'Josh Green', 'Josh Green', 'Jarred Vanderbilt', 'Jarred Vanderbilt', 'Jarred Vanderbilt', 'Jarred Vanderbilt', 'Jarred Vanderbilt', 'Brandon Clarke', 'Brandon Clarke', 'Brandon Clarke', 'Brandon Clarke', 'Brandon Clarke', 'Kevin Huerter', 'Kevin Huerter', 'Kevin Huerter', 'Kevin Huerter', 'Kevin Huerter', 'Tosan Evbuomwan', 'Aaron Wiggins', 'Aaron Wiggins', 'Aaron Wiggins', 'Aaron Wiggins', 'Aaron Wiggins', 'Kentavious Caldwell-Pope', 'Kentavious Caldwell-Pope', 'Kentavious Caldwell-Pope', 'Kentavious Caldwell-Pope', 'Ja Morant', 'Josh Giddey', 'Josh Giddey', 'Josh Giddey', 'Josh Giddey', 'Josh Giddey', 'Trey Lyles', 'Trey Lyles', 'Trey Lyles', 'Trey Lyles', 'Trey Lyles', 'Julian Champagnie', 'Julian Champagnie', 'Julian Champagnie', 'Julian Champagnie', 'Julian Champagnie', 'Kendall Brown', 'Kendall Brown', 'Kendall Brown', 'Kendall Brown', 'Nick Richards', 'Nick Richards', 'Nick Richards', 'Nick Richards', 'Nick Richards', 'Troy Brown, Jr.', 'Troy Brown, Jr.', 'Troy Brown, Jr.', 'Troy Brown, Jr.', 'Troy Brown, Jr.', 'Dylan Windler', 'Dylan Windler', 'Dylan Windler', 'Dylan Windler', 'Dylan Windler', 'Jonas Valanciunas', 'Jonas Valanciunas', 'Jonas Valanciunas', 'Jonas Valanciunas', 'Jonas Valanciunas', 'Isaiah Stewart II', 'Isaiah Stewart II', 'Isaiah Stewart II', 'Isaiah Stewart II', 'Isaiah Stewart II', 'Dean Wade', 'Dean Wade', 'Dean Wade', 'Dean Wade', 'Dean Wade', 'Nick Smith, Jr.', 'Nick Smith, Jr.', 'Nick Smith, Jr.', 'Nick Smith, Jr.', 'Nick Smith, Jr.', 'Josh Okogie', 'Josh Okogie', 'Josh Okogie', 'Josh Okogie', 'Josh Okogie', 'Amari Bailey', 'Amari Bailey', 'Amari Bailey', 'Amari Bailey', 'Amari Bailey', 'Quentin Grimes', 'Quentin Grimes', 'Quentin Grimes', 'Quentin Grimes', 'Quentin Grimes', 'James Harden', 'James Harden', 'James Harden', 'James Harden', 'James Harden', 'Jaden Ivey', 'Jaden Ivey', 'Jaden Ivey', 'Jaden Ivey', 'Jaden Ivey', 'DaQuan Jeffries', 'DaQuan Jeffries', 'DaQuan Jeffries', 'Tyus Jones', 'Tyus Jones', 'Tyus Jones', 'Tyus Jones', 'Tyus Jones', 'Patrick Williams', 'Patrick Williams', 'Patrick Williams', 'Patrick Williams', 'Patrick Williams', 'Payton Pritchard', 'Payton Pritchard', 'Payton Pritchard', 'Payton Pritchard', 'Payton Pritchard', 'Ayo Dosunmu', 'Ayo Dosunmu', 'Ayo Dosunmu', 'Ayo Dosunmu', 'Ayo Dosunmu', 'Toumani Camara', 'Toumani Camara', 'Toumani Camara', 'Toumani Camara', 'Toumani Camara', 'Justin Champagnie', 'Justin Champagnie', 'Justin Champagnie', 'Justin Champagnie', 'Justin Champagnie', 'Mike Conley', 'Mike Conley', 'Mike Conley', 'Mike Conley', 'Mike Conley', 'Isaiah Livers', 'Isaiah Livers', 'Isaiah Livers', 'Isaiah Livers', 'Isaiah Livers', 'Grayson Allen', 'Grayson Allen', 'Grayson Allen', 'Grayson Allen', 'Grayson Allen', 'Santi Aldama', 'Santi Aldama', 'Santi Aldama', 'Santi Aldama', 'Santi Aldama', \"De'Anthony Melton\", \"De'Anthony Melton\", \"De'Anthony Melton\", \"De'Anthony Melton\", \"De'Anthony Melton\", 'Julian Strawther', 'Julian Strawther', 'Julian Strawther', 'Usman Garuba', 'Usman Garuba', 'Usman Garuba', 'Usman Garuba', 'Usman Garuba', 'Justin Holiday', 'Justin Holiday', 'Justin Holiday', 'Justin Holiday', 'Justin Holiday', 'Shake Milton', 'Shake Milton', 'Shake Milton', 'Shake Milton', 'Shake Milton', 'Ryan Rollins', 'Ryan Rollins', 'Ryan Rollins', 'Ryan Rollins', 'Ryan Rollins', 'Tyrese Maxey', 'Tyrese Maxey', 'Tyrese Maxey', 'Tyrese Maxey', 'Tyrese Maxey', 'Jeff Green', 'Jeff Green', 'Jeff Green', 'Jeff Green', 'Jeff Green', \"D'Angelo Russell\", \"D'Angelo Russell\", \"D'Angelo Russell\", \"D'Angelo Russell\", \"D'Angelo Russell\", 'Bennedict Mathurin', 'Bennedict Mathurin', 'Bennedict Mathurin', 'Bennedict Mathurin', 'Bennedict Mathurin', 'Kris Dunn', 'Kris Dunn', 'Kris Dunn', 'Kris Dunn', 'Kris Dunn', 'Jayson Tatum', 'Jayson Tatum', 'Jayson Tatum', 'Jayson Tatum', 'Jayson Tatum', 'Paul Reed, Jr.', 'Paul Reed, Jr.', 'Paul Reed, Jr.', 'Paul Reed, Jr.', 'Paul Reed, Jr.', 'OG Anunoby', 'OG Anunoby', 'OG Anunoby', 'OG Anunoby', 'OG Anunoby', 'Nickeil Alexander-Walker', 'Nickeil Alexander-Walker', 'Nickeil Alexander-Walker', 'Nickeil Alexander-Walker', 'Nickeil Alexander-Walker', 'Tre Mann', 'Tre Mann', 'Tre Mann', 'Tre Mann', 'Tre Mann', 'Xavier Sneed', 'Xavier Sneed', 'Xavier Sneed', 'Xavier Sneed', 'Xavier Sneed', 'Jarrett Allen', 'Jarrett Allen', 'Jarrett Allen', 'Jarrett Allen', 'Jarrett Allen', 'Victor Oladipo', 'Victor Oladipo', 'Victor Oladipo', 'Victor Oladipo', 'Victor Oladipo', 'Evan Mobley', 'Evan Mobley', 'Evan Mobley', 'Evan Mobley', 'Evan Mobley', 'Jett Howard', 'Jett Howard', 'Jett Howard', 'Jett Howard', 'Jett Howard', 'Jericho Sims', 'Jericho Sims', 'Jericho Sims', 'Jericho Sims', 'Jericho Sims', 'Bobby Portis', 'Bobby Portis', 'Bobby Portis', 'Bobby Portis', 'Bobby Portis', 'Ibou Badji', 'Jonathan Isaac', 'Jonathan Isaac', 'Jonathan Isaac', 'Jonathan Isaac', 'Jonathan Isaac', 'Tre Jones', 'Tre Jones', 'Tre Jones', 'Tre Jones', 'Tre Jones', 'Tari Eason', 'Tari Eason', 'Tari Eason', 'Tari Eason', 'Tari Eason', 'DeMar DeRozan', 'DeMar DeRozan', 'DeMar DeRozan', 'DeMar DeRozan', 'DeMar DeRozan', 'Talen Horton-Tucker', 'Talen Horton-Tucker', 'Talen Horton-Tucker', 'Talen Horton-Tucker', 'Talen Horton-Tucker', 'Jeff Dowtin', 'Cam Reddish', 'Cam Reddish', 'Cam Reddish', 'Cam Reddish', 'Cam Reddish', \"Sir'Jabari Rice\", 'Mikal Bridges', 'Mikal Bridges', 'Mikal Bridges', 'Mikal Bridges', 'Mikal Bridges', 'Johnny Davis', 'Johnny Davis', 'Johnny Davis', 'Johnny Davis', 'Johnny Davis', 'John Butler', 'John Butler', 'John Butler', 'John Butler', 'John Butler', 'Chris Duarte', 'Chris Duarte', 'Chris Duarte', 'Chris Duarte', 'Chris Duarte', 'Monte Morris', 'Monte Morris', 'Monte Morris', 'Monte Morris', 'Monte Morris', 'Gradey Dick', 'Gradey Dick', 'Gradey Dick', 'C.J. McCollum', 'C.J. McCollum', 'C.J. McCollum', 'C.J. McCollum', 'C.J. McCollum', 'Miles Bridges', 'Miles Bridges', 'Miles Bridges', 'Miles Bridges', 'Miles Bridges', 'Wendell Carter, Jr.', 'Wendell Carter, Jr.', 'Wendell Carter, Jr.', 'Wendell Carter, Jr.', 'Wendell Carter, Jr.', 'Xavier Cooks', 'Xavier Cooks', 'Xavier Cooks', 'Xavier Cooks', 'Xavier Cooks', 'Deandre Ayton', 'Deandre Ayton', 'Deandre Ayton', 'Deandre Ayton', 'Deandre Ayton', 'Walker Kessler', 'Walker Kessler', 'Walker Kessler', 'Walker Kessler', 'Walker Kessler', 'James Bouknight', 'James Bouknight', 'James Bouknight', 'James Bouknight', 'James Bouknight', 'Kevon Harris', 'Kevon Harris', 'Kevon Harris', 'Kevon Harris', 'Kevon Harris', 'Johnny Juzang', 'Johnny Juzang', 'Johnny Juzang', 'Johnny Juzang', 'Johnny Juzang', 'Yuta Watanabe', 'Yuta Watanabe', 'Yuta Watanabe', 'Yuta Watanabe', 'Yuta Watanabe', 'Colby Jones', 'Colby Jones', 'Colby Jones', 'Colby Jones', 'Colby Jones', 'Thaddeus Young', 'Thaddeus Young', 'Thaddeus Young', 'Thaddeus Young', 'Thaddeus Young', 'Caleb Martin', 'T.J. McConnell', 'T.J. McConnell', 'T.J. McConnell', 'T.J. McConnell', 'T.J. McConnell', 'Cody Zeller', 'Cody Zeller', 'Cody Zeller', 'Cody Zeller', 'Cody Zeller', 'Russell Westbrook', 'Russell Westbrook', 'Russell Westbrook', 'Russell Westbrook', 'Russell Westbrook', 'Joel Embiid', 'Joel Embiid', 'Joel Embiid', 'Joel Embiid', 'Joel Embiid', 'Oshae Brissett', 'Oshae Brissett', 'Oshae Brissett', 'Oshae Brissett', 'Oshae Brissett', 'Nikola Vucevic', 'Nikola Vucevic', 'Nikola Vucevic', 'Nikola Vucevic', 'Nikola Vucevic', 'James Wiseman', 'James Wiseman', 'James Wiseman', 'James Wiseman', 'James Wiseman', 'Onuralp Bitim', 'Onuralp Bitim', 'Jalen Smith', 'Jalen Smith', 'Jalen Smith', 'Jalen Smith', 'Jalen Smith', 'Paolo Banchero', 'Paolo Banchero', 'Paolo Banchero', 'Paolo Banchero', 'Brook Lopez', 'Brook Lopez', 'Brook Lopez', 'Brook Lopez', 'Brook Lopez', 'Otto Porter', 'Otto Porter', 'Otto Porter', 'Otto Porter', 'Otto Porter', 'Xavier Tillman, Sr.', 'Xavier Tillman, Sr.', 'Xavier Tillman, Sr.', 'Xavier Tillman, Sr.', 'Xavier Tillman, Sr.', 'Chris Paul', 'Chris Paul', 'Chris Paul', 'Chris Paul', 'Chris Paul', 'Bilal Coulibaly', 'Bilal Coulibaly', 'Bilal Coulibaly', 'Bilal Coulibaly', 'Bilal Coulibaly', 'Devin Vassell', 'Devin Vassell', 'Devin Vassell', 'Devin Vassell', 'Devin Vassell', 'Jabari Walker', 'Jabari Walker', 'Jabari Walker', 'Jabari Walker', 'Jabari Walker', 'Keon Johnson', 'Keon Johnson', 'Keon Johnson', 'Keon Johnson', 'Keon Johnson', 'Jerami Grant', 'Jerami Grant', 'Jerami Grant', 'Jerami Grant', 'Jerami Grant', 'Donovan Mitchell', 'Donovan Mitchell', 'Donovan Mitchell', 'Donovan Mitchell', 'Donovan Mitchell', 'Kyrie Irving', 'Kyrie Irving', 'Kyrie Irving', 'Kyrie Irving', 'Kyrie Irving', 'Isaiah Mobley', 'Isaiah Mobley', 'Isaiah Mobley', 'Isaiah Mobley', 'Obi Toppin', 'Obi Toppin', 'Obi Toppin', 'Obi Toppin', 'Obi Toppin', 'Mouhamed Gueye', 'Mouhamed Gueye', 'Mouhamed Gueye', 'Mouhamed Gueye', 'Mouhamed Gueye', 'Bam Adebayo', 'Bam Adebayo', 'Bam Adebayo', 'Bam Adebayo', 'Bam Adebayo', 'Isaiah Wong', 'Isaiah Wong', 'Paul George', 'Paul George', 'Paul George', 'Paul George', 'Paul George', 'Moses Moody', 'Moses Moody', 'Moses Moody', 'Moses Moody', 'Moses Moody', 'Cameron Payne', 'Cameron Payne', 'Cameron Payne', 'Cameron Payne', 'Cameron Payne', 'Davis Bertans', 'Davis Bertans', 'Davis Bertans', 'Davis Bertans', 'Davis Bertans', 'Seth Curry', 'Seth Curry', 'Seth Curry', 'Seth Curry', 'Seth Curry', 'Isaiah Joe', 'Isaiah Joe', 'Isaiah Joe', 'Isaiah Joe', 'Isaiah Joe', 'Devin Booker', 'Devin Booker', 'Devin Booker', 'Devin Booker', 'Devin Booker', 'Joe Harris', 'Joe Harris', 'Joe Harris', 'Joe Harris', 'Joe Harris', 'Dalen Terry', 'Dalen Terry', 'Dalen Terry', 'Dalen Terry', 'Dalen Terry', 'Sam Hauser', 'Sam Hauser', 'Sam Hauser', 'Sam Hauser', 'Sam Hauser', 'Chet Holmgren', 'Chet Holmgren', 'Chet Holmgren', 'Chet Holmgren', 'Chet Holmgren', 'Karl-Anthony Towns', 'Karl-Anthony Towns', 'Karl-Anthony Towns', 'Karl-Anthony Towns', 'Karl-Anthony Towns', 'J.T. Thor', 'J.T. Thor', 'J.T. Thor', 'J.T. Thor', 'J.T. Thor', 'Isaiah Hartenstein', 'Isaiah Hartenstein', 'Isaiah Hartenstein', 'Isaiah Hartenstein', 'Isaiah Hartenstein', 'Zach Collins', 'Zach Collins', 'Zach Collins', 'Zach Collins', 'Zach Collins', 'Jonathan Kuminga', 'Jonathan Kuminga', 'Jonathan Kuminga', 'Jonathan Kuminga', 'Jonathan Kuminga', 'Kyle Lowry', 'Kyle Lowry', 'Kyle Lowry', 'Kyle Lowry', 'Kyle Lowry', 'Michael Porter, Jr.', 'Michael Porter, Jr.', 'Michael Porter, Jr.', 'Michael Porter, Jr.', 'Michael Porter, Jr.', 'Max Strus', 'Max Strus', 'Max Strus', 'Max Strus', 'Max Strus', 'Keyontae Johnson', 'Keyontae Johnson', 'Keyontae Johnson', 'Cason Wallace', 'Cason Wallace', 'Cason Wallace', 'Cason Wallace', 'Scottie Barnes', 'Scottie Barnes', 'Scottie Barnes', 'Scottie Barnes', 'Scottie Barnes', 'Dominick Barlow', 'Dominick Barlow', 'Dominick Barlow', 'Nathan Knight', 'Nathan Knight', 'Nathan Knight', 'Nathan Knight', 'Nathan Knight', 'Bradley Beal', 'Bradley Beal', 'Bradley Beal', 'Bradley Beal', 'Bradley Beal', 'Luke Kennard', 'Luke Kennard', 'Luke Kennard', \"De'Aaron Fox\", \"De'Aaron Fox\", \"De'Aaron Fox\", \"De'Aaron Fox\", \"De'Aaron Fox\", 'Jay Scrubb', 'Jay Scrubb', 'Jay Scrubb', 'Jay Scrubb', 'Justin Lewis', 'Justin Lewis', 'Justin Lewis', 'Justin Lewis', 'Isaiah Roby', 'Isaiah Roby', 'Isaiah Roby', 'Isaiah Roby', 'Isaiah Roby', 'Anthony Black', 'Anthony Black', 'Anthony Black', 'Anthony Black', 'Anthony Black', 'Pat Connaughton', 'Pat Connaughton', 'Pat Connaughton', 'Pat Connaughton', 'Pat Connaughton', 'Vlatko Cancar', 'Vlatko Cancar', 'Vlatko Cancar', 'Vlatko Cancar', 'Vlatko Cancar', 'E.J. Liddell', 'E.J. Liddell', 'E.J. Liddell', 'E.J. Liddell', 'E.J. Liddell', 'Jaden Springer', 'Jaden Springer', 'Jaden Springer', 'Jaden Springer', 'Jaden Springer', 'Dwight Powell', 'Dwight Powell', 'Dwight Powell', 'Dwight Powell', 'Dwight Powell', 'Kevin Durant', 'Kevin Durant', 'Kevin Durant', 'Kevin Durant', 'Kevin Durant', 'Ochai Agbaji', 'Ochai Agbaji', 'Ochai Agbaji', 'Ochai Agbaji', 'Ochai Agbaji', 'Craig Porter, Jr.', 'Craig Porter, Jr.', 'R.J. Barrett', 'R.J. Barrett', 'R.J. Barrett', 'R.J. Barrett', 'R.J. Barrett', 'Dillon Brooks', 'Dillon Brooks', 'Dillon Brooks', 'Dillon Brooks', 'Dillon Brooks', 'Myles Turner', 'Myles Turner', 'Myles Turner', 'Myles Turner', 'Myles Turner', \"Day'Ron Sharpe\", \"Day'Ron Sharpe\", \"Day'Ron Sharpe\", \"Day'Ron Sharpe\", \"Day'Ron Sharpe\", 'LeBron James', 'LeBron James', 'LeBron James', 'LeBron James', 'LeBron James', 'Jarace Walker', 'Jarace Walker', 'Jarace Walker', 'Jarace Walker', 'Collin Gillespie', 'Collin Gillespie', 'Collin Gillespie', 'Bones Hyland', 'Bones Hyland', 'Bones Hyland', 'Bones Hyland', 'Bones Hyland', 'Andrew Nembhard', 'Andrew Nembhard', 'Andrew Nembhard', 'Andrew Nembhard', 'Andrew Nembhard', 'Shai Gilgeous-Alexander', 'Shai Gilgeous-Alexander', 'Shai Gilgeous-Alexander', 'Shai Gilgeous-Alexander', 'Shai Gilgeous-Alexander', 'Desmond Bane', 'Desmond Bane', 'Desmond Bane', 'Desmond Bane', 'Desmond Bane', 'Armoni Brooks', 'Armoni Brooks', 'Armoni Brooks', 'Jaxson Hayes', 'Jaxson Hayes', 'Jaxson Hayes', 'Jaxson Hayes', 'Jaxson Hayes', 'Simone Fontecchio', 'Simone Fontecchio', 'Simone Fontecchio', 'Simone Fontecchio', 'Simone Fontecchio', 'Eugene Omoruyi', 'Eugene Omoruyi', 'Eugene Omoruyi', 'Eugene Omoruyi', 'Eugene Omoruyi', 'Ben Simmons', 'Ben Simmons', 'Ben Simmons', 'Ben Simmons', 'Ben Simmons', 'Matisse Thybulle', 'Matisse Thybulle', 'Matisse Thybulle', 'Matisse Thybulle', 'Matisse Thybulle', 'Evan Fournier', 'Evan Fournier', 'Evan Fournier', 'Evan Fournier', 'Evan Fournier', 'Jaden McDaniels', 'Jaden McDaniels', 'Jaden McDaniels', 'Jaden McDaniels', 'Amir Coffey', 'Amir Coffey', 'Amir Coffey', 'Amir Coffey', 'Amir Coffey', 'Adama Sanogo', 'Adama Sanogo', 'Adama Sanogo', 'Adama Sanogo', 'Adama Sanogo', 'Wendell Moore, Jr.', 'Wendell Moore, Jr.', 'Wendell Moore, Jr.', 'Khris Middleton', 'Khris Middleton', 'Khris Middleton', 'Khris Middleton', 'Khris Middleton', 'Dario Saric', 'Dario Saric', 'Dario Saric', 'Dario Saric', 'Dario Saric', 'Duane Washington, Jr.', 'Duane Washington, Jr.', 'Duane Washington, Jr.', 'Duane Washington, Jr.', 'Duane Washington, Jr.', 'Mitchell Robinson', 'Mitchell Robinson', 'Mitchell Robinson', 'Mitchell Robinson', 'Mitchell Robinson', 'Davion Mitchell', 'Davion Mitchell', 'Davion Mitchell', 'Davion Mitchell', 'Davion Mitchell', 'Kyle Anderson', 'Kyle Anderson', 'Kyle Anderson', 'Kyle Anderson', 'Kyle Anderson', 'Immanuel Quickley', 'Immanuel Quickley', 'Immanuel Quickley', 'Immanuel Quickley', 'Immanuel Quickley', 'Noah Clowney', 'Noah Clowney', 'Noah Clowney', 'Noah Clowney', 'Noah Clowney', 'Grant Williams', 'Grant Williams', 'Grant Williams', 'Grant Williams', 'Grant Williams', 'Malachi Flynn', 'Malachi Flynn', 'Malachi Flynn', 'Malachi Flynn', 'Malachi Flynn', 'Sasha Vezenkov', 'Sasha Vezenkov', 'Sasha Vezenkov', 'Sasha Vezenkov', 'Sasha Vezenkov', 'Kira Lewis, Jr.', 'Kira Lewis, Jr.', 'Kira Lewis, Jr.', 'Kira Lewis, Jr.', 'Kira Lewis, Jr.', 'Moe Wagner', 'Moe Wagner', 'Moe Wagner', 'Moe Wagner', 'Moe Wagner', 'Malcolm Cazalon', 'Malcolm Cazalon', 'Malcolm Cazalon', 'Malcolm Cazalon', 'Malcolm Cazalon', 'Jaime Jaquez, Jr.', 'Jaime Jaquez, Jr.', 'Jaime Jaquez, Jr.', 'Jaime Jaquez, Jr.', 'Jaime Jaquez, Jr.', 'K.J. Martin', 'K.J. Martin', 'K.J. Martin', 'K.J. Martin', 'K.J. Martin', 'Kenrich Williams', 'Kenrich Williams', 'Kenrich Williams', 'Kenrich Williams', 'Kenrich Williams', 'Marcus Smart', 'Marcus Smart', 'Marcus Smart', 'Marcus Smart', 'Marcus Smart', 'Ish Wainright', 'Ish Wainright', 'Ish Wainright', 'Ish Wainright', 'Ish Wainright', 'Jordan Walsh', 'Jordan Walsh', 'Jordan Walsh', 'Jordan Walsh', 'Jordan Walsh', 'Jalen Green', 'Jalen Green', 'Jalen Green', 'Jalen Green', 'Jalen Green', 'Leaky Black', 'Leaky Black', 'Draymond Green', 'Draymond Green', 'Draymond Green', 'Draymond Green', 'Draymond Green', 'Dennis Smith', 'Dennis Smith', 'Dennis Smith', 'Dennis Smith', 'Dennis Smith', 'Buddy Hield', 'Buddy Hield', 'Buddy Hield', 'Buddy Hield', 'Buddy Hield', 'Bruce Brown, Jr.', 'Bruce Brown, Jr.', 'Bruce Brown, Jr.', 'Bruce Brown, Jr.', 'Bruce Brown, Jr.', 'Daniel Gafford', 'Daniel Gafford', 'Daniel Gafford', 'Daniel Gafford', 'Daniel Gafford', 'Andre Drummond', 'Andre Drummond', 'Andre Drummond', 'Andre Drummond', 'Andre Drummond', 'Jordan Nwora', 'Jordan Nwora', 'Jordan Nwora', 'Jordan Nwora', 'Jordan Nwora', 'Derrick Rose', 'Derrick Rose', 'Derrick Rose', 'Derrick Rose', 'Derrick Rose', 'Blake Wesley', 'Bogdan Bogdanovic', 'Bogdan Bogdanovic', 'Bogdan Bogdanovic', 'Bogdan Bogdanovic', 'Bogdan Bogdanovic', 'Marcus Sasser', 'Marcus Sasser', 'Marcus Sasser', 'Marcus Sasser', 'Marcus Sasser', 'Ausar Thompson', 'Naz Reid', 'Naz Reid', 'Naz Reid', 'Naz Reid', 'Naz Reid', 'Tyrese Haliburton', 'Tyrese Haliburton', 'Tyrese Haliburton', 'Tyrese Haliburton', 'Tyrese Haliburton', 'MarJon Beauchamp', 'MarJon Beauchamp', 'MarJon Beauchamp', 'MarJon Beauchamp', 'MarJon Beauchamp', 'Jaylen Clark', 'Jaylen Clark', 'Jaylen Clark', 'Jaylen Clark', 'Jaylen Clark', 'Corey Kispert', 'Corey Kispert', 'Corey Kispert', 'Corey Kispert', 'Corey Kispert', 'Olivier-Maxence Prosper', 'Olivier-Maxence Prosper', 'Olivier-Maxence Prosper', 'Olivier-Maxence Prosper', 'Olivier-Maxence Prosper', 'Dereck Lively II', 'Dereck Lively II', 'Dereck Lively II', 'Dereck Lively II', 'Dereck Lively II', 'Ousmane Dieng', 'Ousmane Dieng', 'Ousmane Dieng', 'Ousmane Dieng', 'Ousmane Dieng', 'LaMelo Ball', 'LaMelo Ball', 'LaMelo Ball', 'LaMelo Ball', 'LaMelo Ball', 'Fred VanVleet', 'Fred VanVleet', 'Fred VanVleet', 'Fred VanVleet', 'Fred VanVleet', 'Furkan Korkmaz', 'Furkan Korkmaz', 'Furkan Korkmaz', 'Furkan Korkmaz', 'Furkan Korkmaz', 'Nicolas Batum', 'Nicolas Batum', 'Nicolas Batum', 'Nicolas Batum', 'Nicolas Batum', 'Eric Gordon', 'Eric Gordon', 'Eric Gordon', 'Eric Gordon', 'Eric Gordon', 'Luka Garza', 'Luka Garza', 'Luka Garza', 'Luka Garza', 'Luka Garza', 'Maxwell Lewis', 'Maxwell Lewis', 'Maxwell Lewis', 'Maxwell Lewis', 'Maxwell Lewis', 'Lauri Markkanen', 'Lauri Markkanen', 'Lauri Markkanen', 'Lauri Markkanen', 'Lauri Markkanen', 'Jalen Duren', 'Jalen Duren', 'Jalen Duren', 'Jalen Duren', 'Jalen Duren', 'Josh Richardson', 'Josh Richardson', 'Josh Richardson', 'Josh Richardson', 'Josh Richardson', 'Dariq Whitehead', 'Dariq Whitehead', 'Dariq Whitehead', 'Dariq Whitehead', 'Dariq Whitehead', 'Joe Ingles', 'Joe Ingles', 'Joe Ingles', 'Joe Ingles', 'Joe Ingles', 'Zach LaVine', 'Zach LaVine', 'Zach LaVine', 'Zach LaVine', 'Zach LaVine', 'Cameron Johnson', 'Cameron Johnson', 'Cameron Johnson', 'Cameron Johnson', 'Cameron Johnson', 'Chris Livingston', 'Chris Livingston', 'Chris Livingston', 'Chris Livingston', 'Chris Livingston', 'Jalen Johnson', 'Jalen Johnson', 'Jalen Johnson', 'Jalen Johnson', 'Jalen Johnson', 'Charles Bassey', 'Charles Bassey', 'Charles Bassey', 'Charles Bassey', 'Charles Bassey', 'Jose Alvarado', 'Jose Alvarado', 'Jose Alvarado', 'Jose Alvarado', 'Jose Alvarado', 'Vit Krejci', 'Vit Krejci', 'Vit Krejci', 'Vit Krejci', 'Vit Krejci', 'Collin Sexton', 'Collin Sexton', 'Collin Sexton', 'Collin Sexton', 'Collin Sexton', 'Darius Days', 'Darius Days', 'Brandon Ingram', 'Brandon Ingram', 'Brandon Ingram', 'Brandon Ingram', 'Brandon Ingram', 'Steven Adams', 'Steven Adams', 'Steven Adams', 'Steven Adams', 'Steven Adams', 'Brice Sensabaugh', 'Brice Sensabaugh', 'Brice Sensabaugh', 'Brice Sensabaugh', 'Brice Sensabaugh', 'TyTy Washington, Jr.', 'TyTy Washington, Jr.', 'TyTy Washington, Jr.', 'TyTy Washington, Jr.', 'TyTy Washington, Jr.', 'Sandro Mamukelashvili', 'Sandro Mamukelashvili', 'Sandro Mamukelashvili', 'Sandro Mamukelashvili', 'Sandro Mamukelashvili', 'Killian Hayes', 'Killian Hayes', 'Killian Hayes', 'Killian Hayes', 'Killian Hayes', 'Drew Eubanks', 'Drew Eubanks', 'Drew Eubanks', 'Alperen Sengun', 'Alperen Sengun', 'Alperen Sengun', 'Alperen Sengun', 'Alperen Sengun', 'Aaron Nesmith', 'Aaron Nesmith', 'Aaron Nesmith', 'Aaron Nesmith', 'Aaron Nesmith', 'Vincent Williams, Jr.', 'Vincent Williams, Jr.', 'Vincent Williams, Jr.', 'Vincent Williams, Jr.', 'Vincent Williams, Jr.', 'Malcolm Brogdon', 'Malcolm Brogdon', 'Malcolm Brogdon', 'Malcolm Brogdon', 'Malcolm Brogdon', 'Rayan Rupert', 'Rayan Rupert', 'Rayan Rupert', 'Rayan Rupert', 'Rayan Rupert', 'Bruno Fernando', 'Bruno Fernando', 'Bruno Fernando', 'Bruno Fernando', 'Bruno Fernando', 'Malaki Branham', 'Malaki Branham', 'Malaki Branham', 'Malaki Branham', 'Malaki Branham', 'John Konchar', 'John Konchar', 'John Konchar', 'John Konchar', 'John Konchar', 'Terquavion Smith', 'Terquavion Smith', 'Terquavion Smith', 'Terquavion Smith', 'Terquavion Smith', 'Herb Jones', 'Herb Jones', 'Herb Jones', 'Herb Jones', 'Herb Jones', 'Mohamed Bamba', 'Mohamed Bamba', 'Mohamed Bamba', 'Mohamed Bamba', 'Mohamed Bamba', 'Daniel Theis', 'Daniel Theis', 'Daniel Theis', 'Daniel Theis', 'Daniel Theis', 'Oscar Tshiebwe', 'Oscar Tshiebwe', 'Oscar Tshiebwe', 'Oscar Tshiebwe', 'Oscar Tshiebwe', 'Micah Potter', 'Micah Potter', 'Micah Potter', 'Micah Potter', 'Micah Potter', 'Miles Norris', 'Miles Norris', 'Miles Norris', 'Anfernee Simons', 'Anfernee Simons', 'Anfernee Simons', 'Anfernee Simons', 'Anfernee Simons', 'Chris Boucher', 'Chris Boucher', 'Chris Boucher', 'Chris Boucher', 'Chris Boucher', 'Mark Williams', 'Mark Williams', 'Mark Williams', 'Mark Williams', 'Mark Williams', 'Jason Preston', 'Jason Preston', 'Jason Preston', 'Jason Preston', 'Jason Preston', 'Jock Landale', 'Jock Landale', 'Jock Landale', 'Jock Landale', 'Jock Landale', 'Pascal Siakam', 'Pascal Siakam', 'Pascal Siakam', 'Pascal Siakam', 'Pascal Siakam', 'Caleb Houstan', 'Caris LeVert', 'Caris LeVert', 'Caris LeVert', 'Caris LeVert', 'Nikola Jokic', 'Nikola Jokic', 'Nikola Jokic', 'Nikola Jokic', 'Nikola Jokic', 'Kyle Kuzma', 'Kyle Kuzma', 'Kyle Kuzma', 'Kyle Kuzma', 'Kyle Kuzma', 'Jalen Hood-Schifino', 'Jalen Hood-Schifino', 'Julian Phillips', 'Julian Phillips', 'Julian Phillips', 'Julian Phillips', 'Julian Phillips', 'Deni Avdija', 'Deni Avdija', 'Deni Avdija', 'Deni Avdija', 'Deni Avdija', 'Kevin Porter, Jr.', 'Kevin Porter, Jr.', 'Kevin Porter, Jr.', 'Kevin Porter, Jr.', 'Kevin Porter, Jr.', 'Isaiah Todd', 'Isaiah Todd', 'Isaiah Todd', 'Isaiah Todd', 'Isaiah Todd', 'Jazian Gortman', 'Jazian Gortman', 'Donte DiVincenzo', 'Donte DiVincenzo', 'Donte DiVincenzo', 'Donte DiVincenzo', 'Donte DiVincenzo', 'Bol Bol', 'Bol Bol', 'Bol Bol', 'Bol Bol', 'Bol Bol', 'Christian Koloko', 'Christian Koloko', 'Christian Koloko', 'Christian Koloko', 'Christian Koloko', 'Jaden Hardy', 'Jaden Hardy', 'Jaden Hardy', 'Jaden Hardy', 'Jaden Hardy', 'Colin Castleton', 'Colin Castleton', 'Colin Castleton', 'Aaron Holiday', 'Aaron Holiday', 'Aaron Holiday', 'Aaron Holiday', 'Aaron Holiday', 'Armaan Franklin', 'Armaan Franklin', 'Armaan Franklin', 'Jared Butler', 'Jared Butler', 'Jared Butler', 'Jared Butler', 'Jared Butler', 'Cole Anthony', 'Cole Anthony', 'Cole Anthony', 'Cole Anthony', 'Cole Anthony', 'Cade Cunningham', 'Cade Cunningham', 'Cade Cunningham', 'Cade Cunningham', 'Cade Cunningham', 'Clint Capela', 'Clint Capela', 'Clint Capela', 'Clint Capela', 'Clint Capela', 'Reggie Jackson', 'Reggie Jackson', 'Reggie Jackson', 'Reggie Jackson', 'Reggie Jackson', 'Luka Doncic', 'Luka Doncic', 'Luka Doncic', 'Luka Doncic', 'Luka Doncic', 'Chuma Okeke', 'Chuma Okeke', 'Chuma Okeke', 'Chuma Okeke', 'Chuma Okeke', 'Torrey Craig', 'Torrey Craig', 'Torrey Craig', 'Torrey Craig', 'Torrey Craig', 'Jusuf Nurkic', 'Jusuf Nurkic', 'Jusuf Nurkic', 'Jusuf Nurkic', 'Jusuf Nurkic', 'Dennis Schroder', 'Dennis Schroder', 'Dennis Schroder', 'Dennis Schroder', 'Dennis Schroder', 'Keegan Murray', 'Keegan Murray', 'Keegan Murray', 'Keegan Murray', 'Keegan Murray', 'Carlik Jones', 'Carlik Jones', 'Carlik Jones', 'Aleksej Pokusevski', 'Aleksej Pokusevski', 'Aleksej Pokusevski', 'Aleksej Pokusevski', 'Aleksej Pokusevski', 'Gabe Vincent', 'Gabe Vincent', 'Gabe Vincent', 'Gabe Vincent', 'Gabe Vincent', 'Robert Williams', 'Robert Williams', 'Robert Williams', 'Robert Williams', 'Robert Williams', 'Norman Powell', 'Norman Powell', 'Norman Powell', 'Norman Powell', 'Norman Powell', 'Dereon Seabron', 'Dereon Seabron', 'Dereon Seabron', 'Dereon Seabron', 'Dereon Seabron', 'Anthony Gill', 'Anthony Gill', 'Anthony Gill', 'Anthony Gill', 'Anthony Gill', 'Patty Mills', 'Patty Mills', 'Patty Mills', 'Patty Mills', 'Patty Mills', 'Patrick Beverley', 'Patrick Beverley', 'Patrick Beverley', 'Patrick Beverley', 'Patrick Beverley', 'Victor Wembanyama', 'Victor Wembanyama', 'Victor Wembanyama', 'Victor Wembanyama', 'Victor Wembanyama', 'Zion Williamson', 'Zion Williamson', 'Zion Williamson', 'Zion Williamson', 'Zion Williamson', 'Giannis Antetokounmpo', 'Giannis Antetokounmpo', 'Giannis Antetokounmpo', 'Giannis Antetokounmpo', 'Giannis Antetokounmpo', 'James Huff', 'Emoni Bates', 'Emoni Bates', 'Emoni Bates', 'Jrue Holiday', 'Jrue Holiday', 'Jrue Holiday', 'Jrue Holiday', 'Jrue Holiday', 'Nicolas Claxton', 'Nicolas Claxton', 'Nicolas Claxton', 'Nicolas Claxton', 'Nicolas Claxton', 'Orlando Robinson', 'Orlando Robinson', 'Orlando Robinson', 'Orlando Robinson', 'Orlando Robinson', 'Alec Burks', 'Alec Burks', 'Alec Burks', 'Alec Burks', 'Alec Burks', 'Kevon Looney', 'Kevon Looney', 'Kevon Looney', 'Kevon Looney', 'Kevon Looney', 'Franz Wagner', 'Franz Wagner', 'Franz Wagner', 'Franz Wagner', 'Franz Wagner', 'Jimmy Butler', 'Jimmy Butler', 'Jimmy Butler', 'Jimmy Butler', 'Jimmy Butler', 'Jared Rhoden', 'Jared Rhoden', 'Jared Rhoden', 'Jared Rhoden', 'Jared Rhoden', 'Keldon Johnson', 'Keldon Johnson', 'Keldon Johnson', 'Keldon Johnson', 'Keldon Johnson']\n"
     ]
    }
   ],
   "source": [
    "print(known_names)\n",
    "print(unknown_names)"
   ]
  },
  {
   "cell_type": "code",
   "execution_count": 11,
   "metadata": {},
   "outputs": [],
   "source": [
    "\n",
    "def search_flatten(known_embeddings, known_names, unknown_embeddings, threshold=0.5):\n",
    "    pred_names = []\n",
    "    for emb  in unknown_embeddings:\n",
    "        scores = np.dot(emb, known_embeddings.T)\n",
    "        scores = np.clip(scores, 0., 1.)\n",
    "\n",
    "        idx = np.argmax(scores)\n",
    "        score = scores[idx]\n",
    "        if score > threshold:\n",
    "            pred_names.append(known_names[idx])\n",
    "        else:\n",
    "            pred_names.append(None)\n",
    "    \n",
    "    return pred_names"
   ]
  },
  {
   "cell_type": "code",
   "execution_count": 12,
   "metadata": {},
   "outputs": [],
   "source": [
    "def get_averages(names, scores):\n",
    "    d = defaultdict(list)\n",
    "    for n, s in zip(names, scores):\n",
    "        d[n].append(s)\n",
    "\n",
    "    averages = {}\n",
    "    for n, s in d.items():\n",
    "        averages[n] = np.mean(s)\n",
    "    \n",
    "    return averages"
   ]
  },
  {
   "cell_type": "code",
   "execution_count": 13,
   "metadata": {},
   "outputs": [],
   "source": [
    "def search_average(known_embeddings, known_names, unknown_embeddings, threshold=0.5):\n",
    "    pred_names = []\n",
    "    for emb in unknown_embeddings:\n",
    "        scores = np.dot(emb, known_embeddings.T)\n",
    "        scores = np.clip(scores, 0., 1.)\n",
    "\n",
    "        averages = get_averages(known_names, scores)\n",
    "        pred = sorted(averages, key=lambda x: averages[x], reverse=True)[0]\n",
    "        score = averages[pred]\n",
    "\n",
    "        if score > threshold:\n",
    "            pred_names.append(pred)\n",
    "        else:\n",
    "            pred_names.append(None)\n",
    "    \n",
    "    return pred_names"
   ]
  },
  {
   "cell_type": "code",
   "execution_count": 14,
   "metadata": {},
   "outputs": [],
   "source": [
    "def evaluate(true_names, pred_names):\n",
    "    coverage = np.mean([n is not None for n in pred_names]) * 100.\n",
    "\n",
    "    is_corrects = []\n",
    "    for t, p in zip(true_names, pred_names):\n",
    "        if p is None: continue\n",
    "        is_corrects.append(t == p)\n",
    "    \n",
    "    if not is_corrects:\n",
    "        is_corrects.append(False)\n",
    "\n",
    "    accuracy = np.mean(is_corrects) * 100.\n",
    "    return accuracy, coverage"
   ]
  },
  {
   "cell_type": "code",
   "execution_count": 15,
   "metadata": {},
   "outputs": [
    {
     "name": "stdout",
     "output_type": "stream",
     "text": [
      "2341\n",
      "2341\n",
      "    method   accuracy   coverage\n",
      "0  flatten  98.612316  98.504912\n",
      "1  average  99.324324  94.831269\n"
     ]
    }
   ],
   "source": [
    "pred_names = search_flatten(known_embeddings, known_names, unknown_embeddings, threshold=0.4)\n",
    "print(len(pred_names))\n",
    "print(len(unknown_names))\n",
    "acc_flatten, cov_flatten = evaluate(unknown_names, pred_names)\n",
    "\n",
    "pred_names = search_average(known_embeddings, known_names, unknown_embeddings, threshold=0.4)\n",
    "acc_average, cov_average = evaluate(unknown_names, pred_names)\n",
    "\n",
    "results = pd.DataFrame([\n",
    "    {'method': 'flatten', 'accuracy': acc_flatten, 'coverage': cov_flatten},\n",
    "    {'method': 'average', 'accuracy': acc_average, 'coverage': cov_average},\n",
    "])\n",
    "\n",
    "print(results)"
   ]
  },
  {
   "cell_type": "code",
   "execution_count": null,
   "metadata": {},
   "outputs": [],
   "source": [
    "def draw_on(img, faces, name):\n",
    "    dimg = img.copy()\n",
    "    for i in range(len(faces)):\n",
    "        face = faces[i]\n",
    "        box = face.bbox.astype(int)\n",
    "        color = (0, 0, 255)\n",
    "        cv2.rectangle(dimg, (box[0], box[1]), (box[2], box[3]), color, 2)\n",
    "        if face.kps is not None:\n",
    "            kps = face.kps.astype(int)\n",
    "            #print(landmark.shape)\n",
    "            for l in range(kps.shape[0]):\n",
    "                color = (0, 0, 255)\n",
    "                if l == 0 or l == 3:\n",
    "                    color = (0, 255, 0)\n",
    "                cv2.circle(dimg, (kps[l][0], kps[l][1]), 1, color, 2)\n",
    "        cv2.putText(dimg, name, (box[0]-1, box[1]-4),cv2.FONT_HERSHEY_COMPLEX,1.5,(0,255,0),2)\n",
    "\n",
    "    return dimg\n",
    "\n",
    "app = FaceAnalysis()\n",
    "app.prepare(ctx_id=1, det_size=(640, 640))\n",
    "\n",
    "img_path = 'data/input/person1.JPG'\n",
    "\n",
    "pre_img = cv2.imread(img_path)\n",
    "pre_face = app.get(pre_img)\n",
    "pre_embedding = [pre_face[0].embedding]\n",
    "\n",
    "known_face_name = [\"Unknown\", \"yuto\"]\n",
    "\n",
    "capture = cv2.VideoCapture(0)"
   ]
  }
 ],
 "metadata": {
  "kernelspec": {
   "display_name": "face_env",
   "language": "python",
   "name": "python3"
  },
  "language_info": {
   "codemirror_mode": {
    "name": "ipython",
    "version": 3
   },
   "file_extension": ".py",
   "mimetype": "text/x-python",
   "name": "python",
   "nbconvert_exporter": "python",
   "pygments_lexer": "ipython3",
   "version": "3.10.6"
  },
  "orig_nbformat": 4
 },
 "nbformat": 4,
 "nbformat_minor": 2
}
