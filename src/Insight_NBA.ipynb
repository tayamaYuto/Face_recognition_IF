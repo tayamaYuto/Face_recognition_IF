{
 "cells": [
  {
   "cell_type": "code",
   "execution_count": 26,
   "metadata": {},
   "outputs": [],
   "source": [
    "import insightface\n",
    "import numpy as np\n",
    "import os\n",
    "import cv2\n",
    "import glob\n",
    "from insightface.app.common import Face\n",
    "from insightface.model_zoo import model_zoo\n",
    "from insightface.model_zoo import model_zoo\n",
    "from tqdm import tqdm\n",
    "\n"
   ]
  },
  {
   "cell_type": "code",
   "execution_count": 27,
   "metadata": {},
   "outputs": [
    {
     "name": "stdout",
     "output_type": "stream",
     "text": [
      "Applied providers: ['CPUExecutionProvider'], with options: {'CPUExecutionProvider': {}}\n",
      "Applied providers: ['CPUExecutionProvider'], with options: {'CPUExecutionProvider': {}}\n"
     ]
    },
    {
     "name": "stderr",
     "output_type": "stream",
     "text": [
      "/Users/tayamayuto/Face_recognition_IF/face_env/lib/python3.10/site-packages/onnxruntime/capi/onnxruntime_inference_collection.py:65: UserWarning: Specified provider 'CUDAExecutionProvider' is not in available provider names.Available providers: 'CPUExecutionProvider'\n",
      "  warnings.warn(\n"
     ]
    }
   ],
   "source": [
    "det_model_path = 'buffalo_s/det_500m.onnx'\n",
    "rec_model_path = 'buffalo_s/w600k_mbf.onnx'\n",
    "\n",
    "det_model = model_zoo.get_model(f'/Users/tayamayuto/Face_recognition_IF/.insightface/models/{det_model_path}')\n",
    "rec_model = model_zoo.get_model(f'/Users/tayamayuto/Face_recognition_IF/.insightface/models/{rec_model_path}')\n",
    "\n",
    "det_model.prepare(ctx_id=0, input_size=(640, 640), det_thres=0.5)"
   ]
  },
  {
   "cell_type": "code",
   "execution_count": 28,
   "metadata": {},
   "outputs": [
    {
     "ename": "FileNotFoundError",
     "evalue": "[Errno 2] No such file or directory: '/Users/tayamayuto/Face_recognition_IF/data/raw'",
     "output_type": "error",
     "traceback": [
      "\u001b[0;31m---------------------------------------------------------------------------\u001b[0m",
      "\u001b[0;31mFileNotFoundError\u001b[0m                         Traceback (most recent call last)",
      "Cell \u001b[0;32mIn[28], line 6\u001b[0m\n\u001b[1;32m      3\u001b[0m known_embeddings \u001b[39m=\u001b[39m []\n\u001b[1;32m      4\u001b[0m unknown_embeddings \u001b[39m=\u001b[39m []\n\u001b[0;32m----> 6\u001b[0m players \u001b[39m=\u001b[39m os\u001b[39m.\u001b[39;49mlistdir(\u001b[39m'\u001b[39;49m\u001b[39m/Users/tayamayuto/Face_recognition_IF/data/raw\u001b[39;49m\u001b[39m'\u001b[39;49m)\n\u001b[1;32m      8\u001b[0m \u001b[39mfor\u001b[39;00m player \u001b[39min\u001b[39;00m tqdm(players):\n\u001b[1;32m      9\u001b[0m     player_embeddings, player_names \u001b[39m=\u001b[39m [], []\n",
      "\u001b[0;31mFileNotFoundError\u001b[0m: [Errno 2] No such file or directory: '/Users/tayamayuto/Face_recognition_IF/data/raw'"
     ]
    }
   ],
   "source": [
    "known_names = []\n",
    "unknown_names = []\n",
    "known_embeddings = []\n",
    "unknown_embeddings = []\n",
    "\n",
    "players = os.listdir('/Users/tayamayuto/Face_recognition_IF/data/raw')\n",
    "\n",
    "for player in tqdm(players):\n",
    "    player_embeddings, player_names = [], []\n",
    "\n",
    "    img_paths = glob(f'/Users/tayamayuto/Face_recognition_IF/data/raw/{player}/*')\n",
    "    for img_path in img_paths:\n",
    "        img = cv2.imread(img_path)\n",
    "        if img is None: continue\n",
    "\n",
    "        bboxes, kpss = det_model.detect(img, max_num=0, metric='defualt')\n",
    "        if len(bboxes) != 1: continue\n",
    "\n",
    "        bbox = bboxes[0, :4]\n",
    "        det_score = bboxes[0, 4]\n",
    "        kps = kpss[0]\n",
    "        face = Face(bbox=bbox, kps=kps, det_score=det_score)\n",
    "\n",
    "        rec_model.get(img, face)\n",
    "        player_embeddings.append(face.normed_embedding)\n",
    "        player_names.append(player)\n",
    "        if len(player_embeddings) == 10: break\n",
    "    \n",
    "    player_embeddings = np.stack(player_embeddings, axis=0)\n",
    "    known_embeddings.append(player_embeddings[0:5])\n",
    "    unknown_embeddings.append(player_embeddings[5:10])\n",
    "    known_names += player_names[0:5]\n",
    "    unknown_names += player_names[5:10]\n",
    "\n",
    "known_embeddings = np.concatenate(known_embeddings, axis=0)\n",
    "unknown_embeddings = np.concatenate(unknown_embeddings, axis=0)\n"
   ]
  },
  {
   "cell_type": "code",
   "execution_count": null,
   "metadata": {},
   "outputs": [],
   "source": [
    "def get_averages(names, scores):\n",
    "    d = defaultdict(list)\n",
    "    for n, s in zip(names, scores):\n",
    "        d[n].append(s)\n",
    "\n",
    "    averages = {}\n",
    "    for n, s in d.items():\n",
    "        averages[n] = np.mean(s)\n",
    "    \n",
    "    return averages"
   ]
  },
  {
   "cell_type": "code",
   "execution_count": null,
   "metadata": {},
   "outputs": [],
   "source": [
    "def search_average(known_embeddings, known_names, unknown_embeddings, threshold=0.5):\n",
    "    pred_names = []\n",
    "    for emb in unknown_embeddings:\n",
    "        scores = np.dot(emb, known_embeddings.T)\n",
    "        scores = np.clip(scores, 0., 1.)\n",
    "\n",
    "        averages = get_averages(known_names, scores)\n",
    "        pred = sorted(averages, key=lambda x: averages[x], reverse=True)[0]\n",
    "        score = averages[pred]\n",
    "\n",
    "        if score > threshold:\n",
    "            pred_names.append(pred)\n",
    "        else:\n",
    "            pred_names.append(None)\n",
    "    \n",
    "    return pred_names"
   ]
  },
  {
   "cell_type": "code",
   "execution_count": null,
   "metadata": {},
   "outputs": [],
   "source": [
    "def evaluate(true_names, pred_names):\n",
    "    coverage = np.mean([n is not None for n in pred_names]) * 100.\n",
    "\n",
    "    is_corrects = []\n",
    "    for t, p in zip(true_names, pred_names):\n",
    "        if p is None: continue\n",
    "        is_corrects.append(t == p)\n",
    "    \n",
    "    if not is_corrects:\n",
    "        is_corrects.append(False)\n",
    "\n",
    "    accuracy = np.mean(is_corrects) * 100.\n",
    "    return accuracy, coverage"
   ]
  }
 ],
 "metadata": {
  "language_info": {
   "name": "python"
  },
  "orig_nbformat": 4
 },
 "nbformat": 4,
 "nbformat_minor": 2
}
