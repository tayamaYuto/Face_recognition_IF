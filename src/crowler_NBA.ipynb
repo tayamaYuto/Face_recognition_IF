{
 "cells": [
  {
   "cell_type": "code",
   "execution_count": 21,
   "metadata": {},
   "outputs": [],
   "source": [
    "import pandas as pd"
   ]
  },
  {
   "cell_type": "code",
   "execution_count": null,
   "metadata": {},
   "outputs": [],
   "source": []
  },
  {
   "cell_type": "code",
   "execution_count": 22,
   "metadata": {},
   "outputs": [
    {
     "data": {
      "text/html": [
       "<div>\n",
       "<style scoped>\n",
       "    .dataframe tbody tr th:only-of-type {\n",
       "        vertical-align: middle;\n",
       "    }\n",
       "\n",
       "    .dataframe tbody tr th {\n",
       "        vertical-align: top;\n",
       "    }\n",
       "\n",
       "    .dataframe thead th {\n",
       "        text-align: right;\n",
       "    }\n",
       "</style>\n",
       "<table border=\"1\" class=\"dataframe\">\n",
       "  <thead>\n",
       "    <tr style=\"text-align: right;\">\n",
       "      <th></th>\n",
       "      <th>#</th>\n",
       "      <th>Player</th>\n",
       "      <th>Pos</th>\n",
       "      <th>HT</th>\n",
       "      <th>WT</th>\n",
       "      <th>Age</th>\n",
       "      <th>Current Team</th>\n",
       "      <th>YOS</th>\n",
       "      <th>Pre-Draft Team</th>\n",
       "      <th>Draft Status</th>\n",
       "      <th>Nationality</th>\n",
       "    </tr>\n",
       "  </thead>\n",
       "  <tbody>\n",
       "    <tr>\n",
       "      <th>166</th>\n",
       "      <td>20.0</td>\n",
       "      <td>A.J. Green</td>\n",
       "      <td>PG</td>\n",
       "      <td>6-5</td>\n",
       "      <td>207</td>\n",
       "      <td>23</td>\n",
       "      <td>Milwaukee Bucks</td>\n",
       "      <td>1</td>\n",
       "      <td>Northern Iowa</td>\n",
       "      <td>2022 NBA Draft, Undrafted</td>\n",
       "      <td>United States</td>\n",
       "    </tr>\n",
       "    <tr>\n",
       "      <th>171</th>\n",
       "      <td>14.0</td>\n",
       "      <td>A.J. Griffin, Jr.</td>\n",
       "      <td>SG</td>\n",
       "      <td>6-6</td>\n",
       "      <td>222</td>\n",
       "      <td>19</td>\n",
       "      <td>Atlanta Hawks</td>\n",
       "      <td>1</td>\n",
       "      <td>Duke</td>\n",
       "      <td>2022 Rnd 1 Pick 16</td>\n",
       "      <td>United States</td>\n",
       "    </tr>\n",
       "    <tr>\n",
       "      <th>265</th>\n",
       "      <td>9.0</td>\n",
       "      <td>A.J. Lawson</td>\n",
       "      <td>F</td>\n",
       "      <td>6-6</td>\n",
       "      <td>185</td>\n",
       "      <td>23</td>\n",
       "      <td>Dallas Mavericks</td>\n",
       "      <td>1</td>\n",
       "      <td>South Carolina</td>\n",
       "      <td>2021 NBA Draft, Undrafted</td>\n",
       "      <td>Canada</td>\n",
       "    </tr>\n",
       "    <tr>\n",
       "      <th>161</th>\n",
       "      <td>50.0</td>\n",
       "      <td>Aaron Gordon</td>\n",
       "      <td>F</td>\n",
       "      <td>6-8</td>\n",
       "      <td>235</td>\n",
       "      <td>27</td>\n",
       "      <td>Denver Nuggets</td>\n",
       "      <td>9</td>\n",
       "      <td>Arizona</td>\n",
       "      <td>2014 Rnd 1 Pick 4</td>\n",
       "      <td>United States</td>\n",
       "    </tr>\n",
       "    <tr>\n",
       "      <th>201</th>\n",
       "      <td>3.0</td>\n",
       "      <td>Aaron Holiday</td>\n",
       "      <td>PG</td>\n",
       "      <td>6-0</td>\n",
       "      <td>185</td>\n",
       "      <td>26</td>\n",
       "      <td>Houston Rockets</td>\n",
       "      <td>5</td>\n",
       "      <td>UCLA</td>\n",
       "      <td>2018 Rnd 1 Pick 23</td>\n",
       "      <td>United States</td>\n",
       "    </tr>\n",
       "  </tbody>\n",
       "</table>\n",
       "</div>"
      ],
      "text/plain": [
       "        #             Player Pos   HT   WT  Age      Current Team  YOS  \\\n",
       "166  20.0         A.J. Green  PG  6-5  207   23   Milwaukee Bucks    1   \n",
       "171  14.0  A.J. Griffin, Jr.  SG  6-6  222   19     Atlanta Hawks    1   \n",
       "265   9.0        A.J. Lawson   F  6-6  185   23  Dallas Mavericks    1   \n",
       "161  50.0       Aaron Gordon   F  6-8  235   27    Denver Nuggets    9   \n",
       "201   3.0      Aaron Holiday  PG  6-0  185   26   Houston Rockets    5   \n",
       "\n",
       "     Pre-Draft Team               Draft Status    Nationality  \n",
       "166   Northern Iowa  2022 NBA Draft, Undrafted  United States  \n",
       "171            Duke         2022 Rnd 1 Pick 16  United States  \n",
       "265  South Carolina  2021 NBA Draft, Undrafted         Canada  \n",
       "161         Arizona          2014 Rnd 1 Pick 4  United States  \n",
       "201            UCLA         2018 Rnd 1 Pick 23  United States  "
      ]
     },
     "execution_count": 22,
     "metadata": {},
     "output_type": "execute_result"
    }
   ],
   "source": [
    "roster = pd.read_html('https://basketball.realgm.com/nba/players')[0]\n",
    "roster = roster.sort_values('Player')\n",
    "roster.head()"
   ]
  },
  {
   "cell_type": "code",
   "execution_count": 3,
   "metadata": {},
   "outputs": [],
   "source": [
    "import json\n",
    "import requests\n",
    "from tqdm import tqdm\n",
    "import os\n",
    "import subprocess"
   ]
  },
  {
   "cell_type": "code",
   "execution_count": 4,
   "metadata": {},
   "outputs": [
    {
     "name": "stderr",
     "output_type": "stream",
     "text": [
      "  0%|          | 0/510 [00:00<?, ?it/s]"
     ]
    },
    {
     "name": "stderr",
     "output_type": "stream",
     "text": [
      "100%|██████████| 510/510 [15:45<00:00,  1.85s/it]\n"
     ]
    }
   ],
   "source": [
    "def search_image_urls(query, num_pages=3):\n",
    "    url = \"https://google.serper.dev/images\"\n",
    "    payload = json.dumps([{'q': query, 'page': p} for p in range(1, num_pages+1)])\n",
    "\n",
    "    headers = {\n",
    "    'X-API-KEY': '',\n",
    "    'Content-Type': 'application/json'\n",
    "    }\n",
    "\n",
    "    response = requests.request(\"POST\", url, headers=headers, data=payload)\n",
    "    response = json.loads(response.text)\n",
    "\n",
    "    image_urls = []\n",
    "    for res in response:\n",
    "        for img in res['images']:\n",
    "            image_urls.append(img['imageUrl'])\n",
    "    \n",
    "    return image_urls, response\n",
    "\n",
    "\n",
    "for i in tqdm(range(len(roster))):\n",
    "    name = roster.iloc[i]['Player']\n",
    "    player_dir = f'data/raw/{name}'\n",
    "    os.makedirs(player_dir, exist_ok=True)\n",
    "\n",
    "    query = f'{name} NBA'\n",
    "    image_urls, response = search_image_urls(query)\n",
    "    for url in image_urls:\n",
    "        result = subprocess.Popen(['wget', url, '-q', '-P', player_dir], stdout=subprocess.PIPE, stderr=subprocess.PIPE)"
   ]
  }
 ],
 "metadata": {
  "kernelspec": {
   "display_name": "face_env",
   "language": "python",
   "name": "python3"
  },
  "language_info": {
   "codemirror_mode": {
    "name": "ipython",
    "version": 3
   },
   "file_extension": ".py",
   "mimetype": "text/x-python",
   "name": "python",
   "nbconvert_exporter": "python",
   "pygments_lexer": "ipython3",
   "version": "3.10.6"
  },
  "orig_nbformat": 4
 },
 "nbformat": 4,
 "nbformat_minor": 2
}
